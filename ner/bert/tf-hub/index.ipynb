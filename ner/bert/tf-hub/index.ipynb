{
 "cells": [
  {
   "cell_type": "code",
   "execution_count": 1,
   "metadata": {},
   "outputs": [],
   "source": [
    "import os\n",
    "import zipfile\n",
    "import numpy as np\n",
    "import tensorflow as tf\n",
    "from tensorflow import keras\n",
    "import tensorflow_text as text\n",
    "import tensorflow_hub as hub\n"
   ]
  },
  {
   "cell_type": "code",
   "execution_count": 2,
   "metadata": {},
   "outputs": [],
   "source": [
    "data_root = '../../data/'\n",
    "local_zip = data_root + 'msra.zip'\n",
    "zip_ref = zipfile.ZipFile(local_zip, 'r')\n",
    "zip_ref.extractall('../../data/')\n",
    "zip_ref.close()\n"
   ]
  },
  {
   "cell_type": "code",
   "execution_count": 3,
   "metadata": {},
   "outputs": [],
   "source": [
    "def get_data_path(data_dir=data_root + 'msra/', type='train'):\n",
    "    if type in ['train', 'val', 'test']:\n",
    "        sentences_path = os.path.join(data_dir, type, 'sentences.txt')\n",
    "        tags_path = os.path.join(data_dir, type, 'tags.txt')\n",
    "        return sentences_path, tags_path\n",
    "    else:\n",
    "        raise ValueError(\"data type not in ['train', 'val', 'test']\")\n"
   ]
  },
  {
   "cell_type": "code",
   "execution_count": 16,
   "metadata": {},
   "outputs": [],
   "source": [
    "max_len = 128\n",
    "batch_size = 32\n",
    "\n",
    "bert_zh = 'https://tfhub.dev/tensorflow/bert_zh_L-12_H-768_A-12/4'\n",
    "bert_zh_preprocess = 'https://tfhub.dev/tensorflow/bert_zh_preprocess/3'\n",
    "saved_model = 'hub_ner_bert'\n"
   ]
  },
  {
   "cell_type": "code",
   "execution_count": 6,
   "metadata": {},
   "outputs": [
    {
     "name": "stdout",
     "output_type": "stream",
     "text": [
      "Metal device set to: Apple M1 Pro\n",
      "\n",
      "systemMemory: 32.00 GB\n",
      "maxCacheSize: 10.67 GB\n",
      "\n"
     ]
    },
    {
     "name": "stderr",
     "output_type": "stream",
     "text": [
      "2022-06-13 20:25:04.107897: I tensorflow/core/common_runtime/pluggable_device/pluggable_device_factory.cc:305] Could not identify NUMA node of platform GPU ID 0, defaulting to 0. Your kernel may not have been built with NUMA support.\n",
      "2022-06-13 20:25:04.108213: I tensorflow/core/common_runtime/pluggable_device/pluggable_device_factory.cc:271] Created TensorFlow device (/job:localhost/replica:0/task:0/device:GPU:0 with 0 MB memory) -> physical PluggableDevice (device: 0, name: METAL, pci bus id: <undefined>)\n",
      "2022-06-13 20:25:07.380758: W tensorflow/core/platform/profile_utils/cpu_utils.cc:128] Failed to get CPU frequency: 0 Hz\n",
      "2022-06-13 20:25:07.408270: I tensorflow/core/grappler/optimizers/custom_graph_optimizer_registry.cc:113] Plugin optimizer for device_type GPU is enabled.\n"
     ]
    }
   ],
   "source": [
    "# preload the model\n",
    "preprocessor = hub.KerasLayer(\n",
    "    bert_zh_preprocess, name='preprocessing', trainable=False)\n",
    "\n",
    "encoder = hub.KerasLayer(bert_zh, trainable=False, name='BERT_encoder')\n"
   ]
  },
  {
   "cell_type": "code",
   "execution_count": 7,
   "metadata": {},
   "outputs": [],
   "source": [
    "class Label_Tokenizer(object):\n",
    "    def __init__(self, labels, max_length):\n",
    "        super().__init__()\n",
    "        self.size = len(labels)\n",
    "        labels_to_ids = {k: v for v, k in enumerate(labels)}\n",
    "        ids_to_labels = {v: k for v, k in enumerate(labels)}\n",
    "        self.labels_to_ids = labels_to_ids\n",
    "        self.ids_to_labels = ids_to_labels\n",
    "        self.max_length = max_length\n",
    "\n",
    "    def tokenize(self, labels):\n",
    "        tokens = [self._tokenize(label) for label in labels]\n",
    "        return tokens\n",
    "\n",
    "    def _tokenize(self, label):\n",
    "        label = label.decode('utf-8') if hasattr(label, 'decode') else label\n",
    "        labels = [le for le in label.strip().split(' ')]\n",
    "        pad_token = self.encode(['[PAD]'])[0]\n",
    "        special_token = self.encode(['O'])[0]\n",
    "\n",
    "        tokens = self.encode(labels)\n",
    "        tokens = [special_token] + tokens + [pad_token]\n",
    "        tokens = tokens[:self.max_length - 2]\n",
    "        tokens = [special_token] + tokens + [special_token]\n",
    "        # Add padded TAG tokens\n",
    "        padding_len = self.max_length - len(tokens)\n",
    "        tokens = tokens + ([pad_token] * padding_len)\n",
    "        return tokens\n",
    "\n",
    "    def encode(self, labels):\n",
    "        return [self.labels_to_ids[label] for label in labels]\n",
    "\n",
    "    def decode(self, ids):\n",
    "        return [self.ids_to_labels[id] for id in ids]\n"
   ]
  },
  {
   "cell_type": "code",
   "execution_count": 8,
   "metadata": {},
   "outputs": [],
   "source": [
    "labels = ['O', 'B-ORG', 'I-PER', 'B-PER', 'I-LOC', 'I-ORG', 'B-LOC', '[PAD]']\n",
    "label_tokenizer = Label_Tokenizer(labels, max_length=max_len)\n",
    "labels_num = label_tokenizer.size\n"
   ]
  },
  {
   "cell_type": "code",
   "execution_count": 9,
   "metadata": {},
   "outputs": [],
   "source": [
    "class Sentence_Tokenizer(object):\n",
    "    def __init__(self, preprocessor, max_length):\n",
    "        super().__init__()\n",
    "        self.max_length = max_length\n",
    "        self.preprocessor = hub.load(preprocessor)\n",
    "\n",
    "    def tokenize(self, sentences):\n",
    "        tokenized = self._tokenize(sentences)\n",
    "        encoder_inputs = self.preprocessor.bert_pack_inputs(\n",
    "            [tokenized], seq_length=self.max_length)\n",
    "        return [tf.constant(encoder_inputs['input_word_ids']), tf.constant(encoder_inputs['input_mask']), tf.constant(encoder_inputs['input_type_ids'])]\n",
    "\n",
    "    def _tokenize(self, sentence):\n",
    "        encoder_inputs = self.preprocessor.tokenize(sentence)\n",
    "        return encoder_inputs\n",
    "\n",
    "    def encode(self, word):\n",
    "        encoder_inputs = self.preprocessor.decode(word)\n",
    "        return encoder_inputs\n"
   ]
  },
  {
   "cell_type": "code",
   "execution_count": 10,
   "metadata": {},
   "outputs": [
    {
     "name": "stderr",
     "output_type": "stream",
     "text": [
      "2022-06-13 20:33:00.676876: I tensorflow/core/grappler/optimizers/custom_graph_optimizer_registry.cc:113] Plugin optimizer for device_type GPU is enabled.\n"
     ]
    }
   ],
   "source": [
    "tokenizer = Sentence_Tokenizer(bert_zh_preprocess, max_length=max_len)\n"
   ]
  },
  {
   "cell_type": "code",
   "execution_count": 11,
   "metadata": {},
   "outputs": [
    {
     "name": "stderr",
     "output_type": "stream",
     "text": [
      "2022-06-13 20:33:11.823172: I tensorflow/core/grappler/optimizers/custom_graph_optimizer_registry.cc:113] Plugin optimizer for device_type GPU is enabled.\n",
      "2022-06-13 20:33:11.893474: I tensorflow/core/grappler/optimizers/custom_graph_optimizer_registry.cc:113] Plugin optimizer for device_type GPU is enabled.\n"
     ]
    }
   ],
   "source": [
    "sentences_file, tags_file = get_data_path()\n",
    "sentences_dataset = tf.data.TextLineDataset(sentences_file).take(160)\n",
    "sentences_dataset = [\n",
    "    sentence for sentence in sentences_dataset.as_numpy_iterator()]\n",
    "x_train = tokenizer.tokenize(sentences_dataset)\n",
    "\n",
    "label_dataset = tf.data.TextLineDataset(tags_file).take(160)\n",
    "label_dataset = [label.decode('utf-8')\n",
    "                 for label in label_dataset.as_numpy_iterator()]\n",
    "y_train = label_tokenizer.tokenize(label_dataset)\n",
    "y_train = tf.constant(y_train)\n"
   ]
  },
  {
   "cell_type": "code",
   "execution_count": 12,
   "metadata": {},
   "outputs": [],
   "source": [
    "loss_object = tf.keras.losses.SparseCategoricalCrossentropy(\n",
    "    from_logits=False, reduction=tf.keras.losses.Reduction.NONE\n",
    ")\n",
    "\n",
    "pad_token = label_tokenizer.encode(['[PAD]'])[0]\n",
    "\n",
    "# Each batch of data will consist of variable sized sentence tokens with\n",
    "# appropriate padding in both input and target.\n",
    "# During loss calculation, we ignore the loss corresponding padding tokens\n",
    "# in the target.\n",
    "\n",
    "\n",
    "def masked_ce_loss(real, pred):\n",
    "    loss_ = loss_object(real, pred)\n",
    "\n",
    "    # tf.math.equal([pad], pad_token) => True\n",
    "    # logical_not(True)-> False, cast(False) -> 0\n",
    "    # loss_ *= mask, ignore the loss corresponding padding tokens\n",
    "    mask = tf.math.logical_not(tf.math.equal(real, pad_token))\n",
    "    mask = tf.cast(mask, dtype=loss_.dtype)\n",
    "\n",
    "    loss_ *= mask\n",
    "\n",
    "    return tf.reduce_mean(loss_)\n"
   ]
  },
  {
   "cell_type": "code",
   "execution_count": 25,
   "metadata": {},
   "outputs": [],
   "source": [
    "def create_model(labels_num):\n",
    "    encoder_inputs = dict(\n",
    "        input_word_ids=tf.keras.layers.Input(shape=(max_len,), dtype=tf.int32),\n",
    "        input_mask=tf.keras.layers.Input(shape=(max_len,), dtype=tf.int32),\n",
    "        input_type_ids=tf.keras.layers.Input(shape=(max_len,), dtype=tf.int32),\n",
    "    )\n",
    "\n",
    "    encoder = hub.KerasLayer(bert_zh, trainable=True, name='BERT_encoder')\n",
    "    outputs = encoder(encoder_inputs)\n",
    "\n",
    "    embedding = outputs[\"sequence_output\"]\n",
    "    embedding = keras.layers.Dropout(0.3)(embedding)\n",
    "    tag_logits = keras.layers.Dense(\n",
    "        labels_num, activation='softmax', name='NER')(embedding)\n",
    "\n",
    "    model = keras.Model(\n",
    "        inputs=[encoder_inputs['input_word_ids'],\n",
    "                encoder_inputs['input_mask'], encoder_inputs['input_type_ids']],\n",
    "        outputs=[tag_logits],\n",
    "    )\n",
    "    optimizer = keras.optimizers.Adam(learning_rate=3e-5)\n",
    "    model.compile(optimizer=optimizer, loss=masked_ce_loss,\n",
    "                  metrics=['accuracy'])\n",
    "    return model\n"
   ]
  },
  {
   "cell_type": "code",
   "execution_count": 26,
   "metadata": {},
   "outputs": [
    {
     "name": "stdout",
     "output_type": "stream",
     "text": [
      "Model: \"model_1\"\n",
      "__________________________________________________________________________________________________\n",
      " Layer (type)                   Output Shape         Param #     Connected to                     \n",
      "==================================================================================================\n",
      " input_5 (InputLayer)           [(None, 128)]        0           []                               \n",
      "                                                                                                  \n",
      " input_6 (InputLayer)           [(None, 128)]        0           []                               \n",
      "                                                                                                  \n",
      " input_4 (InputLayer)           [(None, 128)]        0           []                               \n",
      "                                                                                                  \n",
      " BERT_encoder (KerasLayer)      {'default': (None,   102267649   ['input_5[0][0]',                \n",
      "                                768),                             'input_6[0][0]',                \n",
      "                                 'encoder_outputs':               'input_4[0][0]']                \n",
      "                                 [(None, 128, 768),                                               \n",
      "                                 (None, 128, 768),                                                \n",
      "                                 (None, 128, 768),                                                \n",
      "                                 (None, 128, 768),                                                \n",
      "                                 (None, 128, 768),                                                \n",
      "                                 (None, 128, 768),                                                \n",
      "                                 (None, 128, 768),                                                \n",
      "                                 (None, 128, 768),                                                \n",
      "                                 (None, 128, 768),                                                \n",
      "                                 (None, 128, 768),                                                \n",
      "                                 (None, 128, 768),                                                \n",
      "                                 (None, 128, 768)],                                               \n",
      "                                 'pooled_output': (                                               \n",
      "                                None, 768),                                                       \n",
      "                                 'sequence_output':                                               \n",
      "                                 (None, 128, 768)}                                                \n",
      "                                                                                                  \n",
      " dropout_1 (Dropout)            (None, 128, 768)     0           ['BERT_encoder[0][14]']          \n",
      "                                                                                                  \n",
      " NER (Dense)                    (None, 128, 8)       6152        ['dropout_1[0][0]']              \n",
      "                                                                                                  \n",
      "==================================================================================================\n",
      "Total params: 102,273,801\n",
      "Trainable params: 102,273,800\n",
      "Non-trainable params: 1\n",
      "__________________________________________________________________________________________________\n"
     ]
    }
   ],
   "source": [
    "model = create_model(labels_num)\n",
    "model.summary()\n"
   ]
  },
  {
   "cell_type": "code",
   "execution_count": 27,
   "metadata": {},
   "outputs": [
    {
     "name": "stdout",
     "output_type": "stream",
     "text": [
      "Epoch 1/3\n"
     ]
    },
    {
     "name": "stderr",
     "output_type": "stream",
     "text": [
      "2022-06-13 20:40:51.861831: I tensorflow/core/grappler/optimizers/custom_graph_optimizer_registry.cc:113] Plugin optimizer for device_type GPU is enabled.\n"
     ]
    },
    {
     "name": "stdout",
     "output_type": "stream",
     "text": [
      "5/5 [==============================] - 39s 6s/step - loss: 0.4760 - accuracy: 0.2921\n",
      "Epoch 2/3\n",
      "5/5 [==============================] - 31s 6s/step - loss: 0.2673 - accuracy: 0.3571\n",
      "Epoch 3/3\n",
      "5/5 [==============================] - 31s 6s/step - loss: 0.1719 - accuracy: 0.3537\n"
     ]
    }
   ],
   "source": [
    "history = model.fit(\n",
    "    x=x_train,\n",
    "    y=y_train,\n",
    "    epochs=3,\n",
    "    verbose=1,\n",
    "    batch_size=batch_size\n",
    ")\n"
   ]
  },
  {
   "cell_type": "code",
   "execution_count": 28,
   "metadata": {},
   "outputs": [],
   "source": [
    "def predict_from_text(text, model):\n",
    "    tokens = tokenizer.tokenize([text])\n",
    "    x_test = tokens\n",
    "    pred_test = model.predict(x_test) if hasattr(\n",
    "        model, 'predict') else model(x_test)\n",
    "    # ignore predictions of padding tokens\n",
    "    pred_tags = np.argmax(pred_test, 2)[0]\n",
    "\n",
    "    tags = label_tokenizer.decode(pred_tags)\n",
    "    return tags\n",
    "    # res = []\n",
    "    # words = {\n",
    "    #     'word': '',\n",
    "    #     'tag': None\n",
    "    # }\n",
    "    # for idx, tag in enumerate(tags):\n",
    "    #     if(tag != 'O' and tag != '[PAD]'):\n",
    "    #         pre, suf = tag.split('-')\n",
    "    #         words['tag'] = suf\n",
    "    #         word = x_test[idx]\n",
    "    #         word = preprocessor.decode(word)\n",
    "    #         words['word'] = words['word'] + word if words['word'] else word\n",
    "    #     else:\n",
    "    #         if(words['tag']):\n",
    "    #             res.append(words)\n",
    "    #         words = {\n",
    "    #             'word': '',\n",
    "    #             'tag': None\n",
    "    #         }\n",
    "    # return pd.DataFrame(res)\n"
   ]
  },
  {
   "cell_type": "code",
   "execution_count": 29,
   "metadata": {},
   "outputs": [],
   "source": [
    "test_inputs = '李华住在朝阳区香河园街道西坝河北里社区，在5月4号去过天安门广场，5号下午去了太阳宫凯德茂商场。'\n"
   ]
  },
  {
   "cell_type": "code",
   "execution_count": 30,
   "metadata": {},
   "outputs": [
    {
     "name": "stderr",
     "output_type": "stream",
     "text": [
      "2022-06-13 20:42:48.837402: I tensorflow/core/grappler/optimizers/custom_graph_optimizer_registry.cc:113] Plugin optimizer for device_type GPU is enabled.\n"
     ]
    },
    {
     "name": "stdout",
     "output_type": "stream",
     "text": [
      "['O', 'O', 'O', 'O', 'O', 'O', 'B-LOC', 'I-ORG', 'O', 'O', 'O', 'O', 'O', 'O', 'O', 'O', 'O', 'O', 'O', 'O', 'O', 'O', 'O', 'O', 'O', 'O', 'O', 'O', 'O', 'O', 'O', 'O', 'O', 'O', 'O', 'O', 'O', 'O', 'O', 'O', 'O', 'I-ORG', 'O', 'O', 'O', 'O', 'O', 'O', 'O', 'O', 'O', 'O', 'O', 'O', 'O', 'O', 'O', 'O', 'O', 'O', 'O', 'O', 'O', 'O', 'O', 'O', 'O', 'O', 'O', 'O', 'O', 'O', 'O', 'O', 'O', 'O', 'O', 'O', 'O', 'O', 'O', 'O', 'O', 'O', 'O', 'O', 'O', 'O', 'O', 'O', 'O', 'O', 'O', 'O', 'O', 'O', 'O', 'O', 'O', 'O', 'O', 'O', 'O', 'O', 'O', 'O', 'O', 'O', 'O', 'O', 'O', 'O', 'O', 'O', 'O', 'O', 'O', 'O', 'O', 'O', 'O', 'O', 'O', 'O', 'O', 'O', 'O', 'O']\n"
     ]
    }
   ],
   "source": [
    "print(predict_from_text(test_inputs, model))\n"
   ]
  },
  {
   "cell_type": "code",
   "execution_count": 31,
   "metadata": {},
   "outputs": [
    {
     "name": "stderr",
     "output_type": "stream",
     "text": [
      "WARNING:absl:Found untraced functions such as restored_function_body, restored_function_body, restored_function_body, restored_function_body, restored_function_body while saving (showing 5 of 366). These functions will not be directly callable after loading.\n"
     ]
    },
    {
     "name": "stdout",
     "output_type": "stream",
     "text": [
      "INFO:tensorflow:Assets written to: hub_ner_bert/assets\n"
     ]
    },
    {
     "name": "stderr",
     "output_type": "stream",
     "text": [
      "INFO:tensorflow:Assets written to: hub_ner_bert/assets\n"
     ]
    }
   ],
   "source": [
    "model.save(saved_model)\n"
   ]
  },
  {
   "cell_type": "code",
   "execution_count": 32,
   "metadata": {},
   "outputs": [],
   "source": [
    "reload_model = tf.saved_model.load(saved_model)\n"
   ]
  },
  {
   "cell_type": "code",
   "execution_count": null,
   "metadata": {},
   "outputs": [],
   "source": [
    "print(predict_from_text(test_inputs, reload_model))\n"
   ]
  }
 ],
 "metadata": {
  "interpreter": {
   "hash": "e6b2c9d6a9cb02e99b4eeb2f9f7137aa63caa35dd1b33707af4a297d7735ec64"
  },
  "kernelspec": {
   "display_name": "Python 3.8.13 ('nlp')",
   "language": "python",
   "name": "python3"
  },
  "language_info": {
   "codemirror_mode": {
    "name": "ipython",
    "version": 3
   },
   "file_extension": ".py",
   "mimetype": "text/x-python",
   "name": "python",
   "nbconvert_exporter": "python",
   "pygments_lexer": "ipython3",
   "version": "3.8.13"
  },
  "orig_nbformat": 4
 },
 "nbformat": 4,
 "nbformat_minor": 2
}
