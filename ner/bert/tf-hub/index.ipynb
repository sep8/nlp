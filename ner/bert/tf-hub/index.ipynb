{
 "cells": [
  {
   "cell_type": "code",
   "execution_count": 71,
   "metadata": {},
   "outputs": [],
   "source": [
    "import os\n",
    "import zipfile\n",
    "import numpy as np\n",
    "import pandas as pd\n",
    "import tensorflow as tf\n",
    "from tensorflow import keras\n",
    "import tensorflow_hub as hub\n"
   ]
  },
  {
   "cell_type": "code",
   "execution_count": 14,
   "metadata": {},
   "outputs": [],
   "source": [
    "data_root = '../../data/'\n",
    "local_zip = data_root + 'msra.zip'\n",
    "zip_ref = zipfile.ZipFile(local_zip, 'r')\n",
    "zip_ref.extractall('../../data/')\n",
    "zip_ref.close()\n"
   ]
  },
  {
   "cell_type": "code",
   "execution_count": 15,
   "metadata": {},
   "outputs": [],
   "source": [
    "def get_data_path(data_dir=data_root + 'msra/', type='train'):\n",
    "    if type in ['train', 'val', 'test']:\n",
    "        sentences_path = os.path.join(data_dir, type, 'sentences.txt')\n",
    "        tags_path = os.path.join(data_dir, type, 'tags.txt')\n",
    "        return sentences_path, tags_path\n",
    "    else:\n",
    "        raise ValueError(\"data type not in ['train', 'val', 'test']\")\n"
   ]
  },
  {
   "cell_type": "code",
   "execution_count": 16,
   "metadata": {},
   "outputs": [],
   "source": [
    "max_len = 128\n",
    "batch_size = 32\n",
    "saved_model = 'hub_ner_bert'\n",
    "\n",
    "bert_zh = 'https://tfhub.dev/tensorflow/bert_zh_L-12_H-768_A-12/4'\n",
    "bert_zh_preprocess = 'https://tfhub.dev/tensorflow/bert_zh_preprocess/3'\n"
   ]
  },
  {
   "cell_type": "code",
   "execution_count": 77,
   "metadata": {},
   "outputs": [],
   "source": [
    "# preload the model\n",
    "preprocessor = hub.load(bert_zh_preprocess)\n",
    "encoder = hub.load(bert_zh)"
   ]
  },
  {
   "cell_type": "code",
   "execution_count": 18,
   "metadata": {},
   "outputs": [],
   "source": [
    "class Label_Tokenizer(object):\n",
    "    def __init__(self, labels, max_length):\n",
    "        super().__init__()\n",
    "        self.size = len(labels)\n",
    "        labels_to_ids = {k: v for v, k in enumerate(labels)}\n",
    "        ids_to_labels = {v: k for v, k in enumerate(labels)}\n",
    "        self.labels_to_ids = labels_to_ids\n",
    "        self.ids_to_labels = ids_to_labels\n",
    "        self.max_length = max_length\n",
    "\n",
    "    def tokenize(self, labels):\n",
    "        tokens = [self._tokenize(label) for label in labels]\n",
    "        return tokens\n",
    "\n",
    "    def _tokenize(self, label):\n",
    "        label = label.decode('utf-8') if hasattr(label, 'decode') else label\n",
    "        labels = [le for le in label.strip().split(' ')]\n",
    "        pad_token = self.encode(['[PAD]'])[0]\n",
    "        special_token = self.encode(['O'])[0]\n",
    "\n",
    "        tokens = self.encode(labels)\n",
    "        tokens = [special_token] + tokens + [pad_token]\n",
    "        tokens = tokens[:self.max_length - 2]\n",
    "        tokens = [special_token] + tokens + [special_token]\n",
    "        # Add padded TAG tokens\n",
    "        padding_len = self.max_length - len(tokens)\n",
    "        tokens = tokens + ([pad_token] * padding_len)\n",
    "        return tokens\n",
    "\n",
    "    def encode(self, labels):\n",
    "        return [self.labels_to_ids[label] for label in labels]\n",
    "\n",
    "    def decode(self, ids):\n",
    "        return [self.ids_to_labels[id] for id in ids]\n"
   ]
  },
  {
   "cell_type": "code",
   "execution_count": 19,
   "metadata": {},
   "outputs": [],
   "source": [
    "labels = ['O', 'B-ORG', 'I-PER', 'B-PER', 'I-LOC', 'I-ORG', 'B-LOC', '[PAD]']\n",
    "label_tokenizer = Label_Tokenizer(labels, max_length=max_len)\n",
    "labels_num = label_tokenizer.size\n"
   ]
  },
  {
   "cell_type": "code",
   "execution_count": 116,
   "metadata": {},
   "outputs": [],
   "source": [
    "sentences_file, tags_file = get_data_path()\n",
    "sentences_dataset = tf.data.TextLineDataset(sentences_file).take(1600)\n",
    "x_train = [sentence for sentence in sentences_dataset.as_numpy_iterator()]\n",
    "x_train = tf.constant(x_train)\n",
    "# sentences_dataset = [\n",
    "#     sentence for sentence in sentences_dataset.as_numpy_iterator()]\n",
    "# x_train = tokenizer.tokenize(sentences_dataset)\n",
    "\n",
    "label_dataset = tf.data.TextLineDataset(tags_file).take(1600)\n",
    "label_dataset = [label.decode('utf-8')\n",
    "                 for label in label_dataset.as_numpy_iterator()]\n",
    "y_train = label_tokenizer.tokenize(label_dataset)\n",
    "y_train = tf.constant(y_train)\n"
   ]
  },
  {
   "cell_type": "code",
   "execution_count": 117,
   "metadata": {},
   "outputs": [],
   "source": [
    "sentences_file, tags_file = get_data_path(type='val')\n",
    "sentences_dataset = tf.data.TextLineDataset(sentences_file).take(320)\n",
    "x_val = [sentence for sentence in sentences_dataset.as_numpy_iterator()]\n",
    "x_val = tf.constant(x_val)\n",
    "\n",
    "label_dataset = tf.data.TextLineDataset(tags_file).take(320)\n",
    "label_dataset = [label.decode('utf-8')\n",
    "                 for label in label_dataset.as_numpy_iterator()]\n",
    "y_val = label_tokenizer.tokenize(label_dataset)\n",
    "y_val = tf.constant(y_val)"
   ]
  },
  {
   "cell_type": "code",
   "execution_count": 21,
   "metadata": {},
   "outputs": [],
   "source": [
    "loss_object = tf.keras.losses.SparseCategoricalCrossentropy(\n",
    "    from_logits=False, reduction=tf.keras.losses.Reduction.NONE\n",
    ")\n",
    "\n",
    "pad_token = label_tokenizer.encode(['[PAD]'])[0]\n",
    "\n",
    "# Each batch of data will consist of variable sized sentence tokens with\n",
    "# appropriate padding in both input and target.\n",
    "# During loss calculation, we ignore the loss corresponding padding tokens\n",
    "# in the target.\n",
    "\n",
    "\n",
    "def masked_ce_loss(real, pred):\n",
    "    loss_ = loss_object(real, pred)\n",
    "\n",
    "    # tf.math.equal([pad], pad_token) => True\n",
    "    # logical_not(True)-> False, cast(False) -> 0\n",
    "    # loss_ *= mask, ignore the loss corresponding padding tokens\n",
    "    mask = tf.math.logical_not(tf.math.equal(real, pad_token))\n",
    "    mask = tf.cast(mask, dtype=loss_.dtype)\n",
    "\n",
    "    loss_ *= mask\n",
    "\n",
    "    return tf.reduce_mean(loss_)\n"
   ]
  },
  {
   "cell_type": "code",
   "execution_count": 22,
   "metadata": {},
   "outputs": [],
   "source": [
    "def create_model(labels_num, seq_length):\n",
    "    text_input = tf.keras.layers.Input(shape=(), dtype=tf.string)\n",
    "    preprocessor = hub.load(bert_zh_preprocess)\n",
    "    tokenize = hub.KerasLayer(preprocessor.tokenize)\n",
    "    tokenized_inputs = [tokenize(text_input)]\n",
    "\n",
    "    bert_pack_inputs = hub.KerasLayer(preprocessor.bert_pack_inputs, arguments=dict(seq_length=seq_length))\n",
    "    encoder_inputs = bert_pack_inputs(tokenized_inputs)\n",
    "\n",
    "    encoder = hub.KerasLayer(bert_zh, trainable=True, name='BERT_encoder')\n",
    "    outputs = encoder(encoder_inputs)\n",
    "\n",
    "    embedding = outputs[\"sequence_output\"]\n",
    "    embedding = keras.layers.Dropout(0.3)(embedding)\n",
    "    tag_logits = keras.layers.Dense(\n",
    "        labels_num, activation='softmax', name='NER')(embedding)\n",
    "\n",
    "    model = keras.Model(\n",
    "        inputs=[text_input],\n",
    "        outputs=[tag_logits],\n",
    "    )\n",
    "    optimizer = keras.optimizers.Adam(learning_rate=3e-5)\n",
    "    model.compile(optimizer=optimizer, loss=masked_ce_loss,\n",
    "                  metrics=['accuracy'])\n",
    "    return model\n"
   ]
  },
  {
   "cell_type": "code",
   "execution_count": 23,
   "metadata": {},
   "outputs": [
    {
     "name": "stdout",
     "output_type": "stream",
     "text": [
      "Model: \"model\"\n",
      "__________________________________________________________________________________________________\n",
      " Layer (type)                   Output Shape         Param #     Connected to                     \n",
      "==================================================================================================\n",
      " input_1 (InputLayer)           [(None,)]            0           []                               \n",
      "                                                                                                  \n",
      " keras_layer (KerasLayer)       (None, None, None)   0           ['input_1[0][0]']                \n",
      "                                                                                                  \n",
      " keras_layer_1 (KerasLayer)     {'input_mask': (Non  0           ['keras_layer[0][0]']            \n",
      "                                e, 128),                                                          \n",
      "                                 'input_word_ids':                                                \n",
      "                                (None, 128),                                                      \n",
      "                                 'input_type_ids':                                                \n",
      "                                (None, 128)}                                                      \n",
      "                                                                                                  \n",
      " BERT_encoder (KerasLayer)      {'pooled_output': (  102267649   ['keras_layer_1[0][0]',          \n",
      "                                None, 768),                       'keras_layer_1[0][1]',          \n",
      "                                 'default': (None,                'keras_layer_1[0][2]']          \n",
      "                                768),                                                             \n",
      "                                 'sequence_output':                                               \n",
      "                                 (None, 128, 768),                                                \n",
      "                                 'encoder_outputs':                                               \n",
      "                                 [(None, 128, 768),                                               \n",
      "                                 (None, 128, 768),                                                \n",
      "                                 (None, 128, 768),                                                \n",
      "                                 (None, 128, 768),                                                \n",
      "                                 (None, 128, 768),                                                \n",
      "                                 (None, 128, 768),                                                \n",
      "                                 (None, 128, 768),                                                \n",
      "                                 (None, 128, 768),                                                \n",
      "                                 (None, 128, 768),                                                \n",
      "                                 (None, 128, 768),                                                \n",
      "                                 (None, 128, 768),                                                \n",
      "                                 (None, 128, 768)]}                                               \n",
      "                                                                                                  \n",
      " dropout (Dropout)              (None, 128, 768)     0           ['BERT_encoder[0][14]']          \n",
      "                                                                                                  \n",
      " NER (Dense)                    (None, 128, 8)       6152        ['dropout[0][0]']                \n",
      "                                                                                                  \n",
      "==================================================================================================\n",
      "Total params: 102,273,801\n",
      "Trainable params: 102,273,800\n",
      "Non-trainable params: 1\n",
      "__________________________________________________________________________________________________\n"
     ]
    }
   ],
   "source": [
    "model = create_model(labels_num, seq_length=max_len)\n",
    "model.summary()\n"
   ]
  },
  {
   "cell_type": "code",
   "execution_count": 118,
   "metadata": {},
   "outputs": [
    {
     "name": "stdout",
     "output_type": "stream",
     "text": [
      "Epoch 1/3\n",
      "50/50 [==============================] - 695s 14s/step - loss: 0.0783 - accuracy: 0.3729 - val_loss: 0.0325 - val_accuracy: 0.3755\n",
      "Epoch 2/3\n",
      "50/50 [==============================] - 878s 18s/step - loss: 0.0237 - accuracy: 0.3878 - val_loss: 0.0200 - val_accuracy: 0.3793\n",
      "Epoch 3/3\n",
      "50/50 [==============================] - 851s 17s/step - loss: 0.0105 - accuracy: 0.3919 - val_loss: 0.0168 - val_accuracy: 0.3805\n"
     ]
    }
   ],
   "source": [
    "history = model.fit(\n",
    "    x=x_train,\n",
    "    y=y_train,\n",
    "    epochs=3,\n",
    "    verbose=1,\n",
    "    batch_size=batch_size,\n",
    "    validation_data=(x_val, y_val)\n",
    ")\n"
   ]
  },
  {
   "cell_type": "code",
   "execution_count": 119,
   "metadata": {},
   "outputs": [],
   "source": [
    "class Tokenizer(object):\n",
    "    def __init__(self, preprocessor_name, max_length):\n",
    "        super().__init__()\n",
    "        self.preprocessor = hub.load(preprocessor_name)\n",
    "        self.max_length = max_length\n",
    "        self.tokens2words = {}\n",
    "\n",
    "    def tokenize(self, text):\n",
    "        tokens = []\n",
    "        for word in text:\n",
    "            token = self.encode(word)\n",
    "            tokens.append(token)\n",
    "        \n",
    "        tokens = tokens[:self.max_length - 2]\n",
    "        tokens = [self.encode('[CLS]')] + tokens + [self.encode('[SEP]')]\n",
    "        n_length = len(tokens)\n",
    "        tokens = tokens + ([self.encode('[PAD]')] * (self.max_length - len(tokens)))\n",
    "        return tf.constant(tokens), n_length\n",
    "\n",
    "    def encode(self, word):\n",
    "        token = self.preprocessor.tokenize([word])[0][0][0].numpy()\n",
    "        self.tokens2words[token] = word\n",
    "        return token\n",
    "\n",
    "    def decode(self, tokens):\n",
    "        return [self.tokens2words[token] for token in tokens]\n",
    "    \n",
    "tokenizer = Tokenizer(bert_zh_preprocess, max_len)"
   ]
  },
  {
   "cell_type": "code",
   "execution_count": 123,
   "metadata": {},
   "outputs": [],
   "source": [
    "def predict_from_text(text, model):\n",
    "    x_text, n_length = tokenizer.tokenize(text)\n",
    "\n",
    "    pred_test = model.predict([text]) if hasattr(\n",
    "        model, 'predict') else model([text])\n",
    "    # ignore predictions of padding tokens\n",
    "    pred_tags = np.argmax(pred_test, 2)[0][:n_length]\n",
    "\n",
    "    tags = label_tokenizer.decode(pred_tags)\n",
    "    res = []\n",
    "    words = {\n",
    "        'word': '',\n",
    "        'tag': None\n",
    "    }\n",
    "    for idx, tag in enumerate(tags):\n",
    "        if(tag != 'O' and tag != '[PAD]'):\n",
    "            pre, suf = tag.split('-')\n",
    "            words['tag'] = suf\n",
    "            token = x_text[idx-1]\n",
    "            word = tokenizer.decode([token.numpy()])[0]\n",
    "            words['word'] = words['word'] + word if words['word'] else word\n",
    "        else:\n",
    "            if(words['tag']):\n",
    "                res.append(words)\n",
    "            words = {\n",
    "                'word': '',\n",
    "                'tag': None\n",
    "            }\n",
    "    return pd.DataFrame(res)\n"
   ]
  },
  {
   "cell_type": "code",
   "execution_count": 121,
   "metadata": {},
   "outputs": [],
   "source": [
    "test_inputs = '李华住在朝阳区香河园街道西坝河北里社区，在5月4号去过天安门广场，5号下午去了太阳宫凯德茂商场。'\n"
   ]
  },
  {
   "cell_type": "code",
   "execution_count": 124,
   "metadata": {},
   "outputs": [
    {
     "name": "stdout",
     "output_type": "stream",
     "text": [
      "1/1 [==============================] - 0s 139ms/step\n",
      "              word  tag\n",
      "0               李华  PER\n",
      "1  朝阳区香河园街道西坝河北里社区  LOC\n",
      "2            天安门广场  LOC\n",
      "3         太阳宫凯德茂商场  LOC\n"
     ]
    }
   ],
   "source": [
    "print(predict_from_text(test_inputs, model))\n"
   ]
  },
  {
   "cell_type": "code",
   "execution_count": 125,
   "metadata": {},
   "outputs": [
    {
     "name": "stderr",
     "output_type": "stream",
     "text": [
      "WARNING:absl:Found untraced functions such as restored_function_body, restored_function_body, restored_function_body, restored_function_body, restored_function_body while saving (showing 5 of 366). These functions will not be directly callable after loading.\n"
     ]
    },
    {
     "name": "stdout",
     "output_type": "stream",
     "text": [
      "INFO:tensorflow:Assets written to: hub_ner_bert/assets\n"
     ]
    },
    {
     "name": "stderr",
     "output_type": "stream",
     "text": [
      "INFO:tensorflow:Assets written to: hub_ner_bert/assets\n"
     ]
    }
   ],
   "source": [
    "model.save(saved_model, include_optimizer=False)\n"
   ]
  },
  {
   "cell_type": "code",
   "execution_count": 126,
   "metadata": {},
   "outputs": [],
   "source": [
    "reload_model = tf.saved_model.load(saved_model)\n"
   ]
  },
  {
   "cell_type": "code",
   "execution_count": 127,
   "metadata": {},
   "outputs": [
    {
     "name": "stdout",
     "output_type": "stream",
     "text": [
      "              word  tag\n",
      "0               李华  PER\n",
      "1  朝阳区香河园街道西坝河北里社区  LOC\n",
      "2            天安门广场  LOC\n",
      "3         太阳宫凯德茂商场  LOC\n"
     ]
    }
   ],
   "source": [
    "print(predict_from_text(test_inputs, reload_model))\n"
   ]
  },
  {
   "cell_type": "code",
   "execution_count": null,
   "metadata": {},
   "outputs": [],
   "source": []
  }
 ],
 "metadata": {
  "kernelspec": {
   "display_name": "Python 3.8.13 ('c3-nlp')",
   "language": "python",
   "name": "python3"
  },
  "language_info": {
   "codemirror_mode": {
    "name": "ipython",
    "version": 3
   },
   "file_extension": ".py",
   "mimetype": "text/x-python",
   "name": "python",
   "nbconvert_exporter": "python",
   "pygments_lexer": "ipython3",
   "version": "3.8.13"
  },
  "orig_nbformat": 4,
  "vscode": {
   "interpreter": {
    "hash": "5ad98a190b4b5f35ccc183fea6461b9c6eca3817fd9b9f811f8bcf53cbfc1ea4"
   }
  }
 },
 "nbformat": 4,
 "nbformat_minor": 2
}
