{
 "cells": [
  {
   "cell_type": "code",
   "execution_count": 1,
   "metadata": {},
   "outputs": [],
   "source": [
    "import pandas as pd"
   ]
  },
  {
   "cell_type": "code",
   "execution_count": 67,
   "metadata": {},
   "outputs": [],
   "source": [
    "def preprocess_data(path, target_path):\n",
    "    with open(path) as f:\n",
    "        sequences = {\n",
    "            'sentence': [],\n",
    "            'words': [],\n",
    "            'labels': []\n",
    "        }\n",
    "        sequnce_index = 0\n",
    "        for line in f:\n",
    "            if line and line != '\\n':\n",
    "                sequences['sentence'].append(str(sequnce_index))\n",
    "                splited = line.strip().split(' ')\n",
    "                word, tag = splited\n",
    "                sequences['words'].append(word)\n",
    "                sequences['labels'].append(tag)\n",
    "            else:\n",
    "                sequnce_index += 1\n",
    "\n",
    "    df = pd.DataFrame(sequences)\n",
    "    sentences = df.groupby('sentence')[\"words\"].apply(list).values\n",
    "    sentences = [' '.join(sentence) for sentence in sentences]\n",
    "    labels = df.groupby('sentence')['labels'].apply(list).values\n",
    "    labels = [' '.join(label) for label in labels]\n",
    "    sentences_df = pd.DataFrame(sentences)\n",
    "    labels_df = pd.DataFrame(labels)\n",
    "    sentences_df.to_csv(f'{target_path}/sentences.txt', index=False, header=None)\n",
    "    labels_df.to_csv(f'{target_path}/labels.txt', index=False, header=None)\n",
    "    print(f'Number of sentences: {sentences_df[0].size}')"
   ]
  },
  {
   "cell_type": "code",
   "execution_count": 68,
   "metadata": {},
   "outputs": [
    {
     "name": "stdout",
     "output_type": "stream",
     "text": [
      "Number of sentences: 4636\n",
      "Number of sentences: 2318\n",
      "Number of sentences: 20864\n"
     ]
    }
   ],
   "source": [
    "# preprocess_data('./data/daily/test/example.test', './data/daily/test/')\n",
    "# preprocess_data('./data/daily/val/example.dev', './data/daily/val/')\n",
    "# preprocess_data('./data/daily/train/example.train', './data/daily/train/')"
   ]
  },
  {
   "cell_type": "code",
   "execution_count": null,
   "metadata": {},
   "outputs": [],
   "source": [
    "preprocess_data('./data/weibo/test/ner_conll.test', './data/weibo/test/')\n",
    "preprocess_data('./data/weibo/val/ner_conll.val', './data/weibo/val/')\n",
    "preprocess_data('./data/weibo/train/ner_conll.train', './data/weibo/train/')"
   ]
  }
 ],
 "metadata": {
  "kernelspec": {
   "display_name": "Python 3.8.13 ('c3-nlp')",
   "language": "python",
   "name": "python3"
  },
  "language_info": {
   "codemirror_mode": {
    "name": "ipython",
    "version": 3
   },
   "file_extension": ".py",
   "mimetype": "text/x-python",
   "name": "python",
   "nbconvert_exporter": "python",
   "pygments_lexer": "ipython3",
   "version": "3.8.13"
  },
  "orig_nbformat": 4,
  "vscode": {
   "interpreter": {
    "hash": "022b350d9d731ea6beeec17b0760db9de374177ccae69f8fd03b1c527dbc4257"
   }
  }
 },
 "nbformat": 4,
 "nbformat_minor": 2
}
