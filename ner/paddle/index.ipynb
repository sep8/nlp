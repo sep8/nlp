{
 "cells": [
  {
   "cell_type": "code",
   "execution_count": 1,
   "metadata": {},
   "outputs": [
    {
     "name": "stderr",
     "output_type": "stream",
     "text": [
      "/Users/ming8525/miniforge3/envs/c3-nlp/lib/python3.8/site-packages/flatbuffers/compat.py:19: DeprecationWarning: the imp module is deprecated in favour of importlib; see the module's documentation for alternative uses\n",
      "  import imp\n"
     ]
    }
   ],
   "source": [
    "from paddlenlp import Taskflow"
   ]
  },
  {
   "cell_type": "code",
   "execution_count": 2,
   "metadata": {},
   "outputs": [
    {
     "name": "stderr",
     "output_type": "stream",
     "text": [
      "\u001b[32m[2022-06-14 15:13:49,629] [    INFO]\u001b[0m - Downloading model_state.pdparams from https://bj.bcebos.com/paddlenlp/taskflow/knowledge_mining/wordtag/model_state.pdparams\u001b[0m\n",
      "100%|██████████| 549M/549M [02:07<00:00, 4.50MB/s]  \n",
      "\u001b[32m[2022-06-14 15:15:59,163] [    INFO]\u001b[0m - Downloading model_config.json from https://bj.bcebos.com/paddlenlp/taskflow/knowledge_mining/wordtag/model_config.json\u001b[0m\n",
      "100%|██████████| 481/481 [00:00<00:00, 308kB/s]\n",
      "\u001b[32m[2022-06-14 15:15:59,614] [    INFO]\u001b[0m - Downloading tags.txt from https://bj.bcebos.com/paddlenlp/taskflow/knowledge_mining/wordtag/tags.txt\u001b[0m\n",
      "100%|██████████| 4.68k/4.68k [00:00<00:00, 1.98MB/s]\n",
      "\u001b[32m[2022-06-14 15:16:00,080] [    INFO]\u001b[0m - Downloading https://bj.bcebos.com/paddlenlp/models/transformers/ernie_ctm/vocab.txt and saved to /Users/ming8525/.paddlenlp/models/wordtag\u001b[0m\n",
      "\u001b[32m[2022-06-14 15:16:00,086] [    INFO]\u001b[0m - Downloading vocab.txt from https://bj.bcebos.com/paddlenlp/models/transformers/ernie_ctm/vocab.txt\u001b[0m\n",
      "100%|██████████| 89.6k/89.6k [00:00<00:00, 187kB/s]\n",
      "\u001b[32m[2022-06-14 15:16:11,606] [    INFO]\u001b[0m - Converting to the inference model cost a little time.\u001b[0m\n",
      "\u001b[32m[2022-06-14 15:16:18,378] [    INFO]\u001b[0m - The inference model save in the path:/Users/ming8525/.paddlenlp/taskflow/wordtag/static/inference\u001b[0m\n"
     ]
    }
   ],
   "source": [
    "ner = Taskflow(\"ner\")"
   ]
  },
  {
   "cell_type": "code",
   "execution_count": 7,
   "metadata": {},
   "outputs": [
    {
     "name": "stderr",
     "output_type": "stream",
     "text": [
      "\u001b[32m[2022-06-14 15:22:46,980] [    INFO]\u001b[0m - We are using <class 'paddlenlp.transformers.ernie.tokenizer.ErnieTokenizer'> to load 'ernie-3.0-base-zh'.\u001b[0m\n",
      "\u001b[32m[2022-06-14 15:22:46,981] [    INFO]\u001b[0m - Already cached /Users/ming8525/.paddlenlp/models/ernie-3.0-base-zh/ernie_3.0_base_zh_vocab.txt\u001b[0m\n"
     ]
    }
   ],
   "source": [
    "schema = ['人物', '时间', '地点', '事件']\n",
    "ie = Taskflow('information_extraction', schema=schema)"
   ]
  },
  {
   "cell_type": "code",
   "execution_count": 8,
   "metadata": {},
   "outputs": [
    {
     "data": {
      "text/plain": [
       "[{'人物': [{'text': '李华',\n",
       "    'start': 0,\n",
       "    'end': 2,\n",
       "    'probability': 0.998346039887096}],\n",
       "  '时间': [{'text': '5月4号',\n",
       "    'start': 21,\n",
       "    'end': 25,\n",
       "    'probability': 0.6649374803688382},\n",
       "   {'text': '5号下午',\n",
       "    'start': 33,\n",
       "    'end': 37,\n",
       "    'probability': 0.5655489687156461}],\n",
       "  '地点': [{'text': '朝阳区香河园街道西坝河北里社区',\n",
       "    'start': 4,\n",
       "    'end': 19,\n",
       "    'probability': 0.4590378067068279}]}]"
      ]
     },
     "execution_count": 8,
     "metadata": {},
     "output_type": "execute_result"
    }
   ],
   "source": [
    "ie('李华住在朝阳区香河园街道西坝河北里社区，在5月4号去过天安门广场，5号下午去了太阳宫凯德茂商场。')"
   ]
  },
  {
   "cell_type": "code",
   "execution_count": null,
   "metadata": {},
   "outputs": [],
   "source": []
  }
 ],
 "metadata": {
  "kernelspec": {
   "display_name": "Python 3.8.13 ('c3-nlp')",
   "language": "python",
   "name": "python3"
  },
  "language_info": {
   "codemirror_mode": {
    "name": "ipython",
    "version": 3
   },
   "file_extension": ".py",
   "mimetype": "text/x-python",
   "name": "python",
   "nbconvert_exporter": "python",
   "pygments_lexer": "ipython3",
   "version": "3.8.13"
  },
  "orig_nbformat": 4,
  "vscode": {
   "interpreter": {
    "hash": "5ad98a190b4b5f35ccc183fea6461b9c6eca3817fd9b9f811f8bcf53cbfc1ea4"
   }
  }
 },
 "nbformat": 4,
 "nbformat_minor": 2
}
