{
 "cells": [
  {
   "cell_type": "code",
   "execution_count": 44,
   "metadata": {},
   "outputs": [],
   "source": [
    "from __future__ import unicode_literals, print_function, division\n",
    "import random\n",
    "\n",
    "import torch\n",
    "import torch.nn as nn\n",
    "from torch import optim\n",
    "import torch.nn.functional as F\n",
    "\n",
    "import matplotlib.pyplot as plt\n",
    "import matplotlib.ticker as ticker\n",
    "from cn_cn_data import get_cn_en_dataloader, to_sentence, cn_vocab, en_vocab\n"
   ]
  },
  {
   "cell_type": "code",
   "execution_count": 45,
   "metadata": {},
   "outputs": [],
   "source": [
    "import time\n",
    "import math\n",
    "\n",
    "\n",
    "def asMinutes(s):\n",
    "    m = math.floor(s / 60)\n",
    "    s -= m * 60\n",
    "    return '%dm %ds' % (m, s)\n",
    "\n",
    "\n",
    "def timeSince(since, percent):\n",
    "    now = time.time()\n",
    "    s = now - since\n",
    "    es = s / (percent)\n",
    "    rs = es - s\n",
    "    return '%s (- %s)' % (asMinutes(s), asMinutes(rs))\n"
   ]
  },
  {
   "cell_type": "code",
   "execution_count": 46,
   "metadata": {},
   "outputs": [
    {
     "name": "stdout",
     "output_type": "stream",
     "text": [
      "length of train_loader 2207\n"
     ]
    }
   ],
   "source": [
    "seq_len = 15\n",
    "max_length = seq_len + 2\n",
    "batch_size = 1\n",
    "\n",
    "cn_vocab_size = len(cn_vocab)\n",
    "en_vocab_size = len(en_vocab)\n",
    "\n",
    "device = torch.device(\"cpu\")\n",
    "train_loader, train_dataset = get_cn_en_dataloader(seq_len, batch_size, device)\n",
    "print('length of train_loader', len(train_loader))"
   ]
  },
  {
   "cell_type": "code",
   "execution_count": 47,
   "metadata": {},
   "outputs": [
    {
     "name": "stdout",
     "output_type": "stream",
     "text": [
      "torch.Size([10, 1]) torch.Size([10, 1])\n",
      "[2, 19, 379, 1672, 1155, 960, 323, 324, 5, 3]\n",
      "['<sos>', '我', '习', '惯', '整', '夜', '工', '作', ' 。', '<eos>']\n",
      "[2, 12, 27, 2229, 516, 557, 529, 260, 5, 3]\n",
      "['<sos>', 'I', \"'m\", 'used', 'to', 'working', 'all', 'night', '.', '<eos>']\n"
     ]
    }
   ],
   "source": [
    "for i, item in enumerate(train_loader):\n",
    "    print(item[0].shape, item[1].shape)\n",
    "\n",
    "    print([idx.item() for idx in item[0]])\n",
    "    print(to_sentence(item[0], True))\n",
    "    print([idx.item() for idx in item[1]])\n",
    "    print(to_sentence(item[1], False))\n",
    "    break"
   ]
  },
  {
   "cell_type": "code",
   "execution_count": 48,
   "metadata": {},
   "outputs": [],
   "source": [
    "class Encoder(nn.Module):\n",
    "    def __init__(self, input_size, hidden_size, dropout=0.1):\n",
    "        super(Encoder, self).__init__()\n",
    "        self.hidden_size = hidden_size\n",
    "\n",
    "        self.embedding = nn.Embedding(input_size, hidden_size)\n",
    "        self.gru = nn.GRU(hidden_size, hidden_size, batch_first=False)\n",
    "        self.dropout = nn.Dropout(dropout)\n",
    "\n",
    "    def forward(self, inputs):\n",
    "        batch_size = inputs.size(1)\n",
    "        hidden = torch.zeros(1, batch_size, self.hidden_size, device=device)\n",
    "        embedded = self.dropout(self.embedding(inputs))\n",
    "        outputs, hidden = self.gru(embedded, hidden)\n",
    "\n",
    "        return outputs, hidden\n"
   ]
  },
  {
   "cell_type": "code",
   "execution_count": 49,
   "metadata": {},
   "outputs": [],
   "source": [
    "class Decoder(nn.Module):\n",
    "    def __init__(self, hidden_size, output_size):\n",
    "        super(Decoder, self).__init__()\n",
    "        self.hidden_size = hidden_size\n",
    "        self.output_size = output_size\n",
    "\n",
    "        self.embedding = nn.Embedding(output_size, hidden_size)\n",
    "        self.gru = nn.GRU(hidden_size, hidden_size)\n",
    "        self.out = nn.Linear(hidden_size, output_size)\n",
    "\n",
    "    def forward(self, input, hidden):\n",
    "        output = self.embedding(input).view(1, 1, -1)\n",
    "        output = F.relu(output)\n",
    "        output, hidden = self.gru(output, hidden)\n",
    "        output = self.out(output[0])\n",
    "        return output, hidden"
   ]
  },
  {
   "cell_type": "code",
   "execution_count": 50,
   "metadata": {},
   "outputs": [],
   "source": [
    "teacher_forcing_ratio = 0.5\n",
    "\n",
    "def train(input_tensor, target_tensor, encoder, decoder, encoder_optimizer, decoder_optimizer, criterion, max_length=max_length):\n",
    "    encoder_optimizer.zero_grad()\n",
    "    decoder_optimizer.zero_grad()\n",
    "\n",
    "    target_length = target_tensor.size(0)\n",
    "\n",
    "    loss = 0\n",
    "\n",
    "    # encoder_outputs = torch.zeros(max_length, encoder.hidden_size, device=device)\n",
    "\n",
    "    # for ei in range(input_length):\n",
    "    #     encoder_output, encoder_hidden = encoder(input_tensor[ei], encoder_hidden)\n",
    "    #     encoder_outputs[ei] = encoder_output[0][0]\n",
    "\n",
    "    _, encoder_hidden = encoder(input_tensor)\n",
    "\n",
    "    decoder_input = torch.tensor([[cn_vocab['<sos>']]], device=device)\n",
    "\n",
    "    decoder_hidden = encoder_hidden #\n",
    "\n",
    "    use_teacher_forcing = True if random.random() < teacher_forcing_ratio else False\n",
    "\n",
    "    if use_teacher_forcing:\n",
    "        # Teacher forcing: Feed the target as the next input\n",
    "        for di in range(target_length):\n",
    "            decoder_output, decoder_hidden = decoder(decoder_input, decoder_hidden)\n",
    "\n",
    "            target = target_tensor[di]\n",
    "            loss += criterion(decoder_output, target)\n",
    "            decoder_input = target  # Teacher forcing\n",
    "\n",
    "    else:\n",
    "        # Without teacher forcing: use its own predictions as the next input\n",
    "        for di in range(target_length):\n",
    "            decoder_output, decoder_hidden = decoder(decoder_input, decoder_hidden)\n",
    "            topv, topi = decoder_output.topk(1)\n",
    "            decoder_input = topi.squeeze().detach()  # detach from history as input\n",
    "\n",
    "            target = target_tensor[di]\n",
    "            loss += criterion(decoder_output, target)\n",
    "            if decoder_input.item() == en_vocab['<eos>']:\n",
    "                break\n",
    "\n",
    "    loss.backward()\n",
    "\n",
    "    encoder_optimizer.step()\n",
    "    decoder_optimizer.step()\n",
    "\n",
    "    return loss.item() / target_length\n"
   ]
  },
  {
   "cell_type": "code",
   "execution_count": 51,
   "metadata": {},
   "outputs": [],
   "source": [
    "def trainIters(encoder, decoder, train_loader, print_every=100, plot_every=10, learning_rate=0.01):\n",
    "    start = time.time()\n",
    "    plot_losses = []\n",
    "    print_loss_total = 0  # Reset every print_every\n",
    "    plot_loss_total = 0  # Reset every plot_every\n",
    "\n",
    "    encoder_optimizer = optim.SGD(encoder.parameters(), lr=learning_rate)\n",
    "    decoder_optimizer = optim.SGD(decoder.parameters(), lr=learning_rate)\n",
    "    # criterion = nn.CrossEntropyLoss()\n",
    "    criterion = nn.CrossEntropyLoss(ignore_index=cn_vocab['<pad>'])\n",
    "    n_iters = len(train_loader)\n",
    "\n",
    "    for iter, data in enumerate(train_loader, 1):\n",
    "        input_tensor, target_tensor = data\n",
    "\n",
    "        loss = train(input_tensor, target_tensor, encoder, decoder, encoder_optimizer, decoder_optimizer, criterion)\n",
    "        print_loss_total += loss\n",
    "        plot_loss_total += loss\n",
    "\n",
    "        if iter % print_every == 0:\n",
    "            print_loss_avg = print_loss_total / print_every\n",
    "            print_loss_total = 0\n",
    "            print('%s (%d %d%%) %.4f' % (timeSince(start, iter / n_iters),\n",
    "                                         iter, iter / n_iters * 100, print_loss_avg))\n",
    "\n",
    "        if iter % plot_every == 0:\n",
    "            plot_loss_avg = plot_loss_total / plot_every\n",
    "            plot_losses.append(plot_loss_avg)\n",
    "            plot_loss_total = 0\n",
    "\n",
    "    return plot_losses\n"
   ]
  },
  {
   "cell_type": "code",
   "execution_count": 52,
   "metadata": {},
   "outputs": [],
   "source": [
    "hidden_size = 256\n",
    "encoder1 = Encoder(cn_vocab_size, hidden_size).to(device)\n",
    "decoder1 = Decoder(hidden_size, en_vocab_size).to(device)"
   ]
  },
  {
   "cell_type": "code",
   "execution_count": 53,
   "metadata": {},
   "outputs": [
    {
     "name": "stdout",
     "output_type": "stream",
     "text": [
      "--------------epoch 1--------------\n",
      "0m 14s (- 2m 22s) (200 9%) 3.9732\n",
      "0m 29s (- 2m 11s) (400 18%) 3.3943\n",
      "0m 42s (- 1m 55s) (600 27%) 3.2990\n",
      "0m 56s (- 1m 39s) (800 36%) 3.2056\n",
      "1m 9s (- 1m 23s) (1000 45%) 3.2668\n",
      "1m 22s (- 1m 9s) (1200 54%) 3.1934\n",
      "1m 36s (- 0m 55s) (1400 63%) 3.1724\n",
      "1m 50s (- 0m 42s) (1600 72%) 2.9769\n",
      "2m 6s (- 0m 28s) (1800 81%) 3.0708\n",
      "2m 21s (- 0m 14s) (2000 90%) 3.0666\n",
      "2m 38s (- 0m 0s) (2200 99%) 3.1829\n",
      "--------------epoch 2--------------\n",
      "0m 16s (- 2m 42s) (200 9%) 2.9347\n",
      "0m 32s (- 2m 26s) (400 18%) 2.9988\n",
      "0m 47s (- 2m 6s) (600 27%) 2.7989\n",
      "1m 1s (- 1m 48s) (800 36%) 3.0050\n",
      "1m 17s (- 1m 33s) (1000 45%) 2.8649\n",
      "1m 33s (- 1m 18s) (1200 54%) 2.8997\n",
      "1m 50s (- 1m 3s) (1400 63%) 2.8445\n",
      "2m 7s (- 0m 48s) (1600 72%) 2.8198\n",
      "2m 24s (- 0m 32s) (1800 81%) 2.8018\n",
      "2m 42s (- 0m 16s) (2000 90%) 2.7935\n",
      "2m 59s (- 0m 0s) (2200 99%) 2.7641\n",
      "--------------epoch 3--------------\n",
      "0m 15s (- 2m 33s) (200 9%) 2.6300\n",
      "0m 31s (- 2m 22s) (400 18%) 2.5715\n",
      "0m 47s (- 2m 7s) (600 27%) 2.6154\n",
      "1m 4s (- 1m 53s) (800 36%) 2.6377\n",
      "1m 22s (- 1m 39s) (1000 45%) 2.6197\n",
      "1m 39s (- 1m 23s) (1200 54%) 2.5522\n",
      "1m 55s (- 1m 6s) (1400 63%) 2.6894\n",
      "2m 12s (- 0m 50s) (1600 72%) 2.5809\n",
      "2m 29s (- 0m 33s) (1800 81%) 2.5909\n",
      "2m 45s (- 0m 17s) (2000 90%) 2.5636\n",
      "3m 1s (- 0m 0s) (2200 99%) 2.6069\n",
      "--------------epoch 4--------------\n",
      "0m 15s (- 2m 39s) (200 9%) 2.3386\n",
      "0m 34s (- 2m 36s) (400 18%) 2.4948\n",
      "0m 52s (- 2m 20s) (600 27%) 2.3969\n",
      "1m 8s (- 2m 0s) (800 36%) 2.4030\n",
      "1m 23s (- 1m 40s) (1000 45%) 2.4153\n",
      "1m 38s (- 1m 22s) (1200 54%) 2.4300\n",
      "1m 53s (- 1m 5s) (1400 63%) 2.2795\n",
      "2m 9s (- 0m 49s) (1600 72%) 2.3467\n",
      "2m 24s (- 0m 32s) (1800 81%) 2.2696\n",
      "2m 39s (- 0m 16s) (2000 90%) 2.3629\n",
      "2m 55s (- 0m 0s) (2200 99%) 2.3179\n",
      "--------------epoch 5--------------\n",
      "0m 15s (- 2m 34s) (200 9%) 2.1616\n",
      "0m 30s (- 2m 19s) (400 18%) 2.0897\n",
      "0m 46s (- 2m 4s) (600 27%) 2.0961\n",
      "1m 1s (- 1m 48s) (800 36%) 2.1804\n",
      "1m 17s (- 1m 33s) (1000 45%) 2.1282\n",
      "1m 33s (- 1m 18s) (1200 54%) 2.1479\n",
      "1m 48s (- 1m 2s) (1400 63%) 2.1563\n",
      "2m 4s (- 0m 47s) (1600 72%) 2.1428\n",
      "2m 20s (- 0m 31s) (1800 81%) 2.1573\n",
      "2m 36s (- 0m 16s) (2000 90%) 2.2425\n",
      "2m 52s (- 0m 0s) (2200 99%) 2.0907\n",
      "--------------epoch 6--------------\n",
      "0m 17s (- 2m 58s) (200 9%) 1.9168\n",
      "0m 34s (- 2m 34s) (400 18%) 1.8747\n",
      "0m 50s (- 2m 15s) (600 27%) 1.9260\n",
      "1m 6s (- 1m 56s) (800 36%) 1.9571\n",
      "1m 22s (- 1m 40s) (1000 45%) 1.9586\n",
      "1m 37s (- 1m 21s) (1200 54%) 1.8666\n",
      "1m 53s (- 1m 5s) (1400 63%) 1.9097\n",
      "2m 7s (- 0m 48s) (1600 72%) 1.9415\n",
      "2m 23s (- 0m 32s) (1800 81%) 1.9075\n",
      "2m 38s (- 0m 16s) (2000 90%) 1.9294\n",
      "2m 55s (- 0m 0s) (2200 99%) 1.9667\n",
      "--------------epoch 7--------------\n",
      "0m 15s (- 2m 34s) (200 9%) 1.7747\n",
      "0m 31s (- 2m 20s) (400 18%) 1.6825\n",
      "0m 47s (- 2m 6s) (600 27%) 1.7541\n",
      "1m 3s (- 1m 50s) (800 36%) 1.7280\n",
      "1m 18s (- 1m 35s) (1000 45%) 1.5950\n",
      "1m 34s (- 1m 19s) (1200 54%) 1.8289\n",
      "1m 49s (- 1m 3s) (1400 63%) 1.7245\n",
      "2m 6s (- 0m 47s) (1600 72%) 1.7973\n",
      "2m 21s (- 0m 31s) (1800 81%) 1.6898\n",
      "2m 36s (- 0m 16s) (2000 90%) 1.7391\n",
      "2m 50s (- 0m 0s) (2200 99%) 1.7195\n",
      "--------------epoch 8--------------\n",
      "0m 15s (- 2m 32s) (200 9%) 1.5110\n",
      "0m 30s (- 2m 18s) (400 18%) 1.4946\n",
      "0m 45s (- 2m 2s) (600 27%) 1.4920\n",
      "0m 59s (- 1m 45s) (800 36%) 1.5718\n",
      "1m 15s (- 1m 31s) (1000 45%) 1.5556\n",
      "1m 31s (- 1m 16s) (1200 54%) 1.6005\n",
      "1m 47s (- 1m 2s) (1400 63%) 1.6301\n",
      "2m 5s (- 0m 47s) (1600 72%) 1.5576\n",
      "2m 21s (- 0m 32s) (1800 81%) 1.5186\n",
      "2m 37s (- 0m 16s) (2000 90%) 1.4721\n",
      "2m 51s (- 0m 0s) (2200 99%) 1.5469\n",
      "--------------epoch 9--------------\n",
      "0m 17s (- 2m 57s) (200 9%) 1.3248\n",
      "0m 34s (- 2m 34s) (400 18%) 1.2337\n",
      "0m 49s (- 2m 13s) (600 27%) 1.3713\n",
      "1m 4s (- 1m 54s) (800 36%) 1.3949\n",
      "1m 20s (- 1m 37s) (1000 45%) 1.3982\n",
      "1m 35s (- 1m 20s) (1200 54%) 1.4505\n",
      "1m 50s (- 1m 3s) (1400 63%) 1.3436\n",
      "2m 5s (- 0m 47s) (1600 72%) 1.3299\n",
      "2m 20s (- 0m 31s) (1800 81%) 1.4162\n",
      "2m 34s (- 0m 16s) (2000 90%) 1.2398\n",
      "2m 49s (- 0m 0s) (2200 99%) 1.3331\n",
      "--------------epoch 10--------------\n",
      "0m 16s (- 2m 47s) (200 9%) 1.2455\n",
      "0m 34s (- 2m 34s) (400 18%) 1.1553\n",
      "0m 51s (- 2m 17s) (600 27%) 1.1539\n",
      "1m 8s (- 2m 0s) (800 36%) 1.1643\n",
      "1m 27s (- 1m 45s) (1000 45%) 1.2349\n",
      "1m 42s (- 1m 26s) (1200 54%) 1.2177\n",
      "1m 57s (- 1m 7s) (1400 63%) 1.1764\n",
      "2m 10s (- 0m 49s) (1600 72%) 1.1255\n",
      "2m 25s (- 0m 32s) (1800 81%) 1.2598\n",
      "2m 39s (- 0m 16s) (2000 90%) 1.2588\n",
      "2m 53s (- 0m 0s) (2200 99%) 1.2167\n"
     ]
    }
   ],
   "source": [
    "train_losses = []\n",
    "for i in range(10):\n",
    "    print('--------------epoch %d--------------' % (i + 1))\n",
    "    losses = trainIters(encoder1, decoder1, train_loader, print_every=200)\n",
    "    train_losses = train_losses + losses"
   ]
  },
  {
   "cell_type": "code",
   "execution_count": 54,
   "metadata": {},
   "outputs": [
    {
     "data": {
      "text/plain": [
       "<Figure size 432x288 with 0 Axes>"
      ]
     },
     "metadata": {},
     "output_type": "display_data"
    },
    {
     "data": {
      "image/png": "[encoded data removed]",
      "text/plain": [
       "<Figure size 432x288 with 1 Axes>"
      ]
     },
     "metadata": {
      "needs_background": "light"
     },
     "output_type": "display_data"
    }
   ],
   "source": [
    "def showPlot(points):\n",
    "    plt.figure()\n",
    "    fig, ax = plt.subplots()\n",
    "    # this locator puts ticks at regular intervals\n",
    "    loc = ticker.MultipleLocator(base=0.2)\n",
    "    ax.yaxis.set_major_locator(loc)\n",
    "    plt.plot(points)\n",
    "\n",
    "\n",
    "showPlot(train_losses)\n"
   ]
  },
  {
   "cell_type": "code",
   "execution_count": 55,
   "metadata": {},
   "outputs": [],
   "source": [
    "encoder_path = './models/seq2seq6-encoder.pt'\n",
    "decoder_path = './models/seq2seq6-decoder.pt'\n"
   ]
  },
  {
   "cell_type": "code",
   "execution_count": 56,
   "metadata": {},
   "outputs": [],
   "source": [
    "torch.save(encoder1.state_dict(), encoder_path)\n",
    "torch.save(decoder1.state_dict(), decoder_path)\n"
   ]
  },
  {
   "cell_type": "code",
   "execution_count": 57,
   "metadata": {},
   "outputs": [],
   "source": [
    "def evaluate(encoder, decoder, sentence, max_length=max_length):\n",
    "    with torch.no_grad():\n",
    "        input_tensor = train_dataset.tokenize_sentence(sentence, True).unsqueeze(0).T\n",
    "        input_length = input_tensor.size(0)\n",
    "\n",
    "        _, encoder_hidden = encoder(input_tensor)\n",
    "\n",
    "        decoder_input = torch.tensor([cn_vocab['<sos>']], device=device)  # SOS\n",
    "\n",
    "        decoder_hidden = encoder_hidden\n",
    "\n",
    "        decoded_words = []\n",
    "        decoder_attentions = torch.zeros(max_length, input_length)\n",
    "\n",
    "        for di in range(max_length):\n",
    "            decoder_output, decoder_hidden = decoder(decoder_input, decoder_hidden)\n",
    "            topv, topi = decoder_output.data.topk(1)\n",
    "            # decoder_attentions[di] = decoder_attention.squeeze().data\n",
    "            if topi.item() == en_vocab['<eos>']:\n",
    "                decoded_words.append('<EOS>')\n",
    "                break\n",
    "            else:\n",
    "                decoded_words.append(en_vocab.lookup_token(topi.item()))\n",
    "\n",
    "            decoder_input = topi.squeeze(1).detach()\n",
    "\n",
    "        return decoded_words\n"
   ]
  },
  {
   "cell_type": "code",
   "execution_count": 58,
   "metadata": {},
   "outputs": [],
   "source": [
    "def evaluateRandomly(encoder, decoder, n=10):\n",
    "    for i in range(n):\n",
    "        pair = random.choice(train_dataset.pairs)\n",
    "        print('>', pair[0])\n",
    "        print('=', pair[1])\n",
    "        output_words = evaluate(encoder, decoder, pair[0])\n",
    "        output_sentence = ' '.join(output_words)\n",
    "        print('<', output_sentence)\n",
    "        print('')\n"
   ]
  },
  {
   "cell_type": "code",
   "execution_count": 59,
   "metadata": {},
   "outputs": [
    {
     "data": {
      "text/plain": [
       "<All keys matched successfully>"
      ]
     },
     "execution_count": 59,
     "metadata": {},
     "output_type": "execute_result"
    }
   ],
   "source": [
    "encoder2 = Encoder(cn_vocab_size, hidden_size).to(device)\n",
    "decoder2 = Decoder(hidden_size, en_vocab_size).to(device)\n",
    "\n",
    "encoder2.load_state_dict(torch.load(encoder_path))\n",
    "decoder2.load_state_dict(torch.load(decoder_path))\n"
   ]
  },
  {
   "cell_type": "code",
   "execution_count": 60,
   "metadata": {},
   "outputs": [
    {
     "name": "stdout",
     "output_type": "stream",
     "text": [
      "> 他现在卧床不起。\n",
      "= He is confined to bed now.\n",
      "< <sos> He is n't to to now . <EOS>\n",
      "\n",
      "> 他有可能赢得比赛。\n",
      "= He is likely to win the game.\n",
      "< <sos> He is likely to to the . <EOS>\n",
      "\n",
      "> 我对人造语言不是很感兴趣。\n",
      "= I'm not very interested in artificial languages.\n",
      "< <sos> I 'm not interested in interested in history . <EOS>\n",
      "\n",
      "> 你才是自己命运的主人。\n",
      "= You're the master of your own destiny.\n",
      "< <sos> You 're the only one the can . <EOS>\n",
      "\n",
      "> 他正在画一幅画。\n",
      "= He is drawing a picture.\n",
      "< <sos> He is making a diet . <EOS>\n",
      "\n",
      "> 我不太擅长运动。\n",
      "= I'm not very athletic.\n",
      "< <sos> I 'm not at the . . <EOS>\n",
      "\n",
      "> 你累了，不是吗？\n",
      "= You're tired, aren't you?\n",
      "< <sos> You 're not brave , are n't you ? <EOS>\n",
      "\n",
      "> 她很可爱。\n",
      "= She is very pretty.\n",
      "< <sos> She is very pretty . <EOS>\n",
      "\n",
      "> 服了你了。\n",
      "= You're the boss.\n",
      "< <sos> I 'm counting to you . <EOS>\n",
      "\n",
      "> 你是我的英雄。\n",
      "= You're my hero.\n",
      "< <sos> You 're my . <EOS>\n",
      "\n"
     ]
    }
   ],
   "source": [
    "evaluateRandomly(encoder1, decoder1)\n"
   ]
  },
  {
   "cell_type": "code",
   "execution_count": 61,
   "metadata": {},
   "outputs": [
    {
     "name": "stdout",
     "output_type": "stream",
     "text": [
      "<sos> I 'm not sure of it . <EOS>\n"
     ]
    }
   ],
   "source": [
    "output_words = evaluate(encoder1, decoder1, \"我不确定。\")\n",
    "output_sentence = ' '.join(output_words)\n",
    "print(output_sentence)\n"
   ]
  },
  {
   "cell_type": "code",
   "execution_count": 62,
   "metadata": {},
   "outputs": [],
   "source": [
    "# def showAttention(input_sentence, output_words, attentions):\n",
    "#     # Set up figure with colorbar\n",
    "#     fig = plt.figure()\n",
    "#     ax = fig.add_subplot(111)\n",
    "#     cax = ax.matshow(attentions.numpy(), cmap='bone')\n",
    "#     fig.colorbar(cax)\n",
    "\n",
    "#     # Set up axes\n",
    "#     ax.set_xticklabels([''] + list(input_sentence) +\n",
    "#                        ['<EOS>'], rotation=90)\n",
    "#     ax.set_yticklabels([''] + output_words)\n",
    "\n",
    "#     # Show label at every tick\n",
    "#     ax.xaxis.set_major_locator(ticker.MultipleLocator(1))\n",
    "#     ax.yaxis.set_major_locator(ticker.MultipleLocator(1))\n",
    "\n",
    "#     plt.show()\n",
    "\n",
    "\n",
    "# def evaluateAndShowAttention(input_sentence):\n",
    "#     output_words, attentions = evaluate(encoder2, decoder2, input_sentence)\n",
    "#     print('input =', input_sentence)\n",
    "#     print('output =', ' '.join(output_words))\n",
    "#     showAttention(input_sentence, output_words, attentions)\n",
    "\n",
    "\n",
    "# evaluateAndShowAttention(\"我不确定。\")\n"
   ]
  },
  {
   "cell_type": "code",
   "execution_count": 63,
   "metadata": {},
   "outputs": [
    {
     "data": {
      "text/plain": [
       "312"
      ]
     },
     "execution_count": 63,
     "metadata": {},
     "output_type": "execute_result"
    }
   ],
   "source": [
    "cn_vocab.get_stoi()['.']"
   ]
  }
 ],
 "metadata": {
  "kernelspec": {
   "display_name": "Python 3",
   "language": "python",
   "name": "python3"
  },
  "language_info": {
   "codemirror_mode": {
    "name": "ipython",
    "version": 3
   },
   "file_extension": ".py",
   "mimetype": "text/x-python",
   "name": "python",
   "nbconvert_exporter": "python",
   "pygments_lexer": "ipython3",
   "version": "3.9.6"
  },
  "orig_nbformat": 4,
  "vscode": {
   "interpreter": {
    "hash": "31f2aee4e71d21fbe5cf8b01ff0e069b9275f58929596ceb00d14d90e3e16cd6"
   }
  }
 },
 "nbformat": 4,
 "nbformat_minor": 2
}
