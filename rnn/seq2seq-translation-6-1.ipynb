{
 "cells": [
  {
   "cell_type": "code",
   "execution_count": 39,
   "metadata": {},
   "outputs": [],
   "source": [
    "from __future__ import unicode_literals, print_function, division\n",
    "import random\n",
    "import torch\n",
    "import torch.nn as nn\n",
    "from torch import optim\n",
    "import matplotlib.pyplot as plt\n",
    "import matplotlib.ticker as ticker\n",
    "import time\n",
    "from utils import timeSince\n",
    "\n",
    "from cn_cn_data import get_cn_en_dataloader, to_sentence, cn_vocab, en_vocab\n"
   ]
  },
  {
   "cell_type": "code",
   "execution_count": 40,
   "metadata": {},
   "outputs": [
    {
     "name": "stdout",
     "output_type": "stream",
     "text": [
      "length of train_loader 2207\n"
     ]
    }
   ],
   "source": [
    "seq_len = 15\n",
    "max_length = seq_len + 2\n",
    "batch_size = 1\n",
    "\n",
    "cn_vocab_size = len(cn_vocab)\n",
    "en_vocab_size = len(en_vocab)\n",
    "\n",
    "device = torch.device(\"cpu\")\n",
    "train_loader, train_dataset = get_cn_en_dataloader(seq_len, batch_size, device)\n",
    "print('length of train_loader', len(train_loader))"
   ]
  },
  {
   "cell_type": "code",
   "execution_count": 41,
   "metadata": {},
   "outputs": [
    {
     "name": "stdout",
     "output_type": "stream",
     "text": [
      "torch.Size([8, 1]) torch.Size([7, 1])\n",
      "[2, 19, 670, 669, 17, 18, 5, 3]\n",
      "['<sos>', '我', '才', '刚', '开', '始', ' 。', '<eos>']\n",
      "[2, 12, 27, 667, 1790, 5, 3]\n",
      "['<sos>', 'I', \"'m\", 'just', 'beginning', '.', '<eos>']\n"
     ]
    }
   ],
   "source": [
    "for i, item in enumerate(train_loader):\n",
    "    print(item[0].shape, item[1].shape)\n",
    "\n",
    "    print([idx.item() for idx in item[0]])\n",
    "    print(to_sentence(item[0], True))\n",
    "    print([idx.item() for idx in item[1]])\n",
    "    print(to_sentence(item[1], False))\n",
    "    break"
   ]
  },
  {
   "cell_type": "code",
   "execution_count": 42,
   "metadata": {},
   "outputs": [],
   "source": [
    "class Encoder(nn.Module):\n",
    "    def __init__(self, input_size, hidden_size, dropout=0.1):\n",
    "        super(Encoder, self).__init__()\n",
    "        self.hidden_size = hidden_size\n",
    "\n",
    "        self.embedding = nn.Embedding(input_size, hidden_size)\n",
    "        self.gru = nn.GRU(hidden_size, hidden_size, batch_first=False)\n",
    "        self.dropout = nn.Dropout(dropout)\n",
    "\n",
    "    def forward(self, input):\n",
    "        batch_size = input.size(1)\n",
    "        hidden = torch.zeros(1, batch_size, self.hidden_size, device=device)\n",
    "        embedded = self.dropout(self.embedding(input))\n",
    "        outputs, hidden = self.gru(embedded, hidden)\n",
    "\n",
    "        return outputs, hidden\n"
   ]
  },
  {
   "cell_type": "code",
   "execution_count": 43,
   "metadata": {},
   "outputs": [],
   "source": [
    "class Attention(nn.Module):\n",
    "    def __init__(self, hidden_size):\n",
    "        super().__init__()\n",
    "\n",
    "        self.attn = nn.Linear(hidden_size * 2, hidden_size)\n",
    "        self.v = nn.Linear(hidden_size, 1, bias=False)\n",
    "        self.softmax = nn.Softmax(dim=1)\n",
    "\n",
    "    def forward(self, hidden, encoder_outputs):\n",
    "        batch_size = encoder_outputs.size(0)\n",
    "        seq_len = encoder_outputs.size(1)\n",
    "\n",
    "        hidden = hidden.permute(1, 0, 2)\n",
    "        # repeat decoder hidden state src_len times, hidden = [batch size, seq len, hidden size]\n",
    "        hidden = hidden.repeat(1, seq_len, 1)\n",
    "\n",
    "        # [batch size, seq len, hidden size * 2]\n",
    "        outputs_cat_hidden = torch.cat((hidden, encoder_outputs), dim=2)\n",
    "\n",
    "        # energy = [batch size, src len, hidden size]\n",
    "        energy = torch.tanh(self.attn(outputs_cat_hidden))\n",
    "\n",
    "        # attention= [batch size, src len]\n",
    "        attention = self.v(energy).squeeze(2)\n",
    "\n",
    "        return self.softmax(attention)\n"
   ]
  },
  {
   "cell_type": "code",
   "execution_count": 44,
   "metadata": {},
   "outputs": [],
   "source": [
    "class Decoder(nn.Module):\n",
    "    def __init__(self, hidden_size, output_size, dropout=0.1):\n",
    "        super().__init__()\n",
    "        self.attention = Attention(hidden_size)\n",
    "        self.hidden_size = hidden_size\n",
    "        self.output_size = output_size\n",
    "        self.embedding = nn.Embedding(output_size, hidden_size)\n",
    "        self.rnn = nn.GRU(hidden_size * 2, hidden_size)\n",
    "        self.out = nn.Linear(hidden_size * 3, output_size)\n",
    "        self.dropout = nn.Dropout(dropout)\n",
    "\n",
    "    def forward(self, input, hidden, encoder_outputs):\n",
    "        # -> [batch size, seq len, hidden size]\n",
    "        encoder_outputs = encoder_outputs.permute(1, 0, 2)\n",
    "        # input = [batch size, 1]\n",
    "        # hidden = [1, batch size, hidden_size]\n",
    "        # encoder_outputs = [src len, batch size, hidden_size]\n",
    "\n",
    "        # embedded = [batch size, hidden_size]\n",
    "        embedded = self.dropout(self.embedding(input))\n",
    "        # embedded = [1, batch size, hidden_size]\n",
    "        embedded = embedded.unsqueeze(0)\n",
    "\n",
    "        # a = [batch size, src len]\n",
    "        a = self.attention(hidden, encoder_outputs)\n",
    "        # a = [batch size, 1, src len]\n",
    "        a = a.unsqueeze(1)\n",
    "\n",
    "        # weighted = [batch size, 1, hidden_size]\n",
    "        weighted = torch.bmm(a, encoder_outputs)\n",
    "\n",
    "        # weighted = [1, batch size, hidden_size]\n",
    "        weighted = weighted.permute(1, 0, 2)\n",
    "\n",
    "        # rnn_input = [1, batch size, hidden_size * 2]\n",
    "        rnn_input = torch.cat((embedded, weighted), dim=2)\n",
    "\n",
    "        # output = [seq len, batch size, hidden_size]\n",
    "        # hidden = [n_layers, batch size, hidden_size]\n",
    "        output, hidden = self.rnn(rnn_input, hidden)\n",
    "\n",
    "        # seq len, n layers and n directions will always be 1 in this decoder, therefore:\n",
    "        # output = [1, batch size, dec hid dim]\n",
    "        # hidden = [1, batch size, dec hid dim]\n",
    "        # this also means that output == hidden\n",
    "        # assert (output == hidden).all()\n",
    "\n",
    "        # embedded = [batch size, hidden_size]\n",
    "        embedded = embedded.squeeze(0)\n",
    "        # output = [batch size, hidden_size]\n",
    "        output = output.squeeze(0)\n",
    "        # weighted = [batch size, hidden_size]\n",
    "        weighted = weighted.squeeze(0)\n",
    "\n",
    "        # prediction = [batch size, output size]\n",
    "        prediction = self.out(torch.cat((output, weighted, embedded), dim=1))\n",
    "        return prediction, hidden, a\n"
   ]
  },
  {
   "cell_type": "code",
   "execution_count": 45,
   "metadata": {},
   "outputs": [],
   "source": [
    "teacher_forcing_ratio = 0.5\n",
    "\n",
    "\n",
    "def train(input_tensor, target_tensor, encoder, decoder, encoder_optimizer, decoder_optimizer, criterion):\n",
    "    encoder_optimizer.zero_grad()\n",
    "    decoder_optimizer.zero_grad()\n",
    "\n",
    "    target_length = target_tensor.size(1)\n",
    "\n",
    "    loss = 0\n",
    "\n",
    "    encoder_outputs, encoder_hidden = encoder(input_tensor)\n",
    "\n",
    "    decoder_input = input_tensor[0]\n",
    "\n",
    "    decoder_hidden = encoder_hidden\n",
    "\n",
    "    use_teacher_forcing = True if random.random() < teacher_forcing_ratio else False\n",
    "\n",
    "    if use_teacher_forcing:\n",
    "        # Teacher forcing: Feed the target as the next input\n",
    "        for di in range(target_length):\n",
    "            decoder_output, decoder_hidden, decoder_attention = decoder(\n",
    "                decoder_input, decoder_hidden, encoder_outputs)\n",
    "\n",
    "            target = target_tensor[di]\n",
    "            loss += criterion(decoder_output, target)\n",
    "            decoder_input = target  # Teacher forcing\n",
    "\n",
    "    else:\n",
    "        # Without teacher forcing: use its own predictions as the next input\n",
    "        for di in range(target_length):\n",
    "            decoder_output, decoder_hidden, decoder_attention = decoder(\n",
    "                decoder_input, decoder_hidden, encoder_outputs)\n",
    "            topv, topi = decoder_output.topk(1)\n",
    "            decoder_input = topi.squeeze(1).detach()  # detach from history as input\n",
    "\n",
    "            target = target_tensor[di]\n",
    "            loss += criterion(decoder_output, target)\n",
    "\n",
    "    loss.backward()\n",
    "\n",
    "    encoder_optimizer.step()\n",
    "    decoder_optimizer.step()\n",
    "\n",
    "    return loss.item() / target_length\n"
   ]
  },
  {
   "cell_type": "code",
   "execution_count": 46,
   "metadata": {},
   "outputs": [],
   "source": [
    "def trainIters(encoder, decoder, train_loader, print_every=100, plot_every=10, learning_rate=0.0005):\n",
    "    start = time.time()\n",
    "    plot_losses = []\n",
    "    print_loss_total = 0  # Reset every print_every\n",
    "    plot_loss_total = 0  # Reset every plot_every\n",
    "\n",
    "    encoder_optimizer = optim.SGD(encoder.parameters(), lr=learning_rate)\n",
    "    decoder_optimizer = optim.SGD(decoder.parameters(), lr=learning_rate)\n",
    "    criterion = nn.CrossEntropyLoss()\n",
    "    # criterion = nn.CrossEntropyLoss(ignore_index=cn_vocab['<pad>'])\n",
    "    n_iters = len(train_loader)\n",
    "\n",
    "    for iter, data in enumerate(train_loader, 1):\n",
    "        input_tensor, target_tensor = data\n",
    "\n",
    "        loss = train(input_tensor, target_tensor, encoder, decoder, encoder_optimizer, decoder_optimizer, criterion)\n",
    "        print_loss_total += loss\n",
    "        plot_loss_total += loss\n",
    "\n",
    "        if iter % print_every == 0:\n",
    "            print_loss_avg = print_loss_total / print_every\n",
    "            print_loss_total = 0\n",
    "            print('%s (%d %d%%) %.4f' % (timeSince(start, iter / n_iters),\n",
    "                                         iter, iter / n_iters * 100, print_loss_avg))\n",
    "\n",
    "        if iter % plot_every == 0:\n",
    "            plot_loss_avg = plot_loss_total / plot_every\n",
    "            plot_losses.append(plot_loss_avg)\n",
    "            plot_loss_total = 0\n",
    "\n",
    "    return plot_losses\n"
   ]
  },
  {
   "cell_type": "code",
   "execution_count": 47,
   "metadata": {},
   "outputs": [
    {
     "name": "stdout",
     "output_type": "stream",
     "text": [
      "--------------epoch 1--------------\n",
      "0m 4s (- 0m 42s) (200 9%) 1.8835\n",
      "0m 8s (- 0m 38s) (400 18%) 0.0394\n",
      "0m 12s (- 0m 34s) (600 27%) 0.0187\n",
      "0m 17s (- 0m 29s) (800 36%) 0.0123\n",
      "0m 21s (- 0m 25s) (1000 45%) 0.0097\n",
      "0m 25s (- 0m 21s) (1200 54%) 0.0074\n",
      "0m 30s (- 0m 17s) (1400 63%) 0.0062\n",
      "0m 34s (- 0m 13s) (1600 72%) 0.0051\n",
      "0m 38s (- 0m 8s) (1800 81%) 0.0046\n",
      "0m 43s (- 0m 4s) (2000 90%) 0.0040\n",
      "0m 47s (- 0m 0s) (2200 99%) 0.0037\n",
      "--------------epoch 2--------------\n",
      "0m 4s (- 0m 43s) (200 9%) 0.0032\n",
      "0m 8s (- 0m 39s) (400 18%) 0.0031\n",
      "0m 13s (- 0m 35s) (600 27%) 0.0030\n",
      "0m 17s (- 0m 31s) (800 36%) 0.0027\n",
      "0m 22s (- 0m 26s) (1000 45%) 0.0026\n",
      "0m 26s (- 0m 22s) (1200 54%) 0.0024\n",
      "0m 31s (- 0m 18s) (1400 63%) 0.0022\n",
      "0m 35s (- 0m 13s) (1600 72%) 0.0021\n",
      "0m 40s (- 0m 9s) (1800 81%) 0.0020\n",
      "0m 44s (- 0m 4s) (2000 90%) 0.0018\n",
      "0m 49s (- 0m 0s) (2200 99%) 0.0016\n",
      "--------------epoch 3--------------\n",
      "0m 4s (- 0m 44s) (200 9%) 0.0017\n",
      "0m 9s (- 0m 40s) (400 18%) 0.0015\n",
      "0m 13s (- 0m 36s) (600 27%) 0.0016\n",
      "0m 18s (- 0m 31s) (800 36%) 0.0016\n",
      "0m 22s (- 0m 27s) (1000 45%) 0.0014\n",
      "0m 27s (- 0m 22s) (1200 54%) 0.0014\n",
      "0m 31s (- 0m 18s) (1400 63%) 0.0014\n",
      "0m 36s (- 0m 13s) (1600 72%) 0.0012\n",
      "0m 41s (- 0m 9s) (1800 81%) 0.0012\n",
      "0m 46s (- 0m 4s) (2000 90%) 0.0012\n",
      "0m 51s (- 0m 0s) (2200 99%) 0.0012\n",
      "--------------epoch 4--------------\n",
      "0m 4s (- 0m 48s) (200 9%) 0.0010\n",
      "0m 9s (- 0m 43s) (400 18%) 0.0011\n",
      "0m 14s (- 0m 38s) (600 27%) 0.0009\n",
      "0m 19s (- 0m 33s) (800 36%) 0.0010\n",
      "0m 23s (- 0m 28s) (1000 45%) 0.0010\n",
      "0m 28s (- 0m 23s) (1200 54%) 0.0010\n",
      "0m 33s (- 0m 19s) (1400 63%) 0.0009\n",
      "0m 38s (- 0m 14s) (1600 72%) 0.0010\n",
      "0m 42s (- 0m 9s) (1800 81%) 0.0009\n",
      "0m 47s (- 0m 4s) (2000 90%) 0.0009\n",
      "0m 52s (- 0m 0s) (2200 99%) 0.0008\n",
      "--------------epoch 5--------------\n",
      "0m 4s (- 0m 47s) (200 9%) 0.0008\n",
      "0m 9s (- 0m 42s) (400 18%) 0.0008\n",
      "0m 14s (- 0m 39s) (600 27%) 0.0007\n",
      "0m 19s (- 0m 34s) (800 36%) 0.0008\n",
      "0m 25s (- 0m 30s) (1000 45%) 0.0008\n",
      "0m 30s (- 0m 25s) (1200 54%) 0.0008\n",
      "0m 36s (- 0m 21s) (1400 63%) 0.0008\n",
      "0m 42s (- 0m 16s) (1600 72%) 0.0007\n",
      "0m 49s (- 0m 11s) (1800 81%) 0.0007\n",
      "0m 56s (- 0m 5s) (2000 90%) 0.0007\n",
      "1m 3s (- 0m 0s) (2200 99%) 0.0007\n",
      "--------------epoch 6--------------\n",
      "0m 6s (- 1m 9s) (200 9%) 0.0006\n",
      "0m 13s (- 1m 1s) (400 18%) 0.0006\n",
      "0m 19s (- 0m 52s) (600 27%) 0.0007\n",
      "0m 25s (- 0m 45s) (800 36%) 0.0006\n",
      "0m 31s (- 0m 38s) (1000 45%) 0.0006\n",
      "0m 37s (- 0m 31s) (1200 54%) 0.0006\n",
      "0m 43s (- 0m 25s) (1400 63%) 0.0006\n",
      "0m 49s (- 0m 18s) (1600 72%) 0.0006\n",
      "0m 55s (- 0m 12s) (1800 81%) 0.0006\n",
      "1m 1s (- 0m 6s) (2000 90%) 0.0005\n",
      "1m 7s (- 0m 0s) (2200 99%) 0.0007\n",
      "--------------epoch 7--------------\n",
      "0m 5s (- 0m 58s) (200 9%) 0.0005\n",
      "0m 11s (- 0m 53s) (400 18%) 0.0005\n",
      "0m 17s (- 0m 47s) (600 27%) 0.0006\n",
      "0m 23s (- 0m 41s) (800 36%) 0.0005\n",
      "0m 29s (- 0m 35s) (1000 45%) 0.0005\n",
      "0m 35s (- 0m 29s) (1200 54%) 0.0005\n",
      "0m 40s (- 0m 23s) (1400 63%) 0.0005\n",
      "0m 46s (- 0m 17s) (1600 72%) 0.0005\n",
      "0m 52s (- 0m 11s) (1800 81%) 0.0005\n",
      "0m 57s (- 0m 5s) (2000 90%) 0.0005\n",
      "1m 2s (- 0m 0s) (2200 99%) 0.0005\n",
      "--------------epoch 8--------------\n",
      "0m 5s (- 0m 53s) (200 9%) 0.0005\n",
      "0m 10s (- 0m 49s) (400 18%) 0.0004\n",
      "0m 16s (- 0m 44s) (600 27%) 0.0004\n",
      "0m 22s (- 0m 39s) (800 36%) 0.0004\n",
      "0m 27s (- 0m 33s) (1000 45%) 0.0005\n",
      "0m 33s (- 0m 27s) (1200 54%) 0.0004\n",
      "0m 38s (- 0m 22s) (1400 63%) 0.0005\n",
      "0m 44s (- 0m 16s) (1600 72%) 0.0004\n",
      "0m 49s (- 0m 11s) (1800 81%) 0.0004\n",
      "0m 55s (- 0m 5s) (2000 90%) 0.0005\n",
      "1m 0s (- 0m 0s) (2200 99%) 0.0004\n",
      "--------------epoch 9--------------\n",
      "0m 5s (- 0m 54s) (200 9%) 0.0004\n",
      "0m 10s (- 0m 48s) (400 18%) 0.0004\n",
      "0m 16s (- 0m 42s) (600 27%) 0.0004\n",
      "0m 21s (- 0m 37s) (800 36%) 0.0004\n",
      "0m 26s (- 0m 32s) (1000 45%) 0.0004\n",
      "0m 32s (- 0m 26s) (1200 54%) 0.0004\n",
      "0m 37s (- 0m 21s) (1400 63%) 0.0004\n",
      "0m 42s (- 0m 16s) (1600 72%) 0.0004\n",
      "0m 48s (- 0m 10s) (1800 81%) 0.0003\n",
      "0m 54s (- 0m 5s) (2000 90%) 0.0004\n",
      "0m 59s (- 0m 0s) (2200 99%) 0.0004\n",
      "--------------epoch 10--------------\n",
      "0m 5s (- 0m 52s) (200 9%) 0.0003\n",
      "0m 10s (- 0m 46s) (400 18%) 0.0004\n",
      "0m 14s (- 0m 39s) (600 27%) 0.0004\n",
      "0m 19s (- 0m 34s) (800 36%) 0.0004\n",
      "0m 24s (- 0m 29s) (1000 45%) 0.0004\n",
      "0m 29s (- 0m 24s) (1200 54%) 0.0004\n",
      "0m 34s (- 0m 20s) (1400 63%) 0.0003\n",
      "0m 40s (- 0m 15s) (1600 72%) 0.0003\n",
      "0m 45s (- 0m 10s) (1800 81%) 0.0003\n",
      "0m 51s (- 0m 5s) (2000 90%) 0.0003\n",
      "0m 56s (- 0m 0s) (2200 99%) 0.0004\n"
     ]
    }
   ],
   "source": [
    "hidden_size = 256\n",
    "encoder1 = Encoder(cn_vocab_size, hidden_size).to(device)\n",
    "decoder1 = Decoder(hidden_size, en_vocab_size).to(device)\n",
    "\n",
    "train_losses = []\n",
    "for i in range(10):\n",
    "    print('--------------epoch %d--------------' % (i + 1))\n",
    "    losses = trainIters(encoder1, decoder1, train_loader, print_every=200)\n",
    "    train_losses = train_losses + losses"
   ]
  },
  {
   "cell_type": "code",
   "execution_count": 48,
   "metadata": {},
   "outputs": [
    {
     "data": {
      "text/plain": [
       "<Figure size 432x288 with 0 Axes>"
      ]
     },
     "metadata": {},
     "output_type": "display_data"
    },
    {
     "data": {
      "image/png": "[encoded data removed]",
      "text/plain": [
       "<Figure size 432x288 with 1 Axes>"
      ]
     },
     "metadata": {
      "needs_background": "light"
     },
     "output_type": "display_data"
    }
   ],
   "source": [
    "def showPlot(points):\n",
    "    plt.figure()\n",
    "    fig, ax = plt.subplots()\n",
    "    # this locator puts ticks at regular intervals\n",
    "    loc = ticker.MultipleLocator(base=0.2)\n",
    "    ax.yaxis.set_major_locator(loc)\n",
    "    plt.plot(points)\n",
    "\n",
    "\n",
    "showPlot(train_losses)\n"
   ]
  },
  {
   "cell_type": "code",
   "execution_count": 49,
   "metadata": {},
   "outputs": [],
   "source": [
    "encoder_path = './models/seq2seq6-encoder.pt'\n",
    "decoder_path = './models/seq2seq6-decoder.pt'\n"
   ]
  },
  {
   "cell_type": "code",
   "execution_count": 50,
   "metadata": {},
   "outputs": [],
   "source": [
    "torch.save(encoder1.state_dict(), encoder_path)\n",
    "torch.save(decoder1.state_dict(), decoder_path)\n"
   ]
  },
  {
   "cell_type": "code",
   "execution_count": 51,
   "metadata": {},
   "outputs": [],
   "source": [
    "def evaluate(encoder, decoder, sentence, max_length=seq_len):\n",
    "    with torch.no_grad():\n",
    "        input_tensor = train_dataset.tokenize_sentence(sentence, True).unsqueeze(0)\n",
    "        input_length = input_tensor.size(1)\n",
    "\n",
    "        encoder_outputs, encoder_hidden = encoder(input_tensor)\n",
    "\n",
    "        decoder_input = torch.tensor([cn_vocab['<sos>']], device=device)  # SOS\n",
    "\n",
    "        decoder_hidden = encoder_hidden\n",
    "\n",
    "        decoded_words = []\n",
    "        decoder_attentions = torch.zeros(max_length, input_length)\n",
    "\n",
    "        for di in range(max_length):\n",
    "            decoder_output, decoder_hidden, decoder_attention = decoder(decoder_input, decoder_hidden, encoder_outputs)\n",
    "            topv, topi = decoder_output.data.topk(1)\n",
    "            decoder_attentions[di] = decoder_attention.squeeze().data\n",
    "            if topi.item() == en_vocab['<eos>']:\n",
    "                decoded_words.append('<EOS>')\n",
    "                break\n",
    "            else:\n",
    "                decoded_words.append(en_vocab.lookup_token(topi.item()))\n",
    "\n",
    "            decoder_input = topi.squeeze(1).detach()\n",
    "\n",
    "        return decoded_words, decoder_attentions[:di + 1]\n"
   ]
  },
  {
   "cell_type": "code",
   "execution_count": 52,
   "metadata": {},
   "outputs": [],
   "source": [
    "def evaluateRandomly(encoder, decoder, n=10):\n",
    "    for i in range(n):\n",
    "        pair = random.choice(train_dataset.pairs)\n",
    "        print('>', pair[0])\n",
    "        print('=', pair[1])\n",
    "        output_words, _ = evaluate(encoder, decoder, pair[0])\n",
    "        output_sentence = ' '.join(output_words)\n",
    "        print('<', output_sentence)\n",
    "        print('')\n"
   ]
  },
  {
   "cell_type": "code",
   "execution_count": 53,
   "metadata": {},
   "outputs": [
    {
     "data": {
      "text/plain": [
       "<All keys matched successfully>"
      ]
     },
     "execution_count": 53,
     "metadata": {},
     "output_type": "execute_result"
    }
   ],
   "source": [
    "encoder2 = Encoder(cn_vocab_size, hidden_size).to(device)\n",
    "decoder2 = Decoder(hidden_size, en_vocab_size).to(device)\n",
    "\n",
    "encoder2.load_state_dict(torch.load(encoder_path))\n",
    "decoder2.load_state_dict(torch.load(decoder_path))\n"
   ]
  },
  {
   "cell_type": "code",
   "execution_count": 54,
   "metadata": {},
   "outputs": [
    {
     "name": "stdout",
     "output_type": "stream",
     "text": [
      "> 我累得不能再累了。\n",
      "= I'm as tired as tired can be.\n"
     ]
    },
    {
     "ename": "RuntimeError",
     "evalue": "Sizes of tensors must match except in dimension 2. Expected size 1 but got size 11 for tensor number 1 in the list.",
     "output_type": "error",
     "traceback": [
      "\u001b[0;31m---------------------------------------------------------------------------\u001b[0m",
      "\u001b[0;31mRuntimeError\u001b[0m                              Traceback (most recent call last)",
      "\u001b[1;32m/Users/ming8525/repos/nlps/nlp/rnn/seq2seq-translation-6-1.ipynb Cell 16\u001b[0m in \u001b[0;36m<cell line: 1>\u001b[0;34m()\u001b[0m\n\u001b[0;32m----> <a href='vscode-notebook-cell:/Users/ming8525/repos/nlps/nlp/rnn/seq2seq-translation-6-1.ipynb#X33sZmlsZQ%3D%3D?line=0'>1</a>\u001b[0m evaluateRandomly(encoder2, decoder2)\n",
      "\u001b[1;32m/Users/ming8525/repos/nlps/nlp/rnn/seq2seq-translation-6-1.ipynb Cell 16\u001b[0m in \u001b[0;36mevaluateRandomly\u001b[0;34m(encoder, decoder, n)\u001b[0m\n\u001b[1;32m      <a href='vscode-notebook-cell:/Users/ming8525/repos/nlps/nlp/rnn/seq2seq-translation-6-1.ipynb#X33sZmlsZQ%3D%3D?line=3'>4</a>\u001b[0m \u001b[39mprint\u001b[39m(\u001b[39m'\u001b[39m\u001b[39m>\u001b[39m\u001b[39m'\u001b[39m, pair[\u001b[39m0\u001b[39m])\n\u001b[1;32m      <a href='vscode-notebook-cell:/Users/ming8525/repos/nlps/nlp/rnn/seq2seq-translation-6-1.ipynb#X33sZmlsZQ%3D%3D?line=4'>5</a>\u001b[0m \u001b[39mprint\u001b[39m(\u001b[39m'\u001b[39m\u001b[39m=\u001b[39m\u001b[39m'\u001b[39m, pair[\u001b[39m1\u001b[39m])\n\u001b[0;32m----> <a href='vscode-notebook-cell:/Users/ming8525/repos/nlps/nlp/rnn/seq2seq-translation-6-1.ipynb#X33sZmlsZQ%3D%3D?line=5'>6</a>\u001b[0m output_words, _ \u001b[39m=\u001b[39m evaluate(encoder, decoder, pair[\u001b[39m0\u001b[39;49m])\n\u001b[1;32m      <a href='vscode-notebook-cell:/Users/ming8525/repos/nlps/nlp/rnn/seq2seq-translation-6-1.ipynb#X33sZmlsZQ%3D%3D?line=6'>7</a>\u001b[0m output_sentence \u001b[39m=\u001b[39m \u001b[39m'\u001b[39m\u001b[39m \u001b[39m\u001b[39m'\u001b[39m\u001b[39m.\u001b[39mjoin(output_words)\n\u001b[1;32m      <a href='vscode-notebook-cell:/Users/ming8525/repos/nlps/nlp/rnn/seq2seq-translation-6-1.ipynb#X33sZmlsZQ%3D%3D?line=7'>8</a>\u001b[0m \u001b[39mprint\u001b[39m(\u001b[39m'\u001b[39m\u001b[39m<\u001b[39m\u001b[39m'\u001b[39m, output_sentence)\n",
      "\u001b[1;32m/Users/ming8525/repos/nlps/nlp/rnn/seq2seq-translation-6-1.ipynb Cell 16\u001b[0m in \u001b[0;36mevaluate\u001b[0;34m(encoder, decoder, sentence, max_length)\u001b[0m\n\u001b[1;32m     <a href='vscode-notebook-cell:/Users/ming8525/repos/nlps/nlp/rnn/seq2seq-translation-6-1.ipynb#X33sZmlsZQ%3D%3D?line=12'>13</a>\u001b[0m decoder_attentions \u001b[39m=\u001b[39m torch\u001b[39m.\u001b[39mzeros(max_length, input_length)\n\u001b[1;32m     <a href='vscode-notebook-cell:/Users/ming8525/repos/nlps/nlp/rnn/seq2seq-translation-6-1.ipynb#X33sZmlsZQ%3D%3D?line=14'>15</a>\u001b[0m \u001b[39mfor\u001b[39;00m di \u001b[39min\u001b[39;00m \u001b[39mrange\u001b[39m(max_length):\n\u001b[0;32m---> <a href='vscode-notebook-cell:/Users/ming8525/repos/nlps/nlp/rnn/seq2seq-translation-6-1.ipynb#X33sZmlsZQ%3D%3D?line=15'>16</a>\u001b[0m     decoder_output, decoder_hidden, decoder_attention \u001b[39m=\u001b[39m decoder(decoder_input, decoder_hidden, encoder_outputs)\n\u001b[1;32m     <a href='vscode-notebook-cell:/Users/ming8525/repos/nlps/nlp/rnn/seq2seq-translation-6-1.ipynb#X33sZmlsZQ%3D%3D?line=16'>17</a>\u001b[0m     topv, topi \u001b[39m=\u001b[39m decoder_output\u001b[39m.\u001b[39mdata\u001b[39m.\u001b[39mtopk(\u001b[39m1\u001b[39m)\n\u001b[1;32m     <a href='vscode-notebook-cell:/Users/ming8525/repos/nlps/nlp/rnn/seq2seq-translation-6-1.ipynb#X33sZmlsZQ%3D%3D?line=17'>18</a>\u001b[0m     decoder_attentions[di] \u001b[39m=\u001b[39m decoder_attention\u001b[39m.\u001b[39msqueeze()\u001b[39m.\u001b[39mdata\n",
      "File \u001b[0;32m~/miniforge3/envs/torch/lib/python3.9/site-packages/torch/nn/modules/module.py:1194\u001b[0m, in \u001b[0;36mModule._call_impl\u001b[0;34m(self, *input, **kwargs)\u001b[0m\n\u001b[1;32m   1190\u001b[0m \u001b[39m# If we don't have any hooks, we want to skip the rest of the logic in\u001b[39;00m\n\u001b[1;32m   1191\u001b[0m \u001b[39m# this function, and just call forward.\u001b[39;00m\n\u001b[1;32m   1192\u001b[0m \u001b[39mif\u001b[39;00m \u001b[39mnot\u001b[39;00m (\u001b[39mself\u001b[39m\u001b[39m.\u001b[39m_backward_hooks \u001b[39mor\u001b[39;00m \u001b[39mself\u001b[39m\u001b[39m.\u001b[39m_forward_hooks \u001b[39mor\u001b[39;00m \u001b[39mself\u001b[39m\u001b[39m.\u001b[39m_forward_pre_hooks \u001b[39mor\u001b[39;00m _global_backward_hooks\n\u001b[1;32m   1193\u001b[0m         \u001b[39mor\u001b[39;00m _global_forward_hooks \u001b[39mor\u001b[39;00m _global_forward_pre_hooks):\n\u001b[0;32m-> 1194\u001b[0m     \u001b[39mreturn\u001b[39;00m forward_call(\u001b[39m*\u001b[39;49m\u001b[39minput\u001b[39;49m, \u001b[39m*\u001b[39;49m\u001b[39m*\u001b[39;49mkwargs)\n\u001b[1;32m   1195\u001b[0m \u001b[39m# Do not call functions when jit is used\u001b[39;00m\n\u001b[1;32m   1196\u001b[0m full_backward_hooks, non_full_backward_hooks \u001b[39m=\u001b[39m [], []\n",
      "\u001b[1;32m/Users/ming8525/repos/nlps/nlp/rnn/seq2seq-translation-6-1.ipynb Cell 16\u001b[0m in \u001b[0;36mDecoder.forward\u001b[0;34m(self, input, hidden, encoder_outputs)\u001b[0m\n\u001b[1;32m     <a href='vscode-notebook-cell:/Users/ming8525/repos/nlps/nlp/rnn/seq2seq-translation-6-1.ipynb#X33sZmlsZQ%3D%3D?line=32'>33</a>\u001b[0m weighted \u001b[39m=\u001b[39m weighted\u001b[39m.\u001b[39mpermute(\u001b[39m1\u001b[39m, \u001b[39m0\u001b[39m, \u001b[39m2\u001b[39m)\n\u001b[1;32m     <a href='vscode-notebook-cell:/Users/ming8525/repos/nlps/nlp/rnn/seq2seq-translation-6-1.ipynb#X33sZmlsZQ%3D%3D?line=34'>35</a>\u001b[0m \u001b[39m# rnn_input = [1, batch size, hidden_size * 2]\u001b[39;00m\n\u001b[0;32m---> <a href='vscode-notebook-cell:/Users/ming8525/repos/nlps/nlp/rnn/seq2seq-translation-6-1.ipynb#X33sZmlsZQ%3D%3D?line=35'>36</a>\u001b[0m rnn_input \u001b[39m=\u001b[39m torch\u001b[39m.\u001b[39;49mcat((embedded, weighted), dim\u001b[39m=\u001b[39;49m\u001b[39m2\u001b[39;49m)\n\u001b[1;32m     <a href='vscode-notebook-cell:/Users/ming8525/repos/nlps/nlp/rnn/seq2seq-translation-6-1.ipynb#X33sZmlsZQ%3D%3D?line=37'>38</a>\u001b[0m \u001b[39m# output = [seq len, batch size, hidden_size]\u001b[39;00m\n\u001b[1;32m     <a href='vscode-notebook-cell:/Users/ming8525/repos/nlps/nlp/rnn/seq2seq-translation-6-1.ipynb#X33sZmlsZQ%3D%3D?line=38'>39</a>\u001b[0m \u001b[39m# hidden = [n_layers, batch size, hidden_size]\u001b[39;00m\n\u001b[1;32m     <a href='vscode-notebook-cell:/Users/ming8525/repos/nlps/nlp/rnn/seq2seq-translation-6-1.ipynb#X33sZmlsZQ%3D%3D?line=39'>40</a>\u001b[0m output, hidden \u001b[39m=\u001b[39m \u001b[39mself\u001b[39m\u001b[39m.\u001b[39mrnn(rnn_input, hidden)\n",
      "\u001b[0;31mRuntimeError\u001b[0m: Sizes of tensors must match except in dimension 2. Expected size 1 but got size 11 for tensor number 1 in the list."
     ]
    }
   ],
   "source": [
    "evaluateRandomly(encoder2, decoder2)\n"
   ]
  },
  {
   "cell_type": "code",
   "execution_count": null,
   "metadata": {},
   "outputs": [],
   "source": [
    "output_words, attentions = evaluate(encoder2, decoder2, \"我不确定。\")\n",
    "output_sentence = ' '.join(output_words)\n",
    "print(output_sentence)\n",
    "plt.matshow(attentions.numpy())\n"
   ]
  },
  {
   "cell_type": "code",
   "execution_count": null,
   "metadata": {},
   "outputs": [],
   "source": [
    "# def showAttention(input_sentence, output_words, attentions):\n",
    "#     # Set up figure with colorbar\n",
    "#     fig = plt.figure()\n",
    "#     ax = fig.add_subplot(111)\n",
    "#     cax = ax.matshow(attentions.numpy(), cmap='bone')\n",
    "#     fig.colorbar(cax)\n",
    "\n",
    "#     # Set up axes\n",
    "#     ax.set_xticklabels([''] + list(input_sentence) +\n",
    "#                        ['<EOS>'], rotation=90)\n",
    "#     ax.set_yticklabels([''] + output_words)\n",
    "\n",
    "#     # Show label at every tick\n",
    "#     ax.xaxis.set_major_locator(ticker.MultipleLocator(1))\n",
    "#     ax.yaxis.set_major_locator(ticker.MultipleLocator(1))\n",
    "\n",
    "#     plt.show()\n",
    "\n",
    "\n",
    "# def evaluateAndShowAttention(input_sentence):\n",
    "#     output_words, attentions = evaluate(encoder2, decoder2, input_sentence)\n",
    "#     print('input =', input_sentence)\n",
    "#     print('output =', ' '.join(output_words))\n",
    "#     showAttention(input_sentence, output_words, attentions)\n",
    "\n",
    "\n",
    "# evaluateAndShowAttention(\"我不确定。\")\n"
   ]
  },
  {
   "cell_type": "code",
   "execution_count": null,
   "metadata": {},
   "outputs": [],
   "source": [
    "cn_vocab.get_stoi()['.']"
   ]
  },
  {
   "cell_type": "code",
   "execution_count": null,
   "metadata": {},
   "outputs": [],
   "source": []
  }
 ],
 "metadata": {
  "kernelspec": {
   "display_name": "torch",
   "language": "python",
   "name": "python3"
  },
  "language_info": {
   "codemirror_mode": {
    "name": "ipython",
    "version": 3
   },
   "file_extension": ".py",
   "mimetype": "text/x-python",
   "name": "python",
   "nbconvert_exporter": "python",
   "pygments_lexer": "ipython3",
   "version": "3.9.13"
  },
  "orig_nbformat": 4,
  "vscode": {
   "interpreter": {
    "hash": "e4670fb8ce984b94d35f99e9f6e3660635f3fa9b149816d0027b93d0ab56905c"
   }
  }
 },
 "nbformat": 4,
 "nbformat_minor": 2
}
