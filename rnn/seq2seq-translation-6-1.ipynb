{
 "cells": [
  {
   "cell_type": "code",
   "execution_count": 41,
   "metadata": {},
   "outputs": [],
   "source": [
    "from __future__ import unicode_literals, print_function, division\n",
    "import random\n",
    "import torch\n",
    "import torch.nn as nn\n",
    "from torch import optim\n",
    "import matplotlib.pyplot as plt\n",
    "import matplotlib.ticker as ticker\n",
    "import time\n",
    "from utils import timeSince\n",
    "\n",
    "from cn_cn_data import get_cn_en_dataloader, to_sentence, cn_vocab, en_vocab\n"
   ]
  },
  {
   "cell_type": "code",
   "execution_count": 42,
   "metadata": {},
   "outputs": [
    {
     "name": "stdout",
     "output_type": "stream",
     "text": [
      "length of train_loader 2207\n"
     ]
    }
   ],
   "source": [
    "seq_len = 15\n",
    "max_length = seq_len + 2\n",
    "batch_size = 1\n",
    "\n",
    "cn_vocab_size = len(cn_vocab)\n",
    "en_vocab_size = len(en_vocab)\n",
    "\n",
    "device = torch.device(\"cpu\")\n",
    "train_loader, train_dataset = get_cn_en_dataloader(seq_len, batch_size, device)\n",
    "print('length of train_loader', len(train_loader))"
   ]
  },
  {
   "cell_type": "code",
   "execution_count": 43,
   "metadata": {},
   "outputs": [
    {
     "name": "stdout",
     "output_type": "stream",
     "text": [
      "torch.Size([8, 1]) torch.Size([7, 1])\n",
      "[2, 6, 475, 476, 532, 533, 5, 3]\n",
      "['<sos>', '你', '非', '常', '勇', '敢', ' 。', '<eos>']\n",
      "[2, 87, 340, 649, 496, 5, 3]\n",
      "['<sos>', 'You', 'are', 'very', 'brave', '.', '<eos>']\n"
     ]
    }
   ],
   "source": [
    "for i, item in enumerate(train_loader):\n",
    "    print(item[0].shape, item[1].shape)\n",
    "\n",
    "    print([idx.item() for idx in item[0]])\n",
    "    print(to_sentence(item[0], True))\n",
    "    print([idx.item() for idx in item[1]])\n",
    "    print(to_sentence(item[1], False))\n",
    "    break"
   ]
  },
  {
   "cell_type": "code",
   "execution_count": 44,
   "metadata": {},
   "outputs": [],
   "source": [
    "class Encoder(nn.Module):\n",
    "    def __init__(self, input_size, hidden_size, dropout=0.1):\n",
    "        super(Encoder, self).__init__()\n",
    "        self.hidden_size = hidden_size\n",
    "\n",
    "        self.embedding = nn.Embedding(input_size, hidden_size)\n",
    "        self.gru = nn.GRU(hidden_size, hidden_size, batch_first=False)\n",
    "        self.dropout = nn.Dropout(dropout)\n",
    "\n",
    "    def forward(self, input):\n",
    "        batch_size = input.size(1)\n",
    "        hidden = torch.zeros(1, batch_size, self.hidden_size, device=device)\n",
    "        embedded = self.dropout(self.embedding(input))\n",
    "        outputs, hidden = self.gru(embedded, hidden)\n",
    "\n",
    "        return outputs, hidden\n"
   ]
  },
  {
   "cell_type": "code",
   "execution_count": 45,
   "metadata": {},
   "outputs": [],
   "source": [
    "class Attention(nn.Module):\n",
    "    def __init__(self, hidden_size):\n",
    "        super().__init__()\n",
    "\n",
    "        self.attn = nn.Linear(hidden_size * 2, hidden_size)\n",
    "        self.v = nn.Linear(hidden_size, 1, bias=False)\n",
    "        self.softmax = nn.Softmax(dim=1)\n",
    "\n",
    "    def forward(self, hidden, encoder_outputs):\n",
    "        batch_size = encoder_outputs.size(0)\n",
    "        seq_len = encoder_outputs.size(1)\n",
    "\n",
    "        hidden = hidden.permute(1, 0, 2)\n",
    "        # repeat decoder hidden state src_len times, hidden = [batch size, seq len, hidden size]\n",
    "        hidden = hidden.repeat(1, seq_len, 1)\n",
    "\n",
    "        # [batch size, seq len, hidden size * 2]\n",
    "        outputs_cat_hidden = torch.cat((hidden, encoder_outputs), dim=2)\n",
    "\n",
    "        # energy = [batch size, src len, hidden size]\n",
    "        energy = torch.tanh(self.attn(outputs_cat_hidden))\n",
    "\n",
    "        # attention= [batch size, src len]\n",
    "        attention = self.v(energy).squeeze(2)\n",
    "\n",
    "        return self.softmax(attention)\n"
   ]
  },
  {
   "cell_type": "code",
   "execution_count": 46,
   "metadata": {},
   "outputs": [],
   "source": [
    "class Decoder(nn.Module):\n",
    "    def __init__(self, hidden_size, output_size, dropout=0.1):\n",
    "        super().__init__()\n",
    "        self.attention = Attention(hidden_size)\n",
    "        self.hidden_size = hidden_size\n",
    "        self.output_size = output_size\n",
    "        self.embedding = nn.Embedding(output_size, hidden_size)\n",
    "        self.rnn = nn.GRU(hidden_size * 2, hidden_size)\n",
    "        self.out = nn.Linear(hidden_size * 3, output_size)\n",
    "        self.dropout = nn.Dropout(dropout)\n",
    "\n",
    "    def forward(self, input, hidden, encoder_outputs):\n",
    "        # -> [batch size, seq len, hidden size]\n",
    "        encoder_outputs = encoder_outputs.permute(1, 0, 2)\n",
    "        # input = [batch size, 1]\n",
    "        # hidden = [1, batch size, hidden_size]\n",
    "        # encoder_outputs = [src len, batch size, hidden_size]\n",
    "\n",
    "        # embedded = [batch size, hidden_size]\n",
    "        embedded = self.dropout(self.embedding(input))\n",
    "        # embedded = [1, batch size, hidden_size]\n",
    "        embedded = embedded.unsqueeze(0)\n",
    "\n",
    "        # a = [batch size, src len]\n",
    "        a = self.attention(hidden, encoder_outputs)\n",
    "        # a = [batch size, 1, src len]\n",
    "        a = a.unsqueeze(1)\n",
    "\n",
    "        # weighted = [batch size, 1, hidden_size]\n",
    "        weighted = torch.bmm(a, encoder_outputs)\n",
    "\n",
    "        # weighted = [1, batch size, hidden_size]\n",
    "        weighted = weighted.permute(1, 0, 2)\n",
    "\n",
    "        # rnn_input = [1, batch size, hidden_size * 2]\n",
    "        rnn_input = torch.cat((embedded, weighted), dim=2)\n",
    "\n",
    "        # output = [seq len, batch size, hidden_size]\n",
    "        # hidden = [n_layers, batch size, hidden_size]\n",
    "        output, hidden = self.rnn(rnn_input, hidden)\n",
    "\n",
    "        # seq len, n layers and n directions will always be 1 in this decoder, therefore:\n",
    "        # output = [1, batch size, dec hid dim]\n",
    "        # hidden = [1, batch size, dec hid dim]\n",
    "        # this also means that output == hidden\n",
    "        # assert (output == hidden).all()\n",
    "\n",
    "        # embedded = [batch size, hidden_size]\n",
    "        embedded = embedded.squeeze(0)\n",
    "        # output = [batch size, hidden_size]\n",
    "        output = output.squeeze(0)\n",
    "        # weighted = [batch size, hidden_size]\n",
    "        weighted = weighted.squeeze(0)\n",
    "\n",
    "        # prediction = [batch size, output size]\n",
    "        prediction = self.out(torch.cat((output, weighted, embedded), dim=1))\n",
    "        return prediction, hidden, a\n"
   ]
  },
  {
   "cell_type": "code",
   "execution_count": 47,
   "metadata": {},
   "outputs": [],
   "source": [
    "teacher_forcing_ratio = 0.5\n",
    "\n",
    "\n",
    "def train(input_tensor, target_tensor, encoder, decoder, encoder_optimizer, decoder_optimizer, criterion):\n",
    "    encoder_optimizer.zero_grad()\n",
    "    decoder_optimizer.zero_grad()\n",
    "\n",
    "    target_length = target_tensor.size(0)\n",
    "\n",
    "    loss = 0\n",
    "\n",
    "    encoder_outputs, encoder_hidden = encoder(input_tensor)\n",
    "\n",
    "    decoder_input = input_tensor[0]\n",
    "\n",
    "    decoder_hidden = encoder_hidden\n",
    "\n",
    "    use_teacher_forcing = True if random.random() < teacher_forcing_ratio else False\n",
    "\n",
    "    if use_teacher_forcing:\n",
    "        # Teacher forcing: Feed the target as the next input\n",
    "        for di in range(target_length):\n",
    "            decoder_output, decoder_hidden, decoder_attention = decoder(\n",
    "                decoder_input, decoder_hidden, encoder_outputs)\n",
    "\n",
    "            target = target_tensor[di]\n",
    "            loss += criterion(decoder_output, target)\n",
    "            decoder_input = target  # Teacher forcing\n",
    "\n",
    "    else:\n",
    "        # Without teacher forcing: use its own predictions as the next input\n",
    "        for di in range(target_length):\n",
    "            decoder_output, decoder_hidden, decoder_attention = decoder(\n",
    "                decoder_input, decoder_hidden, encoder_outputs)\n",
    "            topv, topi = decoder_output.topk(1)\n",
    "            decoder_input = topi.squeeze(1).detach()  # detach from history as input\n",
    "\n",
    "            target = target_tensor[di]\n",
    "            loss += criterion(decoder_output, target)\n",
    "\n",
    "    loss.backward()\n",
    "\n",
    "    encoder_optimizer.step()\n",
    "    decoder_optimizer.step()\n",
    "\n",
    "    return loss.item() / target_length\n"
   ]
  },
  {
   "cell_type": "code",
   "execution_count": 48,
   "metadata": {},
   "outputs": [],
   "source": [
    "def trainIters(encoder, decoder, train_loader, print_every=100, plot_every=10, learning_rate=0.0005):\n",
    "    start = time.time()\n",
    "    plot_losses = []\n",
    "    print_loss_total = 0  # Reset every print_every\n",
    "    plot_loss_total = 0  # Reset every plot_every\n",
    "\n",
    "    encoder_optimizer = optim.SGD(encoder.parameters(), lr=learning_rate)\n",
    "    decoder_optimizer = optim.SGD(decoder.parameters(), lr=learning_rate)\n",
    "    criterion = nn.CrossEntropyLoss()\n",
    "    # criterion = nn.CrossEntropyLoss(ignore_index=cn_vocab['<pad>'])\n",
    "    n_iters = len(train_loader)\n",
    "\n",
    "    for iter, data in enumerate(train_loader, 1):\n",
    "        input_tensor, target_tensor = data\n",
    "\n",
    "        loss = train(input_tensor, target_tensor, encoder, decoder, encoder_optimizer, decoder_optimizer, criterion)\n",
    "        print_loss_total += loss\n",
    "        plot_loss_total += loss\n",
    "\n",
    "        if iter % print_every == 0:\n",
    "            print_loss_avg = print_loss_total / print_every\n",
    "            print_loss_total = 0\n",
    "            print('%s (%d %d%%) %.4f' % (timeSince(start, iter / n_iters),\n",
    "                                         iter, iter / n_iters * 100, print_loss_avg))\n",
    "\n",
    "        if iter % plot_every == 0:\n",
    "            plot_loss_avg = plot_loss_total / plot_every\n",
    "            plot_losses.append(plot_loss_avg)\n",
    "            plot_loss_total = 0\n",
    "\n",
    "    return plot_losses\n"
   ]
  },
  {
   "cell_type": "code",
   "execution_count": 49,
   "metadata": {},
   "outputs": [
    {
     "name": "stdout",
     "output_type": "stream",
     "text": [
      "--------------epoch 1--------------\n",
      "0m 38s (- 2m 10s) (500 22%) 6.1252\n",
      "1m 16s (- 1m 32s) (1000 45%) 4.7250\n",
      "1m 53s (- 0m 53s) (1500 67%) 4.1443\n",
      "2m 28s (- 0m 15s) (2000 90%) 3.8929\n",
      "--------------epoch 2--------------\n",
      "0m 35s (- 2m 0s) (500 22%) 3.6080\n",
      "1m 11s (- 1m 26s) (1000 45%) 3.5319\n",
      "1m 46s (- 0m 50s) (1500 67%) 3.4464\n",
      "2m 22s (- 0m 14s) (2000 90%) 3.4084\n",
      "--------------epoch 3--------------\n",
      "0m 35s (- 2m 1s) (500 22%) 3.3043\n",
      "1m 10s (- 1m 25s) (1000 45%) 3.2353\n",
      "1m 46s (- 0m 50s) (1500 67%) 3.2244\n",
      "2m 22s (- 0m 14s) (2000 90%) 3.1540\n",
      "--------------epoch 4--------------\n",
      "0m 35s (- 2m 1s) (500 22%) 3.1325\n",
      "1m 10s (- 1m 25s) (1000 45%) 3.0933\n",
      "1m 46s (- 0m 49s) (1500 67%) 3.0435\n",
      "2m 20s (- 0m 14s) (2000 90%) 2.9899\n",
      "--------------epoch 5--------------\n",
      "0m 35s (- 2m 0s) (500 22%) 2.9691\n",
      "1m 11s (- 1m 26s) (1000 45%) 2.9749\n",
      "1m 48s (- 0m 51s) (1500 67%) 2.9388\n",
      "4m 39s (- 0m 28s) (2000 90%) 2.9036\n",
      "--------------epoch 6--------------\n",
      "3m 7s (- 10m 41s) (500 22%) 2.8901\n",
      "4m 55s (- 5m 56s) (1000 45%) 2.8535\n",
      "5m 29s (- 2m 35s) (1500 67%) 2.9098\n",
      "6m 19s (- 0m 39s) (2000 90%) 2.7625\n",
      "--------------epoch 7--------------\n",
      "5m 21s (- 18m 17s) (500 22%) 2.7516\n",
      "6m 7s (- 7m 23s) (1000 45%) 2.7544\n",
      "6m 43s (- 3m 9s) (1500 67%) 2.7662\n",
      "7m 17s (- 0m 45s) (2000 90%) 2.7609\n",
      "--------------epoch 8--------------\n",
      "0m 34s (- 1m 59s) (500 22%) 2.6872\n",
      "1m 10s (- 1m 24s) (1000 45%) 2.7053\n",
      "1m 45s (- 0m 49s) (1500 67%) 2.6902\n",
      "2m 20s (- 0m 14s) (2000 90%) 2.6974\n",
      "--------------epoch 9--------------\n",
      "0m 35s (- 1m 59s) (500 22%) 2.6663\n",
      "1m 10s (- 1m 24s) (1000 45%) 2.6622\n",
      "1m 44s (- 0m 49s) (1500 67%) 2.6472\n",
      "2m 19s (- 0m 14s) (2000 90%) 2.6323\n",
      "--------------epoch 10--------------\n",
      "0m 35s (- 1m 59s) (500 22%) 2.5698\n",
      "1m 9s (- 1m 24s) (1000 45%) 2.5848\n",
      "1m 44s (- 0m 49s) (1500 67%) 2.6009\n",
      "2m 20s (- 0m 14s) (2000 90%) 2.6003\n",
      "--------------epoch 11--------------\n",
      "0m 34s (- 1m 58s) (500 22%) 2.5171\n",
      "1m 13s (- 1m 28s) (1000 45%) 2.5627\n",
      "1m 47s (- 0m 50s) (1500 67%) 2.5293\n",
      "3m 8s (- 0m 19s) (2000 90%) 2.5977\n",
      "--------------epoch 12--------------\n",
      "5m 16s (- 18m 1s) (500 22%) 2.4916\n",
      "8m 0s (- 9m 40s) (1000 45%) 2.5124\n",
      "8m 34s (- 4m 2s) (1500 67%) 2.5575\n",
      "13m 56s (- 1m 26s) (2000 90%) 2.5013\n",
      "--------------epoch 13--------------\n",
      "2m 0s (- 6m 51s) (500 22%) 2.4454\n",
      "2m 55s (- 3m 31s) (1000 45%) 2.4599\n",
      "6m 25s (- 3m 1s) (1500 67%) 2.5110\n",
      "7m 1s (- 0m 43s) (2000 90%) 2.4429\n",
      "--------------epoch 14--------------\n",
      "0m 35s (- 2m 0s) (500 22%) 2.3799\n",
      "1m 10s (- 1m 24s) (1000 45%) 2.4316\n",
      "1m 44s (- 0m 49s) (1500 67%) 2.3542\n",
      "2m 19s (- 0m 14s) (2000 90%) 2.4005\n",
      "--------------epoch 15--------------\n",
      "0m 35s (- 1m 59s) (500 22%) 2.4166\n",
      "1m 9s (- 1m 24s) (1000 45%) 2.3938\n",
      "1m 44s (- 0m 49s) (1500 67%) 2.3663\n",
      "2m 19s (- 0m 14s) (2000 90%) 2.3397\n",
      "--------------epoch 16--------------\n",
      "0m 35s (- 2m 2s) (500 22%) 2.3849\n",
      "1m 10s (- 1m 25s) (1000 45%) 2.2995\n",
      "1m 45s (- 0m 49s) (1500 67%) 2.3781\n",
      "2m 20s (- 0m 14s) (2000 90%) 2.2885\n",
      "--------------epoch 17--------------\n",
      "0m 35s (- 2m 0s) (500 22%) 2.2210\n",
      "1m 10s (- 1m 24s) (1000 45%) 2.3126\n",
      "1m 45s (- 0m 49s) (1500 67%) 2.2848\n",
      "2m 22s (- 0m 14s) (2000 90%) 2.2880\n",
      "--------------epoch 18--------------\n",
      "5m 17s (- 18m 2s) (500 22%) 2.2827\n",
      "10m 34s (- 12m 45s) (1000 45%) 2.3073\n",
      "15m 50s (- 7m 28s) (1500 67%) 2.2045\n",
      "16m 24s (- 1m 41s) (2000 90%) 2.2283\n",
      "--------------epoch 19--------------\n",
      "0m 33s (- 1m 55s) (500 22%) 2.2345\n",
      "5m 51s (- 7m 3s) (1000 45%) 2.1738\n",
      "6m 24s (- 3m 1s) (1500 67%) 2.2142\n",
      "11m 41s (- 1m 12s) (2000 90%) 2.2087\n",
      "--------------epoch 20--------------\n",
      "5m 16s (- 18m 1s) (500 22%) 2.1734\n",
      "10m 34s (- 12m 45s) (1000 45%) 2.2158\n",
      "11m 7s (- 5m 14s) (1500 67%) 2.1966\n",
      "16m 9s (- 1m 40s) (2000 90%) 2.1169\n",
      "--------------epoch 21--------------\n",
      "0m 34s (- 1m 57s) (500 22%) 2.0948\n",
      "1m 9s (- 1m 23s) (1000 45%) 2.1304\n",
      "1m 43s (- 0m 49s) (1500 67%) 2.1612\n",
      "2m 19s (- 0m 14s) (2000 90%) 2.0823\n",
      "--------------epoch 22--------------\n",
      "0m 35s (- 2m 0s) (500 22%) 2.0693\n",
      "1m 10s (- 1m 24s) (1000 45%) 2.1198\n",
      "1m 45s (- 0m 49s) (1500 67%) 2.1074\n",
      "2m 20s (- 0m 14s) (2000 90%) 2.1200\n",
      "--------------epoch 23--------------\n",
      "0m 34s (- 1m 58s) (500 22%) 2.0503\n",
      "1m 10s (- 1m 24s) (1000 45%) 2.0890\n",
      "1m 45s (- 0m 49s) (1500 67%) 2.1310\n",
      "2m 20s (- 0m 14s) (2000 90%) 2.0682\n",
      "--------------epoch 24--------------\n",
      "0m 35s (- 2m 1s) (500 22%) 2.0263\n",
      "1m 10s (- 1m 24s) (1000 45%) 2.0829\n",
      "1m 45s (- 0m 49s) (1500 67%) 2.0094\n",
      "2m 20s (- 0m 14s) (2000 90%) 2.0113\n",
      "--------------epoch 25--------------\n",
      "0m 34s (- 1m 58s) (500 22%) 1.9670\n",
      "1m 9s (- 1m 24s) (1000 45%) 1.9981\n",
      "1m 45s (- 0m 49s) (1500 67%) 2.0600\n",
      "2m 20s (- 0m 14s) (2000 90%) 1.9901\n"
     ]
    }
   ],
   "source": [
    "hidden_size = 256\n",
    "encoder1 = Encoder(cn_vocab_size, hidden_size).to(device)\n",
    "decoder1 = Decoder(hidden_size, en_vocab_size).to(device)\n",
    "\n",
    "train_losses = []\n",
    "for i in range(25):\n",
    "    print('--------------epoch %d--------------' % (i + 1))\n",
    "    losses = trainIters(encoder1, decoder1, train_loader, print_every=500)\n",
    "    train_losses = train_losses + losses"
   ]
  },
  {
   "cell_type": "code",
   "execution_count": 50,
   "metadata": {},
   "outputs": [
    {
     "data": {
      "text/plain": [
       "<Figure size 640x480 with 0 Axes>"
      ]
     },
     "metadata": {},
     "output_type": "display_data"
    },
    {
     "data": {
      "image/png": "[encoded data removed]",
      "text/plain": [
       "<Figure size 640x480 with 1 Axes>"
      ]
     },
     "metadata": {},
     "output_type": "display_data"
    }
   ],
   "source": [
    "def showPlot(points):\n",
    "    plt.figure()\n",
    "    fig, ax = plt.subplots()\n",
    "    # this locator puts ticks at regular intervals\n",
    "    loc = ticker.MultipleLocator(base=0.2)\n",
    "    ax.yaxis.set_major_locator(loc)\n",
    "    plt.plot(points)\n",
    "\n",
    "\n",
    "showPlot(train_losses)\n"
   ]
  },
  {
   "cell_type": "code",
   "execution_count": 51,
   "metadata": {},
   "outputs": [],
   "source": [
    "encoder_path = './models/seq2seq6-encoder.pt'\n",
    "decoder_path = './models/seq2seq6-decoder.pt'\n"
   ]
  },
  {
   "cell_type": "code",
   "execution_count": 52,
   "metadata": {},
   "outputs": [],
   "source": [
    "torch.save(encoder1.state_dict(), encoder_path)\n",
    "torch.save(decoder1.state_dict(), decoder_path)\n"
   ]
  },
  {
   "cell_type": "code",
   "execution_count": 53,
   "metadata": {},
   "outputs": [],
   "source": [
    "def evaluate(encoder, decoder, sentence, max_length=max_length):\n",
    "    with torch.no_grad():\n",
    "        input_tensor = train_dataset.tokenize_sentence(sentence, True).unsqueeze(0)\n",
    "        input_tensor = input_tensor.permute(1, 0)\n",
    "        input_length = input_tensor.size(0)\n",
    "\n",
    "        encoder_outputs, encoder_hidden = encoder(input_tensor)\n",
    "\n",
    "        decoder_input = torch.tensor([cn_vocab['<sos>']], device=device)  # SOS\n",
    "\n",
    "        decoder_hidden = encoder_hidden\n",
    "\n",
    "        decoded_words = []\n",
    "        decoder_attentions = torch.zeros(max_length, input_length)\n",
    "\n",
    "        for di in range(max_length):\n",
    "            decoder_output, decoder_hidden, decoder_attention = decoder(decoder_input, decoder_hidden, encoder_outputs)\n",
    "            topv, topi = decoder_output.data.topk(1)\n",
    "            decoder_attentions[di] = decoder_attention.squeeze().data\n",
    "            if topi.item() == en_vocab['<eos>']:\n",
    "                decoded_words.append('<EOS>')\n",
    "                break\n",
    "            else:\n",
    "                decoded_words.append(en_vocab.lookup_token(topi.item()))\n",
    "\n",
    "            decoder_input = topi.squeeze(1).detach()\n",
    "\n",
    "        return decoded_words, decoder_attentions[:di + 1]\n"
   ]
  },
  {
   "cell_type": "code",
   "execution_count": 54,
   "metadata": {},
   "outputs": [],
   "source": [
    "def evaluateRandomly(encoder, decoder, n=10):\n",
    "    for i in range(n):\n",
    "        pair = random.choice(train_dataset.pairs)\n",
    "        print('>', pair[0])\n",
    "        print('=', pair[1])\n",
    "        output_words, _ = evaluate(encoder, decoder, pair[0])\n",
    "        output_sentence = ' '.join(output_words)\n",
    "        print('<', output_sentence)\n",
    "        print('')\n"
   ]
  },
  {
   "cell_type": "code",
   "execution_count": 55,
   "metadata": {},
   "outputs": [
    {
     "data": {
      "text/plain": [
       "<All keys matched successfully>"
      ]
     },
     "execution_count": 55,
     "metadata": {},
     "output_type": "execute_result"
    }
   ],
   "source": [
    "encoder2 = Encoder(cn_vocab_size, hidden_size).to(device)\n",
    "decoder2 = Decoder(hidden_size, en_vocab_size).to(device)\n",
    "\n",
    "encoder2.load_state_dict(torch.load(encoder_path))\n",
    "decoder2.load_state_dict(torch.load(decoder_path))\n"
   ]
  },
  {
   "cell_type": "code",
   "execution_count": 56,
   "metadata": {},
   "outputs": [
    {
     "name": "stdout",
     "output_type": "stream",
     "text": [
      "> 我总觉得渴。\n",
      "= I'm always thirsty.\n",
      "< <sos> I 'm always at . <EOS>\n",
      "\n",
      "> 你真是警惕。\n",
      "= You're very alert.\n",
      "< <sos> You 're a good . . <EOS>\n",
      "\n",
      "> 我肯定你会成功。\n",
      "= I'm confident that you'll succeed.\n",
      "< <sos> I 'm sure you 'll you . . <EOS>\n",
      "\n",
      "> 我确定他会生气。\n",
      "= I'm sure that he'll get angry.\n",
      "< <sos> I 'm sure that he 'll succeed . <EOS>\n",
      "\n",
      "> 您比我更高。\n",
      "= You're even taller than I am.\n",
      "< <sos> You 're taller than me . <EOS>\n",
      "\n",
      "> 她今晚举行派对。\n",
      "= She is giving a party tonight.\n",
      "< <sos> She 's busy with her . <EOS>\n",
      "\n",
      "> 我好累啊。\n",
      "= I'm so tired.\n",
      "< <sos> I 'm tired . <EOS>\n",
      "\n",
      "> 我今天在东京。\n",
      "= I am in Tokyo today.\n",
      "< <sos> I 'm looking for a . . <EOS>\n",
      "\n",
      "> 他和他的邻居相处。\n",
      "= He is getting along with his neighborhood.\n",
      "< <sos> He is as tall as his . <EOS>\n",
      "\n",
      "> 我是个翻译。\n",
      "= I am a translator.\n",
      "< <sos> I 'm a student . <EOS>\n",
      "\n"
     ]
    }
   ],
   "source": [
    "evaluateRandomly(encoder2, decoder2)\n"
   ]
  },
  {
   "cell_type": "code",
   "execution_count": 57,
   "metadata": {},
   "outputs": [
    {
     "name": "stdout",
     "output_type": "stream",
     "text": [
      "<sos> I 'm not sure Tom . <EOS>\n"
     ]
    },
    {
     "data": {
      "text/plain": [
       "<matplotlib.image.AxesImage at 0x2a727dd00>"
      ]
     },
     "execution_count": 57,
     "metadata": {},
     "output_type": "execute_result"
    },
    {
     "data": {
      "image/png": "[encoded data removed]",
      "text/plain": [
       "<Figure size 420x480 with 1 Axes>"
      ]
     },
     "metadata": {},
     "output_type": "display_data"
    }
   ],
   "source": [
    "output_words, attentions = evaluate(encoder2, decoder2, \"我不确定。\")\n",
    "output_sentence = ' '.join(output_words)\n",
    "print(output_sentence)\n",
    "plt.matshow(attentions.numpy())\n"
   ]
  },
  {
   "cell_type": "code",
   "execution_count": 58,
   "metadata": {},
   "outputs": [],
   "source": [
    "# def showAttention(input_sentence, output_words, attentions):\n",
    "#     # Set up figure with colorbar\n",
    "#     fig = plt.figure()\n",
    "#     ax = fig.add_subplot(111)\n",
    "#     cax = ax.matshow(attentions.numpy(), cmap='bone')\n",
    "#     fig.colorbar(cax)\n",
    "\n",
    "#     # Set up axes\n",
    "#     ax.set_xticklabels([''] + list(input_sentence) +\n",
    "#                        ['<EOS>'], rotation=90)\n",
    "#     ax.set_yticklabels([''] + output_words)\n",
    "\n",
    "#     # Show label at every tick\n",
    "#     ax.xaxis.set_major_locator(ticker.MultipleLocator(1))\n",
    "#     ax.yaxis.set_major_locator(ticker.MultipleLocator(1))\n",
    "\n",
    "#     plt.show()\n",
    "\n",
    "\n",
    "# def evaluateAndShowAttention(input_sentence):\n",
    "#     output_words, attentions = evaluate(encoder2, decoder2, input_sentence)\n",
    "#     print('input =', input_sentence)\n",
    "#     print('output =', ' '.join(output_words))\n",
    "#     showAttention(input_sentence, output_words, attentions)\n",
    "\n",
    "\n",
    "# evaluateAndShowAttention(\"我不确定。\")\n"
   ]
  },
  {
   "cell_type": "code",
   "execution_count": 59,
   "metadata": {},
   "outputs": [
    {
     "data": {
      "text/plain": [
       "312"
      ]
     },
     "execution_count": 59,
     "metadata": {},
     "output_type": "execute_result"
    }
   ],
   "source": [
    "cn_vocab.get_stoi()['.']"
   ]
  },
  {
   "cell_type": "code",
   "execution_count": null,
   "metadata": {},
   "outputs": [],
   "source": []
  }
 ],
 "metadata": {
  "kernelspec": {
   "display_name": "torch",
   "language": "python",
   "name": "python3"
  },
  "language_info": {
   "codemirror_mode": {
    "name": "ipython",
    "version": 3
   },
   "file_extension": ".py",
   "mimetype": "text/x-python",
   "name": "python",
   "nbconvert_exporter": "python",
   "pygments_lexer": "ipython3",
   "version": "3.9.13"
  },
  "orig_nbformat": 4,
  "vscode": {
   "interpreter": {
    "hash": "f525c695730c841e052b8d34cf6e8bcfdb8d8f78b4a6432d240c7bfc8c210784"
   }
  }
 },
 "nbformat": 4,
 "nbformat_minor": 2
}
