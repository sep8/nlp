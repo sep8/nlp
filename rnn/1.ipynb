{
 "cells": [
  {
   "cell_type": "code",
   "execution_count": 1,
   "metadata": {},
   "outputs": [],
   "source": [
    "import torch"
   ]
  },
  {
   "cell_type": "code",
   "execution_count": 2,
   "metadata": {},
   "outputs": [],
   "source": [
    "batch_size = 1\n",
    "seq_len = 3\n",
    "input_size = 4\n",
    "hidden_size = 2"
   ]
  },
  {
   "cell_type": "code",
   "execution_count": 3,
   "metadata": {},
   "outputs": [],
   "source": [
    "cell = torch.nn.RNNCell(input_size=input_size, hidden_size=hidden_size)"
   ]
  },
  {
   "cell_type": "code",
   "execution_count": 4,
   "metadata": {},
   "outputs": [
    {
     "name": "stdout",
     "output_type": "stream",
     "text": [
      "torch.Size([3, 1, 4])\n",
      "torch.Size([1, 2])\n"
     ]
    }
   ],
   "source": [
    "dataset = torch.randn(seq_len, batch_size, input_size)\n",
    "hidden = torch.zeros(batch_size, hidden_size)\n",
    "\n",
    "print(dataset.shape)\n",
    "print(hidden.shape)"
   ]
  },
  {
   "cell_type": "code",
   "execution_count": 5,
   "metadata": {},
   "outputs": [
    {
     "name": "stdout",
     "output_type": "stream",
     "text": [
      "==================== 0 ====================\n",
      "Input size:  torch.Size([1, 4])\n",
      "Output size:  torch.Size([1, 2])\n",
      "tensor([[0.7238, 0.8326]], grad_fn=<TanhBackward0>)\n",
      "==================== 1 ====================\n",
      "Input size:  torch.Size([1, 4])\n",
      "Output size:  torch.Size([1, 2])\n",
      "tensor([[-0.0059,  0.9283]], grad_fn=<TanhBackward0>)\n",
      "==================== 2 ====================\n",
      "Input size:  torch.Size([1, 4])\n",
      "Output size:  torch.Size([1, 2])\n",
      "tensor([[-0.6333,  0.9750]], grad_fn=<TanhBackward0>)\n"
     ]
    }
   ],
   "source": [
    "for idx, input in enumerate(dataset):\n",
    "    print(\"=\"*20, idx, \"=\"*20)\n",
    "    print(\"Input size: \", input.shape)\n",
    "\n",
    "    hidden  = cell(input, hidden)\n",
    "\n",
    "    print(\"Output size: \", hidden.shape)\n",
    "    print(hidden)"
   ]
  },
  {
   "cell_type": "code",
   "execution_count": 6,
   "metadata": {},
   "outputs": [
    {
     "name": "stdout",
     "output_type": "stream",
     "text": [
      "torch.Size([3, 6, 4])\n",
      "torch.Size([2, 6, 5])\n"
     ]
    }
   ],
   "source": [
    "batch_size = 6\n",
    "seq_len = 3\n",
    "input_size = 4\n",
    "\n",
    "hidden_size = 5\n",
    "num_layers = 2\n",
    "\n",
    "dataset = torch.randn(seq_len, batch_size, input_size)\n",
    "hidden = torch.zeros(num_layers, batch_size, hidden_size)\n",
    "\n",
    "print(dataset.shape)\n",
    "print(hidden.shape)"
   ]
  },
  {
   "cell_type": "code",
   "execution_count": 7,
   "metadata": {},
   "outputs": [],
   "source": [
    "rnn = torch.nn.RNN(input_size=input_size, hidden_size=hidden_size, num_layers=num_layers)"
   ]
  },
  {
   "cell_type": "code",
   "execution_count": 8,
   "metadata": {},
   "outputs": [
    {
     "name": "stdout",
     "output_type": "stream",
     "text": [
      "Output size(All hidden):  torch.Size([3, 6, 5])\n",
      "Final Hidden size:  torch.Size([2, 6, 5])\n"
     ]
    }
   ],
   "source": [
    "output, hidden = rnn(dataset, hidden)\n",
    "\n",
    "print(\"Output size(All hidden): \", output.shape) # seq, batch, hidden\n",
    "print(\"Final Hidden size: \", hidden.shape) # num_layers, batch, hidden"
   ]
  },
  {
   "cell_type": "code",
   "execution_count": 9,
   "metadata": {},
   "outputs": [
    {
     "name": "stdout",
     "output_type": "stream",
     "text": [
      "torch.Size([6, 3, 4])\n",
      "torch.Size([2, 6, 5])\n",
      "torch.Size([6, 3, 4])\n",
      "torch.Size([2, 6, 5])\n",
      "Output size(All hidden):  torch.Size([6, 3, 5])\n",
      "Final Hidden size:  torch.Size([2, 6, 5])\n"
     ]
    }
   ],
   "source": [
    "batch_size = 6\n",
    "seq_len = 3\n",
    "input_size = 4\n",
    "\n",
    "hidden_size = 5\n",
    "num_layers = 2\n",
    "\n",
    "dataset = torch.randn(batch_size, seq_len, input_size)\n",
    "hidden = torch.zeros(num_layers, batch_size, hidden_size)\n",
    "\n",
    "print('dataset', dataset.shape)\n",
    "print('hidden', hidden.shape)\n",
    "\n",
    "rnn = torch.nn.RNN(input_size=input_size, hidden_size=hidden_size, num_layers=num_layers, batch_first=True)\n",
    "\n",
    "print(dataset.shape)\n",
    "print(hidden.shape)\n",
    "output, hidden = rnn(dataset, hidden)\n",
    "\n",
    "print(\"Output size(All hidden): \", output.shape) # seq, batch, hidden\n",
    "print(\"Final Hidden size: \", hidden.shape) # num_layers, batch, hidden"
   ]
  },
  {
   "cell_type": "code",
   "execution_count": null,
   "metadata": {},
   "outputs": [],
   "source": []
  }
 ],
 "metadata": {
  "kernelspec": {
   "display_name": "Python 3.9.13 ('torch')",
   "language": "python",
   "name": "python3"
  },
  "language_info": {
   "codemirror_mode": {
    "name": "ipython",
    "version": 3
   },
   "file_extension": ".py",
   "mimetype": "text/x-python",
   "name": "python",
   "nbconvert_exporter": "python",
   "pygments_lexer": "ipython3",
   "version": "3.9.13"
  },
  "orig_nbformat": 4,
  "vscode": {
   "interpreter": {
    "hash": "f525c695730c841e052b8d34cf6e8bcfdb8d8f78b4a6432d240c7bfc8c210784"
   }
  }
 },
 "nbformat": 4,
 "nbformat_minor": 2
}
