{
 "cells": [
  {
   "cell_type": "code",
   "execution_count": 124,
   "metadata": {},
   "outputs": [],
   "source": [
    "from __future__ import unicode_literals, print_function, division\n",
    "import random\n",
    "\n",
    "import torch\n",
    "import torch.nn as nn\n",
    "from torch import optim\n",
    "import torch.nn.functional as F\n",
    "\n",
    "import matplotlib.pyplot as plt\n",
    "import matplotlib.ticker as ticker\n",
    "from cn_cn_data import get_cn_en_dataloader, to_sentence, cn_vocab, en_vocab\n"
   ]
  },
  {
   "cell_type": "code",
   "execution_count": 125,
   "metadata": {},
   "outputs": [],
   "source": [
    "from get_cn_en_pairs import get_training_pairs, SOS_token, EOS_token, MAX_LENGTH, output_lang, input_lang, tensorFromSentence"
   ]
  },
  {
   "cell_type": "code",
   "execution_count": 126,
   "metadata": {},
   "outputs": [],
   "source": [
    "max_length = MAX_LENGTH\n",
    "device = torch.device(\"cpu\")"
   ]
  },
  {
   "cell_type": "code",
   "execution_count": 127,
   "metadata": {},
   "outputs": [],
   "source": [
    "import time\n",
    "import math\n",
    "\n",
    "\n",
    "def asMinutes(s):\n",
    "    m = math.floor(s / 60)\n",
    "    s -= m * 60\n",
    "    return '%dm %ds' % (m, s)\n",
    "\n",
    "\n",
    "def timeSince(since, percent):\n",
    "    now = time.time()\n",
    "    s = now - since\n",
    "    es = s / (percent)\n",
    "    rs = es - s\n",
    "    return '%s (- %s)' % (asMinutes(s), asMinutes(rs))\n"
   ]
  },
  {
   "cell_type": "code",
   "execution_count": 128,
   "metadata": {},
   "outputs": [
    {
     "name": "stdout",
     "output_type": "stream",
     "text": [
      "length of train_loader 2207\n"
     ]
    }
   ],
   "source": [
    "seq_len = 15\n",
    "# max_length = seq_len + 2\n",
    "batch_size = 1\n",
    "\n",
    "cn_vocab_size = len(cn_vocab)\n",
    "en_vocab_size = len(en_vocab)\n",
    "\n",
    "device = torch.device(\"cpu\")\n",
    "train_loader, train_dataset = get_cn_en_dataloader(seq_len, batch_size, device)\n",
    "print('length of train_loader', len(train_loader))"
   ]
  },
  {
   "cell_type": "code",
   "execution_count": 129,
   "metadata": {},
   "outputs": [
    {
     "name": "stdout",
     "output_type": "stream",
     "text": [
      "torch.Size([13, 1]) torch.Size([10, 1])\n",
      "[2, 19, 963, 58, 153, 905, 131, 172, 10, 823, 956, 5, 3]\n",
      "['<sos>', '我', '总', '是', '忘', '记', '别', '人', '的', '名', '字', ' 。', '<eos>']\n",
      "[2, 12, 27, 1096, 4730, 606, 71, 2150, 5, 3]\n",
      "['<sos>', 'I', \"'m\", 'always', 'forgetting', 'people', \"'s\", 'names', '.', '<eos>']\n"
     ]
    }
   ],
   "source": [
    "for i, item in enumerate(train_loader):\n",
    "    print(item[0].shape, item[1].shape)\n",
    "\n",
    "    print([idx.item() for idx in item[0]])\n",
    "    print(to_sentence(item[0], True))\n",
    "    print([idx.item() for idx in item[1]])\n",
    "    print(to_sentence(item[1], False))\n",
    "    break"
   ]
  },
  {
   "cell_type": "code",
   "execution_count": 130,
   "metadata": {},
   "outputs": [],
   "source": [
    "class Encoder(nn.Module):\n",
    "    def __init__(self, input_size, hidden_size, dropout=0.1):\n",
    "        super(Encoder, self).__init__()\n",
    "        self.hidden_size = hidden_size\n",
    "\n",
    "        self.embedding = nn.Embedding(input_size, hidden_size)\n",
    "        self.gru = nn.GRU(hidden_size, hidden_size)\n",
    "        self.dropout = nn.Dropout(dropout)\n",
    "\n",
    "    def forward(self, input, hidden):\n",
    "        embedded = self.embedding(input).view(1, 1, -1)\n",
    "        outputs, hidden = self.gru(embedded, hidden)\n",
    "\n",
    "        return outputs, hidden\n",
    "\n",
    "    def initHidden(self, batch_size=1):\n",
    "        return torch.zeros(1, batch_size, self.hidden_size, device=device)\n"
   ]
  },
  {
   "cell_type": "code",
   "execution_count": 131,
   "metadata": {},
   "outputs": [],
   "source": [
    "class Decoder(nn.Module):\n",
    "    def __init__(self, hidden_size, output_size):\n",
    "        super(Decoder, self).__init__()\n",
    "        self.hidden_size = hidden_size\n",
    "        self.output_size = output_size\n",
    "\n",
    "        self.embedding = nn.Embedding(output_size, hidden_size)\n",
    "        self.gru = nn.GRU(hidden_size, hidden_size)\n",
    "        self.out = nn.Linear(hidden_size, output_size)\n",
    "        self.softmax = nn.LogSoftmax(dim=1)\n",
    "\n",
    "    def forward(self, input, hidden):\n",
    "        output = self.embedding(input).view(1, 1, -1)\n",
    "        output = F.relu(output)\n",
    "        output, hidden = self.gru(output, hidden)\n",
    "        output = self.softmax(self.out(output[0]))\n",
    "        return output, hidden"
   ]
  },
  {
   "cell_type": "code",
   "execution_count": 132,
   "metadata": {},
   "outputs": [],
   "source": [
    "teacher_forcing_ratio = 0.5\n",
    "\n",
    "def train(input_tensor, target_tensor, encoder, decoder, encoder_optimizer, decoder_optimizer, criterion, max_length=max_length):\n",
    "    encoder_hidden = encoder.initHidden()\n",
    "    encoder_optimizer.zero_grad()\n",
    "    decoder_optimizer.zero_grad()\n",
    "\n",
    "    input_length = input_tensor.size(0)\n",
    "    target_length = target_tensor.size(0)\n",
    "\n",
    "    loss = 0\n",
    "\n",
    "    encoder_outputs = torch.zeros(max_length, encoder.hidden_size, device=device)\n",
    "\n",
    "    for ei in range(input_length):\n",
    "        encoder_output, encoder_hidden = encoder(input_tensor[ei], encoder_hidden)\n",
    "        encoder_outputs[ei] = encoder_output[0][0]\n",
    "\n",
    "    decoder_input = torch.tensor([[SOS_token]], device=device)\n",
    "\n",
    "    decoder_hidden = encoder_hidden #\n",
    "\n",
    "    use_teacher_forcing = True if random.random() < teacher_forcing_ratio else False\n",
    "\n",
    "    if use_teacher_forcing:\n",
    "        # Teacher forcing: Feed the target as the next input\n",
    "        for di in range(target_length):\n",
    "            decoder_output, decoder_hidden = decoder(decoder_input, decoder_hidden)\n",
    "            loss += criterion(decoder_output, target_tensor[di])\n",
    "            decoder_input = target_tensor[di]  # Teacher forcing\n",
    "\n",
    "    else:\n",
    "        # Without teacher forcing: use its own predictions as the next input\n",
    "        for di in range(target_length):\n",
    "            decoder_output, decoder_hidden = decoder(decoder_input, decoder_hidden)\n",
    "            topv, topi = decoder_output.topk(1)\n",
    "            decoder_input = topi.squeeze().detach()  # detach from history as input\n",
    "\n",
    "            loss += criterion(decoder_output, target_tensor[di])\n",
    "            if decoder_input.item() == EOS_token:\n",
    "                break\n",
    "\n",
    "    loss.backward()\n",
    "\n",
    "    encoder_optimizer.step()\n",
    "    decoder_optimizer.step()\n",
    "\n",
    "    return loss.item() / target_length\n"
   ]
  },
  {
   "cell_type": "code",
   "execution_count": 133,
   "metadata": {},
   "outputs": [],
   "source": [
    "def trainIters(encoder, decoder, n_iters, print_every=1000, plot_every=100, learning_rate=0.01):\n",
    "    start = time.time()\n",
    "    plot_losses = []\n",
    "    print_loss_total = 0  # Reset every print_every\n",
    "    plot_loss_total = 0  # Reset every plot_every\n",
    "\n",
    "    encoder_optimizer = optim.SGD(encoder.parameters(), lr=learning_rate)\n",
    "    decoder_optimizer = optim.SGD(decoder.parameters(), lr=learning_rate)\n",
    "    training_pairs = get_training_pairs(n_iters)\n",
    "    criterion = nn.NLLLoss()\n",
    "\n",
    "    for iter in range(1, n_iters + 1):\n",
    "        training_pair = training_pairs[iter - 1]\n",
    "        input_tensor = training_pair[0]\n",
    "        target_tensor = training_pair[1]\n",
    "\n",
    "        loss = train(input_tensor, target_tensor, encoder, decoder, encoder_optimizer, decoder_optimizer, criterion)\n",
    "        print_loss_total += loss\n",
    "        plot_loss_total += loss\n",
    "\n",
    "        if iter % print_every == 0:\n",
    "            print_loss_avg = print_loss_total / print_every\n",
    "            print_loss_total = 0\n",
    "            print('%s (%d %d%%) %.4f' % (timeSince(start, iter / n_iters),\n",
    "                                         iter, iter / n_iters * 100, print_loss_avg))\n",
    "\n",
    "        if iter % plot_every == 0:\n",
    "            plot_loss_avg = plot_loss_total / plot_every\n",
    "            plot_losses.append(plot_loss_avg)\n",
    "            plot_loss_total = 0\n",
    "\n",
    "    return plot_losses\n"
   ]
  },
  {
   "cell_type": "code",
   "execution_count": 134,
   "metadata": {},
   "outputs": [],
   "source": [
    "hidden_size = 256\n",
    "encoder1 = Encoder(input_lang.n_words, hidden_size).to(device)\n",
    "decoder1 = Decoder(hidden_size, output_lang.n_words).to(device)"
   ]
  },
  {
   "cell_type": "code",
   "execution_count": 135,
   "metadata": {},
   "outputs": [
    {
     "name": "stdout",
     "output_type": "stream",
     "text": [
      "0m 8s (- 13m 39s) (500 1%) 3.5679\n",
      "0m 16s (- 13m 18s) (1000 2%) 3.3655\n",
      "0m 24s (- 13m 5s) (1500 3%) 3.3548\n",
      "0m 32s (- 12m 48s) (2000 4%) 3.2312\n",
      "0m 39s (- 12m 34s) (2500 5%) 3.2002\n",
      "0m 47s (- 12m 26s) (3000 6%) 3.0115\n",
      "0m 55s (- 12m 20s) (3500 7%) 2.9781\n",
      "1m 3s (- 12m 9s) (4000 8%) 2.9435\n",
      "1m 11s (- 11m 59s) (4500 9%) 2.8775\n",
      "1m 18s (- 11m 50s) (5000 10%) 2.7816\n",
      "1m 27s (- 11m 46s) (5500 11%) 2.7503\n",
      "1m 35s (- 11m 37s) (6000 12%) 2.6921\n",
      "1m 42s (- 11m 28s) (6500 13%) 2.5141\n",
      "1m 50s (- 11m 20s) (7000 14%) 2.5550\n",
      "1m 58s (- 11m 11s) (7500 15%) 2.4069\n",
      "2m 6s (- 11m 2s) (8000 16%) 2.3378\n",
      "2m 14s (- 10m 54s) (8500 17%) 2.2719\n",
      "2m 21s (- 10m 46s) (9000 18%) 2.2277\n",
      "2m 29s (- 10m 38s) (9500 19%) 2.2141\n",
      "2m 37s (- 10m 30s) (10000 20%) 2.1279\n",
      "2m 45s (- 10m 22s) (10500 21%) 2.0997\n",
      "2m 53s (- 10m 14s) (11000 22%) 2.0762\n",
      "3m 1s (- 10m 6s) (11500 23%) 1.9936\n",
      "3m 9s (- 9m 58s) (12000 24%) 1.8709\n",
      "3m 16s (- 9m 50s) (12500 25%) 1.7703\n",
      "3m 24s (- 9m 42s) (13000 26%) 1.7418\n",
      "3m 32s (- 9m 34s) (13500 27%) 1.7064\n",
      "3m 40s (- 9m 26s) (14000 28%) 1.5621\n",
      "3m 47s (- 9m 18s) (14500 28%) 1.6136\n",
      "3m 55s (- 9m 10s) (15000 30%) 1.6135\n",
      "4m 3s (- 9m 2s) (15500 31%) 1.5076\n",
      "4m 11s (- 8m 54s) (16000 32%) 1.3818\n",
      "4m 19s (- 8m 46s) (16500 33%) 1.4036\n",
      "4m 27s (- 8m 38s) (17000 34%) 1.3612\n",
      "4m 34s (- 8m 30s) (17500 35%) 1.3282\n",
      "4m 42s (- 8m 22s) (18000 36%) 1.2962\n",
      "4m 50s (- 8m 14s) (18500 37%) 1.2439\n",
      "4m 58s (- 8m 7s) (19000 38%) 1.1381\n",
      "5m 6s (- 7m 59s) (19500 39%) 1.1297\n",
      "5m 14s (- 7m 51s) (20000 40%) 1.1210\n",
      "5m 22s (- 7m 43s) (20500 41%) 0.9542\n",
      "5m 30s (- 7m 35s) (21000 42%) 1.0060\n",
      "5m 37s (- 7m 27s) (21500 43%) 0.9641\n",
      "5m 45s (- 7m 20s) (22000 44%) 0.9023\n",
      "5m 53s (- 7m 12s) (22500 45%) 0.9027\n",
      "6m 1s (- 7m 4s) (23000 46%) 0.8399\n",
      "6m 9s (- 6m 56s) (23500 47%) 0.8449\n",
      "6m 17s (- 6m 48s) (24000 48%) 0.7924\n",
      "6m 25s (- 6m 40s) (24500 49%) 0.7184\n",
      "6m 33s (- 6m 33s) (25000 50%) 0.7363\n",
      "6m 41s (- 6m 25s) (25500 51%) 0.6503\n",
      "6m 49s (- 6m 17s) (26000 52%) 0.6723\n",
      "6m 56s (- 6m 9s) (26500 53%) 0.6157\n",
      "7m 4s (- 6m 1s) (27000 54%) 0.5736\n",
      "7m 12s (- 5m 54s) (27500 55%) 0.5758\n",
      "7m 20s (- 5m 46s) (28000 56%) 0.5075\n",
      "7m 28s (- 5m 38s) (28500 56%) 0.5020\n",
      "7m 36s (- 5m 30s) (29000 57%) 0.4865\n",
      "7m 44s (- 5m 22s) (29500 59%) 0.4921\n",
      "7m 52s (- 5m 14s) (30000 60%) 0.4832\n",
      "8m 0s (- 5m 6s) (30500 61%) 0.4526\n",
      "8m 8s (- 4m 59s) (31000 62%) 0.4468\n",
      "8m 16s (- 4m 51s) (31500 63%) 0.3846\n",
      "8m 23s (- 4m 43s) (32000 64%) 0.3703\n",
      "8m 31s (- 4m 35s) (32500 65%) 0.3383\n",
      "8m 39s (- 4m 27s) (33000 66%) 0.3743\n",
      "8m 47s (- 4m 19s) (33500 67%) 0.3453\n",
      "8m 55s (- 4m 12s) (34000 68%) 0.3908\n",
      "9m 3s (- 4m 4s) (34500 69%) 0.3372\n",
      "9m 11s (- 3m 56s) (35000 70%) 0.3220\n",
      "9m 19s (- 3m 48s) (35500 71%) 0.3055\n",
      "9m 27s (- 3m 40s) (36000 72%) 0.3137\n",
      "9m 35s (- 3m 32s) (36500 73%) 0.2540\n",
      "9m 43s (- 3m 24s) (37000 74%) 0.2637\n",
      "9m 51s (- 3m 17s) (37500 75%) 0.2833\n",
      "9m 59s (- 3m 9s) (38000 76%) 0.2684\n",
      "10m 7s (- 3m 1s) (38500 77%) 0.2545\n",
      "10m 15s (- 2m 53s) (39000 78%) 0.2173\n",
      "10m 23s (- 2m 45s) (39500 79%) 0.2140\n",
      "10m 31s (- 2m 37s) (40000 80%) 0.2382\n",
      "10m 39s (- 2m 29s) (40500 81%) 0.2178\n",
      "10m 47s (- 2m 22s) (41000 82%) 0.1910\n",
      "10m 55s (- 2m 14s) (41500 83%) 0.2318\n",
      "11m 2s (- 2m 6s) (42000 84%) 0.2258\n",
      "11m 10s (- 1m 58s) (42500 85%) 0.1994\n",
      "11m 18s (- 1m 50s) (43000 86%) 0.1842\n",
      "11m 26s (- 1m 42s) (43500 87%) 0.1749\n",
      "11m 34s (- 1m 34s) (44000 88%) 0.1987\n",
      "11m 42s (- 1m 26s) (44500 89%) 0.2151\n",
      "11m 53s (- 1m 19s) (45000 90%) 0.1764\n",
      "12m 1s (- 1m 11s) (45500 91%) 0.2072\n",
      "12m 9s (- 1m 3s) (46000 92%) 0.1907\n",
      "12m 16s (- 0m 55s) (46500 93%) 0.1979\n",
      "12m 24s (- 0m 47s) (47000 94%) 0.1692\n",
      "12m 32s (- 0m 39s) (47500 95%) 0.1577\n",
      "12m 58s (- 0m 32s) (48000 96%) 0.1342\n",
      "13m 6s (- 0m 24s) (48500 97%) 0.1744\n",
      "13m 15s (- 0m 16s) (49000 98%) 0.1618\n",
      "13m 23s (- 0m 8s) (49500 99%) 0.1709\n",
      "13m 31s (- 0m 0s) (50000 100%) 0.1588\n"
     ]
    }
   ],
   "source": [
    "train_losses = trainIters(encoder1, decoder1, 50000, print_every=500)"
   ]
  },
  {
   "cell_type": "code",
   "execution_count": 136,
   "metadata": {},
   "outputs": [
    {
     "data": {
      "text/plain": [
       "<Figure size 640x480 with 0 Axes>"
      ]
     },
     "metadata": {},
     "output_type": "display_data"
    },
    {
     "data": {
      "image/png": "[encoded data removed]",
      "text/plain": [
       "<Figure size 640x480 with 1 Axes>"
      ]
     },
     "metadata": {},
     "output_type": "display_data"
    }
   ],
   "source": [
    "def showPlot(points):\n",
    "    plt.figure()\n",
    "    fig, ax = plt.subplots()\n",
    "    # this locator puts ticks at regular intervals\n",
    "    loc = ticker.MultipleLocator(base=0.2)\n",
    "    ax.yaxis.set_major_locator(loc)\n",
    "    plt.plot(points)\n",
    "\n",
    "\n",
    "showPlot(train_losses)\n"
   ]
  },
  {
   "cell_type": "code",
   "execution_count": 137,
   "metadata": {},
   "outputs": [],
   "source": [
    "encoder_path = './models/seq2seq6-encoder.pt'\n",
    "decoder_path = './models/seq2seq6-decoder.pt'\n"
   ]
  },
  {
   "cell_type": "code",
   "execution_count": 138,
   "metadata": {},
   "outputs": [],
   "source": [
    "torch.save(encoder1.state_dict(), encoder_path)\n",
    "torch.save(decoder1.state_dict(), decoder_path)\n"
   ]
  },
  {
   "cell_type": "code",
   "execution_count": 139,
   "metadata": {},
   "outputs": [],
   "source": [
    "def evaluate(encoder, decoder, sentence, max_length=max_length):\n",
    "    with torch.no_grad():\n",
    "        input_tensor = train_dataset.tokenize_sentence(sentence, True).unsqueeze(0).T\n",
    "        input_length = input_tensor.size(0)\n",
    "\n",
    "        encoder_outputs = torch.zeros(max_length, encoder.hidden_size, device=device)\n",
    "\n",
    "        for ei in range(input_length):\n",
    "            encoder_output, encoder_hidden = encoder(input_tensor[ei])\n",
    "            encoder_outputs[ei] = encoder_output[0][0]\n",
    "\n",
    "        decoder_input = torch.tensor([SOS_token], device=device)  # SOS\n",
    "\n",
    "        decoder_hidden = encoder_hidden\n",
    "\n",
    "        decoded_words = []\n",
    "        decoder_attentions = torch.zeros(max_length, input_length)\n",
    "\n",
    "        for di in range(max_length):\n",
    "            decoder_output, decoder_hidden = decoder(decoder_input, decoder_hidden)\n",
    "            topv, topi = decoder_output.data.topk(1)\n",
    "            # decoder_attentions[di] = decoder_attention.squeeze().data\n",
    "            if topi.item() == EOS_token:\n",
    "                decoded_words.append('<EOS>')\n",
    "                break\n",
    "            else:\n",
    "                decoded_words.append(en_vocab.lookup_token(topi.item()))\n",
    "\n",
    "            decoder_input = topi.squeeze(1).detach()\n",
    "\n",
    "        return decoded_words\n"
   ]
  },
  {
   "cell_type": "code",
   "execution_count": 140,
   "metadata": {},
   "outputs": [],
   "source": [
    "def evaluateRandomly(encoder, decoder, n=10):\n",
    "    for i in range(n):\n",
    "        pair = random.choice(train_dataset.pairs)\n",
    "        print('>', pair[0])\n",
    "        print('=', pair[1])\n",
    "        output_words = evaluate(encoder, decoder, pair[0])\n",
    "        output_sentence = ' '.join(output_words)\n",
    "        print('<', output_sentence)\n",
    "        print('')\n"
   ]
  },
  {
   "cell_type": "code",
   "execution_count": 141,
   "metadata": {},
   "outputs": [
    {
     "data": {
      "text/plain": [
       "<All keys matched successfully>"
      ]
     },
     "execution_count": 141,
     "metadata": {},
     "output_type": "execute_result"
    }
   ],
   "source": [
    "encoder2 = Encoder(input_lang.n_words, hidden_size).to(device)\n",
    "decoder2 = Decoder(hidden_size, output_lang.n_words).to(device)\n",
    "\n",
    "encoder2.load_state_dict(torch.load(encoder_path))\n",
    "decoder2.load_state_dict(torch.load(decoder_path))\n"
   ]
  },
  {
   "cell_type": "code",
   "execution_count": 142,
   "metadata": {},
   "outputs": [
    {
     "name": "stdout",
     "output_type": "stream",
     "text": [
      "> 他们不理我。\n",
      "= They're ignoring me.\n"
     ]
    },
    {
     "ename": "TypeError",
     "evalue": "forward() missing 1 required positional argument: 'hidden'",
     "output_type": "error",
     "traceback": [
      "\u001b[0;31m---------------------------------------------------------------------------\u001b[0m",
      "\u001b[0;31mTypeError\u001b[0m                                 Traceback (most recent call last)",
      "\u001b[1;32m/Users/my/repos/nlp/rnn/seq2seq-translation-6-3.ipynb Cell 19\u001b[0m in \u001b[0;36m1\n\u001b[0;32m----> <a href='vscode-notebook-cell:/Users/my/repos/nlp/rnn/seq2seq-translation-6-3.ipynb#X24sZmlsZQ%3D%3D?line=0'>1</a>\u001b[0m evaluateRandomly(encoder1, decoder1)\n",
      "\u001b[1;32m/Users/my/repos/nlp/rnn/seq2seq-translation-6-3.ipynb Cell 19\u001b[0m in \u001b[0;36m6\n\u001b[1;32m      <a href='vscode-notebook-cell:/Users/my/repos/nlp/rnn/seq2seq-translation-6-3.ipynb#X24sZmlsZQ%3D%3D?line=3'>4</a>\u001b[0m \u001b[39mprint\u001b[39m(\u001b[39m'\u001b[39m\u001b[39m>\u001b[39m\u001b[39m'\u001b[39m, pair[\u001b[39m0\u001b[39m])\n\u001b[1;32m      <a href='vscode-notebook-cell:/Users/my/repos/nlp/rnn/seq2seq-translation-6-3.ipynb#X24sZmlsZQ%3D%3D?line=4'>5</a>\u001b[0m \u001b[39mprint\u001b[39m(\u001b[39m'\u001b[39m\u001b[39m=\u001b[39m\u001b[39m'\u001b[39m, pair[\u001b[39m1\u001b[39m])\n\u001b[0;32m----> <a href='vscode-notebook-cell:/Users/my/repos/nlp/rnn/seq2seq-translation-6-3.ipynb#X24sZmlsZQ%3D%3D?line=5'>6</a>\u001b[0m output_words \u001b[39m=\u001b[39m evaluate(encoder, decoder, pair[\u001b[39m0\u001b[39;49m])\n\u001b[1;32m      <a href='vscode-notebook-cell:/Users/my/repos/nlp/rnn/seq2seq-translation-6-3.ipynb#X24sZmlsZQ%3D%3D?line=6'>7</a>\u001b[0m output_sentence \u001b[39m=\u001b[39m \u001b[39m'\u001b[39m\u001b[39m \u001b[39m\u001b[39m'\u001b[39m\u001b[39m.\u001b[39mjoin(output_words)\n\u001b[1;32m      <a href='vscode-notebook-cell:/Users/my/repos/nlp/rnn/seq2seq-translation-6-3.ipynb#X24sZmlsZQ%3D%3D?line=7'>8</a>\u001b[0m \u001b[39mprint\u001b[39m(\u001b[39m'\u001b[39m\u001b[39m<\u001b[39m\u001b[39m'\u001b[39m, output_sentence)\n",
      "\u001b[1;32m/Users/my/repos/nlp/rnn/seq2seq-translation-6-3.ipynb Cell 19\u001b[0m in \u001b[0;36m9\n\u001b[1;32m      <a href='vscode-notebook-cell:/Users/my/repos/nlp/rnn/seq2seq-translation-6-3.ipynb#X24sZmlsZQ%3D%3D?line=5'>6</a>\u001b[0m encoder_outputs \u001b[39m=\u001b[39m torch\u001b[39m.\u001b[39mzeros(max_length, encoder\u001b[39m.\u001b[39mhidden_size, device\u001b[39m=\u001b[39mdevice)\n\u001b[1;32m      <a href='vscode-notebook-cell:/Users/my/repos/nlp/rnn/seq2seq-translation-6-3.ipynb#X24sZmlsZQ%3D%3D?line=7'>8</a>\u001b[0m \u001b[39mfor\u001b[39;00m ei \u001b[39min\u001b[39;00m \u001b[39mrange\u001b[39m(input_length):\n\u001b[0;32m----> <a href='vscode-notebook-cell:/Users/my/repos/nlp/rnn/seq2seq-translation-6-3.ipynb#X24sZmlsZQ%3D%3D?line=8'>9</a>\u001b[0m     encoder_output, encoder_hidden \u001b[39m=\u001b[39m encoder(input_tensor[ei])\n\u001b[1;32m     <a href='vscode-notebook-cell:/Users/my/repos/nlp/rnn/seq2seq-translation-6-3.ipynb#X24sZmlsZQ%3D%3D?line=9'>10</a>\u001b[0m     encoder_outputs[ei] \u001b[39m=\u001b[39m encoder_output[\u001b[39m0\u001b[39m][\u001b[39m0\u001b[39m]\n\u001b[1;32m     <a href='vscode-notebook-cell:/Users/my/repos/nlp/rnn/seq2seq-translation-6-3.ipynb#X24sZmlsZQ%3D%3D?line=11'>12</a>\u001b[0m decoder_input \u001b[39m=\u001b[39m torch\u001b[39m.\u001b[39mtensor([SOS_token], device\u001b[39m=\u001b[39mdevice)  \u001b[39m# SOS\u001b[39;00m\n",
      "File \u001b[0;32m~/miniforge3/envs/torch/lib/python3.9/site-packages/torch/nn/modules/module.py:1194\u001b[0m, in \u001b[0;36mModule._call_impl\u001b[0;34m(self, *input, **kwargs)\u001b[0m\n\u001b[1;32m   1190\u001b[0m \u001b[39m# If we don't have any hooks, we want to skip the rest of the logic in\u001b[39;00m\n\u001b[1;32m   1191\u001b[0m \u001b[39m# this function, and just call forward.\u001b[39;00m\n\u001b[1;32m   1192\u001b[0m \u001b[39mif\u001b[39;00m \u001b[39mnot\u001b[39;00m (\u001b[39mself\u001b[39m\u001b[39m.\u001b[39m_backward_hooks \u001b[39mor\u001b[39;00m \u001b[39mself\u001b[39m\u001b[39m.\u001b[39m_forward_hooks \u001b[39mor\u001b[39;00m \u001b[39mself\u001b[39m\u001b[39m.\u001b[39m_forward_pre_hooks \u001b[39mor\u001b[39;00m _global_backward_hooks\n\u001b[1;32m   1193\u001b[0m         \u001b[39mor\u001b[39;00m _global_forward_hooks \u001b[39mor\u001b[39;00m _global_forward_pre_hooks):\n\u001b[0;32m-> 1194\u001b[0m     \u001b[39mreturn\u001b[39;00m forward_call(\u001b[39m*\u001b[39;49m\u001b[39minput\u001b[39;49m, \u001b[39m*\u001b[39;49m\u001b[39m*\u001b[39;49mkwargs)\n\u001b[1;32m   1195\u001b[0m \u001b[39m# Do not call functions when jit is used\u001b[39;00m\n\u001b[1;32m   1196\u001b[0m full_backward_hooks, non_full_backward_hooks \u001b[39m=\u001b[39m [], []\n",
      "\u001b[0;31mTypeError\u001b[0m: forward() missing 1 required positional argument: 'hidden'"
     ]
    }
   ],
   "source": [
    "evaluateRandomly(encoder1, decoder1)\n"
   ]
  },
  {
   "cell_type": "code",
   "execution_count": null,
   "metadata": {},
   "outputs": [],
   "source": [
    "output_words = evaluate(encoder1, decoder1, \"我不确定。\")\n",
    "output_sentence = ' '.join(output_words)\n",
    "print(output_sentence)\n"
   ]
  },
  {
   "cell_type": "code",
   "execution_count": null,
   "metadata": {},
   "outputs": [],
   "source": [
    "# def showAttention(input_sentence, output_words, attentions):\n",
    "#     # Set up figure with colorbar\n",
    "#     fig = plt.figure()\n",
    "#     ax = fig.add_subplot(111)\n",
    "#     cax = ax.matshow(attentions.numpy(), cmap='bone')\n",
    "#     fig.colorbar(cax)\n",
    "\n",
    "#     # Set up axes\n",
    "#     ax.set_xticklabels([''] + list(input_sentence) +\n",
    "#                        ['<EOS>'], rotation=90)\n",
    "#     ax.set_yticklabels([''] + output_words)\n",
    "\n",
    "#     # Show label at every tick\n",
    "#     ax.xaxis.set_major_locator(ticker.MultipleLocator(1))\n",
    "#     ax.yaxis.set_major_locator(ticker.MultipleLocator(1))\n",
    "\n",
    "#     plt.show()\n",
    "\n",
    "\n",
    "# def evaluateAndShowAttention(input_sentence):\n",
    "#     output_words, attentions = evaluate(encoder2, decoder2, input_sentence)\n",
    "#     print('input =', input_sentence)\n",
    "#     print('output =', ' '.join(output_words))\n",
    "#     showAttention(input_sentence, output_words, attentions)\n",
    "\n",
    "\n",
    "# evaluateAndShowAttention(\"我不确定。\")\n"
   ]
  },
  {
   "attachments": {},
   "cell_type": "markdown",
   "metadata": {},
   "source": [
    "- encode hidden is new in each forward? YES\n",
    "- batch-first? YES\n",
    "- NLLLOSS? NO\n",
    "- data loader? NO"
   ]
  }
 ],
 "metadata": {
  "kernelspec": {
   "display_name": "torch",
   "language": "python",
   "name": "python3"
  },
  "language_info": {
   "codemirror_mode": {
    "name": "ipython",
    "version": 3
   },
   "file_extension": ".py",
   "mimetype": "text/x-python",
   "name": "python",
   "nbconvert_exporter": "python",
   "pygments_lexer": "ipython3",
   "version": "3.9.13"
  },
  "orig_nbformat": 4,
  "vscode": {
   "interpreter": {
    "hash": "f525c695730c841e052b8d34cf6e8bcfdb8d8f78b4a6432d240c7bfc8c210784"
   }
  }
 },
 "nbformat": 4,
 "nbformat_minor": 2
}
