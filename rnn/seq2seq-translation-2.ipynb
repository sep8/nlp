{
 "cells": [
  {
   "cell_type": "code",
   "execution_count": 1,
   "metadata": {},
   "outputs": [],
   "source": [
    "from __future__ import unicode_literals, print_function, division\n",
    "\n",
    "import torch\n",
    "import torch.nn as nn\n",
    "from torch import optim\n",
    "import torch.nn.functional as F\n",
    "\n",
    "import matplotlib.pyplot as plt\n",
    "import matplotlib.ticker as ticker\n",
    "import random\n"
   ]
  },
  {
   "cell_type": "code",
   "execution_count": 2,
   "metadata": {},
   "outputs": [
    {
     "name": "stdout",
     "output_type": "stream",
     "text": [
      "Reading lines...\n",
      "Read 29371 sentence pairs\n",
      "Trimmed to 2160 sentence pairs\n",
      "Counting words...\n",
      "Counted words:\n",
      "cn 1209\n",
      "en 1431\n",
      "['你在撒谎 。', 'you are lying .']\n"
     ]
    }
   ],
   "source": [
    "device = torch.device(\"cpu\")\n",
    "from get_cn_en_pairs import get_training_pairs, SOS_token, EOS_token, MAX_LENGTH, output_lang, input_lang, tensorFromSentence"
   ]
  },
  {
   "cell_type": "code",
   "execution_count": 3,
   "metadata": {},
   "outputs": [],
   "source": [
    "import time\n",
    "import math\n",
    "\n",
    "def asMinutes(s):\n",
    "    m = math.floor(s / 60)\n",
    "    s -= m * 60\n",
    "    return '%dm %ds' % (m, s)\n",
    "\n",
    "def timeSince(since, percent):\n",
    "    now = time.time()\n",
    "    s = now - since\n",
    "    es = s / (percent)\n",
    "    rs = es - s\n",
    "    return '%s (- %s)' % (asMinutes(s), asMinutes(rs))\n"
   ]
  },
  {
   "cell_type": "code",
   "execution_count": 4,
   "metadata": {},
   "outputs": [],
   "source": [
    "class EncoderRNN(nn.Module):\n",
    "    def __init__(self, input_size, hidden_size):\n",
    "        super(EncoderRNN, self).__init__()\n",
    "        self.hidden_size = hidden_size\n",
    "\n",
    "        self.embedding = nn.Embedding(input_size, hidden_size)\n",
    "        self.gru = nn.GRU(hidden_size, hidden_size)\n",
    "\n",
    "    def forward(self, input, hidden):\n",
    "        embedded = self.embedding(input).view(1, 1, -1)\n",
    "        output, hidden = self.gru(embedded, hidden)\n",
    "        return output, hidden\n",
    "\n",
    "    def initHidden(self):\n",
    "        return torch.zeros(1, 1, self.hidden_size, device=device)\n"
   ]
  },
  {
   "cell_type": "code",
   "execution_count": 5,
   "metadata": {},
   "outputs": [],
   "source": [
    "class DecoderRNN(nn.Module):\n",
    "    def __init__(self, hidden_size, output_size):\n",
    "        super(DecoderRNN, self).__init__()\n",
    "        self.hidden_size = hidden_size\n",
    "        self.output_size = output_size\n",
    "\n",
    "        self.embedding = nn.Embedding(output_size, hidden_size)\n",
    "        self.gru = nn.GRU(hidden_size, hidden_size)\n",
    "        self.out = nn.Linear(hidden_size, output_size)\n",
    "        self.softmax = nn.LogSoftmax(dim=1)\n",
    "\n",
    "    def forward(self, input, hidden):\n",
    "        output = self.embedding(input).view(1, 1, -1)\n",
    "        output = F.relu(output)\n",
    "        output, hidden = self.gru(output, hidden)\n",
    "        output = self.softmax(self.out(output[0]))\n",
    "        return output, hidden\n",
    "\n",
    "    def initHidden(self):\n",
    "        return torch.zeros(1, 1, self.hidden_size, device=device)\n"
   ]
  },
  {
   "cell_type": "code",
   "execution_count": 6,
   "metadata": {},
   "outputs": [],
   "source": [
    "teacher_forcing_ratio = 0.5\n",
    "\n",
    "def train(input_tensor, target_tensor, encoder, decoder, encoder_optimizer, decoder_optimizer, criterion, max_length=MAX_LENGTH):\n",
    "    encoder_hidden = encoder.initHidden()\n",
    "\n",
    "    encoder_optimizer.zero_grad()\n",
    "    decoder_optimizer.zero_grad()\n",
    "\n",
    "    input_length = input_tensor.size(0)\n",
    "    target_length = target_tensor.size(0)\n",
    "\n",
    "    encoder_outputs = torch.zeros(max_length, encoder.hidden_size, device=device)\n",
    "\n",
    "    loss = 0\n",
    "\n",
    "    for ei in range(input_length):\n",
    "        encoder_output, encoder_hidden = encoder(input_tensor[ei], encoder_hidden)\n",
    "        encoder_outputs[ei] = encoder_output[0][0]\n",
    "\n",
    "    decoder_input = torch.tensor([[SOS_token]], device=device)\n",
    "\n",
    "    decoder_hidden = encoder_hidden #\n",
    "\n",
    "    use_teacher_forcing = True if random.random() < teacher_forcing_ratio else False\n",
    "\n",
    "    if use_teacher_forcing:\n",
    "        # Teacher forcing: Feed the target as the next input\n",
    "        for di in range(target_length):\n",
    "            decoder_output, decoder_hidden = decoder(decoder_input, decoder_hidden)\n",
    "            loss += criterion(decoder_output, target_tensor[di])\n",
    "            decoder_input = target_tensor[di]  # Teacher forcing\n",
    "\n",
    "    else:\n",
    "        # Without teacher forcing: use its own predictions as the next input\n",
    "        for di in range(target_length):\n",
    "            decoder_output, decoder_hidden = decoder(decoder_input, decoder_hidden)\n",
    "            topv, topi = decoder_output.topk(1)\n",
    "            decoder_input = topi.squeeze().detach()  # detach from history as input\n",
    "\n",
    "            loss += criterion(decoder_output, target_tensor[di])\n",
    "            if decoder_input.item() == EOS_token:\n",
    "                break\n",
    "\n",
    "    loss.backward()\n",
    "\n",
    "    encoder_optimizer.step()\n",
    "    decoder_optimizer.step()\n",
    "\n",
    "    return loss.item() / target_length\n"
   ]
  },
  {
   "cell_type": "code",
   "execution_count": 7,
   "metadata": {},
   "outputs": [],
   "source": [
    "def trainIters(encoder, decoder, n_iters, print_every=1000, plot_every=100, learning_rate=0.01):\n",
    "    start = time.time()\n",
    "    plot_losses = []\n",
    "    print_loss_total = 0  # Reset every print_every\n",
    "    plot_loss_total = 0  # Reset every plot_every\n",
    "\n",
    "    encoder_optimizer = optim.SGD(encoder.parameters(), lr=learning_rate)\n",
    "    decoder_optimizer = optim.SGD(decoder.parameters(), lr=learning_rate)\n",
    "    training_pairs = get_training_pairs(n_iters)\n",
    "    criterion = nn.NLLLoss()\n",
    "\n",
    "    for iter in range(1, n_iters + 1):\n",
    "        training_pair = training_pairs[iter - 1]\n",
    "        input_tensor = training_pair[0]\n",
    "        target_tensor = training_pair[1]\n",
    "\n",
    "        loss = train(input_tensor, target_tensor, encoder, decoder, encoder_optimizer, decoder_optimizer, criterion)\n",
    "        print_loss_total += loss\n",
    "        plot_loss_total += loss\n",
    "\n",
    "        if iter % print_every == 0:\n",
    "            print_loss_avg = print_loss_total / print_every\n",
    "            print_loss_total = 0\n",
    "            print('%s (%d %d%%) %.4f' % (timeSince(start, iter / n_iters),\n",
    "                                         iter, iter / n_iters * 100, print_loss_avg))\n",
    "\n",
    "        if iter % plot_every == 0:\n",
    "            plot_loss_avg = plot_loss_total / plot_every\n",
    "            plot_losses.append(plot_loss_avg)\n",
    "            plot_loss_total = 0\n",
    "\n",
    "    return plot_losses\n"
   ]
  },
  {
   "cell_type": "code",
   "execution_count": 8,
   "metadata": {},
   "outputs": [],
   "source": [
    "def evaluate(encoder, decoder, sentence, max_length=MAX_LENGTH):\n",
    "    with torch.no_grad():\n",
    "        input_tensor = tensorFromSentence(input_lang, sentence, True)\n",
    "        input_length = input_tensor.size()[0]\n",
    "        encoder_hidden = encoder.initHidden()\n",
    "\n",
    "        encoder_outputs = torch.zeros(max_length, encoder.hidden_size, device=device)\n",
    "\n",
    "        for ei in range(input_length):\n",
    "            encoder_output, encoder_hidden = encoder(input_tensor[ei],encoder_hidden)\n",
    "            encoder_outputs[ei] += encoder_output[0, 0]\n",
    "\n",
    "        decoder_input = torch.tensor([[SOS_token]], device=device)  # SOS\n",
    "\n",
    "        decoder_hidden = encoder_hidden\n",
    "\n",
    "        decoded_words = []\n",
    "        # decoder_attentions = torch.zeros(max_length, max_length)\n",
    "\n",
    "        for di in range(max_length):\n",
    "            decoder_output, decoder_hidden = decoder(decoder_input, decoder_hidden)\n",
    "            topv, topi = decoder_output.data.topk(1)\n",
    "            if topi.item() == EOS_token:\n",
    "                decoded_words.append('<EOS>')\n",
    "                break\n",
    "            else:\n",
    "                decoded_words.append(output_lang.index2word[topi.item()])\n",
    "\n",
    "            decoder_input = topi.squeeze().detach()\n",
    "\n",
    "        return decoded_words\n"
   ]
  },
  {
   "cell_type": "code",
   "execution_count": 9,
   "metadata": {},
   "outputs": [],
   "source": [
    "def evaluateRandomly(encoder, decoder, n=10):\n",
    "    for i in range(n):\n",
    "        pair = random.choice(pairs)\n",
    "        print('>', pair[0])\n",
    "        print('=', pair[1])\n",
    "        output_words = evaluate(encoder, decoder, pair[0])\n",
    "        output_sentence = ' '.join(output_words)\n",
    "        print('<', output_sentence)\n",
    "        print('')\n"
   ]
  },
  {
   "cell_type": "code",
   "execution_count": 10,
   "metadata": {},
   "outputs": [
    {
     "name": "stdout",
     "output_type": "stream",
     "text": [
      "0m 10s (- 18m 6s) (500 1%) 3.5491\n",
      "0m 21s (- 17m 38s) (1000 2%) 3.3600\n",
      "0m 31s (- 17m 1s) (1500 3%) 3.2622\n",
      "0m 41s (- 16m 44s) (2000 4%) 3.2622\n",
      "0m 51s (- 16m 27s) (2500 5%) 3.1676\n",
      "1m 2s (- 16m 15s) (3000 6%) 3.1652\n",
      "1m 12s (- 16m 5s) (3500 7%) 3.0521\n",
      "1m 23s (- 15m 55s) (4000 8%) 2.9646\n",
      "1m 33s (- 15m 46s) (4500 9%) 2.9381\n",
      "1m 43s (- 15m 34s) (5000 10%) 2.7591\n",
      "1m 54s (- 15m 23s) (5500 11%) 2.6773\n",
      "2m 4s (- 15m 14s) (6000 12%) 2.7100\n",
      "2m 14s (- 15m 3s) (6500 13%) 2.5949\n",
      "2m 25s (- 14m 53s) (7000 14%) 2.5629\n",
      "2m 35s (- 14m 43s) (7500 15%) 2.4620\n",
      "2m 46s (- 14m 33s) (8000 16%) 2.4173\n",
      "2m 56s (- 14m 23s) (8500 17%) 2.3622\n",
      "3m 7s (- 14m 13s) (9000 18%) 2.2414\n",
      "3m 17s (- 14m 3s) (9500 19%) 2.2768\n",
      "3m 28s (- 13m 53s) (10000 20%) 2.1055\n",
      "3m 38s (- 13m 43s) (10500 21%) 2.1164\n",
      "3m 49s (- 13m 33s) (11000 22%) 2.0383\n",
      "3m 59s (- 13m 23s) (11500 23%) 1.9915\n",
      "4m 10s (- 13m 13s) (12000 24%) 1.9032\n",
      "4m 20s (- 13m 2s) (12500 25%) 1.8121\n",
      "4m 31s (- 12m 52s) (13000 26%) 1.7376\n",
      "4m 41s (- 12m 42s) (13500 27%) 1.7261\n",
      "4m 52s (- 12m 32s) (14000 28%) 1.6757\n",
      "5m 3s (- 12m 22s) (14500 28%) 1.6305\n",
      "5m 13s (- 12m 12s) (15000 30%) 1.5487\n",
      "5m 24s (- 12m 1s) (15500 31%) 1.5846\n",
      "5m 34s (- 11m 51s) (16000 32%) 1.4880\n",
      "5m 45s (- 11m 41s) (16500 33%) 1.4561\n",
      "5m 56s (- 11m 31s) (17000 34%) 1.4179\n",
      "6m 6s (- 11m 20s) (17500 35%) 1.3347\n",
      "6m 17s (- 11m 10s) (18000 36%) 1.3720\n",
      "6m 27s (- 11m 0s) (18500 37%) 1.2394\n",
      "6m 38s (- 10m 50s) (19000 38%) 1.1796\n",
      "6m 48s (- 10m 39s) (19500 39%) 1.1067\n",
      "6m 57s (- 10m 26s) (20000 40%) 1.1120\n",
      "7m 6s (- 10m 13s) (20500 41%) 1.1406\n",
      "7m 15s (- 10m 0s) (21000 42%) 1.0244\n",
      "7m 24s (- 9m 48s) (21500 43%) 0.9852\n",
      "7m 33s (- 9m 36s) (22000 44%) 0.8885\n",
      "7m 42s (- 9m 24s) (22500 45%) 0.8616\n",
      "7m 51s (- 9m 13s) (23000 46%) 0.9035\n",
      "8m 0s (- 9m 1s) (23500 47%) 0.7871\n",
      "8m 9s (- 8m 50s) (24000 48%) 0.8196\n",
      "8m 19s (- 8m 39s) (24500 49%) 0.7740\n",
      "8m 28s (- 8m 28s) (25000 50%) 0.7976\n",
      "8m 37s (- 8m 17s) (25500 51%) 0.7191\n",
      "8m 46s (- 8m 5s) (26000 52%) 0.6735\n",
      "8m 55s (- 7m 54s) (26500 53%) 0.7378\n",
      "9m 4s (- 7m 44s) (27000 54%) 0.6319\n",
      "9m 14s (- 7m 33s) (27500 55%) 0.6959\n",
      "9m 23s (- 7m 22s) (28000 56%) 0.5631\n",
      "9m 32s (- 7m 11s) (28500 56%) 0.6270\n",
      "9m 41s (- 7m 1s) (29000 57%) 0.5982\n",
      "9m 50s (- 6m 50s) (29500 59%) 0.5236\n",
      "10m 0s (- 6m 40s) (30000 60%) 0.4474\n",
      "10m 9s (- 6m 29s) (30500 61%) 0.4695\n",
      "10m 18s (- 6m 19s) (31000 62%) 0.4853\n",
      "10m 27s (- 6m 8s) (31500 63%) 0.4507\n",
      "10m 36s (- 5m 58s) (32000 64%) 0.4228\n",
      "10m 45s (- 5m 47s) (32500 65%) 0.4481\n",
      "10m 54s (- 5m 37s) (33000 66%) 0.4093\n",
      "11m 3s (- 5m 26s) (33500 67%) 0.3571\n",
      "11m 12s (- 5m 16s) (34000 68%) 0.3751\n",
      "11m 21s (- 5m 5s) (34500 69%) 0.3594\n",
      "13m 32s (- 5m 48s) (35000 70%) 0.3656\n",
      "13m 41s (- 5m 35s) (35500 71%) 0.3178\n",
      "13m 50s (- 5m 22s) (36000 72%) 0.3304\n",
      "13m 58s (- 5m 10s) (36500 73%) 0.2653\n",
      "14m 7s (- 4m 57s) (37000 74%) 0.2810\n",
      "16m 56s (- 5m 38s) (37500 75%) 0.2384\n",
      "17m 6s (- 5m 24s) (38000 76%) 0.2720\n",
      "17m 16s (- 5m 9s) (38500 77%) 0.2707\n",
      "17m 25s (- 4m 54s) (39000 78%) 0.2604\n",
      "17m 35s (- 4m 40s) (39500 79%) 0.2442\n",
      "17m 45s (- 4m 26s) (40000 80%) 0.2227\n",
      "17m 55s (- 4m 12s) (40500 81%) 0.2295\n",
      "18m 6s (- 3m 58s) (41000 82%) 0.1997\n",
      "18m 16s (- 3m 44s) (41500 83%) 0.2206\n",
      "18m 27s (- 3m 30s) (42000 84%) 0.2200\n",
      "18m 38s (- 3m 17s) (42500 85%) 0.1925\n",
      "18m 48s (- 3m 3s) (43000 86%) 0.1976\n",
      "18m 59s (- 2m 50s) (43500 87%) 0.1850\n",
      "19m 10s (- 2m 36s) (44000 88%) 0.2069\n",
      "19m 21s (- 2m 23s) (44500 89%) 0.2140\n",
      "19m 32s (- 2m 10s) (45000 90%) 0.1852\n",
      "19m 43s (- 1m 57s) (45500 91%) 0.2013\n",
      "19m 55s (- 1m 43s) (46000 92%) 0.1927\n",
      "20m 5s (- 1m 30s) (46500 93%) 0.1955\n",
      "20m 15s (- 1m 17s) (47000 94%) 0.1522\n",
      "20m 26s (- 1m 4s) (47500 95%) 0.1707\n",
      "20m 37s (- 0m 51s) (48000 96%) 0.1780\n",
      "20m 48s (- 0m 38s) (48500 97%) 0.1590\n",
      "20m 59s (- 0m 25s) (49000 98%) 0.1850\n",
      "21m 10s (- 0m 12s) (49500 99%) 0.1609\n",
      "21m 21s (- 0m 0s) (50000 100%) 0.1689\n"
     ]
    }
   ],
   "source": [
    "hidden_size = 256\n",
    "encoder1 = EncoderRNN(input_lang.n_words, hidden_size).to(device)\n",
    "decoder1 = DecoderRNN(hidden_size, output_lang.n_words).to(device)\n",
    "\n",
    "train_losses = trainIters(encoder1, decoder1, 50000, print_every=500)\n"
   ]
  },
  {
   "cell_type": "code",
   "execution_count": 11,
   "metadata": {},
   "outputs": [
    {
     "data": {
      "text/plain": [
       "<Figure size 640x480 with 0 Axes>"
      ]
     },
     "metadata": {},
     "output_type": "display_data"
    },
    {
     "data": {
      "image/png": "[encoded data removed]",
      "text/plain": [
       "<Figure size 640x480 with 1 Axes>"
      ]
     },
     "metadata": {},
     "output_type": "display_data"
    }
   ],
   "source": [
    "def showPlot(points):\n",
    "    plt.figure()\n",
    "    fig, ax = plt.subplots()\n",
    "    # this locator puts ticks at regular intervals\n",
    "    loc = ticker.MultipleLocator(base=0.2)\n",
    "    ax.yaxis.set_major_locator(loc)\n",
    "    plt.plot(points)\n",
    "\n",
    "showPlot(train_losses)"
   ]
  },
  {
   "cell_type": "code",
   "execution_count": 12,
   "metadata": {},
   "outputs": [
    {
     "ename": "NameError",
     "evalue": "name 'pairs' is not defined",
     "output_type": "error",
     "traceback": [
      "\u001b[0;31m---------------------------------------------------------------------------\u001b[0m",
      "\u001b[0;31mNameError\u001b[0m                                 Traceback (most recent call last)",
      "\u001b[1;32m/Users/my/repos/nlp/rnn/seq2seq-translation-2.ipynb Cell 12\u001b[0m in \u001b[0;36m1\n\u001b[0;32m----> <a href='vscode-notebook-cell:/Users/my/repos/nlp/rnn/seq2seq-translation-2.ipynb#X33sZmlsZQ%3D%3D?line=0'>1</a>\u001b[0m evaluateRandomly(encoder1, decoder1)\n",
      "\u001b[1;32m/Users/my/repos/nlp/rnn/seq2seq-translation-2.ipynb Cell 12\u001b[0m in \u001b[0;36m3\n\u001b[1;32m      <a href='vscode-notebook-cell:/Users/my/repos/nlp/rnn/seq2seq-translation-2.ipynb#X33sZmlsZQ%3D%3D?line=0'>1</a>\u001b[0m \u001b[39mdef\u001b[39;00m \u001b[39mevaluateRandomly\u001b[39m(encoder, decoder, n\u001b[39m=\u001b[39m\u001b[39m10\u001b[39m):\n\u001b[1;32m      <a href='vscode-notebook-cell:/Users/my/repos/nlp/rnn/seq2seq-translation-2.ipynb#X33sZmlsZQ%3D%3D?line=1'>2</a>\u001b[0m     \u001b[39mfor\u001b[39;00m i \u001b[39min\u001b[39;00m \u001b[39mrange\u001b[39m(n):\n\u001b[0;32m----> <a href='vscode-notebook-cell:/Users/my/repos/nlp/rnn/seq2seq-translation-2.ipynb#X33sZmlsZQ%3D%3D?line=2'>3</a>\u001b[0m         pair \u001b[39m=\u001b[39m random\u001b[39m.\u001b[39mchoice(pairs)\n\u001b[1;32m      <a href='vscode-notebook-cell:/Users/my/repos/nlp/rnn/seq2seq-translation-2.ipynb#X33sZmlsZQ%3D%3D?line=3'>4</a>\u001b[0m         \u001b[39mprint\u001b[39m(\u001b[39m'\u001b[39m\u001b[39m>\u001b[39m\u001b[39m'\u001b[39m, pair[\u001b[39m0\u001b[39m])\n\u001b[1;32m      <a href='vscode-notebook-cell:/Users/my/repos/nlp/rnn/seq2seq-translation-2.ipynb#X33sZmlsZQ%3D%3D?line=4'>5</a>\u001b[0m         \u001b[39mprint\u001b[39m(\u001b[39m'\u001b[39m\u001b[39m=\u001b[39m\u001b[39m'\u001b[39m, pair[\u001b[39m1\u001b[39m])\n",
      "\u001b[0;31mNameError\u001b[0m: name 'pairs' is not defined"
     ]
    }
   ],
   "source": [
    "evaluateRandomly(encoder1, decoder1)"
   ]
  },
  {
   "cell_type": "code",
   "execution_count": null,
   "metadata": {},
   "outputs": [
    {
     "name": "stdout",
     "output_type": "stream",
     "text": [
      "i m free . <EOS>\n"
     ]
    }
   ],
   "source": [
    "output_words = evaluate(encoder1, decoder1, '我是自由')\n",
    "output_sentence = ' '.join(output_words)\n",
    "print(output_sentence)"
   ]
  }
 ],
 "metadata": {
  "kernelspec": {
   "display_name": "torch",
   "language": "python",
   "name": "python3"
  },
  "language_info": {
   "codemirror_mode": {
    "name": "ipython",
    "version": 3
   },
   "file_extension": ".py",
   "mimetype": "text/x-python",
   "name": "python",
   "nbconvert_exporter": "python",
   "pygments_lexer": "ipython3",
   "version": "3.9.13"
  },
  "orig_nbformat": 4,
  "vscode": {
   "interpreter": {
    "hash": "f525c695730c841e052b8d34cf6e8bcfdb8d8f78b4a6432d240c7bfc8c210784"
   }
  }
 },
 "nbformat": 4,
 "nbformat_minor": 2
}
