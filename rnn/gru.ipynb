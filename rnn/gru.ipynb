{
 "cells": [
  {
   "cell_type": "code",
   "execution_count": 1,
   "metadata": {},
   "outputs": [],
   "source": [
    "import torch"
   ]
  },
  {
   "cell_type": "code",
   "execution_count": 2,
   "metadata": {},
   "outputs": [],
   "source": [
    "word2idx = {\n",
    "    \"e\" : 0,\n",
    "    \"h\": 1,\n",
    "    \"l\": 2,\n",
    "    \"o\": 3\n",
    "}\n",
    "\n",
    "idx2word = {}\n",
    "for w in word2idx:\n",
    "    idx2word[word2idx[w]] = w\n",
    "\n",
    "def encode(seq):\n",
    "    return [word2idx[w] for w in seq]\n",
    "\n",
    "def decode(token):\n",
    "    return [idx2word[i] for i in token]\n",
    "\n",
    "def one_hot(idx, len = 4):\n",
    "    hots = []\n",
    "    for i in range(len):\n",
    "        if(i == idx):\n",
    "            hots.append(1)\n",
    "        else:\n",
    "            hots.append(0)\n",
    "    return hots\n",
    "\n",
    "def batch_one_hot(seq):\n",
    "    token = encode(seq)\n",
    "    return [one_hot(i) for i in token]\n"
   ]
  },
  {
   "cell_type": "code",
   "execution_count": 3,
   "metadata": {},
   "outputs": [
    {
     "name": "stdout",
     "output_type": "stream",
     "text": [
      "tensor([[1, 0, 2, 2, 3]])\n",
      "tensor([3, 1, 2, 3, 2])\n"
     ]
    }
   ],
   "source": [
    "num_class = 4\n",
    "input_size = 4\n",
    "hidden_size = 8\n",
    "embedding_size = 10\n",
    "num_layers = 2\n",
    "batch_size = 1\n",
    "seq_len = 5\n",
    "\n",
    "input_seq = \"hello\"\n",
    "output_seq =\"ohlol\"\n",
    "x_data = encode(input_seq)\n",
    "y_data = encode(output_seq)\n",
    "\n",
    "inputs = torch.tensor(x_data).reshape(batch_size, seq_len).long()\n",
    "labels = torch.tensor(y_data).reshape(seq_len).long()\n",
    "print(inputs)\n",
    "print(labels)"
   ]
  },
  {
   "cell_type": "code",
   "execution_count": 4,
   "metadata": {},
   "outputs": [],
   "source": [
    "class Model(torch.nn.Module):\n",
    "    def __init__(self, input_size, embedding_size, hidden_size, num_layers, num_class):\n",
    "         super(Model, self).__init__()\n",
    "         self.hidden_size = hidden_size\n",
    "         self.num_layers = num_layers\n",
    "         self.num_class = num_class\n",
    "         self.emb = torch.nn.Embedding(input_size, embedding_size)\n",
    "         self.rnn = torch.nn.GRU(input_size=embedding_size, hidden_size=hidden_size, num_layers=num_layers, batch_first=True)\n",
    "         self.fc = torch.nn.Linear(hidden_size, num_class)\n",
    "\n",
    "    def forward(self, x):\n",
    "        hidden = torch.zeros(self.num_layers, x.size(0), self.hidden_size)\n",
    "        x = self.emb(x)\n",
    "        x, _ = self.rnn(x, hidden)\n",
    "        x = self.fc(x)\n",
    "        return x.view(-1, self.num_class)\n",
    "\n",
    "net = Model(input_size, embedding_size, hidden_size, num_layers, num_class)"
   ]
  },
  {
   "cell_type": "code",
   "execution_count": 5,
   "metadata": {},
   "outputs": [],
   "source": [
    "criterion = torch.nn.CrossEntropyLoss()\n",
    "optimizer = torch.optim.Adam(net.parameters(), lr=0.05)"
   ]
  },
  {
   "cell_type": "code",
   "execution_count": 6,
   "metadata": {},
   "outputs": [
    {
     "name": "stdout",
     "output_type": "stream",
     "text": [
      "Predicted string:  lllll, Epoch [1/15] loss=1.233\n",
      "Predicted string:  lllll, Epoch [2/15] loss=1.100\n",
      "Predicted string:  oolll, Epoch [3/15] loss=0.999\n",
      "Predicted string:  oolll, Epoch [4/15] loss=0.893\n",
      "Predicted string:  ohlll, Epoch [5/15] loss=0.804\n",
      "Predicted string:  hhlll, Epoch [6/15] loss=0.726\n",
      "Predicted string:  hhlll, Epoch [7/15] loss=0.640\n",
      "Predicted string:  hhlll, Epoch [8/15] loss=0.552\n",
      "Predicted string:  ohlol, Epoch [9/15] loss=0.458\n",
      "Predicted string:  ohlol, Epoch [10/15] loss=0.354\n",
      "Predicted string:  ohlol, Epoch [11/15] loss=0.248\n",
      "Predicted string:  ohlol, Epoch [12/15] loss=0.164\n",
      "Predicted string:  ohlol, Epoch [13/15] loss=0.109\n",
      "Predicted string:  ohlol, Epoch [14/15] loss=0.073\n",
      "Predicted string:  ohlol, Epoch [15/15] loss=0.049\n"
     ]
    }
   ],
   "source": [
    "for epoch in range(15):\n",
    "    optimizer.zero_grad()\n",
    "    outputs = net(inputs)\n",
    "    loss = criterion(outputs, labels)\n",
    "    loss.backward()\n",
    "    optimizer.step()\n",
    "\n",
    "    _, idx = outputs.max(dim=1)\n",
    "    idx = idx.data.numpy()\n",
    "    print(\"Predicted string: \",\"\".join(idx2word[x] for x in idx), end=\"\")\n",
    "    print(\", Epoch [%d/15] loss=%.3f\" % (epoch + 1, loss.item()))"
   ]
  },
  {
   "cell_type": "code",
   "execution_count": 7,
   "metadata": {},
   "outputs": [],
   "source": [
    "def envalulate_word(model, input):\n",
    "    \n",
    "    with torch.no_grad():\n",
    "        x_data = encode(input)\n",
    "        inputs = torch.tensor(x_data).reshape(1, len(x_data)).long()\n",
    "        outputs = model(inputs)\n",
    "        _, idx = outputs.max(dim=1)\n",
    "        idx = idx.data.numpy()\n",
    "        print(\"Predicted string: \",\"\".join(idx2word[x] for x in idx), end=\"\")"
   ]
  },
  {
   "cell_type": "code",
   "execution_count": 8,
   "metadata": {},
   "outputs": [
    {
     "name": "stdout",
     "output_type": "stream",
     "text": [
      "Predicted string:  ohlol"
     ]
    }
   ],
   "source": [
    "envalulate_word(net, 'hello')"
   ]
  },
  {
   "cell_type": "code",
   "execution_count": null,
   "metadata": {},
   "outputs": [],
   "source": []
  }
 ],
 "metadata": {
  "kernelspec": {
   "display_name": "Python 3.9.13 ('torch')",
   "language": "python",
   "name": "python3"
  },
  "language_info": {
   "codemirror_mode": {
    "name": "ipython",
    "version": 3
   },
   "file_extension": ".py",
   "mimetype": "text/x-python",
   "name": "python",
   "nbconvert_exporter": "python",
   "pygments_lexer": "ipython3",
   "version": "3.9.13 | packaged by conda-forge | (main, May 27 2022, 17:01:00) \n[Clang 13.0.1 ]"
  },
  "orig_nbformat": 4,
  "vscode": {
   "interpreter": {
    "hash": "f525c695730c841e052b8d34cf6e8bcfdb8d8f78b4a6432d240c7bfc8c210784"
   }
  }
 },
 "nbformat": 4,
 "nbformat_minor": 2
}
