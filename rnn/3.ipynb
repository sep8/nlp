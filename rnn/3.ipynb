{
 "cells": [
  {
   "cell_type": "code",
   "execution_count": 7,
   "metadata": {},
   "outputs": [],
   "source": [
    "import torch"
   ]
  },
  {
   "cell_type": "code",
   "execution_count": 16,
   "metadata": {},
   "outputs": [
    {
     "data": {
      "text/plain": [
       "['d', 'e', 'h', 'l', 'l', 'l', 'o', 'o', 'r', 'w', 'w']"
      ]
     },
     "execution_count": 16,
     "metadata": {},
     "output_type": "execute_result"
    }
   ],
   "source": [
    "word = 'hellowworld'\n",
    "sorted(word)"
   ]
  },
  {
   "cell_type": "code",
   "execution_count": 19,
   "metadata": {},
   "outputs": [],
   "source": [
    "word2idx = {\n",
    "    \"d\" : 0,\n",
    "    \"e\": 1,\n",
    "    \"h\": 2,\n",
    "    \"l\": 3,\n",
    "    \"o\": 4,\n",
    "    \"r\": 5,\n",
    "    \"w\": 6\n",
    "}\n",
    "\n",
    "idx2word = {}\n",
    "for w in word2idx:\n",
    "    idx2word[word2idx[w]] = w\n",
    "\n",
    "def encode(seq):\n",
    "    return [word2idx[w] for w in seq]\n",
    "\n",
    "def decode(token):\n",
    "    return [idx2word[i] for i in token]\n",
    "\n",
    "def one_hot(idx, len = len(word2idx)):\n",
    "    hots = []\n",
    "    for i in range(len):\n",
    "        if(i == idx):\n",
    "            hots.append(1)\n",
    "        else:\n",
    "            hots.append(0)\n",
    "    return hots\n",
    "\n",
    "def batch_one_hot(seq):\n",
    "    token = encode(seq)\n",
    "    return [one_hot(i) for i in token]\n"
   ]
  },
  {
   "cell_type": "code",
   "execution_count": 24,
   "metadata": {},
   "outputs": [],
   "source": [
    "input_size = 7\n",
    "seq_len = 10\n",
    "hidden_size = 7\n",
    "batch_size = 1\n",
    "num_layers = 1"
   ]
  },
  {
   "cell_type": "code",
   "execution_count": 28,
   "metadata": {},
   "outputs": [
    {
     "name": "stdout",
     "output_type": "stream",
     "text": [
      "torch.Size([10, 1, 7])\n",
      "torch.Size([10, 7])\n"
     ]
    }
   ],
   "source": [
    "input_seq = \"helloworld\"\n",
    "output_seq =\"worldhello\"\n",
    "x_data = batch_one_hot(input_seq)\n",
    "y_data = batch_one_hot(output_seq)\n",
    "\n",
    "inputs = torch.tensor(x_data).reshape(seq_len, batch_size, input_size).float()\n",
    "labels = torch.tensor(y_data).reshape(-1, input_size).float()\n",
    "print(inputs.shape)\n",
    "print(labels.shape)"
   ]
  },
  {
   "cell_type": "code",
   "execution_count": 29,
   "metadata": {},
   "outputs": [],
   "source": [
    "class Model(torch.nn.Module):\n",
    "    def __init__(self, input_size, hidden_size, batch_size, num_layers):\n",
    "         super(Model, self).__init__()\n",
    "         self.input_size = input_size\n",
    "         self.hidden_size = hidden_size\n",
    "         self.batch_size = batch_size\n",
    "         self.num_layers = num_layers\n",
    "         self.rnn = torch.nn.RNN(input_size=self.input_size, hidden_size=self.hidden_size, num_layers=num_layers)\n",
    "\n",
    "    def forward(self, inputs):\n",
    "        init_hidden = torch.zeros(self.num_layers, self.batch_size, self.hidden_size)\n",
    "        outputs, _ = self.rnn(inputs, init_hidden)\n",
    "        return outputs.view(-1, self.hidden_size)\n",
    "\n",
    "net = Model(input_size, hidden_size, batch_size, num_layers)"
   ]
  },
  {
   "cell_type": "code",
   "execution_count": 30,
   "metadata": {},
   "outputs": [
    {
     "name": "stdout",
     "output_type": "stream",
     "text": [
      "Predicted string:  drrrrrrrro, Epoch [1/15] loss=1.898\n",
      "Predicted string:  dorlrhdoro, Epoch [2/15] loss=1.728\n",
      "Predicted string:  dorldhdlll, Epoch [3/15] loss=1.608\n",
      "Predicted string:  dorldhdlll, Epoch [4/15] loss=1.511\n",
      "Predicted string:  dorldhdlll, Epoch [5/15] loss=1.424\n",
      "Predicted string:  lorldhdlll, Epoch [6/15] loss=1.342\n",
      "Predicted string:  lorldhdllo, Epoch [7/15] loss=1.269\n",
      "Predicted string:  lorldhello, Epoch [8/15] loss=1.210\n",
      "Predicted string:  lorldhello, Epoch [9/15] loss=1.153\n",
      "Predicted string:  lorldhello, Epoch [10/15] loss=1.104\n",
      "Predicted string:  worldhello, Epoch [11/15] loss=1.056\n",
      "Predicted string:  worldhello, Epoch [12/15] loss=1.018\n",
      "Predicted string:  worldhello, Epoch [13/15] loss=0.982\n",
      "Predicted string:  worldhello, Epoch [14/15] loss=0.955\n",
      "Predicted string:  worldhello, Epoch [15/15] loss=0.928\n"
     ]
    }
   ],
   "source": [
    "criterion = torch.nn.CrossEntropyLoss()\n",
    "optimizer = torch.optim.Adam(net.parameters(), lr=0.05)\n",
    "\n",
    "for epoch in range(15):\n",
    "    optimizer.zero_grad()\n",
    "    outputs = net(inputs)\n",
    "    loss = criterion(outputs, labels)\n",
    "    loss.backward()\n",
    "    optimizer.step()\n",
    "\n",
    "    _, idx = outputs.max(dim=1)\n",
    "    idx = idx.data.numpy()\n",
    "    print(\"Predicted string: \",\"\".join(idx2word[x] for x in idx), end=\"\")\n",
    "    print(\", Epoch [%d/15] loss=%.3f\" % (epoch + 1, loss.item()))"
   ]
  },
  {
   "cell_type": "code",
   "execution_count": null,
   "metadata": {},
   "outputs": [],
   "source": []
  }
 ],
 "metadata": {
  "kernelspec": {
   "display_name": "Python 3.9.13 ('torch')",
   "language": "python",
   "name": "python3"
  },
  "language_info": {
   "codemirror_mode": {
    "name": "ipython",
    "version": 3
   },
   "file_extension": ".py",
   "mimetype": "text/x-python",
   "name": "python",
   "nbconvert_exporter": "python",
   "pygments_lexer": "ipython3",
   "version": "3.9.13"
  },
  "orig_nbformat": 4,
  "vscode": {
   "interpreter": {
    "hash": "f525c695730c841e052b8d34cf6e8bcfdb8d8f78b4a6432d240c7bfc8c210784"
   }
  }
 },
 "nbformat": 4,
 "nbformat_minor": 2
}
