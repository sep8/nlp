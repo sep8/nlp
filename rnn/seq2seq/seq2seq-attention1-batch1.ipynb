{
 "cells": [
  {
   "cell_type": "code",
   "execution_count": 17,
   "metadata": {},
   "outputs": [],
   "source": [
    "from __future__ import unicode_literals, print_function, division\n",
    "import random\n",
    "import torch\n",
    "import torch.nn as nn\n",
    "import torch.nn.functional as F\n",
    "from torch import optim\n",
    "import matplotlib.pyplot as plt\n",
    "import matplotlib.ticker as ticker\n",
    "import time\n",
    "from utils import timeSince\n",
    "\n",
    "from cn_cn_data import get_cn_en_dataloader, to_sentence, cn_vocab, en_vocab\n"
   ]
  },
  {
   "cell_type": "code",
   "execution_count": 18,
   "metadata": {},
   "outputs": [
    {
     "name": "stdout",
     "output_type": "stream",
     "text": [
      "length of train_loader 2207\n"
     ]
    }
   ],
   "source": [
    "seq_len = 15\n",
    "max_length = seq_len + 2\n",
    "batch_size = 1\n",
    "\n",
    "cn_vocab_size = len(cn_vocab)\n",
    "en_vocab_size = len(en_vocab)\n",
    "\n",
    "device = torch.device(\"cpu\")\n",
    "train_loader, train_dataset = get_cn_en_dataloader(seq_len, batch_size, device)\n",
    "print('length of train_loader', len(train_loader))"
   ]
  },
  {
   "cell_type": "code",
   "execution_count": 19,
   "metadata": {},
   "outputs": [
    {
     "name": "stdout",
     "output_type": "stream",
     "text": [
      "torch.Size([12, 1]) torch.Size([11, 1])\n",
      "[2, 475, 476, 89, 242, 130, 19, 389, 76, 22, 5, 3]\n",
      "['<sos>', '非', '常', '抱', '歉', '，', '我', '迟', '到', '了', ' 。', '<eos>']\n",
      "[2, 12, 27, 2125, 191, 165, 12, 183, 201, 5, 3]\n",
      "['<sos>', 'I', \"'m\", 'awfully', 'sorry', 'that', 'I', 'was', 'late', '.', '<eos>']\n"
     ]
    }
   ],
   "source": [
    "for i, item in enumerate(train_loader):\n",
    "    print(item[0].shape, item[1].shape)\n",
    "\n",
    "    print([idx.item() for idx in item[0]])\n",
    "    print(to_sentence(item[0], True))\n",
    "    print([idx.item() for idx in item[1]])\n",
    "    print(to_sentence(item[1], False))\n",
    "    break"
   ]
  },
  {
   "cell_type": "code",
   "execution_count": 20,
   "metadata": {},
   "outputs": [],
   "source": [
    "class Encoder(nn.Module):\n",
    "    def __init__(self, input_size, hidden_size, dropout=0.1):\n",
    "        super(Encoder, self).__init__()\n",
    "        self.hidden_size = hidden_size\n",
    "\n",
    "        self.embedding = nn.Embedding(input_size, hidden_size)\n",
    "        self.gru = nn.GRU(hidden_size, hidden_size, batch_first=False)\n",
    "        self.dropout = nn.Dropout(dropout)\n",
    "\n",
    "    def forward(self, input, hidden):\n",
    "        embedded = self.dropout(self.embedding(input)).view(1, 1, -1)\n",
    "        output, hidden = self.gru(embedded, hidden)\n",
    "        return output, hidden\n",
    "    \n",
    "    def initHidden(self, batch_size=1):\n",
    "        return torch.zeros(1, batch_size, self.hidden_size, device=device)\n"
   ]
  },
  {
   "cell_type": "code",
   "execution_count": 21,
   "metadata": {},
   "outputs": [],
   "source": [
    "class Attention(nn.Module):\n",
    "    def __init__(self, hidden_size, max_length):\n",
    "        super().__init__()\n",
    "        self.max_length = max_length\n",
    "        self.attn = nn.Linear(hidden_size * 2, max_length)\n",
    "        self.attn_combine = nn.Linear(hidden_size * 2, hidden_size, bias=False)\n",
    "        self.softmax = nn.Softmax(dim=1)\n",
    "\n",
    "    def forward(self, embedded_input, hidden, encoder_outputs):\n",
    "        # embedded_input -> (1, batch, hidden_size)\n",
    "        # hidden -> (1, batch, hidden_size)\n",
    "        # encoder_outputs-> (batch, seq_len, hidden_size)\n",
    "\n",
    "        input = torch.cat((embedded_input[0], hidden[0]), 1) # (batch, hidden_size + emb_dim)\n",
    "        attn_weights = self.softmax(self.attn(input)) # (batch, max_length)\n",
    "        input_encoder_outputs = torch.bmm(attn_weights.unsqueeze(0), encoder_outputs) # (1, batch, hidden_size)\n",
    "                                          \n",
    "        input_encoder_outputs_reapplied_embedded = torch.cat((embedded_input[0], input_encoder_outputs[0]), 1) # (batch, emb_dim + hidden_size)\n",
    "        attn_combined = F.relu(self.attn_combine(input_encoder_outputs_reapplied_embedded).unsqueeze(0)) # (1, batch, hidden_size)\n",
    "        return attn_combined, attn_weights\n"
   ]
  },
  {
   "cell_type": "code",
   "execution_count": 22,
   "metadata": {},
   "outputs": [],
   "source": [
    "class Decoder(nn.Module):\n",
    "    def __init__(self, hidden_size, output_size, dropout=0.1, max_length=max_length):\n",
    "        super().__init__()\n",
    "        self.attention = Attention(hidden_size, max_length)\n",
    "        self.hidden_size = hidden_size\n",
    "        self.output_size = output_size\n",
    "        self.embedding = nn.Embedding(output_size, hidden_size)\n",
    "        self.gru = nn.GRU(hidden_size, hidden_size)\n",
    "        self.out = nn.Linear(hidden_size, output_size)\n",
    "        self.dropout = nn.Dropout(dropout)\n",
    "\n",
    "    def forward(self, input, hidden, encoder_outputs):\n",
    "        # -> [batch size, seq len, hidden size]\n",
    "        encoder_outputs = encoder_outputs.permute(1, 0, 2)\n",
    "        # input = [batch size, 1]\n",
    "        # hidden = [1, batch size, hidden_size]\n",
    "        # encoder_outputs = [src len, batch size, hidden_size]\n",
    "\n",
    "        # embedded = [batch size, hidden_size]\n",
    "        embedded = self.dropout(self.embedding(input))\n",
    "        # embedded = [1, batch size, hidden_size]\n",
    "        embedded = embedded.unsqueeze(0)\n",
    "\n",
    "        # attn_combined -> (1, batch, hidden_size), attn_weights -> (batch, max_length)\n",
    "        attn_combined, attn_weights = self.attention(embedded, hidden, encoder_outputs)\n",
    "        # output = [seq len, batch size, hidden_size], hidden = [n_layers, batch size, hidden_size]\n",
    "        output, hidden = self.gru(attn_combined, hidden)\n",
    "        output = self.out(output[0])\n",
    "        \n",
    "        return output, hidden, attn_weights\n"
   ]
  },
  {
   "cell_type": "code",
   "execution_count": 23,
   "metadata": {},
   "outputs": [],
   "source": [
    "teacher_forcing_ratio = 0.5\n",
    "\n",
    "\n",
    "def train(input_tensor, target_tensor, encoder, decoder, encoder_optimizer, decoder_optimizer, criterion, max_length=max_length):\n",
    "    encoder_optimizer.zero_grad()\n",
    "    decoder_optimizer.zero_grad()\n",
    "\n",
    "    input_length = input_tensor.size(0)\n",
    "    batch_size = input_tensor.size(1)\n",
    "    target_length = target_tensor.size(0)\n",
    "\n",
    "    loss = 0\n",
    "\n",
    "    encoder_hidden = encoder.initHidden()\n",
    "    encoder_outputs = torch.zeros(max_length, batch_size, encoder.hidden_size, device=device)\n",
    "    for i in range(input_length):\n",
    "        encoder_output, encoder_hidden = encoder(input_tensor[i], encoder_hidden)\n",
    "        encoder_outputs[i] = encoder_output[0]\n",
    "\n",
    "    decoder_input = input_tensor[0]\n",
    "\n",
    "    decoder_hidden = encoder_hidden\n",
    "\n",
    "    use_teacher_forcing = True if random.random() < teacher_forcing_ratio else False\n",
    "\n",
    "    if use_teacher_forcing:\n",
    "        # Teacher forcing: Feed the target as the next input\n",
    "        for di in range(target_length):\n",
    "            decoder_output, decoder_hidden, decoder_attention = decoder(decoder_input, decoder_hidden, encoder_outputs)\n",
    "\n",
    "            target = target_tensor[di]\n",
    "            loss += criterion(decoder_output, target)\n",
    "            decoder_input = target  # Teacher forcing\n",
    "\n",
    "    else:\n",
    "        # Without teacher forcing: use its own predictions as the next input\n",
    "        for di in range(target_length):\n",
    "            decoder_output, decoder_hidden, decoder_attention = decoder(decoder_input, decoder_hidden, encoder_outputs)\n",
    "            topv, topi = decoder_output.topk(1)\n",
    "            decoder_input = topi.squeeze(1).detach()  # detach from history as input\n",
    "\n",
    "            target = target_tensor[di]\n",
    "            loss += criterion(decoder_output, target)\n",
    "\n",
    "    loss.backward()\n",
    "\n",
    "    encoder_optimizer.step()\n",
    "    decoder_optimizer.step()\n",
    "\n",
    "    return loss.item() / target_length\n"
   ]
  },
  {
   "cell_type": "code",
   "execution_count": 24,
   "metadata": {},
   "outputs": [],
   "source": [
    "def trainIters(encoder, decoder, train_loader, print_every=100, plot_every=10, learning_rate=0.01):\n",
    "    start = time.time()\n",
    "    plot_losses = []\n",
    "    print_loss_total = 0  # Reset every print_every\n",
    "    plot_loss_total = 0  # Reset every plot_every\n",
    "\n",
    "    encoder_optimizer = optim.SGD(encoder.parameters(), lr=learning_rate)\n",
    "    decoder_optimizer = optim.SGD(decoder.parameters(), lr=learning_rate)\n",
    "    criterion = nn.CrossEntropyLoss()\n",
    "    # criterion = nn.CrossEntropyLoss(ignore_index=cn_vocab['<pad>'])\n",
    "    n_iters = len(train_loader)\n",
    "\n",
    "    for iter, data in enumerate(train_loader, 1):\n",
    "        input_tensor, target_tensor = data\n",
    "\n",
    "        loss = train(input_tensor, target_tensor, encoder, decoder, encoder_optimizer, decoder_optimizer, criterion)\n",
    "        print_loss_total += loss\n",
    "        plot_loss_total += loss\n",
    "\n",
    "        if iter % print_every == 0:\n",
    "            print_loss_avg = print_loss_total / print_every\n",
    "            print_loss_total = 0\n",
    "            print('%s (%d %d%%) %.4f' % (timeSince(start, iter / n_iters),\n",
    "                                         iter, iter / n_iters * 100, print_loss_avg))\n",
    "\n",
    "        if iter % plot_every == 0:\n",
    "            plot_loss_avg = plot_loss_total / plot_every\n",
    "            plot_losses.append(plot_loss_avg)\n",
    "            plot_loss_total = 0\n",
    "\n",
    "    return plot_losses\n"
   ]
  },
  {
   "cell_type": "code",
   "execution_count": 25,
   "metadata": {},
   "outputs": [
    {
     "name": "stdout",
     "output_type": "stream",
     "text": [
      "--------------epoch 1--------------\n",
      "0m 23s (- 1m 21s) (500 22%) 4.2375\n",
      "0m 48s (- 0m 57s) (1000 45%) 3.6136\n",
      "1m 12s (- 0m 33s) (1500 67%) 3.2856\n",
      "1m 36s (- 0m 9s) (2000 90%) 3.1284\n",
      "--------------epoch 2--------------\n",
      "0m 23s (- 1m 21s) (500 22%) 2.9229\n",
      "0m 47s (- 0m 57s) (1000 45%) 2.8869\n",
      "1m 12s (- 0m 33s) (1500 67%) 2.8545\n",
      "1m 36s (- 0m 9s) (2000 90%) 2.8563\n",
      "--------------epoch 3--------------\n",
      "0m 23s (- 1m 20s) (500 22%) 2.5261\n",
      "0m 47s (- 0m 57s) (1000 45%) 2.5316\n",
      "1m 11s (- 0m 33s) (1500 67%) 2.5133\n",
      "1m 36s (- 0m 9s) (2000 90%) 2.4944\n",
      "--------------epoch 4--------------\n",
      "0m 24s (- 1m 22s) (500 22%) 2.2156\n",
      "0m 48s (- 0m 58s) (1000 45%) 2.2084\n",
      "1m 12s (- 0m 34s) (1500 67%) 2.2647\n",
      "1m 36s (- 0m 9s) (2000 90%) 2.1918\n",
      "--------------epoch 5--------------\n",
      "0m 23s (- 1m 21s) (500 22%) 1.9137\n",
      "0m 47s (- 0m 57s) (1000 45%) 1.9908\n",
      "1m 11s (- 0m 33s) (1500 67%) 2.0003\n",
      "1m 36s (- 0m 9s) (2000 90%) 2.0253\n",
      "--------------epoch 6--------------\n",
      "0m 23s (- 1m 20s) (500 22%) 1.7332\n",
      "0m 47s (- 0m 57s) (1000 45%) 1.6933\n",
      "1m 12s (- 0m 33s) (1500 67%) 1.7752\n",
      "1m 35s (- 0m 9s) (2000 90%) 1.7711\n",
      "--------------epoch 7--------------\n",
      "0m 22s (- 1m 18s) (500 22%) 1.4800\n",
      "0m 45s (- 0m 55s) (1000 45%) 1.4637\n",
      "1m 8s (- 0m 32s) (1500 67%) 1.5832\n",
      "1m 31s (- 0m 9s) (2000 90%) 1.5361\n",
      "--------------epoch 8--------------\n",
      "0m 22s (- 1m 17s) (500 22%) 1.2714\n",
      "0m 45s (- 0m 54s) (1000 45%) 1.2912\n",
      "1m 8s (- 0m 32s) (1500 67%) 1.3430\n",
      "1m 31s (- 0m 9s) (2000 90%) 1.3856\n",
      "--------------epoch 9--------------\n",
      "0m 22s (- 1m 17s) (500 22%) 1.0209\n",
      "0m 45s (- 0m 54s) (1000 45%) 1.1695\n",
      "1m 8s (- 0m 32s) (1500 67%) 1.1807\n",
      "1m 31s (- 0m 9s) (2000 90%) 1.1550\n",
      "--------------epoch 10--------------\n",
      "0m 22s (- 1m 17s) (500 22%) 0.9084\n",
      "0m 45s (- 0m 54s) (1000 45%) 0.9153\n",
      "1m 8s (- 0m 32s) (1500 67%) 1.0450\n",
      "1m 30s (- 0m 9s) (2000 90%) 1.0253\n",
      "--------------epoch 11--------------\n",
      "0m 23s (- 1m 18s) (500 22%) 0.7954\n",
      "0m 47s (- 0m 57s) (1000 45%) 0.7952\n",
      "1m 11s (- 0m 33s) (1500 67%) 0.8549\n",
      "1m 35s (- 0m 9s) (2000 90%) 0.9162\n",
      "--------------epoch 12--------------\n",
      "0m 23s (- 1m 21s) (500 22%) 0.6285\n",
      "0m 48s (- 0m 57s) (1000 45%) 0.6623\n",
      "1m 11s (- 0m 33s) (1500 67%) 0.7606\n",
      "1m 36s (- 0m 9s) (2000 90%) 0.8090\n",
      "--------------epoch 13--------------\n",
      "0m 24s (- 1m 23s) (500 22%) 0.5208\n",
      "0m 48s (- 0m 58s) (1000 45%) 0.5828\n",
      "1m 11s (- 0m 33s) (1500 67%) 0.6030\n",
      "1m 36s (- 0m 9s) (2000 90%) 0.6691\n",
      "--------------epoch 14--------------\n",
      "0m 23s (- 1m 21s) (500 22%) 0.4232\n",
      "0m 48s (- 0m 57s) (1000 45%) 0.5002\n",
      "1m 12s (- 0m 34s) (1500 67%) 0.5143\n",
      "1m 36s (- 0m 9s) (2000 90%) 0.5845\n",
      "--------------epoch 15--------------\n",
      "0m 24s (- 1m 22s) (500 22%) 0.3548\n",
      "0m 47s (- 0m 57s) (1000 45%) 0.3727\n",
      "1m 12s (- 0m 33s) (1500 67%) 0.4635\n",
      "1m 36s (- 0m 9s) (2000 90%) 0.4708\n"
     ]
    }
   ],
   "source": [
    "hidden_size = 256\n",
    "encoder1 = Encoder(cn_vocab_size, hidden_size).to(device)\n",
    "decoder1 = Decoder(hidden_size, en_vocab_size).to(device)\n",
    "\n",
    "train_losses = []\n",
    "for i in range(15):\n",
    "    print('--------------epoch %d--------------' % (i + 1))\n",
    "    losses = trainIters(encoder1, decoder1, train_loader, print_every=500)\n",
    "    train_losses = train_losses + losses"
   ]
  },
  {
   "cell_type": "code",
   "execution_count": 26,
   "metadata": {},
   "outputs": [
    {
     "data": {
      "text/plain": [
       "<Figure size 640x480 with 0 Axes>"
      ]
     },
     "metadata": {},
     "output_type": "display_data"
    },
    {
     "data": {
      "image/png": "[encoded data removed]",
      "text/plain": [
       "<Figure size 640x480 with 1 Axes>"
      ]
     },
     "metadata": {},
     "output_type": "display_data"
    }
   ],
   "source": [
    "def showPlot(points):\n",
    "    plt.figure()\n",
    "    fig, ax = plt.subplots()\n",
    "    # this locator puts ticks at regular intervals\n",
    "    loc = ticker.MultipleLocator(base=0.2)\n",
    "    ax.yaxis.set_major_locator(loc)\n",
    "    plt.plot(points)\n",
    "\n",
    "\n",
    "showPlot(train_losses)\n"
   ]
  },
  {
   "cell_type": "code",
   "execution_count": 27,
   "metadata": {},
   "outputs": [],
   "source": [
    "encoder_path = './models/seq2seq6-encoder.pt'\n",
    "decoder_path = './models/seq2seq6-decoder.pt'\n"
   ]
  },
  {
   "cell_type": "code",
   "execution_count": 28,
   "metadata": {},
   "outputs": [],
   "source": [
    "torch.save(encoder1.state_dict(), encoder_path)\n",
    "torch.save(decoder1.state_dict(), decoder_path)\n"
   ]
  },
  {
   "cell_type": "code",
   "execution_count": 42,
   "metadata": {},
   "outputs": [],
   "source": [
    "def evaluate(encoder, decoder, sentence, max_length=max_length):\n",
    "    with torch.no_grad():\n",
    "        input_tensor = train_dataset.tokenize_sentence(sentence, True).unsqueeze(0)\n",
    "        input_tensor = input_tensor.permute(1, 0)\n",
    "        input_length = input_tensor.size(0)\n",
    "\n",
    "        encoder_hidden = encoder.initHidden()\n",
    "        encoder_outputs = torch.zeros(max_length, batch_size, encoder.hidden_size, device=device)\n",
    "        for i in range(input_length):\n",
    "            encoder_output, encoder_hidden = encoder(input_tensor[i], encoder_hidden)\n",
    "            encoder_outputs[i] = encoder_output[0]\n",
    "\n",
    "        decoder_input = torch.tensor([cn_vocab['<sos>']], device=device)  # SOS\n",
    "\n",
    "        decoder_hidden = encoder_hidden\n",
    "\n",
    "        decoded_words = []\n",
    "        decoder_attentions = torch.zeros(max_length, max_length)\n",
    "\n",
    "        for di in range(max_length):\n",
    "            decoder_output, decoder_hidden, decoder_attention = decoder(decoder_input, decoder_hidden, encoder_outputs)\n",
    "            topv, topi = decoder_output.data.topk(1)\n",
    "            decoder_attentions[di] = decoder_attention.squeeze().data\n",
    "            if topi.item() == en_vocab['<eos>']:\n",
    "                decoded_words.append('<EOS>')\n",
    "                break\n",
    "            else:\n",
    "                decoded_words.append(en_vocab.lookup_token(topi.item()))\n",
    "\n",
    "            decoder_input = topi.squeeze(1).detach()\n",
    "\n",
    "        return decoded_words, decoder_attentions[:di + 1]\n"
   ]
  },
  {
   "cell_type": "code",
   "execution_count": 43,
   "metadata": {},
   "outputs": [],
   "source": [
    "def evaluateRandomly(encoder, decoder, n=10):\n",
    "    for i in range(n):\n",
    "        pair = random.choice(train_dataset.pairs)\n",
    "        print('>', pair[0])\n",
    "        print('=', pair[1])\n",
    "        output_words, _ = evaluate(encoder, decoder, pair[0])\n",
    "        output_sentence = ' '.join(output_words)\n",
    "        print('<', output_sentence)\n",
    "        print('')\n"
   ]
  },
  {
   "cell_type": "code",
   "execution_count": 31,
   "metadata": {},
   "outputs": [
    {
     "data": {
      "text/plain": [
       "<All keys matched successfully>"
      ]
     },
     "execution_count": 31,
     "metadata": {},
     "output_type": "execute_result"
    }
   ],
   "source": [
    "encoder2 = Encoder(cn_vocab_size, hidden_size).to(device)\n",
    "decoder2 = Decoder(hidden_size, en_vocab_size).to(device)\n",
    "\n",
    "encoder2.load_state_dict(torch.load(encoder_path))\n",
    "decoder2.load_state_dict(torch.load(decoder_path))\n"
   ]
  },
  {
   "cell_type": "code",
   "execution_count": 44,
   "metadata": {},
   "outputs": [
    {
     "name": "stdout",
     "output_type": "stream",
     "text": [
      "> 我确定汤姆想来。\n",
      "= I'm sure Tom wanted to come along.\n",
      "< <sos> I 'm sure Tom wanted to come along . <EOS>\n",
      "\n",
      "> 她擅长打网球。\n",
      "= She is good at playing tennis.\n",
      "< <sos> She is good at playing tennis . <EOS>\n",
      "\n",
      "> 恐怕已经没有咖啡了。\n",
      "= I'm afraid that there isn't any coffee left.\n",
      "< <sos> I 'm afraid there is n't any any coffee left . <EOS>\n",
      "\n",
      "> 我厌倦了阅读。\n",
      "= I am tired of reading.\n",
      "< <sos> I 'm tired of reading . <EOS>\n",
      "\n",
      "> 我为我的孩子们感到很骄傲。\n",
      "= I'm so proud of my boys.\n",
      "< <sos> I 'm so proud of my boys . <EOS>\n",
      "\n",
      "> 我的右眼瞎了。\n",
      "= I am blind in the right eye.\n",
      "< <sos> I 'm blind in the right eye . <EOS>\n",
      "\n",
      "> 我不确定当时我正在想什么。\n",
      "= I'm not sure what I was thinking.\n",
      "< <sos> I 'm not sure what I was thinking . <EOS>\n",
      "\n",
      "> 我怕我冒犯了你。\n",
      "= I'm afraid I've offended you.\n",
      "< <sos> I 'm afraid I I you you . <EOS>\n",
      "\n",
      "> 我不是笨蛋。\n",
      "= I am not stupid.\n",
      "< <sos> I 'm not stupid . <EOS>\n",
      "\n",
      "> 他们年龄相仿。\n",
      "= They are about the same age.\n",
      "< <sos> They are about the same age . <EOS>\n",
      "\n"
     ]
    }
   ],
   "source": [
    "evaluateRandomly(encoder2, decoder2)\n"
   ]
  },
  {
   "cell_type": "code",
   "execution_count": 40,
   "metadata": {},
   "outputs": [
    {
     "name": "stdout",
     "output_type": "stream",
     "text": [
      "<sos> I 'm not sure . <EOS>\n"
     ]
    },
    {
     "data": {
      "text/plain": [
       "<matplotlib.image.AxesImage at 0x285934f70>"
      ]
     },
     "execution_count": 40,
     "metadata": {},
     "output_type": "execute_result"
    },
    {
     "data": {
      "image/png": "[encoded data removed]",
      "text/plain": [
       "<Figure size 1165.71x480 with 1 Axes>"
      ]
     },
     "metadata": {},
     "output_type": "display_data"
    }
   ],
   "source": [
    "output_words, attentions = evaluate(encoder2, decoder2, \"我不确定。\")\n",
    "output_sentence = ' '.join(output_words)\n",
    "print(output_sentence)\n",
    "\n",
    "plt.matshow(attentions.numpy())\n"
   ]
  },
  {
   "cell_type": "code",
   "execution_count": 45,
   "metadata": {},
   "outputs": [
    {
     "name": "stdout",
     "output_type": "stream",
     "text": [
      "input = 我不确定。\n",
      "output = <sos> I 'm not sure . <EOS>\n"
     ]
    },
    {
     "name": "stderr",
     "output_type": "stream",
     "text": [
      "/var/folders/3k/289x66ks5l76g3clryd7kl5c0000gn/T/ipykernel_1246/1027977718.py:9: UserWarning: FixedFormatter should only be used together with FixedLocator\n",
      "  ax.set_xticklabels([''] + list(input_sentence) +\n",
      "/var/folders/3k/289x66ks5l76g3clryd7kl5c0000gn/T/ipykernel_1246/1027977718.py:11: UserWarning: FixedFormatter should only be used together with FixedLocator\n",
      "  ax.set_yticklabels([''] + output_words)\n"
     ]
    },
    {
     "data": {
      "image/png": "[encoded data removed]",
      "text/plain": [
       "<Figure size 640x480 with 2 Axes>"
      ]
     },
     "metadata": {},
     "output_type": "display_data"
    }
   ],
   "source": [
    "def showAttention(input_sentence, output_words, attentions):\n",
    "    # Set up figure with colorbar\n",
    "    fig = plt.figure()\n",
    "    ax = fig.add_subplot(111)\n",
    "    cax = ax.matshow(attentions.numpy(), cmap='bone')\n",
    "    fig.colorbar(cax)\n",
    "\n",
    "    # Set up axes\n",
    "    ax.set_xticklabels([''] + list(input_sentence) +\n",
    "                       ['<EOS>'], rotation=90)\n",
    "    ax.set_yticklabels([''] + output_words)\n",
    "\n",
    "    # Show label at every tick\n",
    "    ax.xaxis.set_major_locator(ticker.MultipleLocator(1))\n",
    "    ax.yaxis.set_major_locator(ticker.MultipleLocator(1))\n",
    "\n",
    "    plt.show()\n",
    "\n",
    "\n",
    "def evaluateAndShowAttention(input_sentence):\n",
    "    output_words, attentions = evaluate(encoder2, decoder2, input_sentence)\n",
    "    print('input =', input_sentence)\n",
    "    print('output =', ' '.join(output_words))\n",
    "    showAttention(input_sentence, output_words, attentions)\n",
    "\n",
    "\n",
    "evaluateAndShowAttention(\"我不确定。\")\n"
   ]
  },
  {
   "cell_type": "code",
   "execution_count": null,
   "metadata": {},
   "outputs": [],
   "source": [
    "cn_vocab.get_stoi()['.']"
   ]
  },
  {
   "cell_type": "code",
   "execution_count": null,
   "metadata": {},
   "outputs": [],
   "source": []
  }
 ],
 "metadata": {
  "kernelspec": {
   "display_name": "torch",
   "language": "python",
   "name": "python3"
  },
  "language_info": {
   "codemirror_mode": {
    "name": "ipython",
    "version": 3
   },
   "file_extension": ".py",
   "mimetype": "text/x-python",
   "name": "python",
   "nbconvert_exporter": "python",
   "pygments_lexer": "ipython3",
   "version": "3.9.13"
  },
  "orig_nbformat": 4,
  "vscode": {
   "interpreter": {
    "hash": "f525c695730c841e052b8d34cf6e8bcfdb8d8f78b4a6432d240c7bfc8c210784"
   }
  }
 },
 "nbformat": 4,
 "nbformat_minor": 2
}
