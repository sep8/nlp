{
 "cells": [
  {
   "cell_type": "code",
   "execution_count": 20,
   "metadata": {},
   "outputs": [],
   "source": [
    "import torch\n",
    "from torch import nn\n",
    "from torchtext.data.utils import get_tokenizer\n",
    "from collections import Counter\n",
    "from torch.utils.data import DataLoader, Dataset\n",
    "from torchtext.vocab import vocab\n",
    "from torch.nn.utils.rnn import pad_sequence\n",
    "import torch.nn.functional as F\n",
    "import torch.optim as optim\n",
    "import random\n",
    "import time\n",
    "import math\n",
    "import matplotlib.pyplot as plt\n",
    "import matplotlib.ticker as ticker"
   ]
  },
  {
   "cell_type": "code",
   "execution_count": 21,
   "metadata": {},
   "outputs": [],
   "source": [
    "# import re\n",
    "# def get_translation_texts(input_file='data/deu.txt', output_file='data/en-de.txt'):\n",
    "#   regex = r\"\\tCC-BY 2.0.+$\"\n",
    "#   lines = open(input_file, encoding='utf-8').read().strip().split('\\n')\n",
    "#   lines = [re.sub(regex, '', line) for line in lines]\n",
    "#   file = open(output_file,'w')\n",
    "#   for line in lines:\n",
    "#     file.write(line+\"\\n\")\n",
    "#   file.close()\n",
    "\n",
    "# get_translation_texts()"
   ]
  },
  {
   "cell_type": "code",
   "execution_count": 22,
   "metadata": {},
   "outputs": [
    {
     "data": {
      "text/plain": [
       "<torch._C.Generator at 0x130742bf0>"
      ]
     },
     "execution_count": 22,
     "metadata": {},
     "output_type": "execute_result"
    }
   ],
   "source": [
    "SEED = 1234\n",
    "\n",
    "random.seed(SEED)\n",
    "torch.manual_seed(SEED)"
   ]
  },
  {
   "cell_type": "code",
   "execution_count": 23,
   "metadata": {},
   "outputs": [],
   "source": [
    "device = torch.device('cpu')\n",
    "max_lines = None\n",
    "batch_size = 128"
   ]
  },
  {
   "cell_type": "code",
   "execution_count": 24,
   "metadata": {},
   "outputs": [
    {
     "name": "stdout",
     "output_type": "stream",
     "text": [
      "lang1_vocab_vocab_size 12030\n",
      "lang2_vocab_size 23470\n"
     ]
    }
   ],
   "source": [
    "lang1 = 'en'\n",
    "lang2 = 'de'\n",
    "\n",
    "en_tokenizer = get_tokenizer('spacy', language='en_core_web_md')\n",
    "de_tokenizer = get_tokenizer('spacy', language='de_core_news_sm')\n",
    "\n",
    "def lang1_tokenizer(sentence):\n",
    "    \"\"\"\n",
    "    Tokenizes English text from a string into a list of strings\n",
    "    \"\"\"\n",
    "    return [token.lower() for token in en_tokenizer(sentence)]\n",
    "\n",
    "def lang2_tokenizer(sentence):\n",
    "    \"\"\"\n",
    "    Tokenizes German text from a string into a list of strings\n",
    "    \"\"\"\n",
    "    return [token for token in de_tokenizer(sentence)]\n",
    "\n",
    "def build_vocab(lang1='en', lang2='de'):\n",
    "    counter1 = Counter()\n",
    "    counter2 = Counter()\n",
    "    # Read the file and split into lines\n",
    "    lines = open('data/%s-%s.txt' % (lang1, lang2), encoding='utf-8').read().strip().split('\\n')\n",
    "    for l in lines:\n",
    "        l1, l2 = l.split('\\t')\n",
    "        counter1.update(lang1_tokenizer(l1))\n",
    "        counter2.update(lang2_tokenizer(l2))\n",
    "\n",
    "    vocab1 = vocab(counter1, min_freq=2, specials=['<unk>', '<pad>', '<sos>', '<eos>'])\n",
    "    vocab2 = vocab(counter2, min_freq=2, specials=['<unk>', '<pad>', '<sos>', '<eos>'])\n",
    "    vocab1.set_default_index(vocab1[\"<unk>\"])\n",
    "    vocab2.set_default_index(vocab2[\"<unk>\"])\n",
    "    return [vocab1, vocab2]\n",
    "\n",
    "lang1_vocab, lang2_vocab = build_vocab(lang1, lang2)\n",
    "lang1_vocab_size = len(lang1_vocab)\n",
    "lang2_vocab_size = len(lang2_vocab)\n",
    "print('lang1_vocab_vocab_size', lang1_vocab_size)\n",
    "print('lang2_vocab_size', lang2_vocab_size)"
   ]
  },
  {
   "cell_type": "code",
   "execution_count": 25,
   "metadata": {},
   "outputs": [],
   "source": [
    "class TranslationDataset(Dataset):\n",
    "    def __init__(self, lang1, lang2, max_lines, device=torch.device(\"cpu\")):\n",
    "        self.lang1 = lang1\n",
    "        self.lang2 = lang2\n",
    "        self.device = device\n",
    "        self.data = []\n",
    "        self.untokenized_data = []\n",
    "        lines = open('data/%s-%s.txt' % (lang1, lang2), encoding='utf-8').read().strip().split('\\n')\n",
    "        lines.reverse() #use longer data\n",
    "        num_lines = 0\n",
    "        for l in lines:\n",
    "            l1, l2 = l.split('\\t')\n",
    "            if (max_lines is None or max_lines > num_lines):\n",
    "                l1_tokens = self.tokenize_sentence(l1, True)\n",
    "                l2_tokens = self.tokenize_sentence(l2, False)\n",
    "                self.data.append((l1_tokens, l2_tokens))\n",
    "                self.untokenized_data.append((l1, l2))\n",
    "                num_lines += 1\n",
    "\n",
    "        self.len = len(self.data)\n",
    "\n",
    "    def tokenize_sentence(self, sentence, is_lang1):\n",
    "        vocab = lang1_vocab if is_lang1 else lang2_vocab\n",
    "        tokenizer = lang1_tokenizer if is_lang1 else lang2_tokenizer\n",
    "        indexes = [vocab[token] for token in tokenizer(sentence)]\n",
    "        indexes = [vocab['<sos>']] + indexes + [vocab['<eos>']]\n",
    "        return torch.tensor(indexes, dtype=torch.long, device=self.device)\n",
    "\n",
    "    def __getitem__(self, index):\n",
    "        return self.data[index]\n",
    "\n",
    "    def __len__(self):\n",
    "        return self.len"
   ]
  },
  {
   "cell_type": "code",
   "execution_count": 26,
   "metadata": {},
   "outputs": [
    {
     "name": "stdout",
     "output_type": "stream",
     "text": [
      "length of dataset 260433\n"
     ]
    }
   ],
   "source": [
    "dataset = TranslationDataset(lang1, lang2, max_lines, device)\n",
    "print('length of dataset', len(dataset))"
   ]
  },
  {
   "cell_type": "code",
   "execution_count": 27,
   "metadata": {},
   "outputs": [
    {
     "name": "stdout",
     "output_type": "stream",
     "text": [
      "length of train_loader 1628\n",
      "length of val_loader 204\n",
      "length of test_loader 204\n"
     ]
    }
   ],
   "source": [
    "train_set, val_set, test_set = torch.utils.data.random_split(dataset, [0.8, 0.1, 0.1], generator=torch.Generator().manual_seed(SEED))\n",
    "\n",
    "def collate_fn(batch):\n",
    "    source = [item[0] for item in batch] \n",
    "    #pad them using pad_sequence method from pytorch. \n",
    "    source = pad_sequence(source, batch_first=True, padding_value=lang1_vocab['<pad>']) \n",
    "    \n",
    "    #get all target indexed sentences of the batch\n",
    "    target = [item[1] for item in batch] \n",
    "    #pad them using pad_sequence method from pytorch. \n",
    "    target = pad_sequence(target, batch_first=True, padding_value=lang2_vocab['<pad>'])\n",
    "    return source, target\n",
    "\n",
    "train_loader = DataLoader(train_set, batch_size=batch_size, shuffle=True, collate_fn=collate_fn)\n",
    "val_loader = DataLoader(val_set, batch_size=batch_size, shuffle=False, collate_fn=collate_fn)\n",
    "test_loader = DataLoader(test_set, batch_size=batch_size, shuffle=False, collate_fn=collate_fn)\n",
    "\n",
    "print('length of train_loader', len(train_loader))\n",
    "print('length of val_loader', len(val_loader))\n",
    "print('length of test_loader', len(test_loader))\n"
   ]
  },
  {
   "cell_type": "code",
   "execution_count": 28,
   "metadata": {},
   "outputs": [
    {
     "name": "stdout",
     "output_type": "stream",
     "text": [
      "torch.Size([128, 18]) torch.Size([128, 22])\n",
      "[tensor([[   2,  232,  115,  ...,    1,    1,    1],\n",
      "        [   2,   69,  179,  ...,    1,    1,    1],\n",
      "        [   2,   22,  105,  ...,    1,    1,    1],\n",
      "        ...,\n",
      "        [   2,  659, 1245,  ...,    1,    1,    1],\n",
      "        [   2,   22,  878,  ...,    1,    1,    1],\n",
      "        [   2,   69,  539,  ...,    1,    1,    1]])]\n",
      "[tensor([[   2,  426,   25,  ...,    1,    1,    1],\n",
      "        [   2,  133,  268,  ...,    1,    1,    1],\n",
      "        [   2,   32, 2720,  ...,    1,    1,    1],\n",
      "        ...,\n",
      "        [   2, 1215, 2388,  ...,    1,    1,    1],\n",
      "        [   2,   32,  624,  ...,    1,    1,    1],\n",
      "        [   2,  133, 3060,  ...,    1,    1,    1]])]\n"
     ]
    }
   ],
   "source": [
    "for i, item in enumerate(train_loader):\n",
    "    print(item[0].shape, item[1].shape)\n",
    "    print([item[0]])\n",
    "    print([item[1]])\n",
    "    break"
   ]
  },
  {
   "cell_type": "code",
   "execution_count": 29,
   "metadata": {},
   "outputs": [],
   "source": [
    "class Encoder(nn.Module):\n",
    "    def __init__(self, \n",
    "                 input_dim, \n",
    "                 emb_dim, \n",
    "                 hid_dim, \n",
    "                 n_layers, \n",
    "                 kernel_size, \n",
    "                 dropout, \n",
    "                 device,\n",
    "                 max_length = 100):\n",
    "        super().__init__()\n",
    "        \n",
    "        assert kernel_size % 2 == 1, \"Kernel size must be odd!\"\n",
    "        \n",
    "        self.device = device\n",
    "        \n",
    "        self.scale = torch.sqrt(torch.FloatTensor([0.5])).to(device)\n",
    "        \n",
    "        self.tok_embedding = nn.Embedding(input_dim, emb_dim)\n",
    "        self.pos_embedding = nn.Embedding(max_length, emb_dim)\n",
    "        \n",
    "        self.emb2hid = nn.Linear(emb_dim, hid_dim)\n",
    "        self.hid2emb = nn.Linear(hid_dim, emb_dim)\n",
    "        \n",
    "        self.convs = nn.ModuleList([nn.Conv1d(in_channels = hid_dim, \n",
    "                                              out_channels = 2 * hid_dim, \n",
    "                                              kernel_size = kernel_size, \n",
    "                                              padding = (kernel_size - 1) // 2)\n",
    "                                    for _ in range(n_layers)])\n",
    "        \n",
    "        self.dropout = nn.Dropout(dropout)\n",
    "        \n",
    "    def forward(self, input):\n",
    "        #input = (batch_size, seq_len)\n",
    "        batch_size = input.size(0)\n",
    "        seq_len = input.size(1)\n",
    "        \n",
    "        #create position tensor, pos = [0, 1, 2, 3, ..., seq_len - 1], pos = (batch_size, seq_len)\n",
    "        pos = torch.arange(0, seq_len).unsqueeze(0).repeat(batch_size, 1).to(self.device)\n",
    "\n",
    "        #embed tokens and positions, tok_embedded = pos_embedded = [batch_size, seq_len, emb_dim]\n",
    "        tok_embedded = self.tok_embedding(input)\n",
    "        pos_embedded = self.pos_embedding(pos)\n",
    "        \n",
    "        #combine embeddings by elementwise summing, [batch_size, seq_len, emb_dim]\n",
    "        embedded = self.dropout(tok_embedded + pos_embedded)\n",
    "        \n",
    "        #pass embedded through linear layer to convert from emb_dim to hid_dim\n",
    "        conv_input = self.emb2hid(embedded) # [batch_size, seq_len, emb_dim]\n",
    "                \n",
    "        #permute for convolutional layer\n",
    "        conv_input = conv_input.permute(0, 2, 1) # [batch_size, hid_dim, seq_len]\n",
    "        \n",
    "        #begin convolutional blocks...\n",
    "        for i, conv in enumerate(self.convs):\n",
    "            #pass through convolutional layer\n",
    "            conved = conv(self.dropout(conv_input)) # [batch_size, 2 * hid_dim, seq_len]\n",
    "\n",
    "            #pass through GLU activation function\n",
    "            conved = F.glu(conved, dim = 1) # [batch_size, hid_dim, seq_len]\n",
    "\n",
    "            #apply residual connection\n",
    "            conved = (conved + conv_input) * self.scale #[batch_size, hid_dim, seq_len]\n",
    "            \n",
    "            #set conv_input to conved for next loop iteration\n",
    "            conv_input = conved\n",
    "        \n",
    "        #...end convolutional blocks\n",
    "        \n",
    "        #permute and convert back to emb_dim\n",
    "        conved = self.hid2emb(conved.permute(0, 2, 1)) #[batch_size, seq_len, emb_dim]\n",
    "        \n",
    "        #elementwise sum output (conved) and input (embedded) to be used for attention # [seq_len, batch_size, emb_dim]\n",
    "        combined = (conved + embedded) * self.scale\n",
    "        \n",
    "        return conved, combined"
   ]
  },
  {
   "cell_type": "code",
   "execution_count": 30,
   "metadata": {},
   "outputs": [],
   "source": [
    "class Decoder(nn.Module):\n",
    "    def __init__(self, \n",
    "                 output_dim, \n",
    "                 emb_dim, \n",
    "                 hid_dim, \n",
    "                 n_layers, \n",
    "                 kernel_size, \n",
    "                 dropout, \n",
    "                 trg_pad_idx, \n",
    "                 device,\n",
    "                 max_length = 100):\n",
    "        super().__init__()\n",
    "        \n",
    "        self.kernel_size = kernel_size\n",
    "        self.trg_pad_idx = trg_pad_idx\n",
    "        self.device = device\n",
    "        \n",
    "        self.scale = torch.sqrt(torch.FloatTensor([0.5])).to(device)\n",
    "        \n",
    "        self.tok_embedding = nn.Embedding(output_dim, emb_dim)\n",
    "        self.pos_embedding = nn.Embedding(max_length, emb_dim)\n",
    "        \n",
    "        self.emb2hid = nn.Linear(emb_dim, hid_dim)\n",
    "        self.hid2emb = nn.Linear(hid_dim, emb_dim)\n",
    "        \n",
    "        self.attn_hid2emb = nn.Linear(hid_dim, emb_dim)\n",
    "        self.attn_emb2hid = nn.Linear(emb_dim, hid_dim)\n",
    "        \n",
    "        self.fc_out = nn.Linear(emb_dim, output_dim)\n",
    "        \n",
    "        self.convs = nn.ModuleList([nn.Conv1d(in_channels = hid_dim, \n",
    "                                              out_channels = 2 * hid_dim, \n",
    "                                              kernel_size = kernel_size)\n",
    "                                    for _ in range(n_layers)])\n",
    "        \n",
    "        self.dropout = nn.Dropout(dropout)\n",
    "      \n",
    "    def calculate_attention(self, embedded, conved, encoder_conved, encoder_combined):\n",
    "        \n",
    "        #embedded = [batch_size, seq_len, emb_dim]\n",
    "        #conved = [batch_size, hid_dim, seq_len]\n",
    "        #encoder_conved = encoder_combined = [batch_size, seq_len, emb_dim]\n",
    "        \n",
    "        #permute and convert back to emb_dim\n",
    "        conved_emb = self.attn_hid2emb(conved.permute(0, 2, 1)) #[batch_size, seq_len, emb_dim]\n",
    "        \n",
    "        combined = (conved_emb + embedded) * self.scale #[batch_size, seq_len, emb_dim]\n",
    "                \n",
    "        energy = torch.matmul(combined, encoder_conved.permute(0, 2, 1)) # [batch_size, seq_len, seq_len]\n",
    "        \n",
    "        attention = F.softmax(energy, dim=2) # [batch_size, seq_len, seq_len]\n",
    "\n",
    "        attended_encoding = torch.matmul(attention, encoder_combined) # [batch_size, seq_len, emd_dim]\n",
    "        \n",
    "        attended_encoding = self.attn_emb2hid(attended_encoding) # [batch_size, seq_len, hid_dim]\n",
    "        \n",
    "        #apply residual connection\n",
    "        attended_combined = (conved + attended_encoding.permute(0, 2, 1)) * self.scale # [batch_size, hid_dim, seq_len]\n",
    " \n",
    "        return attention, attended_combined\n",
    "        \n",
    "    def forward(self, target, encoder_conved, encoder_combined):\n",
    "        \n",
    "        #trg = [batch_size, seq_len]\n",
    "        #encoder_conved = encoder_combined = [batch_size, seq_len, emb_dim]\n",
    "                \n",
    "        batch_size = target.size(0)\n",
    "        seq_len = target.size(1)\n",
    "            \n",
    "        #create position tensor\n",
    "        pos = torch.arange(0, seq_len).unsqueeze(0).repeat(batch_size, 1).to(self.device) #[batch_size, seq_len]\n",
    "        \n",
    "        #embed tokens and positions\n",
    "        tok_embedded = self.tok_embedding(target) # [batch_size, seq_len, emb_dim]\n",
    "        pos_embedded = self.pos_embedding(pos) # [batch_size, seq_len, emb_dim]\n",
    "        \n",
    "        #combine embeddings by elementwise summing\n",
    "        embedded = self.dropout(tok_embedded + pos_embedded) # [batch_size, seq_len, emb_dim]\n",
    "        \n",
    "        #pass embedded through linear layer to go through emb_dim -> hid_dim\n",
    "        conv_input = self.emb2hid(embedded) # [batch_size, seq_len, hid_dim]\n",
    "        \n",
    "        #permute for convolutional layer\n",
    "        conv_input = conv_input.permute(0, 2, 1) # [batch_size, hid_dim, seq_len]\n",
    "        \n",
    "        batch_size = target.size(0)\n",
    "        hid_dim = conv_input.size(1)\n",
    "        \n",
    "        for i, conv in enumerate(self.convs):\n",
    "        \n",
    "            #apply dropout\n",
    "            conv_input = self.dropout(conv_input)\n",
    "        \n",
    "            #need to pad so decoder can't \"cheat\"\n",
    "            padding = torch.zeros(batch_size, \n",
    "                                  hid_dim, \n",
    "                                  self.kernel_size - 1).fill_(self.trg_pad_idx).to(self.device)\n",
    "                \n",
    "            padded_conv_input = torch.cat((padding, conv_input), dim = 2) # [batch_size, hid_dim, seq_len + kernel size - 1]\n",
    "        \n",
    "            #pass through convolutional layer\n",
    "            conved = conv(padded_conv_input) # [batch_size, 2 * hid_dim, seq_len]\n",
    "            \n",
    "            #pass through GLU activation function\n",
    "            conved = F.glu(conved, dim = 1) # [batch_size, hid_dim, seq_len]\n",
    "            \n",
    "            #calculate attention, [batch_size, seq_len, seq_len]\n",
    "            attention, conved = self.calculate_attention(embedded, \n",
    "                                                         conved, \n",
    "                                                         encoder_conved, \n",
    "                                                         encoder_combined)\n",
    "            \n",
    "            #apply residual connection\n",
    "            conved = (conved + conv_input) * self.scale # [batch_size, hid_dim, seq_len]\n",
    "            \n",
    "            #set conv_input to conved for next loop iteration\n",
    "            conv_input = conved\n",
    "            \n",
    "        conved = self.hid2emb(conved.permute(0, 2, 1)) # [batch_size, seq_len, emb_dim]\n",
    "            \n",
    "        output = self.fc_out(self.dropout(conved)) # [batch_size, seq_len, output dim]\n",
    "            \n",
    "        return output, attention"
   ]
  },
  {
   "cell_type": "code",
   "execution_count": 31,
   "metadata": {},
   "outputs": [],
   "source": [
    "class Seq2Seq(nn.Module):\n",
    "    def __init__(self, encoder, decoder):\n",
    "        super().__init__()\n",
    "        \n",
    "        self.encoder = encoder\n",
    "        self.decoder = decoder\n",
    "        \n",
    "    def forward(self, input, target):\n",
    "        \n",
    "        #input = [batch_size, seq_len]\n",
    "        #target = [batch_size, trg_len-1] (<eos> token sliced off the end)\n",
    "           \n",
    "        #calculate z^u (encoder_conved) and (z^u + e) (encoder_combined)\n",
    "        #encoder_conved is output from final encoder conv block\n",
    "        #encoder_combined is encoder_conved plus (elementwise) input embedding plus positional embeddings \n",
    "        encoder_conved, encoder_combined = self.encoder(input) # both are [batch_size, seq_len, emb dim]\n",
    "            \n",
    "        #calculate predictions of next words\n",
    "        #output is a batch of predictions for each word in the target sentence\n",
    "        #attention a batch of attention scores across the input sentence for each word in the target sentence\n",
    "        output, attention = self.decoder(target, encoder_conved, encoder_combined)\n",
    "        \n",
    "        #output = [batch_size, trg_len-1, output_dim], attention = [batch_size, trg_len-1, seq_len]\n",
    "        \n",
    "        return output, attention"
   ]
  },
  {
   "cell_type": "code",
   "execution_count": 32,
   "metadata": {},
   "outputs": [],
   "source": [
    "INPUT_DIM = lang1_vocab_size\n",
    "OUTPUT_DIM = lang2_vocab_size\n",
    "EMB_DIM = 256\n",
    "HID_DIM = 512 # each conv. layer has 2 * hid_dim filters\n",
    "ENC_LAYERS = 10 # number of conv. blocks in encoder\n",
    "DEC_LAYERS = 10 # number of conv. blocks in decoder\n",
    "ENC_KERNEL_SIZE = 3 # must be odd!\n",
    "DEC_KERNEL_SIZE = 3 # can be even or odd\n",
    "ENC_DROPOUT = 0.25\n",
    "DEC_DROPOUT = 0.25\n",
    "TRG_PAD_IDX = lang2_vocab['<pad>']\n",
    "max_length = 100\n",
    "model_path = 'models/seq2seq_cnn.pt'\n",
    "\n",
    "encoder = Encoder(INPUT_DIM, EMB_DIM, HID_DIM, ENC_LAYERS, ENC_KERNEL_SIZE, ENC_DROPOUT, device, 100)\n",
    "decoder = Decoder(OUTPUT_DIM, EMB_DIM, HID_DIM, DEC_LAYERS, DEC_KERNEL_SIZE, DEC_DROPOUT, TRG_PAD_IDX, device, 100)\n",
    "\n",
    "model = Seq2Seq(encoder, decoder).to(device)"
   ]
  },
  {
   "cell_type": "code",
   "execution_count": 33,
   "metadata": {},
   "outputs": [
    {
     "name": "stdout",
     "output_type": "stream",
     "text": [
      "The model has 47,437,486 trainable parameters\n"
     ]
    }
   ],
   "source": [
    "def count_parameters(model):\n",
    "    return sum(p.numel() for p in model.parameters() if p.requires_grad)\n",
    "\n",
    "print(f'The model has {count_parameters(model):,} trainable parameters')"
   ]
  },
  {
   "cell_type": "code",
   "execution_count": 34,
   "metadata": {},
   "outputs": [],
   "source": [
    "optimizer = optim.Adam(model.parameters())\n",
    "criterion = nn.CrossEntropyLoss(ignore_index = TRG_PAD_IDX)"
   ]
  },
  {
   "cell_type": "code",
   "execution_count": 35,
   "metadata": {},
   "outputs": [],
   "source": [
    "print_every = 50\n",
    "def train(model, iterator, optimizer, criterion, clip):\n",
    "    \n",
    "    model.train()\n",
    "    \n",
    "    epoch_loss = 0\n",
    "    print_loss_total = 0\n",
    "    \n",
    "    for i, (input, target) in enumerate(iterator):\n",
    "        #input = [batch_size, seq_len]\n",
    "        #target = [batch_size, trg_len]\n",
    "\n",
    "        optimizer.zero_grad()\n",
    "        \n",
    "        output, _ = model(input, target[:,:-1]) # [batch_size, trg_len-1, output_dim]\n",
    "        \n",
    "        output_dim = output.size(-1)\n",
    "        \n",
    "        output = output.contiguous().view(-1, output_dim) # [batch_size * (trg_len-1), output_dim]\n",
    "        target = target[:,1:].contiguous().view(-1) # [batch_size * (trg_len - 1)]\n",
    "        \n",
    "        loss = criterion(output, target)\n",
    "        \n",
    "        loss.backward()\n",
    "        \n",
    "        torch.nn.utils.clip_grad_norm_(model.parameters(), clip)\n",
    "        \n",
    "        optimizer.step()\n",
    "        \n",
    "        epoch_loss += loss.item()\n",
    "        print_loss_total += loss.item()\n",
    "        if(i+1 % print_every == 0):\n",
    "            print_loss_avg = print_loss_total / print_every\n",
    "            print_loss_total = 0\n",
    "            print('(%d %d%%) %.4f' % (i, i / len(iterator) * 100, print_loss_avg))\n",
    "        \n",
    "    return epoch_loss / len(iterator)"
   ]
  },
  {
   "cell_type": "code",
   "execution_count": 36,
   "metadata": {},
   "outputs": [],
   "source": [
    "def evaluate(model, iterator, criterion):\n",
    "    \n",
    "    model.eval()\n",
    "    \n",
    "    epoch_loss = 0\n",
    "    \n",
    "    with torch.no_grad():\n",
    "    \n",
    "        for i, (input, target) in enumerate(iterator):\n",
    "            #input = [batch_size, seq_len]\n",
    "            #target = [batch_size, trg_len]\n",
    "\n",
    "            output, _ = model(input, target[:,:-1]) # [batch_size, trg_len-1, output_dim]\n",
    "        \n",
    "            output_dim = output.shape[-1]\n",
    "            \n",
    "            output = output.contiguous().view(-1, output_dim) # [batch_size * (trg_len-1), output_dim]\n",
    "            target = target[:,1:].contiguous().view(-1) # [batch_size * (trg_len - 1)]\n",
    "            \n",
    "            loss = criterion(output, target)\n",
    "\n",
    "            epoch_loss += loss.item()\n",
    "        \n",
    "    return epoch_loss / len(iterator)"
   ]
  },
  {
   "cell_type": "code",
   "execution_count": 37,
   "metadata": {},
   "outputs": [],
   "source": [
    "def epoch_time(start_time, end_time):\n",
    "    elapsed_time = end_time - start_time\n",
    "    elapsed_mins = int(elapsed_time / 60)\n",
    "    elapsed_secs = int(elapsed_time - (elapsed_mins * 60))\n",
    "    return elapsed_mins, elapsed_secs"
   ]
  },
  {
   "cell_type": "code",
   "execution_count": 38,
   "metadata": {},
   "outputs": [
    {
     "name": "stdout",
     "output_type": "stream",
     "text": [
      "Epoch: 01 | Time: 294m 43s\n",
      "\tTrain Loss: 170394.882\n",
      "\t Val. Loss: 92989.605\n"
     ]
    }
   ],
   "source": [
    "N_EPOCHS = 1\n",
    "CLIP = 0.1\n",
    "\n",
    "best_valid_loss = float('inf')\n",
    "\n",
    "for epoch in range(N_EPOCHS):\n",
    "    start_time = time.time()\n",
    "    \n",
    "    train_loss = train(model, train_loader, optimizer, criterion, CLIP)\n",
    "    valid_loss = evaluate(model, val_loader, criterion)\n",
    "    \n",
    "    end_time = time.time()\n",
    "    \n",
    "    epoch_mins, epoch_secs = epoch_time(start_time, end_time)\n",
    "    \n",
    "    if valid_loss < best_valid_loss:\n",
    "        best_valid_loss = valid_loss\n",
    "        torch.save(model.state_dict(), model_path)\n",
    "    \n",
    "    print(f'Epoch: {epoch+1:02} | Time: {epoch_mins}m {epoch_secs}s')\n",
    "    print(f'\\tTrain Loss: {train_loss:.3f}')\n",
    "    print(f'\\t Val. Loss: {valid_loss:.3f}')"
   ]
  },
  {
   "cell_type": "code",
   "execution_count": 39,
   "metadata": {},
   "outputs": [],
   "source": [
    "def translate_sentence(sentence, max_length=max_length):\n",
    "    model.eval()\n",
    "    with torch.no_grad():\n",
    "        inputs = dataset.tokenize_sentence(sentence, True)\n",
    "        inputs = torch.LongTensor(inputs).unsqueeze(0).to(device)\n",
    "\n",
    "        encoder_conved, encoder_combined = model.encoder(inputs)\n",
    "\n",
    "        target = [lang2_vocab['<sos>']]\n",
    "\n",
    "        for i in range(max_length):\n",
    "\n",
    "            target_tensor = torch.LongTensor(target).unsqueeze(0).to(device)\n",
    "\n",
    "            with torch.no_grad():\n",
    "                output, attention = model.decoder(target_tensor, encoder_conved, encoder_combined)\n",
    "            \n",
    "            pred_token = output.argmax(2)[:,-1].item()\n",
    "            \n",
    "            target.append(pred_token)\n",
    "\n",
    "            if pred_token == lang2_vocab['<eos>']:\n",
    "                break\n",
    "        \n",
    "        trg_tokens = [lang2_vocab.get_itos()[i] for i in target]\n",
    "    \n",
    "    return trg_tokens[1:], attention"
   ]
  },
  {
   "cell_type": "code",
   "execution_count": 40,
   "metadata": {},
   "outputs": [
    {
     "name": "stdout",
     "output_type": "stream",
     "text": [
      "> Roll the dice.\n",
      "= Würfle!\n",
      "< Tom Versprechen mir so . . . . . . . . Eltern . . . Eltern . . . seinen seinen . . . . . . . . nichts . Eltern . Eltern . . . . wirklich . Eltern Eltern Tom Eltern Eltern . Tom . Eltern . . Eltern . Eltern . . . . Tom . . . . . Eltern . Tom . Eltern . Eltern . . Eltern . . Eltern Eltern Eltern . . . Eltern . . . Eltern Eltern . . . . Eltern . . . meine .\n",
      "\n",
      "> I like playing tennis.\n",
      "= Ich spiele gerne Tennis.\n",
      "< Tom Versprechen Wort Wort . . . . . . . Eltern Eltern Tom Tom Eltern Eltern Tom Eltern Tom Tom . Eltern . Eltern . . Tom Eltern . Tom . Tom Eltern . . . . . . . . . . . . Eltern seinen . . . seinen Tom Eltern . . . Eltern . . . . Eltern . . . . Eltern . . . . . . Eltern . . Eltern . . . Eltern . . . Eltern . . . . . Eltern Eltern . Tom Tom . Eltern Eltern\n",
      "\n",
      "> My parents live in the country.\n",
      "= Meine Eltern leben auf dem Land.\n",
      "< Tom Eltern Wort einfach . . . . Eltern . Tom . . . . . . . . Eltern Eltern . Tom wirklich wirklich Eltern . . . . . Eltern . . . . Eltern . . . . . . Eltern . Eltern . . . . Eltern . Tom . Tom . Eltern Eltern . Eltern Eltern . Eltern Eltern Eltern Tom . Eltern . . . . . . Eltern . Eltern . . Eltern . . . Tom . sein . . . Eltern Tom Tom seinen Eltern . . . . .\n",
      "\n",
      "> I thought you said you used to live in Boston.\n",
      "= Du sagtest doch, du habest früher in Boston gelebt.\n",
      "< Tom Versprechen nichts zufrieden . . . Eltern . Eltern . . Tom . . . . Tom Eltern Eltern . . . . Eltern . . . Tom Eltern . . Tom Eltern Eltern . . Tom . . . Eltern . Eltern . . Eltern Eltern . Tom Eltern Tom Eltern Eltern . Eltern . Eltern Tom . . . Eltern Eltern . . . Eltern Eltern Tom . . . . . . . Eltern . . . Eltern . Eltern Tom . . . . . Eltern . Eltern . . Eltern . . .\n",
      "\n",
      "> Every recycled aluminium can saves enough energy to power a TV for three hours.\n",
      "= Jede wiederverwertete Aluminiumdose spart genügend Energie ein, um damit ein Fernsehgerät drei Stunden lang zu betreiben.\n",
      "< Meine Versprechen Tante zufrieden . Tom Eltern Eltern Eltern Eltern . Eltern Eltern Tom Tom Eltern Eltern . Eltern . fleißig . Eltern Tom Eltern Eltern . . Eltern Eltern . Eltern meine Eltern . Eltern . . . . . . Eltern Eltern Eltern mir meine meine Eltern Eltern . Tom Tom Tom Eltern Eltern seinen . . . Tom Tom . . . . Eltern Eltern Eltern . Eltern Eltern . . . . Tom Tom Eltern Tom Eltern wirklich . . . . Tom Tom Tom Tom Tom Tom Eltern . . Tom seinen Eltern Tom\n",
      "\n",
      "> We had trouble getting the money that we needed.\n",
      "= Wir hatten Schwierigkeiten, das Geld, das wir brauchten, zu bekommen.\n",
      "< Tom Versprechen nichts zufrieden . Freunde . . Tom . . . Eltern . . . . . . . . . Tom Eltern . . seinen seinen . Eltern Eltern Eltern Eltern . . Eltern Tom . . Tom Tom Tom . Tom Eltern Eltern . . . wirklich . . Tom . Eltern Tom . seinen . Eltern . Eltern . Tom . Eltern . Eltern Tom seinen Eltern Eltern Eltern . Tom Eltern . . . Eltern wirklich . . . Eltern . Eltern . Tom . . sein . Eltern . . . . Tom\n",
      "\n",
      "> Tom was unharmed.\n",
      "= Tom war unversehrt.\n",
      "< Tom verspreche Tante Sommer . . . . . . . . Eltern . Tom Tom Eltern Eltern . . . Eltern . . . . Eltern . . . Tom Tom Eltern . Eltern . Eltern . . . . . Eltern . . . . Eltern Eltern Eltern . Eltern Eltern . . . seinen . . Eltern . Eltern Eltern . . . . . Eltern . . meine Eltern mir Eltern . . . . . . . meine . . Eltern wirklich Eltern Eltern . . Eltern Eltern Eltern Eltern . Tom Tom Tom\n",
      "\n",
      "> I teach English.\n",
      "= Ich unterrichte Englisch.\n",
      "< Tom Tante gerade gerade . . . Tom . . Eltern . . Eltern Eltern . . . . Eltern . . . Eltern Eltern Eltern . . . Eltern seinen Eltern . Tom . Eltern . Eltern Eltern . Eltern Eltern . Eltern . . seinen Eltern . seinen Eltern Eltern Eltern . . Eltern Eltern . . Tom . Eltern Eltern . . . Eltern . . . Eltern seinen . meine . . Eltern Eltern Eltern Eltern Eltern . . Eltern . Tom . . Eltern Eltern Eltern . seinen Eltern . . Eltern . Eltern\n",
      "\n",
      "> Let me call Tom.\n",
      "= Lass mich Tom anrufen.\n",
      "< Tom verspreche nichts so . . . Tom . . . . . Eltern Eltern Tom Eltern Tom Tom Eltern Eltern Eltern . . Eltern Eltern . . . . . Eltern . seinen nichts Eltern Eltern . Eltern . . . Eltern Eltern . . Tom Eltern Eltern Eltern Eltern Tom . . . . . . . . meine Eltern Eltern Eltern . Tom Tom Tom . Tom . Eltern Eltern . Eltern . Tom Tom Eltern . Eltern Eltern . Eltern Eltern . Eltern . Eltern . . . . . . Tom Tom Eltern .\n",
      "\n",
      "> Is this decaf coffee?\n",
      "= Ist das koffeinfreier Kaffee?\n",
      "< Tom Monat Tante zufrieden . . Tom . . Tom . . Eltern . . Tom . . . . Tom Tom . Tom Tom meine meine . . . . . . Tom . Eltern . . . . . . Eltern . seinen Tom Tom Eltern Eltern Eltern . . Eltern . Tom Eltern . Eltern . . . . Eltern . Tom . . Tom . . . . . . . . seinen Eltern Eltern Eltern Eltern . Eltern . . . meine . Eltern . Tom Eltern Eltern . . . . . .\n",
      "\n"
     ]
    }
   ],
   "source": [
    "def evaluateRandomly(n=10):\n",
    "    for i in range(n):\n",
    "        pair = random.choice(dataset.untokenized_data)\n",
    "        print('>', pair[0])\n",
    "        print('=', pair[1])\n",
    "        translation, _ = translate_sentence(pair[0])\n",
    "        translation = ' '.join(translation[:-1])\n",
    "        print('<', translation)\n",
    "        print('')\n",
    "evaluateRandomly()"
   ]
  },
  {
   "cell_type": "code",
   "execution_count": 41,
   "metadata": {},
   "outputs": [
    {
     "name": "stdout",
     "output_type": "stream",
     "text": [
      "> It takes more than one swallow to make a summer.\n",
      "< Tom Eltern meiner zufrieden . . . Eltern . . . Tom . . Tom . . Eltern Eltern Tom Eltern Eltern Eltern . Eltern . . Tom Tom Tom . . . . . . . . . . Eltern . . . . . Eltern . Tom . Eltern Tom . . . Eltern Eltern Eltern Tom . Eltern Eltern Eltern . . . . Eltern . . . nichts . . . Eltern . . . sein Eltern Eltern . . Eltern Eltern . . . Tom Eltern . Eltern . Eltern seinen seinen seinen .\n"
     ]
    }
   ],
   "source": [
    "input = dataset.untokenized_data[25000][0]\n",
    "print('>', input)\n",
    "translation, attention = translate_sentence(input)\n",
    "translation_sentence = ' '.join(translation[:-1])\n",
    "print('<', translation_sentence)"
   ]
  },
  {
   "cell_type": "code",
   "execution_count": 42,
   "metadata": {},
   "outputs": [],
   "source": [
    "def display_attention(sentence, translation, attention):\n",
    "    \n",
    "    fig = plt.figure(figsize=(10,10))\n",
    "    ax = fig.add_subplot(111)\n",
    "        \n",
    "    attention = attention.squeeze(0).cpu().detach().numpy()\n",
    "    \n",
    "    cax = ax.matshow(attention, cmap='bone')\n",
    "   \n",
    "    ax.tick_params(labelsize=15)\n",
    "    ax.set_xticklabels(['']+['<sos>']+[t.lower() for t in sentence]+['<eos>'], \n",
    "                       rotation=45)\n",
    "    ax.set_yticklabels(['']+translation)\n",
    "\n",
    "    ax.xaxis.set_major_locator(ticker.MultipleLocator(1))\n",
    "    ax.yaxis.set_major_locator(ticker.MultipleLocator(1))\n",
    "\n",
    "    plt.show()\n",
    "    plt.close()"
   ]
  },
  {
   "cell_type": "code",
   "execution_count": 43,
   "metadata": {},
   "outputs": [
    {
     "name": "stderr",
     "output_type": "stream",
     "text": [
      "/var/folders/3k/289x66ks5l76g3clryd7kl5c0000gn/T/ipykernel_1468/3761034016.py:11: UserWarning: FixedFormatter should only be used together with FixedLocator\n",
      "  ax.set_xticklabels(['']+['<sos>']+[t.lower() for t in sentence]+['<eos>'],\n",
      "/var/folders/3k/289x66ks5l76g3clryd7kl5c0000gn/T/ipykernel_1468/3761034016.py:13: UserWarning: FixedFormatter should only be used together with FixedLocator\n",
      "  ax.set_yticklabels(['']+translation)\n"
     ]
    },
    {
     "data": {
      "image/png": "[encoded data removed]",
      "text/plain": [
       "<Figure size 1000x1000 with 1 Axes>"
      ]
     },
     "metadata": {},
     "output_type": "display_data"
    }
   ],
   "source": [
    "display_attention(input, translation, attention)"
   ]
  },
  {
   "cell_type": "code",
   "execution_count": 44,
   "metadata": {},
   "outputs": [],
   "source": [
    "from torchtext.data.metrics import bleu_score\n",
    "\n",
    "def calculate_bleu(data, max_length = 50):\n",
    "    \n",
    "    trgs = []\n",
    "    pred_trgs = []\n",
    "    \n",
    "    for (input, target) in data:\n",
    "        pred_trget, _ = translate_sentence(input, max_length=max_length)\n",
    "        target = lang2_tokenizer(target)\n",
    "        #cut off <eos> token\n",
    "        pred_trget = pred_trget[:-1]\n",
    "        \n",
    "        pred_trgs.append(pred_trget)\n",
    "        trgs.append(target)\n",
    "        \n",
    "    return bleu_score(pred_trgs, trgs)"
   ]
  },
  {
   "cell_type": "code",
   "execution_count": 45,
   "metadata": {},
   "outputs": [
    {
     "name": "stdout",
     "output_type": "stream",
     "text": [
      "BLEU score = 0.00\n"
     ]
    }
   ],
   "source": [
    "def calculate_data_bleu(n_num=100):\n",
    "    data = [random.choice(dataset.untokenized_data) for i in range(n_num)]\n",
    "    bleu_score = calculate_bleu(data)\n",
    "    return bleu_score\n",
    "\n",
    "score = calculate_data_bleu()\n",
    "print(f'BLEU score = {score*100:.2f}')"
   ]
  },
  {
   "cell_type": "code",
   "execution_count": null,
   "metadata": {},
   "outputs": [],
   "source": []
  }
 ],
 "metadata": {
  "kernelspec": {
   "display_name": "torch",
   "language": "python",
   "name": "python3"
  },
  "language_info": {
   "codemirror_mode": {
    "name": "ipython",
    "version": 3
   },
   "file_extension": ".py",
   "mimetype": "text/x-python",
   "name": "python",
   "nbconvert_exporter": "python",
   "pygments_lexer": "ipython3",
   "version": "3.9.13"
  },
  "orig_nbformat": 4,
  "vscode": {
   "interpreter": {
    "hash": "f525c695730c841e052b8d34cf6e8bcfdb8d8f78b4a6432d240c7bfc8c210784"
   }
  }
 },
 "nbformat": 4,
 "nbformat_minor": 2
}
