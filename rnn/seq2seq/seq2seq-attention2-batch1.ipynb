{
 "cells": [
  {
   "cell_type": "code",
   "execution_count": 1,
   "metadata": {},
   "outputs": [],
   "source": [
    "from __future__ import unicode_literals, print_function, division\n",
    "import random\n",
    "import torch\n",
    "import torch.nn as nn\n",
    "from torch import optim\n",
    "import matplotlib.pyplot as plt\n",
    "import matplotlib.ticker as ticker\n",
    "import torch.nn.functional as F\n",
    "import time\n",
    "from utils import timeSince\n",
    "\n",
    "from cn_cn_data import get_cn_en_dataloader, to_sentence, cn_vocab, en_vocab\n"
   ]
  },
  {
   "cell_type": "code",
   "execution_count": 2,
   "metadata": {},
   "outputs": [
    {
     "name": "stdout",
     "output_type": "stream",
     "text": [
      "length of train_loader 2207\n"
     ]
    }
   ],
   "source": [
    "seq_len = 15\n",
    "max_length = seq_len + 2\n",
    "batch_size = 1\n",
    "\n",
    "cn_vocab_size = len(cn_vocab)\n",
    "en_vocab_size = len(en_vocab)\n",
    "\n",
    "device = torch.device(\"cpu\")\n",
    "train_loader, train_dataset = get_cn_en_dataloader(seq_len, batch_size, device)\n",
    "print('length of train_loader', len(train_loader))"
   ]
  },
  {
   "cell_type": "code",
   "execution_count": 3,
   "metadata": {},
   "outputs": [
    {
     "name": "stdout",
     "output_type": "stream",
     "text": [
      "torch.Size([9, 1]) torch.Size([10, 1])\n",
      "[2, 177, 24, 254, 50, 437, 1017, 5, 3]\n",
      "['<sos>', '她', '会', '十', '门', '语', '言', ' 。', '<eos>']\n",
      "[2, 131, 262, 1333, 516, 1565, 1058, 2986, 5, 3]\n",
      "['<sos>', 'She', 'is', 'able', 'to', 'speak', 'ten', 'languages', '.', '<eos>']\n"
     ]
    }
   ],
   "source": [
    "for i, item in enumerate(train_loader):\n",
    "    print(item[0].shape, item[1].shape)\n",
    "\n",
    "    print([idx.item() for idx in item[0]])\n",
    "    print(to_sentence(item[0], True))\n",
    "    print([idx.item() for idx in item[1]])\n",
    "    print(to_sentence(item[1], False))\n",
    "    break"
   ]
  },
  {
   "cell_type": "code",
   "execution_count": 4,
   "metadata": {},
   "outputs": [],
   "source": [
    "class Encoder(nn.Module):\n",
    "    def __init__(self, input_size, hidden_size, dropout=0.1):\n",
    "        super(Encoder, self).__init__()\n",
    "        self.hidden_size = hidden_size\n",
    "\n",
    "        self.embedding = nn.Embedding(input_size, hidden_size)\n",
    "        self.gru = nn.GRU(hidden_size, hidden_size, batch_first=False)\n",
    "        self.dropout = nn.Dropout(dropout)\n",
    "\n",
    "    def forward(self, input):\n",
    "        batch_size = input.size(1)\n",
    "        hidden = torch.zeros(1, batch_size, self.hidden_size, device=device)\n",
    "        embedded = self.dropout(self.embedding(input))\n",
    "        outputs, hidden = self.gru(embedded, hidden)\n",
    "\n",
    "        return outputs, hidden\n"
   ]
  },
  {
   "cell_type": "code",
   "execution_count": 5,
   "metadata": {},
   "outputs": [],
   "source": [
    "class Attention(nn.Module):\n",
    "    def __init__(self, hidden_size):\n",
    "        super().__init__()\n",
    "\n",
    "        self.attn = nn.Linear(hidden_size * 2, hidden_size)\n",
    "        self.v = nn.Linear(hidden_size, 1, bias=False)\n",
    "        self.softmax = nn.Softmax(dim=1)\n",
    "\n",
    "    def forward(self, hidden, encoder_outputs):\n",
    "        seq_len = encoder_outputs.size(1)\n",
    "\n",
    "        hidden = hidden.permute(1, 0, 2)\n",
    "        # repeat decoder hidden state src_len times, hidden = [batch, seq_len, hidden size]\n",
    "        hidden = hidden.repeat(1, seq_len, 1)\n",
    "\n",
    "        # [batch, seq_len, hidden size * 2]\n",
    "        outputs_cat_hidden = torch.cat((hidden, encoder_outputs), dim=2)\n",
    "\n",
    "        # energy = [batch, seq_len, hidden size]\n",
    "        energy = torch.tanh(self.attn(outputs_cat_hidden))\n",
    "\n",
    "        # attention= [batch, seq_len]\n",
    "        attention = self.v(energy).squeeze(2)\n",
    "\n",
    "        return self.softmax(attention)\n"
   ]
  },
  {
   "cell_type": "code",
   "execution_count": 6,
   "metadata": {},
   "outputs": [],
   "source": [
    "class Decoder(nn.Module):\n",
    "    def __init__(self, hidden_size, output_size, dropout=0.1):\n",
    "        super().__init__()\n",
    "        self.attention = Attention(hidden_size)\n",
    "        self.hidden_size = hidden_size\n",
    "        self.output_size = output_size\n",
    "        self.embedding = nn.Embedding(output_size, hidden_size)\n",
    "        self.rnn = nn.GRU(hidden_size * 2, hidden_size)\n",
    "        self.out = nn.Linear(hidden_size * 3, output_size)\n",
    "        self.dropout = nn.Dropout(dropout)\n",
    "\n",
    "    def forward(self, input, hidden, encoder_outputs):\n",
    "        # input = [batch, 1]\n",
    "        # hidden = [1, batch, hidden_size]\n",
    "        encoder_outputs = encoder_outputs.permute(1, 0, 2) # [batch, seq_len, hidden size]\n",
    "        # embedded = [1, batch, hidden_size]\n",
    "        embedded = self.dropout(self.embedding(input)).unsqueeze(0)\n",
    "\n",
    "        # [batch, 1, seq_len]\n",
    "        attention = self.attention(hidden, encoder_outputs).unsqueeze(1)\n",
    "\n",
    "        # weighted = [batch, 1, hidden_size]\n",
    "        weighted_encoder_outputs = torch.bmm(attention, encoder_outputs).permute(1, 0, 2) # (1, batch, hidden_size)\n",
    "\n",
    "        # output = [seq_len, batch, hidden_size], hidden = [n_layers(1), batch, hidden_size]\n",
    "        output, hidden = self.rnn(torch.cat((embedded, weighted_encoder_outputs), dim=2), hidden)\n",
    "\n",
    "        embedded = embedded.squeeze(0) # [batch, hidden_size]\n",
    "        output = output.squeeze(0) # [batch, hidden_size]\n",
    "        weighted_encoder_outputs = weighted_encoder_outputs.squeeze(0) # [batch, hidden_size]\n",
    "\n",
    "        prediction = F.log_softmax(self.out(torch.cat((output, weighted_encoder_outputs, embedded), dim=1)), dim=1) # [batch, output _ize]\n",
    "        return prediction, hidden, attention\n"
   ]
  },
  {
   "cell_type": "code",
   "execution_count": 7,
   "metadata": {},
   "outputs": [],
   "source": [
    "teacher_forcing_ratio = 0.5\n",
    "\n",
    "\n",
    "def train(input_tensor, target_tensor, encoder, decoder, encoder_optimizer, decoder_optimizer, criterion):\n",
    "    encoder_optimizer.zero_grad()\n",
    "    decoder_optimizer.zero_grad()\n",
    "\n",
    "    target_length = target_tensor.size(0)\n",
    "    loss = 0\n",
    "\n",
    "    encoder_outputs, encoder_hidden = encoder(input_tensor)\n",
    "\n",
    "    decoder_input = input_tensor[0]\n",
    "    decoder_hidden = encoder_hidden\n",
    "\n",
    "    use_teacher_forcing = True if random.random() < teacher_forcing_ratio else False\n",
    "\n",
    "    if use_teacher_forcing:\n",
    "        # Teacher forcing: Feed the target as the next input\n",
    "        for di in range(target_length):\n",
    "            decoder_output, decoder_hidden, decoder_attention = decoder(decoder_input, decoder_hidden, encoder_outputs)\n",
    "\n",
    "            target = target_tensor[di]\n",
    "            loss += criterion(decoder_output, target)\n",
    "            decoder_input = target  # Teacher forcing\n",
    "\n",
    "    else:\n",
    "        # Without teacher forcing: use its own predictions as the next input\n",
    "        for di in range(target_length):\n",
    "            decoder_output, decoder_hidden, decoder_attention = decoder(decoder_input, decoder_hidden, encoder_outputs)\n",
    "            topv, topi = decoder_output.topk(1)\n",
    "            decoder_input = topi.squeeze(1).detach()  # detach from history as input\n",
    "\n",
    "            target = target_tensor[di]\n",
    "            loss += criterion(decoder_output, target)\n",
    "\n",
    "    loss.backward()\n",
    "\n",
    "    encoder_optimizer.step()\n",
    "    decoder_optimizer.step()\n",
    "\n",
    "    return loss.item() / target_length\n"
   ]
  },
  {
   "cell_type": "code",
   "execution_count": 8,
   "metadata": {},
   "outputs": [],
   "source": [
    "def trainIters(encoder, decoder, train_loader, print_every=100, plot_every=10, learning_rate=0.005):\n",
    "    start = time.time()\n",
    "    plot_losses = []\n",
    "    print_loss_total = 0  # Reset every print_every\n",
    "    plot_loss_total = 0  # Reset every plot_every\n",
    "\n",
    "    encoder_optimizer = optim.SGD(encoder.parameters(), lr=learning_rate)\n",
    "    decoder_optimizer = optim.SGD(decoder.parameters(), lr=learning_rate)\n",
    "    criterion = nn.NLLLoss()\n",
    "    # criterion = nn.CrossEntropyLoss(ignore_index=cn_vocab['<pad>'])\n",
    "    n_iters = len(train_loader)\n",
    "\n",
    "    for iter, data in enumerate(train_loader, 1):\n",
    "        input_tensor, target_tensor = data\n",
    "\n",
    "        loss = train(input_tensor, target_tensor, encoder, decoder, encoder_optimizer, decoder_optimizer, criterion)\n",
    "        print_loss_total += loss\n",
    "        plot_loss_total += loss\n",
    "\n",
    "        if iter % print_every == 0:\n",
    "            print_loss_avg = print_loss_total / print_every\n",
    "            print_loss_total = 0\n",
    "            print('%s (%d %d%%) %.4f' % (timeSince(start, iter / n_iters),\n",
    "                                         iter, iter / n_iters * 100, print_loss_avg))\n",
    "\n",
    "        if iter % plot_every == 0:\n",
    "            plot_loss_avg = plot_loss_total / plot_every\n",
    "            plot_losses.append(plot_loss_avg)\n",
    "            plot_loss_total = 0\n",
    "\n",
    "    return plot_losses\n"
   ]
  },
  {
   "cell_type": "code",
   "execution_count": 9,
   "metadata": {},
   "outputs": [
    {
     "name": "stdout",
     "output_type": "stream",
     "text": [
      "--------------epoch 1--------------\n",
      "0m 37s (- 2m 9s) (500 22%) 4.3567\n",
      "1m 15s (- 1m 31s) (1000 45%) 3.5051\n",
      "1m 53s (- 0m 53s) (1500 67%) 3.3465\n",
      "2m 31s (- 0m 15s) (2000 90%) 3.2210\n",
      "--------------epoch 2--------------\n",
      "0m 37s (- 2m 8s) (500 22%) 2.8039\n",
      "1m 14s (- 1m 29s) (1000 45%) 2.8037\n",
      "1m 52s (- 0m 53s) (1500 67%) 2.7448\n",
      "2m 30s (- 0m 15s) (2000 90%) 2.7067\n",
      "--------------epoch 3--------------\n",
      "0m 37s (- 2m 7s) (500 22%) 2.4285\n",
      "1m 14s (- 1m 30s) (1000 45%) 2.4641\n",
      "1m 52s (- 0m 53s) (1500 67%) 2.4006\n",
      "2m 29s (- 0m 15s) (2000 90%) 2.3327\n",
      "--------------epoch 4--------------\n",
      "0m 37s (- 2m 6s) (500 22%) 2.1035\n",
      "1m 14s (- 1m 30s) (1000 45%) 2.1204\n",
      "1m 52s (- 0m 52s) (1500 67%) 2.1281\n",
      "2m 29s (- 0m 15s) (2000 90%) 2.1142\n",
      "--------------epoch 5--------------\n",
      "0m 36s (- 2m 5s) (500 22%) 1.8245\n",
      "1m 14s (- 1m 29s) (1000 45%) 1.8533\n",
      "1m 51s (- 0m 52s) (1500 67%) 1.9047\n",
      "2m 28s (- 0m 15s) (2000 90%) 1.8957\n",
      "--------------epoch 6--------------\n",
      "0m 37s (- 2m 6s) (500 22%) 1.5599\n",
      "1m 14s (- 1m 29s) (1000 45%) 1.6784\n",
      "1m 51s (- 0m 52s) (1500 67%) 1.7406\n",
      "2m 28s (- 0m 15s) (2000 90%) 1.6678\n",
      "--------------epoch 7--------------\n",
      "0m 37s (- 2m 7s) (500 22%) 1.4619\n",
      "1m 14s (- 1m 30s) (1000 45%) 1.4566\n",
      "1m 51s (- 0m 52s) (1500 67%) 1.5127\n",
      "2m 29s (- 0m 15s) (2000 90%) 1.5187\n",
      "--------------epoch 8--------------\n",
      "0m 37s (- 2m 7s) (500 22%) 1.1793\n",
      "1m 14s (- 1m 29s) (1000 45%) 1.3504\n",
      "1m 51s (- 0m 52s) (1500 67%) 1.2847\n",
      "2m 29s (- 0m 15s) (2000 90%) 1.4156\n",
      "--------------epoch 9--------------\n",
      "0m 38s (- 2m 10s) (500 22%) 1.1147\n",
      "1m 16s (- 1m 31s) (1000 45%) 1.1136\n",
      "1m 53s (- 0m 53s) (1500 67%) 1.1018\n",
      "2m 31s (- 0m 15s) (2000 90%) 1.2205\n",
      "--------------epoch 10--------------\n",
      "0m 37s (- 2m 9s) (500 22%) 0.9969\n",
      "1m 15s (- 1m 31s) (1000 45%) 0.9343\n",
      "1m 53s (- 0m 53s) (1500 67%) 1.0459\n",
      "2m 30s (- 0m 15s) (2000 90%) 1.0654\n",
      "--------------epoch 11--------------\n",
      "0m 37s (- 2m 8s) (500 22%) 0.8175\n",
      "1m 17s (- 1m 34s) (1000 45%) 0.8559\n",
      "2m 4s (- 0m 58s) (1500 67%) 0.8962\n",
      "2m 54s (- 0m 18s) (2000 90%) 0.8708\n",
      "--------------epoch 12--------------\n",
      "0m 48s (- 2m 44s) (500 22%) 0.6998\n",
      "1m 36s (- 1m 56s) (1000 45%) 0.8058\n",
      "2m 25s (- 1m 8s) (1500 67%) 0.8072\n",
      "3m 13s (- 0m 20s) (2000 90%) 0.8287\n",
      "--------------epoch 13--------------\n",
      "0m 48s (- 2m 44s) (500 22%) 0.5972\n",
      "1m 36s (- 1m 56s) (1000 45%) 0.6652\n",
      "2m 25s (- 1m 8s) (1500 67%) 0.6899\n",
      "3m 13s (- 0m 20s) (2000 90%) 0.7214\n",
      "--------------epoch 14--------------\n",
      "0m 48s (- 2m 44s) (500 22%) 0.5731\n",
      "1m 36s (- 1m 56s) (1000 45%) 0.6048\n",
      "2m 25s (- 1m 8s) (1500 67%) 0.5893\n",
      "3m 13s (- 0m 20s) (2000 90%) 0.5796\n",
      "--------------epoch 15--------------\n",
      "0m 44s (- 2m 32s) (500 22%) 0.4276\n",
      "1m 32s (- 1m 51s) (1000 45%) 0.4806\n",
      "2m 18s (- 1m 5s) (1500 67%) 0.5249\n",
      "3m 5s (- 0m 19s) (2000 90%) 0.5550\n"
     ]
    }
   ],
   "source": [
    "hidden_size = 256\n",
    "encoder1 = Encoder(cn_vocab_size, hidden_size).to(device)\n",
    "decoder1 = Decoder(hidden_size, en_vocab_size).to(device)\n",
    "\n",
    "train_losses = []\n",
    "for i in range(15):\n",
    "    print('--------------epoch %d--------------' % (i + 1))\n",
    "    losses = trainIters(encoder1, decoder1, train_loader, print_every=500)\n",
    "    train_losses = train_losses + losses"
   ]
  },
  {
   "cell_type": "code",
   "execution_count": 10,
   "metadata": {},
   "outputs": [
    {
     "data": {
      "text/plain": [
       "<Figure size 640x480 with 0 Axes>"
      ]
     },
     "metadata": {},
     "output_type": "display_data"
    },
    {
     "data": {
      "image/png": "[encoded data removed]",
      "text/plain": [
       "<Figure size 640x480 with 1 Axes>"
      ]
     },
     "metadata": {},
     "output_type": "display_data"
    }
   ],
   "source": [
    "def showPlot(points):\n",
    "    plt.figure()\n",
    "    fig, ax = plt.subplots()\n",
    "    # this locator puts ticks at regular intervals\n",
    "    loc = ticker.MultipleLocator(base=0.2)\n",
    "    ax.yaxis.set_major_locator(loc)\n",
    "    plt.plot(points)\n",
    "\n",
    "\n",
    "showPlot(train_losses)\n"
   ]
  },
  {
   "cell_type": "code",
   "execution_count": 11,
   "metadata": {},
   "outputs": [],
   "source": [
    "encoder_path = './models/seq2seq6-encoder.pt'\n",
    "decoder_path = './models/seq2seq6-decoder.pt'\n"
   ]
  },
  {
   "cell_type": "code",
   "execution_count": 13,
   "metadata": {},
   "outputs": [],
   "source": [
    "torch.save(encoder1.state_dict(), encoder_path)\n",
    "torch.save(decoder1.state_dict(), decoder_path)\n"
   ]
  },
  {
   "cell_type": "code",
   "execution_count": 14,
   "metadata": {},
   "outputs": [],
   "source": [
    "def evaluate(encoder, decoder, sentence, max_length=max_length):\n",
    "    with torch.no_grad():\n",
    "        input_tensor = train_dataset.tokenize_sentence(sentence, True).unsqueeze(0)\n",
    "        input_tensor = input_tensor.permute(1, 0)\n",
    "        input_length = input_tensor.size(0)\n",
    "\n",
    "        encoder_outputs, encoder_hidden = encoder(input_tensor)\n",
    "\n",
    "        decoder_input = torch.tensor([cn_vocab['<sos>']], device=device)  # SOS\n",
    "\n",
    "        decoder_hidden = encoder_hidden\n",
    "\n",
    "        decoded_words = []\n",
    "        decoder_attentions = torch.zeros(max_length, input_length)\n",
    "\n",
    "        for di in range(max_length):\n",
    "            decoder_output, decoder_hidden, decoder_attention = decoder(decoder_input, decoder_hidden, encoder_outputs)\n",
    "            topv, topi = decoder_output.data.topk(1)\n",
    "            decoder_attentions[di] = decoder_attention.squeeze().data\n",
    "            if topi.item() == en_vocab['<eos>']:\n",
    "                decoded_words.append('<EOS>')\n",
    "                break\n",
    "            else:\n",
    "                decoded_words.append(en_vocab.lookup_token(topi.item()))\n",
    "\n",
    "            decoder_input = topi.squeeze(1).detach()\n",
    "\n",
    "        return decoded_words[1:], decoder_attentions[:di + 1]\n"
   ]
  },
  {
   "cell_type": "code",
   "execution_count": 15,
   "metadata": {},
   "outputs": [],
   "source": [
    "def evaluateRandomly(encoder, decoder, n=10):\n",
    "    for i in range(n):\n",
    "        pair = random.choice(train_dataset.pairs)\n",
    "        print('>', pair[0])\n",
    "        print('=', pair[1])\n",
    "        output_words, _ = evaluate(encoder, decoder, pair[0])\n",
    "        output_sentence = ' '.join(output_words)\n",
    "        print('<', output_sentence)\n",
    "        print('')\n"
   ]
  },
  {
   "cell_type": "code",
   "execution_count": 16,
   "metadata": {},
   "outputs": [
    {
     "data": {
      "text/plain": [
       "<All keys matched successfully>"
      ]
     },
     "execution_count": 16,
     "metadata": {},
     "output_type": "execute_result"
    }
   ],
   "source": [
    "encoder2 = Encoder(cn_vocab_size, hidden_size).to(device)\n",
    "decoder2 = Decoder(hidden_size, en_vocab_size).to(device)\n",
    "\n",
    "encoder2.load_state_dict(torch.load(encoder_path))\n",
    "decoder2.load_state_dict(torch.load(decoder_path))\n"
   ]
  },
  {
   "cell_type": "code",
   "execution_count": 17,
   "metadata": {},
   "outputs": [
    {
     "name": "stdout",
     "output_type": "stream",
     "text": [
      "> 他总是忘记事情。\n",
      "= He is always forgetting things.\n",
      "< He 's always forgetting things . <EOS>\n",
      "\n",
      "> 我们是特别的。\n",
      "= We're special.\n",
      "< We 're special . <EOS>\n",
      "\n",
      "> 我是个社会工作人员。\n",
      "= I'm a social worker.\n",
      "< I 'm a social worker . <EOS>\n",
      "\n",
      "> 他有点像他的父亲。\n",
      "= He's a little like his father.\n",
      "< He 's a little like his father . <EOS>\n",
      "\n",
      "> 他和所有同学的关系都不错。\n",
      "= He is on goods terms with all of his classmates.\n",
      "< He is on goods terms with all of his classmates . <EOS>\n",
      "\n",
      "> 你总是批评我！\n",
      "= You're always criticizing me.\n",
      "< You are always criticizing me . <EOS>\n",
      "\n",
      "> 你真是个努力的工人。\n",
      "= You're really a hard worker.\n",
      "< You 're such an excellent to . <EOS>\n",
      "\n",
      "> 我愿意参加这场会议。\n",
      "= I'm willing to attend the meeting.\n",
      "< I 'm willing to attend the meeting . <EOS>\n",
      "\n",
      "> 我很高兴没有买这样的东西。\n",
      "= I'm glad that I didn't buy something like this.\n",
      "< I 'm glad I did n't buy something like this . <EOS>\n",
      "\n",
      "> 她是一个著名的歌手。\n",
      "= She is a noted singer.\n",
      "< She is a famous singer . <EOS>\n",
      "\n"
     ]
    }
   ],
   "source": [
    "evaluateRandomly(encoder2, decoder2)\n"
   ]
  },
  {
   "cell_type": "code",
   "execution_count": null,
   "metadata": {},
   "outputs": [
    {
     "name": "stdout",
     "output_type": "stream",
     "text": [
      "<sos> I 'm not sure . <EOS>\n"
     ]
    },
    {
     "data": {
      "text/plain": [
       "<matplotlib.image.AxesImage at 0x2a3887520>"
      ]
     },
     "execution_count": 52,
     "metadata": {},
     "output_type": "execute_result"
    },
    {
     "data": {
      "image/png": "[encoded data removed]",
      "text/plain": [
       "<Figure size 480x480 with 1 Axes>"
      ]
     },
     "metadata": {},
     "output_type": "display_data"
    }
   ],
   "source": [
    "output_words, attentions = evaluate(encoder2, decoder2, \"我不确定。\")\n",
    "output_sentence = ' '.join(output_words)\n",
    "print(output_sentence)\n",
    "plt.matshow(attentions.numpy())\n"
   ]
  }
 ],
 "metadata": {
  "kernelspec": {
   "display_name": "torch",
   "language": "python",
   "name": "python3"
  },
  "language_info": {
   "codemirror_mode": {
    "name": "ipython",
    "version": 3
   },
   "file_extension": ".py",
   "mimetype": "text/x-python",
   "name": "python",
   "nbconvert_exporter": "python",
   "pygments_lexer": "ipython3",
   "version": "3.9.13"
  },
  "orig_nbformat": 4,
  "vscode": {
   "interpreter": {
    "hash": "f525c695730c841e052b8d34cf6e8bcfdb8d8f78b4a6432d240c7bfc8c210784"
   }
  }
 },
 "nbformat": 4,
 "nbformat_minor": 2
}
