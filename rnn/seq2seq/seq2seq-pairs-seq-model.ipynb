{
 "cells": [
  {
   "cell_type": "code",
   "execution_count": 1,
   "metadata": {},
   "outputs": [],
   "source": [
    "from __future__ import unicode_literals, print_function, division\n",
    "import time\n",
    "import random\n",
    "import time\n",
    "\n",
    "import torch\n",
    "import torch.nn as nn\n",
    "from torch import optim\n",
    "import torch.nn.functional as F\n",
    "\n",
    "import matplotlib.pyplot as plt\n",
    "import matplotlib.ticker as ticker\n",
    "\n",
    "from utils import timeSince"
   ]
  },
  {
   "cell_type": "code",
   "execution_count": 2,
   "metadata": {},
   "outputs": [
    {
     "name": "stdout",
     "output_type": "stream",
     "text": [
      "Reading lines...\n",
      "Read 29371 sentence pairs\n",
      "Trimmed to 2160 sentence pairs\n",
      "Counting words...\n",
      "Counted words:\n",
      "cn 1209\n",
      "en 1431\n",
      "['我们不在波士顿 。', 'we re not in boston .']\n"
     ]
    }
   ],
   "source": [
    "device = torch.device(\"cpu\")\n",
    "from get_cn_en_pairs import get_training_pairs, SOS_token, EOS_token, MAX_LENGTH, output_lang, input_lang, tensorFromSentence"
   ]
  },
  {
   "cell_type": "code",
   "execution_count": 36,
   "metadata": {},
   "outputs": [],
   "source": [
    "class EncoderRNN(nn.Module):\n",
    "    def __init__(self, input_size, hidden_size):\n",
    "        super(EncoderRNN, self).__init__()\n",
    "        self.hidden_size = hidden_size\n",
    "\n",
    "        self.embedding = nn.Embedding(input_size, hidden_size)\n",
    "        self.gru = nn.GRU(hidden_size, hidden_size)\n",
    "\n",
    "    def forward(self, input, hidden):\n",
    "        embedded = self.embedding(input).view(1, 1, -1)\n",
    "        output, hidden = self.gru(embedded, hidden)\n",
    "        return output, hidden\n",
    "\n",
    "    def initHidden(self):\n",
    "        return torch.zeros(1, 1, self.hidden_size, device=device)\n"
   ]
  },
  {
   "cell_type": "code",
   "execution_count": 37,
   "metadata": {},
   "outputs": [],
   "source": [
    "class DecoderRNN(nn.Module):\n",
    "    def __init__(self, hidden_size, output_size):\n",
    "        super(DecoderRNN, self).__init__()\n",
    "        self.hidden_size = hidden_size\n",
    "        self.output_size = output_size\n",
    "\n",
    "        self.embedding = nn.Embedding(output_size, hidden_size)\n",
    "        self.gru = nn.GRU(hidden_size, hidden_size)\n",
    "        self.out = nn.Linear(hidden_size, output_size)\n",
    "\n",
    "    def forward(self, input, hidden):\n",
    "        output = self.embedding(input).view(1, 1, -1)\n",
    "        output = F.relu(output)\n",
    "        output, hidden = self.gru(output, hidden)\n",
    "        output = self.out(output[0])\n",
    "        return output, hidden\n",
    "\n",
    "    def initHidden(self):\n",
    "        return torch.zeros(1, 1, self.hidden_size, device=device)\n"
   ]
  },
  {
   "cell_type": "code",
   "execution_count": 38,
   "metadata": {},
   "outputs": [],
   "source": [
    "class Seq2Seq(nn.Module):\n",
    "    def __init__(self, encoder, decoder, device):\n",
    "        super().__init__()\n",
    "        \n",
    "        self.encoder = encoder\n",
    "        self.decoder = decoder\n",
    "        self.device = device\n",
    "        \n",
    "        assert encoder.hidden_size == decoder.hidden_size, \"Hidden dimensions of encoder and decoder must be equal!\"\n",
    "        \n",
    "    def forward(self, input, max_length, use_teacher_forcing, target):\n",
    "\n",
    "        input_length = input.size(0)\n",
    "\n",
    "        encoder_hidden = self.encoder.initHidden()\n",
    "        for i in range(input_length):\n",
    "            encoder_output, encoder_hidden = self.encoder(input[i], encoder_hidden)\n",
    "\n",
    "        outputs = torch.zeros(max_length, self.decoder.output_size, device=device)\n",
    "        \n",
    "        decoder_hidden = encoder_hidden\n",
    "        decoder_input = torch.tensor([[SOS_token]], device=device)\n",
    "        for i in range(max_length):\n",
    "            output, decoder_hidden = self.decoder(decoder_input, decoder_hidden)\n",
    "            outputs[i] = output\n",
    "            topv, topi = output.topk(1)\n",
    "            top1 = topi.squeeze().detach()\n",
    "            decoder_input = target[i] if use_teacher_forcing else top1\n",
    "            if decoder_input.item() == EOS_token:\n",
    "                break\n",
    "        \n",
    "        return outputs"
   ]
  },
  {
   "cell_type": "code",
   "execution_count": 39,
   "metadata": {},
   "outputs": [],
   "source": [
    "def train(model, input, target, optimizer, criterion, teacher_forcing_ratio = 0.5):\n",
    "    optimizer.zero_grad()\n",
    "    use_teacher_forcing = True if random.random() < teacher_forcing_ratio else False\n",
    "    max_length = target.size(0)\n",
    "    \n",
    "    output = model(input, max_length, use_teacher_forcing, target)\n",
    "\n",
    "    output_dim = output.shape[-1]\n",
    "    \n",
    "    loss = criterion(output, target.reshape(-1))\n",
    "    \n",
    "    loss.backward()\n",
    "    \n",
    "    optimizer.step()\n",
    "    \n",
    "    epoch_loss = loss.item()\n",
    "        \n",
    "    return epoch_loss / len(input)"
   ]
  },
  {
   "cell_type": "code",
   "execution_count": 40,
   "metadata": {},
   "outputs": [],
   "source": [
    "hidden_size = 256\n",
    "encoder = EncoderRNN(input_lang.n_words, hidden_size).to(device)\n",
    "decoder = DecoderRNN(hidden_size, output_lang.n_words).to(device)\n",
    "model = Seq2Seq(encoder, decoder, device)"
   ]
  },
  {
   "cell_type": "code",
   "execution_count": 41,
   "metadata": {},
   "outputs": [],
   "source": [
    "def trainIters(model, optimizer, criterion, n_iters, print_every=1000, plot_every=100, learning_rate=0.01):\n",
    "    start = time.time()\n",
    "    plot_losses = []\n",
    "    print_loss_total = 0  # Reset every print_every\n",
    "    plot_loss_total = 0  # Reset every plot_every\n",
    "\n",
    "    training_pairs = get_training_pairs(n_iters)\n",
    "\n",
    "    for iter in range(1, n_iters + 1):\n",
    "        inputs = training_pairs[iter - 1]\n",
    "        input = inputs[0]\n",
    "        target = inputs[1]\n",
    "\n",
    "        loss = train(model, input, target, optimizer, criterion, teacher_forcing_ratio=0.5)\n",
    "        print_loss_total += loss\n",
    "        plot_loss_total += loss\n",
    "\n",
    "        if iter % print_every == 0:\n",
    "            print_loss_avg = print_loss_total / print_every\n",
    "            print_loss_total = 0\n",
    "            print('%s (%d %d%%) %.4f' % (timeSince(start, iter / n_iters),\n",
    "                                         iter, iter / n_iters * 100, print_loss_avg))\n",
    "\n",
    "        if iter % plot_every == 0:\n",
    "            plot_loss_avg = plot_loss_total / plot_every\n",
    "            plot_losses.append(plot_loss_avg)\n",
    "            plot_loss_total = 0\n",
    "\n",
    "    return plot_losses\n"
   ]
  },
  {
   "cell_type": "code",
   "execution_count": 42,
   "metadata": {},
   "outputs": [
    {
     "name": "stdout",
     "output_type": "stream",
     "text": [
      "1m 23s (- 19m 30s) (5000 6%) 0.4446\n",
      "2m 48s (- 18m 14s) (10000 13%) 0.3904\n",
      "4m 13s (- 16m 54s) (15000 20%) 0.3762\n",
      "5m 38s (- 15m 31s) (20000 26%) 0.3656\n",
      "7m 3s (- 14m 7s) (25000 33%) 0.3469\n",
      "8m 29s (- 12m 44s) (30000 40%) 0.3344\n",
      "9m 55s (- 11m 21s) (35000 46%) 0.3190\n",
      "11m 48s (- 10m 19s) (40000 53%) 0.3046\n",
      "21m 25s (- 14m 16s) (45000 60%) 0.2877\n",
      "22m 52s (- 11m 26s) (50000 66%) 0.2752\n",
      "24m 21s (- 8m 51s) (55000 73%) 0.2599\n",
      "25m 50s (- 6m 27s) (60000 80%) 0.2499\n",
      "27m 19s (- 4m 12s) (65000 86%) 0.2377\n",
      "28m 48s (- 2m 3s) (70000 93%) 0.2314\n",
      "30m 16s (- 0m 0s) (75000 100%) 0.2221\n"
     ]
    }
   ],
   "source": [
    "learning_rate = 0.01\n",
    "optimizer = optim.SGD(model.parameters(), lr=learning_rate)\n",
    "criterion = nn.CrossEntropyLoss()\n",
    "\n",
    "train_losses = trainIters(model,optimizer, criterion, 75000, print_every=5000, plot_every=100, learning_rate=learning_rate)"
   ]
  },
  {
   "cell_type": "code",
   "execution_count": 60,
   "metadata": {},
   "outputs": [],
   "source": [
    "def evaluate(model, sentence, max_length=MAX_LENGTH):\n",
    "    with torch.no_grad():\n",
    "        input_tensor = tensorFromSentence(input_lang, sentence, True)\n",
    "        input_length = input_tensor.size(0)\n",
    "\n",
    "        decoded_words = []\n",
    "        output = model(input_tensor, max_length, False, None)\n",
    "        for item in output:\n",
    "            topv, topi = item.topk(1)\n",
    "            top1 = topi.squeeze().detach()\n",
    "            if top1.item() == EOS_token:\n",
    "                decoded_words.append('<EOS>')\n",
    "                break\n",
    "            else:\n",
    "                decoded_words.append(output_lang.index2word[top1.item()])\n",
    "        return decoded_words\n"
   ]
  },
  {
   "cell_type": "code",
   "execution_count": 61,
   "metadata": {},
   "outputs": [],
   "source": [
    "def evaluateRandomly(model, n=10):\n",
    "    for i in range(n):\n",
    "        pair = random.choice(pairs)\n",
    "        print('>', pair[0])\n",
    "        print('=', pair[1])\n",
    "        output_words = evaluate(model, pair[0])\n",
    "        output_sentence = ' '.join(output_words)\n",
    "        print('<', output_sentence)\n",
    "        print('')\n"
   ]
  },
  {
   "cell_type": "code",
   "execution_count": 45,
   "metadata": {},
   "outputs": [
    {
     "data": {
      "text/plain": [
       "<Figure size 640x480 with 0 Axes>"
      ]
     },
     "metadata": {},
     "output_type": "display_data"
    },
    {
     "data": {
      "image/png": "[encoded data removed]",
      "text/plain": [
       "<Figure size 640x480 with 1 Axes>"
      ]
     },
     "metadata": {},
     "output_type": "display_data"
    }
   ],
   "source": [
    "def showPlot(points):\n",
    "    plt.figure()\n",
    "    fig, ax = plt.subplots()\n",
    "    # this locator puts ticks at regular intervals\n",
    "    loc = ticker.MultipleLocator(base=0.2)\n",
    "    ax.yaxis.set_major_locator(loc)\n",
    "    plt.plot(points)\n",
    "\n",
    "showPlot(train_losses)"
   ]
  },
  {
   "cell_type": "code",
   "execution_count": 62,
   "metadata": {},
   "outputs": [
    {
     "name": "stdout",
     "output_type": "stream",
     "text": [
      "> 他是三个孩子的父亲 。\n",
      "= he is the father of three children .\n",
      "< he is a good at the . . <EOS>\n",
      "\n",
      "> 我们快要结束了 。\n",
      "= we re just about finished here .\n",
      "< we re having to go . <EOS>\n",
      "\n",
      "> 她将生孩子 。\n",
      "= she is going to have a baby .\n",
      "< she is good at the now . <EOS>\n",
      "\n",
      "> 他是美国人 。\n",
      "= he is american .\n",
      "< he is an . <EOS>\n",
      "\n",
      "> 他们自给自足 。\n",
      "= they re self sufficient .\n",
      "< they are having a . . <EOS>\n",
      "\n",
      "> 他现在出去了 。\n",
      "= he s out now .\n",
      "< he s out now . <EOS>\n",
      "\n",
      "> 你是我唯一能信任的人 。\n",
      "= you re the only one i can trust .\n",
      "< you re the to the the i . <EOS>\n",
      "\n",
      "> 你们有大麻烦了 。\n",
      "= you re in big trouble .\n",
      "< you re too too . <EOS>\n",
      "\n",
      "> 你够大了知道不要那样做 。\n",
      "= you are old enough to know better than to act like that .\n",
      "< you re not as young as you are . <EOS>\n",
      "\n",
      "> 我站在汤姆一边 。\n",
      "= i m on tom s side .\n",
      "< i m going to the . . <EOS>\n",
      "\n"
     ]
    }
   ],
   "source": [
    "evaluateRandomly(model)"
   ]
  },
  {
   "cell_type": "code",
   "execution_count": 64,
   "metadata": {},
   "outputs": [
    {
     "name": "stdout",
     "output_type": "stream",
     "text": [
      "i am a . <EOS>\n"
     ]
    }
   ],
   "source": [
    "output_words = evaluate(model, '我是自由的')\n",
    "output_sentence = ' '.join(output_words)\n",
    "print(output_sentence)"
   ]
  },
  {
   "cell_type": "code",
   "execution_count": null,
   "metadata": {},
   "outputs": [],
   "source": []
  }
 ],
 "metadata": {
  "kernelspec": {
   "display_name": "torch",
   "language": "python",
   "name": "python3"
  },
  "language_info": {
   "codemirror_mode": {
    "name": "ipython",
    "version": 3
   },
   "file_extension": ".py",
   "mimetype": "text/x-python",
   "name": "python",
   "nbconvert_exporter": "python",
   "pygments_lexer": "ipython3",
   "version": "3.9.13"
  },
  "orig_nbformat": 4,
  "vscode": {
   "interpreter": {
    "hash": "f525c695730c841e052b8d34cf6e8bcfdb8d8f78b4a6432d240c7bfc8c210784"
   }
  }
 },
 "nbformat": 4,
 "nbformat_minor": 2
}
