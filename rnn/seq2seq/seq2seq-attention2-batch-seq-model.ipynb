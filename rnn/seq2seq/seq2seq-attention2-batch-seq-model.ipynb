{
 "cells": [
  {
   "cell_type": "code",
   "execution_count": 107,
   "metadata": {},
   "outputs": [],
   "source": [
    "from __future__ import unicode_literals, print_function, division\n",
    "import random\n",
    "import torch\n",
    "import torch.nn as nn\n",
    "from torch import optim\n",
    "import matplotlib.pyplot as plt\n",
    "import matplotlib.ticker as ticker\n",
    "import math\n",
    "import time\n",
    "from torch.utils.data import DataLoader\n",
    "from cn_cn_data import get_cn_en_dataset, collate_padded_fn, cn_vocab, en_vocab, en_tokenizer_\n"
   ]
  },
  {
   "cell_type": "code",
   "execution_count": 108,
   "metadata": {},
   "outputs": [
    {
     "data": {
      "text/plain": [
       "<torch._C.Generator at 0x121644c10>"
      ]
     },
     "execution_count": 108,
     "metadata": {},
     "output_type": "execute_result"
    }
   ],
   "source": [
    "SEED = 1234\n",
    "\n",
    "random.seed(SEED)\n",
    "torch.manual_seed(SEED)"
   ]
  },
  {
   "cell_type": "code",
   "execution_count": 109,
   "metadata": {},
   "outputs": [
    {
     "name": "stdout",
     "output_type": "stream",
     "text": [
      "length of dataset 29371\n",
      "length of train_loader 1469\n",
      "length of val_loader 184\n",
      "length of test_loader 184\n"
     ]
    }
   ],
   "source": [
    "max_length = 50\n",
    "batch_size = 16\n",
    "\n",
    "cn_vocab_size = len(cn_vocab)\n",
    "en_vocab_size = len(en_vocab)\n",
    "\n",
    "device = torch.device(\"cpu\")\n",
    "dataset = get_cn_en_dataset(None, device)\n",
    "\n",
    "print('length of dataset', len(dataset))\n",
    "\n",
    "train_set, val_set, test_set = torch.utils.data.random_split(dataset, [23496, 2938, 2937], generator=torch.Generator().manual_seed(SEED))\n",
    "\n",
    "train_loader = DataLoader(train_set, batch_size=batch_size, shuffle=True, collate_fn=collate_padded_fn)\n",
    "val_loader = DataLoader(val_set, batch_size=batch_size, shuffle=False, collate_fn=collate_padded_fn)\n",
    "test_loader = DataLoader(test_set, batch_size=batch_size, shuffle=False, collate_fn=collate_padded_fn)\n",
    "\n",
    "print('length of train_loader', len(train_loader))\n",
    "print('length of val_loader', len(val_loader))\n",
    "print('length of test_loader', len(test_loader))"
   ]
  },
  {
   "cell_type": "code",
   "execution_count": 110,
   "metadata": {},
   "outputs": [
    {
     "name": "stdout",
     "output_type": "stream",
     "text": [
      "torch.Size([14, 16]) torch.Size([13, 16])\n",
      "[2, 4019, 264, 460, 325, 111, 10, 1085, 48, 78, 954, 10, 5, 3]\n",
      "[2, 70, 262, 909, 516, 1466, 3242, 167, 2524, 1402, 5, 3, 1]\n",
      "tensor([14, 11, 10, 10,  9,  9,  8,  8,  8,  8,  7,  7,  7,  6,  6,  5])\n"
     ]
    }
   ],
   "source": [
    "for i, item in enumerate(train_loader):\n",
    "    print(item[0][0].shape, item[1].shape)\n",
    "    print([idx[0].item() for idx in item[0][0]])\n",
    "    print([idx[0].item() for idx in item[1]])\n",
    "\n",
    "    print(item[0][1])\n",
    "    break"
   ]
  },
  {
   "cell_type": "code",
   "execution_count": 111,
   "metadata": {},
   "outputs": [],
   "source": [
    "class Encoder(nn.Module):\n",
    "    def __init__(self, input_size, hidden_size, dropout=0.1):\n",
    "        super(Encoder, self).__init__()\n",
    "        self.hidden_size = hidden_size\n",
    "\n",
    "        self.embedding = nn.Embedding(input_size, hidden_size)\n",
    "        self.gru = nn.GRU(hidden_size, hidden_size, batch_first=False, bidirectional=True)\n",
    "        self.fc = nn.Linear(hidden_size * 2, hidden_size)\n",
    "        self.dropout = nn.Dropout(dropout)\n",
    "\n",
    "    def forward(self, input, input_lengths):\n",
    "        embedded = self.dropout(self.embedding(input))\n",
    "        #need to explicitly put lengths on cpu!\n",
    "        packed_embedded = nn.utils.rnn.pack_padded_sequence(embedded, input_lengths.to('cpu'))\n",
    "\n",
    "        #packed_outputs is a packed sequence containing all hidden states, hidden is now from the final non-padded element in the batch\n",
    "        packed_outputs, hidden = self.gru(packed_embedded)\n",
    "\n",
    "        #outputs is now a non-packed sequence, all hidden states obtained, when the input is a pad token are all zeros\n",
    "        outputs, _ = nn.utils.rnn.pad_packed_sequence(packed_outputs)\n",
    "\n",
    "        hidden = torch.tanh(self.fc(torch.cat((hidden[-2,:,:], hidden[-1,:,:]), dim = 1)))\n",
    "\n",
    "        return outputs, hidden.unsqueeze(0)\n"
   ]
  },
  {
   "cell_type": "code",
   "execution_count": 112,
   "metadata": {},
   "outputs": [],
   "source": [
    "class Attention(nn.Module):\n",
    "    def __init__(self, hidden_size):\n",
    "        super().__init__()\n",
    "\n",
    "        self.attn = nn.Linear(hidden_size * 3, hidden_size)\n",
    "        self.v = nn.Linear(hidden_size, 1, bias=False)\n",
    "        self.softmax = nn.Softmax(dim=1)\n",
    "\n",
    "    def forward(self, hidden, encoder_outputs, mask):\n",
    "        seq_len = encoder_outputs.size(1)\n",
    "\n",
    "        hidden = hidden.permute(1, 0, 2)\n",
    "        # repeat decoder hidden state src_len times, hidden = [batch, seq_len, hidden size]\n",
    "        hidden = hidden.repeat(1, seq_len, 1)\n",
    "\n",
    "        # [batch, seq_len, hidden size * 2]\n",
    "        outputs_cat_hidden = torch.cat((hidden, encoder_outputs), dim=2)\n",
    "\n",
    "        # energy = [batch, seq_len, hidden size]\n",
    "        energy = torch.tanh(self.attn(outputs_cat_hidden))\n",
    "\n",
    "        # attention= [batch, seq_len]\n",
    "        attention = self.v(energy).squeeze(2)\n",
    "\n",
    "        attention = attention.masked_fill(mask == 0, -1e10)\n",
    "\n",
    "        return self.softmax(attention)\n"
   ]
  },
  {
   "cell_type": "code",
   "execution_count": 113,
   "metadata": {},
   "outputs": [],
   "source": [
    "class Decoder(nn.Module):\n",
    "    def __init__(self, hidden_size, output_size, dropout=0.1):\n",
    "        super().__init__()\n",
    "        self.attention = Attention(hidden_size)\n",
    "        self.hidden_size = hidden_size\n",
    "        self.output_size = output_size\n",
    "        self.embedding = nn.Embedding(output_size, hidden_size)\n",
    "        self.rnn = nn.GRU(hidden_size * 3, hidden_size)\n",
    "        self.out = nn.Linear(hidden_size * 4, output_size)\n",
    "        self.dropout = nn.Dropout(dropout)\n",
    "\n",
    "    def forward(self, input, hidden, encoder_outputs, mask):\n",
    "        # input = [batch, 1]\n",
    "        # hidden = [1, batch, hidden_size]\n",
    "        #mask = [batch size, src len]\n",
    "\n",
    "        encoder_outputs = encoder_outputs.permute(1, 0, 2) # [batch, seq_len, hidden_size * 2]\n",
    "        # embedded = [1, batch, hidden_size]\n",
    "        embedded = self.dropout(self.embedding(input)).unsqueeze(0)\n",
    "\n",
    "        # [batch, 1, seq_len]\n",
    "        attention = self.attention(hidden, encoder_outputs, mask).unsqueeze(1)\n",
    "\n",
    "        # weighted_encoder_outputs = [batch, 1, hidden_size * 2]\n",
    "        weighted_encoder_outputs = torch.bmm(attention, encoder_outputs).permute(1, 0, 2) # (1, batch, hidden_size)\n",
    "\n",
    "        # output = [seq_len, batch, hidden_size], hidden = [n_layers(1), batch, hidden_size]\n",
    "        output, hidden = self.rnn(torch.cat((embedded, weighted_encoder_outputs), dim=2), hidden)\n",
    "\n",
    "        embedded = embedded.squeeze(0) # [batch, hidden_size]\n",
    "        output = output.squeeze(0) # [batch, hidden_size]\n",
    "        weighted_encoder_outputs = weighted_encoder_outputs.squeeze(0) # [batch, hidden_size]\n",
    "\n",
    "        prediction = self.out(torch.cat((output, weighted_encoder_outputs, embedded), dim=1)) # [batch, output _ize]\n",
    "        return prediction, hidden, attention.squeeze(1)\n"
   ]
  },
  {
   "cell_type": "code",
   "execution_count": 114,
   "metadata": {},
   "outputs": [],
   "source": [
    "class Seq2Seq(nn.Module):\n",
    "    def __init__(self, encoder, decoder, input_pad, device):\n",
    "        super().__init__()\n",
    "        \n",
    "        self.encoder = encoder\n",
    "        self.decoder = decoder\n",
    "        self.input_pad = input_pad\n",
    "        self.device = device\n",
    "        \n",
    "        assert encoder.hidden_size == decoder.hidden_size, \"Hidden dimensions of encoder and decoder must be equal!\"\n",
    "    \n",
    "    def create_mask(self, input):\n",
    "        mask = (input != self.input_pad).permute(1, 0)\n",
    "        return mask\n",
    "        \n",
    "    def forward(self, inputs, input_lengths, target, teacher_forcing_ratio = 0.5):\n",
    "        use_teacher_forcing = True if random.random() < teacher_forcing_ratio else False\n",
    "\n",
    "        encoder_outputs, hidden = self.encoder(inputs, input_lengths)\n",
    "        mask = self.create_mask(inputs)\n",
    "\n",
    "        batch_size = inputs.size(1)\n",
    "        target_length = target.size(0)\n",
    "        output_size = self.decoder.output_size\n",
    "\n",
    "        input = inputs[0]\n",
    "        outputs = torch.zeros(target_length, batch_size, output_size).to(self.device)\n",
    "        for t in range(1, target_length):\n",
    "            \n",
    "            #insert input token embedding, previous hidden state, all encoder hidden states and mask\n",
    "            #receive output tensor (predictions) and new hidden state\n",
    "            output, hidden, _ = self.decoder(input, hidden, encoder_outputs, mask)\n",
    "            \n",
    "            #place predictions in a tensor holding predictions for each token\n",
    "            outputs[t] = output\n",
    "            \n",
    "            #decide if we are going to use teacher forcing or not\n",
    "            use_teacher_forcing = True if random.random() < teacher_forcing_ratio else False\n",
    "            \n",
    "            #get the highest predicted token from our predictions\n",
    "            top1 = output.argmax(1) \n",
    "            \n",
    "            #if teacher forcing, use actual next token as next input\n",
    "            #if not, use predicted token\n",
    "            input = target[t] if use_teacher_forcing else top1.detach()\n",
    "\n",
    "        \n",
    "        return outputs"
   ]
  },
  {
   "cell_type": "code",
   "execution_count": 115,
   "metadata": {},
   "outputs": [
    {
     "data": {
      "text/plain": [
       "Seq2Seq(\n",
       "  (encoder): Encoder(\n",
       "    (embedding): Embedding(11280, 256)\n",
       "    (gru): GRU(256, 256, bidirectional=True)\n",
       "    (fc): Linear(in_features=512, out_features=256, bias=True)\n",
       "    (dropout): Dropout(p=0.1, inplace=False)\n",
       "  )\n",
       "  (decoder): Decoder(\n",
       "    (attention): Attention(\n",
       "      (attn): Linear(in_features=768, out_features=256, bias=True)\n",
       "      (v): Linear(in_features=256, out_features=1, bias=False)\n",
       "      (softmax): Softmax(dim=1)\n",
       "    )\n",
       "    (embedding): Embedding(7910, 256)\n",
       "    (rnn): GRU(768, 256)\n",
       "    (out): Linear(in_features=1024, out_features=7910, bias=True)\n",
       "    (dropout): Dropout(p=0.1, inplace=False)\n",
       "  )\n",
       ")"
      ]
     },
     "execution_count": 115,
     "metadata": {},
     "output_type": "execute_result"
    }
   ],
   "source": [
    "hidden_size = 256\n",
    "encoder = Encoder(cn_vocab_size, hidden_size).to(device)\n",
    "decoder = Decoder(hidden_size, en_vocab_size).to(device)\n",
    "\n",
    "model = Seq2Seq(encoder, decoder, cn_vocab['<pad>'], device)\n",
    "\n",
    "def init_weights(m):\n",
    "    for name, param in m.named_parameters():\n",
    "        if 'weight' in name:\n",
    "            nn.init.normal_(param.data, mean=0, std=0.01)\n",
    "        else:\n",
    "            nn.init.constant_(param.data, 0)\n",
    "            \n",
    "model.apply(init_weights)"
   ]
  },
  {
   "cell_type": "code",
   "execution_count": 116,
   "metadata": {},
   "outputs": [
    {
     "name": "stdout",
     "output_type": "stream",
     "text": [
      "The model has 14,926,310 trainable parameters\n"
     ]
    }
   ],
   "source": [
    "def count_parameters(model):\n",
    "    return sum(p.numel() for p in model.parameters() if p.requires_grad)\n",
    "\n",
    "print(f'The model has {count_parameters(model):,} trainable parameters')"
   ]
  },
  {
   "cell_type": "code",
   "execution_count": 117,
   "metadata": {},
   "outputs": [],
   "source": [
    "optimizer = optim.Adam(model.parameters())\n",
    "criterion = nn.CrossEntropyLoss(ignore_index = en_vocab['<pad>'])"
   ]
  },
  {
   "cell_type": "code",
   "execution_count": 118,
   "metadata": {},
   "outputs": [],
   "source": [
    "def train(model, train_loader, optimizer, criterion, clip=1, plot_every=100):\n",
    "    total_loss = 0\n",
    "    plot_losses = []\n",
    "    plot_loss_total = 0\n",
    "    for iter, (input, target) in enumerate(train_loader, 1):\n",
    "        inputs, input_lengths = input\n",
    "\n",
    "        optimizer.zero_grad()\n",
    "\n",
    "        output = model(inputs, input_lengths, target)\n",
    "\n",
    "        output_dim = output.shape[-1]\n",
    "        output = output[1:].view(-1, output_dim)\n",
    "        target = target[1:].view(-1)\n",
    "\n",
    "        loss = criterion(output, target)\n",
    "\n",
    "        loss.backward()\n",
    "        torch.nn.utils.clip_grad_norm_(model.parameters(), clip)\n",
    "        optimizer.step()\n",
    "\n",
    "        total_loss += loss.item()\n",
    "        plot_loss_total += loss.item()\n",
    "\n",
    "        if iter % plot_every == 0:\n",
    "            plot_loss_avg = plot_loss_total / plot_every\n",
    "            plot_losses.append(plot_loss_avg)\n",
    "            plot_loss_total = 0\n",
    "       \n",
    "    return (total_loss / len(train_loader), plot_losses)"
   ]
  },
  {
   "cell_type": "code",
   "execution_count": 119,
   "metadata": {},
   "outputs": [],
   "source": [
    "def evaluate(model, val_loader, criterion):\n",
    "    total_loss = 0\n",
    "    with torch.no_grad():\n",
    "    \n",
    "        for i, (input, target) in enumerate(val_loader):\n",
    "\n",
    "            inputs, input_lengths = input\n",
    "\n",
    "            output = model(inputs, input_lengths, target, 0)\n",
    "            \n",
    "            output_dim = output.shape[-1]\n",
    "            output = output[1:].view(-1, output_dim)\n",
    "            target = target[1:].view(-1)\n",
    "\n",
    "            loss = criterion(output, target)\n",
    "\n",
    "            total_loss += loss.item()\n",
    "        \n",
    "    return total_loss / len(val_loader)"
   ]
  },
  {
   "cell_type": "code",
   "execution_count": 120,
   "metadata": {},
   "outputs": [],
   "source": [
    "def epoch_time(start_time, end_time):\n",
    "    elapsed_time = end_time - start_time\n",
    "    elapsed_mins = int(elapsed_time / 60)\n",
    "    elapsed_secs = int(elapsed_time - (elapsed_mins * 60))\n",
    "    return elapsed_mins, elapsed_secs"
   ]
  },
  {
   "cell_type": "code",
   "execution_count": 121,
   "metadata": {},
   "outputs": [
    {
     "name": "stdout",
     "output_type": "stream",
     "text": [
      "Epoch: 01 | Time: 6m 37s\n",
      "\tTrain Loss: 4.424 | Train PPL:  83.460\n",
      "\t Val. Loss: 4.181 |  Val. PPL:  65.433\n",
      "Epoch: 02 | Time: 6m 23s\n",
      "\tTrain Loss: 3.175 | Train PPL:  23.928\n",
      "\t Val. Loss: 3.637 |  Val. PPL:  37.976\n",
      "Epoch: 03 | Time: 6m 31s\n",
      "\tTrain Loss: 2.366 | Train PPL:  10.658\n",
      "\t Val. Loss: 3.404 |  Val. PPL:  30.098\n",
      "Epoch: 04 | Time: 6m 32s\n",
      "\tTrain Loss: 1.786 | Train PPL:   5.964\n",
      "\t Val. Loss: 3.425 |  Val. PPL:  30.710\n",
      "Epoch: 05 | Time: 6m 30s\n",
      "\tTrain Loss: 1.380 | Train PPL:   3.974\n",
      "\t Val. Loss: 3.528 |  Val. PPL:  34.056\n",
      "Epoch: 06 | Time: 6m 28s\n",
      "\tTrain Loss: 1.115 | Train PPL:   3.049\n",
      "\t Val. Loss: 3.660 |  Val. PPL:  38.866\n",
      "Epoch: 07 | Time: 6m 31s\n",
      "\tTrain Loss: 0.940 | Train PPL:   2.560\n",
      "\t Val. Loss: 3.815 |  Val. PPL:  45.396\n",
      "Epoch: 08 | Time: 6m 32s\n",
      "\tTrain Loss: 0.807 | Train PPL:   2.242\n",
      "\t Val. Loss: 3.920 |  Val. PPL:  50.379\n",
      "Epoch: 09 | Time: 6m 31s\n",
      "\tTrain Loss: 0.707 | Train PPL:   2.027\n",
      "\t Val. Loss: 4.013 |  Val. PPL:  55.330\n",
      "Epoch: 10 | Time: 6m 28s\n",
      "\tTrain Loss: 0.623 | Train PPL:   1.864\n",
      "\t Val. Loss: 4.132 |  Val. PPL:  62.279\n"
     ]
    }
   ],
   "source": [
    "N_EPOCHS = 10\n",
    "model_path = './models/seq2seq-f1.pt'\n",
    "train_losses = []\n",
    "CLIP = 1\n",
    "\n",
    "best_valid_loss = float('inf')\n",
    "\n",
    "for epoch in range(N_EPOCHS):\n",
    "    \n",
    "    start_time = time.time()\n",
    "    \n",
    "    train_loss, plot_losses = train(model, train_loader, optimizer, criterion, CLIP)\n",
    "    train_losses = train_losses + plot_losses\n",
    "    valid_loss = evaluate(model, val_loader, criterion)\n",
    "    \n",
    "    end_time = time.time()\n",
    "    \n",
    "    epoch_mins, epoch_secs = epoch_time(start_time, end_time)\n",
    "    \n",
    "    if valid_loss < best_valid_loss:\n",
    "        best_valid_loss = valid_loss\n",
    "        torch.save(model.state_dict(), model_path)\n",
    "    \n",
    "    print(f'Epoch: {epoch+1:02} | Time: {epoch_mins}m {epoch_secs}s')\n",
    "    print(f'\\tTrain Loss: {train_loss:.3f} | Train PPL: {math.exp(train_loss):7.3f}')\n",
    "    print(f'\\t Val. Loss: {valid_loss:.3f} |  Val. PPL: {math.exp(valid_loss):7.3f}')"
   ]
  },
  {
   "cell_type": "code",
   "execution_count": 122,
   "metadata": {},
   "outputs": [
    {
     "name": "stdout",
     "output_type": "stream",
     "text": [
      "| Test Loss: 3.344 | Test PPL:  28.336 |\n"
     ]
    }
   ],
   "source": [
    "model.load_state_dict(torch.load(model_path))\n",
    "\n",
    "test_loss = evaluate(model, test_loader, criterion)\n",
    "\n",
    "print(f'| Test Loss: {test_loss:.3f} | Test PPL: {math.exp(test_loss):7.3f} |')"
   ]
  },
  {
   "cell_type": "code",
   "execution_count": 123,
   "metadata": {},
   "outputs": [
    {
     "data": {
      "text/plain": [
       "<Figure size 640x480 with 0 Axes>"
      ]
     },
     "metadata": {},
     "output_type": "display_data"
    },
    {
     "data": {
      "image/png": "[encoded data removed]",
      "text/plain": [
       "<Figure size 640x480 with 1 Axes>"
      ]
     },
     "metadata": {},
     "output_type": "display_data"
    }
   ],
   "source": [
    "def showPlot(points):\n",
    "    plt.figure()\n",
    "    fig, ax = plt.subplots()\n",
    "    # this locator puts ticks at regular intervals\n",
    "    loc = ticker.MultipleLocator(base=0.2)\n",
    "    ax.yaxis.set_major_locator(loc)\n",
    "    plt.plot(points)\n",
    "\n",
    "\n",
    "showPlot(train_losses)\n"
   ]
  },
  {
   "cell_type": "code",
   "execution_count": 124,
   "metadata": {},
   "outputs": [],
   "source": [
    "def translate_sentence(sentence, max_length=max_length):\n",
    "    with torch.no_grad():\n",
    "        inputs = dataset.tokenize_sentence(sentence, True).unsqueeze(0)\n",
    "        inputs = inputs.permute(1, 0)\n",
    "        input_lengths = torch.tensor([len(inputs)])\n",
    "\n",
    "        mask = model.create_mask(inputs)\n",
    "        encoder_outputs, hidden = model.encoder(inputs, input_lengths)\n",
    "\n",
    "        input = torch.tensor([cn_vocab['<sos>']], device=device)\n",
    "\n",
    "        words = []\n",
    "        attentions = torch.zeros(max_length, input_lengths[0])\n",
    "\n",
    "        for i in range(max_length):\n",
    "            output, hidden, attention = model.decoder(input, hidden, encoder_outputs, mask)\n",
    "            top1 = output.argmax(1) \n",
    "            attentions[i] = attention.squeeze().data\n",
    "            if top1.item() == en_vocab['<eos>']:\n",
    "                words.append('<eos>')\n",
    "                break\n",
    "            else:\n",
    "                words.append(en_vocab.lookup_token(top1.item()))\n",
    "\n",
    "            input = top1.detach()\n",
    "\n",
    "        return words, attentions[:i + 1]\n"
   ]
  },
  {
   "cell_type": "code",
   "execution_count": 125,
   "metadata": {},
   "outputs": [
    {
     "name": "stdout",
     "output_type": "stream",
     "text": [
      "> 我喜欢学习外语。\n",
      "= I like to study foreign languages.\n",
      "< I like study study foreign languages . <eos>\n",
      "\n",
      "> 当你进入礼拜堂时，把你的帽子脱下来。\n",
      "= Take your hat off when you enter a house of worship.\n",
      "< Walk you when you enter a hat , your hat . <eos>\n",
      "\n",
      "> 他是个好人。\n",
      "= He's a good person.\n",
      "< He is a good person . <eos>\n",
      "\n",
      "> 我谁也不需要。\n",
      "= I don't need anyone.\n",
      "< I do n't need . <eos>\n",
      "\n",
      "> 请稍等一下。\n",
      "= Please hold on a moment.\n",
      "< Please wait a a . <eos>\n",
      "\n",
      "> 把眼镜戴上!\n",
      "= Put on your glasses.\n",
      "< Put the glasses on the . <eos>\n",
      "\n",
      "> 让我们明天参观一些寺庙。\n",
      "= Let's visit some temples tomorrow.\n",
      "< Let 's take a little tomorrow . <eos>\n",
      "\n",
      "> 他老是把我和我姐姐搞错。\n",
      "= He always mistakes me for my sister.\n",
      "< He always always my older sister . <eos>\n",
      "\n",
      "> 她知道你的电话号码？\n",
      "= Does she know your phone number?\n",
      "< Is she know your phone number ? <eos>\n",
      "\n",
      "> 你喜欢看电影吗？\n",
      "= Do you like to watch movies?\n",
      "< Do you like to the movies ? <eos>\n",
      "\n"
     ]
    }
   ],
   "source": [
    "def translateRandomly(n=10):\n",
    "    for i in range(n):\n",
    "        pair = random.choice(dataset.pairs)\n",
    "        print('>', pair[0])\n",
    "        print('=', pair[1])\n",
    "        words, _ = translate_sentence(pair[0])\n",
    "        sentence = ' '.join(words)\n",
    "        print('<', sentence)\n",
    "        print('')\n",
    "\n",
    "translateRandomly()\n"
   ]
  },
  {
   "cell_type": "code",
   "execution_count": 126,
   "metadata": {},
   "outputs": [
    {
     "name": "stdout",
     "output_type": "stream",
     "text": [
      "I 'm watching television . <eos>\n"
     ]
    },
    {
     "data": {
      "text/plain": [
       "<matplotlib.image.AxesImage at 0x2b92e5370>"
      ]
     },
     "execution_count": 126,
     "metadata": {},
     "output_type": "execute_result"
    },
    {
     "data": {
      "image/png": "[encoded data removed]",
      "text/plain": [
       "<Figure size 560x480 with 1 Axes>"
      ]
     },
     "metadata": {},
     "output_type": "display_data"
    }
   ],
   "source": [
    "words, attentions = translate_sentence(\"我在看电视。\")\n",
    "sentence = ' '.join(words)\n",
    "print(sentence)\n",
    "plt.matshow(attentions.numpy())\n"
   ]
  },
  {
   "cell_type": "code",
   "execution_count": 127,
   "metadata": {},
   "outputs": [],
   "source": [
    "from torchtext.data.metrics import bleu_score\n",
    "\n",
    "def calculate_bleu(data, max_len = 50):\n",
    "    \n",
    "    trgs = []\n",
    "    pred_trgs = []\n",
    "    \n",
    "    for (input, target) in data:\n",
    "        pred_trget, _ = translate_sentence(input, max_len)\n",
    "        target = en_tokenizer_(target)\n",
    "        #cut off <eos> token\n",
    "        pred_trget = pred_trget[:-1]\n",
    "        \n",
    "        pred_trgs.append(pred_trget)\n",
    "        trgs.append([target])\n",
    "        \n",
    "    return bleu_score(pred_trgs, trgs)"
   ]
  },
  {
   "cell_type": "code",
   "execution_count": 128,
   "metadata": {},
   "outputs": [
    {
     "name": "stdout",
     "output_type": "stream",
     "text": [
      "BLEU score = 31.87\n"
     ]
    }
   ],
   "source": [
    "def calculate_data_bleu(n_num=200):\n",
    "    data = [random.choice(dataset.pairs) for i in range(n_num)]\n",
    "    bleu_score = calculate_bleu(data)\n",
    "    return bleu_score\n",
    "\n",
    "bleu_score = calculate_data_bleu()\n",
    "\n",
    "\n",
    "print(f'BLEU score = {bleu_score*100:.2f}')"
   ]
  },
  {
   "cell_type": "code",
   "execution_count": null,
   "metadata": {},
   "outputs": [],
   "source": []
  }
 ],
 "metadata": {
  "kernelspec": {
   "display_name": "Python 3",
   "language": "python",
   "name": "python3"
  },
  "language_info": {
   "codemirror_mode": {
    "name": "ipython",
    "version": 3
   },
   "file_extension": ".py",
   "mimetype": "text/x-python",
   "name": "python",
   "nbconvert_exporter": "python",
   "pygments_lexer": "ipython3",
   "version": "3.10.0"
  },
  "orig_nbformat": 4,
  "vscode": {
   "interpreter": {
    "hash": "aee8b7b246df8f9039afb4144a1f6fd8d2ca17a180786b69acc140d282b71a49"
   }
  }
 },
 "nbformat": 4,
 "nbformat_minor": 2
}
