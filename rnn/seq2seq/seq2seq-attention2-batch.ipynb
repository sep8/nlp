{
 "cells": [
  {
   "cell_type": "code",
   "execution_count": 104,
   "metadata": {},
   "outputs": [],
   "source": [
    "from __future__ import unicode_literals, print_function, division\n",
    "import random\n",
    "import torch\n",
    "import torch.nn as nn\n",
    "from torch import optim\n",
    "import matplotlib.pyplot as plt\n",
    "import matplotlib.ticker as ticker\n",
    "import torch.nn.functional as F\n",
    "import time\n",
    "from utils import timeSince\n",
    "\n",
    "from cn_cn_data import get_cn_en_padded_loader, cn_vocab, en_vocab\n"
   ]
  },
  {
   "cell_type": "code",
   "execution_count": 105,
   "metadata": {},
   "outputs": [
    {
     "name": "stdout",
     "output_type": "stream",
     "text": [
      "length of train_loader 552\n"
     ]
    }
   ],
   "source": [
    "seq_len = 15\n",
    "max_length = seq_len + 2\n",
    "batch_size = 4\n",
    "\n",
    "cn_vocab_size = len(cn_vocab)\n",
    "en_vocab_size = len(en_vocab)\n",
    "\n",
    "device = torch.device(\"cpu\")\n",
    "train_loader, train_dataset = get_cn_en_padded_loader(seq_len, batch_size, device)\n",
    "print('length of train_loader', len(train_loader))"
   ]
  },
  {
   "cell_type": "code",
   "execution_count": 106,
   "metadata": {},
   "outputs": [
    {
     "name": "stdout",
     "output_type": "stream",
     "text": [
      "torch.Size([11, 4]) torch.Size([8, 4])\n",
      "[2, 19, 164, 14, 313, 47, 1671, 168, 172, 5, 3]\n",
      "[2, 131, 262, 86, 1096, 454, 5, 3]\n",
      "tensor([11,  9,  8,  7])\n"
     ]
    }
   ],
   "source": [
    "for i, item in enumerate(train_loader):\n",
    "    print(item[0][0].shape, item[1].shape)\n",
    "    print([idx[0].item() for idx in item[0][0]])\n",
    "    print([idx[0].item() for idx in item[1]])\n",
    "\n",
    "    print(item[0][1])\n",
    "    break"
   ]
  },
  {
   "cell_type": "code",
   "execution_count": 107,
   "metadata": {},
   "outputs": [],
   "source": [
    "class Encoder(nn.Module):\n",
    "    def __init__(self, input_size, hidden_size, dropout=0.1):\n",
    "        super(Encoder, self).__init__()\n",
    "        self.hidden_size = hidden_size\n",
    "\n",
    "        self.embedding = nn.Embedding(input_size, hidden_size)\n",
    "        self.gru = nn.GRU(hidden_size, hidden_size, batch_first=False)\n",
    "        self.dropout = nn.Dropout(dropout)\n",
    "\n",
    "    def forward(self, input, input_lengths):\n",
    "        embedded = self.dropout(self.embedding(input))\n",
    "        #need to explicitly put lengths on cpu!\n",
    "        # packed_embedded = nn.utils.rnn.pack_padded_sequence(embedded, input_lengths.to('cpu'))\n",
    "\n",
    "        #packed_outputs is a packed sequence containing all hidden states, hidden is now from the final non-padded element in the batch\n",
    "        packed_outputs, hidden = self.gru(embedded)\n",
    "\n",
    "        #outputs is now a non-packed sequence, all hidden states obtained, when the input is a pad token are all zeros\n",
    "        # outputs, _ = nn.utils.rnn.pad_packed_sequence(packed_outputs)\n",
    "\n",
    "        return packed_outputs, hidden\n"
   ]
  },
  {
   "cell_type": "code",
   "execution_count": 108,
   "metadata": {},
   "outputs": [],
   "source": [
    "class Attention(nn.Module):\n",
    "    def __init__(self, hidden_size):\n",
    "        super().__init__()\n",
    "\n",
    "        self.attn = nn.Linear(hidden_size * 2, hidden_size)\n",
    "        self.v = nn.Linear(hidden_size, 1, bias=False)\n",
    "        self.softmax = nn.Softmax(dim=1)\n",
    "\n",
    "    def forward(self, hidden, encoder_outputs, mask):\n",
    "        seq_len = encoder_outputs.size(1)\n",
    "\n",
    "        hidden = hidden.permute(1, 0, 2)\n",
    "        # repeat decoder hidden state src_len times, hidden = [batch, seq_len, hidden size]\n",
    "        hidden = hidden.repeat(1, seq_len, 1)\n",
    "\n",
    "        # [batch, seq_len, hidden size * 2]\n",
    "        outputs_cat_hidden = torch.cat((hidden, encoder_outputs), dim=2)\n",
    "\n",
    "        # energy = [batch, seq_len, hidden size]\n",
    "        energy = torch.tanh(self.attn(outputs_cat_hidden))\n",
    "\n",
    "        # attention= [batch, seq_len]\n",
    "        attention = self.v(energy).squeeze(2)\n",
    "\n",
    "        # attention = attention.masked_fill(mask == 0, -1e10)\n",
    "\n",
    "        return self.softmax(attention)\n"
   ]
  },
  {
   "cell_type": "code",
   "execution_count": 109,
   "metadata": {},
   "outputs": [],
   "source": [
    "class Decoder(nn.Module):\n",
    "    def __init__(self, hidden_size, output_size, dropout=0.1):\n",
    "        super().__init__()\n",
    "        self.attention = Attention(hidden_size)\n",
    "        self.hidden_size = hidden_size\n",
    "        self.output_size = output_size\n",
    "        self.embedding = nn.Embedding(output_size, hidden_size)\n",
    "        self.rnn = nn.GRU(hidden_size * 2, hidden_size)\n",
    "        self.out = nn.Linear(hidden_size * 3, output_size)\n",
    "        self.dropout = nn.Dropout(dropout)\n",
    "\n",
    "    def forward(self, input, hidden, encoder_outputs, mask):\n",
    "        # input = [batch, 1]\n",
    "        # hidden = [1, batch, hidden_size]\n",
    "        #mask = [batch size, src len]\n",
    "\n",
    "        encoder_outputs = encoder_outputs.permute(1, 0, 2) # [batch, seq_len, hidden size]\n",
    "        # embedded = [1, batch, hidden_size]\n",
    "        embedded = self.dropout(self.embedding(input)).unsqueeze(0)\n",
    "\n",
    "        # [batch, 1, seq_len]\n",
    "        attention = self.attention(hidden, encoder_outputs, mask).unsqueeze(1)\n",
    "\n",
    "        # weighted = [batch, 1, hidden_size]\n",
    "        weighted_encoder_outputs = torch.bmm(attention, encoder_outputs).permute(1, 0, 2) # (1, batch, hidden_size)\n",
    "\n",
    "        # output = [seq_len, batch, hidden_size], hidden = [n_layers(1), batch, hidden_size]\n",
    "        output, hidden = self.rnn(torch.cat((embedded, weighted_encoder_outputs), dim=2), hidden)\n",
    "\n",
    "        embedded = embedded.squeeze(0) # [batch, hidden_size]\n",
    "        output = output.squeeze(0) # [batch, hidden_size]\n",
    "        weighted_encoder_outputs = weighted_encoder_outputs.squeeze(0) # [batch, hidden_size]\n",
    "\n",
    "        prediction = self.out(torch.cat((output, weighted_encoder_outputs, embedded), dim=1)) # [batch, output _ize]\n",
    "        return prediction, hidden, attention.squeeze(1)\n"
   ]
  },
  {
   "cell_type": "code",
   "execution_count": 110,
   "metadata": {},
   "outputs": [],
   "source": [
    "teacher_forcing_ratio = 0.5\n",
    "\n",
    "def create_mask(input):\n",
    "    mask = (input != cn_vocab['<pad>']).permute(1, 0)\n",
    "    return mask\n",
    "\n",
    "def train(input, target_tensor, encoder, decoder, encoder_optimizer, decoder_optimizer, criterion):\n",
    "    encoder_optimizer.zero_grad()\n",
    "    decoder_optimizer.zero_grad()\n",
    "\n",
    "    target_length = target_tensor.size(0)\n",
    "    loss = 0\n",
    "\n",
    "    (input_tensor, input_lengths) = input\n",
    "    encoder_outputs, encoder_hidden = encoder(input_tensor, input_lengths)\n",
    "\n",
    "    decoder_input = input_tensor[0]\n",
    "    decoder_hidden = encoder_hidden\n",
    "\n",
    "    mask = create_mask(input_tensor)\n",
    "\n",
    "    use_teacher_forcing = True if random.random() < teacher_forcing_ratio else False\n",
    "\n",
    "    if use_teacher_forcing:\n",
    "        # Teacher forcing: Feed the target as the next input\n",
    "        for di in range(target_length):\n",
    "            decoder_output, decoder_hidden, decoder_attention = decoder(decoder_input, decoder_hidden, encoder_outputs, mask)\n",
    "\n",
    "            target = target_tensor[di]\n",
    "            loss += criterion(decoder_output, target)\n",
    "            decoder_input = target  # Teacher forcing\n",
    "\n",
    "    else:\n",
    "        # Without teacher forcing: use its own predictions as the next input\n",
    "        for di in range(target_length):\n",
    "            decoder_output, decoder_hidden, decoder_attention = decoder(decoder_input, decoder_hidden, encoder_outputs, mask)\n",
    "            topv, topi = decoder_output.topk(1)\n",
    "            decoder_input = topi.squeeze(1).detach()  # detach from history as input\n",
    "\n",
    "            target = target_tensor[di]\n",
    "            loss += criterion(decoder_output, target)\n",
    "\n",
    "    loss.backward()\n",
    "\n",
    "    encoder_optimizer.step()\n",
    "    decoder_optimizer.step()\n",
    "\n",
    "    return loss.item() / target_length\n"
   ]
  },
  {
   "cell_type": "code",
   "execution_count": 111,
   "metadata": {},
   "outputs": [],
   "source": [
    "def trainIters(encoder, decoder, train_loader, print_every=100, plot_every=10, learning_rate=0.005):\n",
    "    start = time.time()\n",
    "    plot_losses = []\n",
    "    print_loss_total = 0\n",
    "    plot_loss_total = 0\n",
    "\n",
    "    encoder_optimizer = optim.SGD(encoder.parameters(), lr=learning_rate)\n",
    "    decoder_optimizer = optim.SGD(decoder.parameters(), lr=learning_rate)\n",
    "    # criterion = nn.NLLLoss()\n",
    "    criterion = nn.CrossEntropyLoss(ignore_index=en_vocab['<pad>'])\n",
    "    n_iters = len(train_loader)\n",
    "\n",
    "    for iter, data in enumerate(train_loader, 1):\n",
    "        input, target_tensor = data\n",
    "\n",
    "        loss = train(input, target_tensor, encoder, decoder, encoder_optimizer, decoder_optimizer, criterion)\n",
    "        print_loss_total += loss\n",
    "        plot_loss_total += loss\n",
    "\n",
    "        if iter % print_every == 0:\n",
    "            print_loss_avg = print_loss_total / print_every\n",
    "            print_loss_total = 0\n",
    "            print('%s (%d %d%%) %.4f' % (timeSince(start, iter / n_iters),\n",
    "                                         iter, iter / n_iters * 100, print_loss_avg))\n",
    "\n",
    "        if iter % plot_every == 0:\n",
    "            plot_loss_avg = plot_loss_total / plot_every\n",
    "            plot_losses.append(plot_loss_avg)\n",
    "            plot_loss_total = 0\n",
    "\n",
    "    return plot_losses\n"
   ]
  },
  {
   "cell_type": "code",
   "execution_count": 112,
   "metadata": {},
   "outputs": [
    {
     "name": "stdout",
     "output_type": "stream",
     "text": [
      "--------------epoch 1--------------\n",
      "0m 11s (- 0m 50s) (100 18%) 5.3750\n",
      "0m 22s (- 0m 39s) (200 36%) 3.8763\n",
      "0m 34s (- 0m 28s) (300 54%) 3.6757\n",
      "0m 45s (- 0m 17s) (400 72%) 3.6063\n",
      "0m 56s (- 0m 5s) (500 90%) 3.4253\n",
      "--------------epoch 2--------------\n",
      "0m 10s (- 0m 49s) (100 18%) 3.2983\n",
      "0m 21s (- 0m 38s) (200 36%) 3.2562\n",
      "0m 32s (- 0m 27s) (300 54%) 3.3798\n",
      "0m 44s (- 0m 16s) (400 72%) 3.3093\n",
      "0m 54s (- 0m 5s) (500 90%) 3.2075\n",
      "--------------epoch 3--------------\n",
      "0m 11s (- 0m 50s) (100 18%) 3.1483\n",
      "0m 21s (- 0m 38s) (200 36%) 3.1167\n",
      "0m 32s (- 0m 27s) (300 54%) 3.0664\n",
      "0m 43s (- 0m 16s) (400 72%) 3.2287\n",
      "0m 54s (- 0m 5s) (500 90%) 3.1580\n",
      "--------------epoch 4--------------\n",
      "0m 10s (- 0m 48s) (100 18%) 2.9801\n",
      "0m 21s (- 0m 38s) (200 36%) 3.0649\n",
      "0m 32s (- 0m 27s) (300 54%) 3.2018\n",
      "0m 43s (- 0m 16s) (400 72%) 2.9874\n",
      "0m 54s (- 0m 5s) (500 90%) 2.9993\n",
      "--------------epoch 5--------------\n",
      "0m 11s (- 0m 50s) (100 18%) 3.0385\n",
      "0m 22s (- 0m 38s) (200 36%) 2.9919\n",
      "0m 32s (- 0m 27s) (300 54%) 3.0343\n",
      "0m 43s (- 0m 16s) (400 72%) 3.0423\n",
      "0m 54s (- 0m 5s) (500 90%) 3.0429\n",
      "--------------epoch 6--------------\n",
      "0m 10s (- 0m 49s) (100 18%) 2.8609\n",
      "0m 21s (- 0m 38s) (200 36%) 2.8456\n",
      "0m 32s (- 0m 27s) (300 54%) 2.9028\n",
      "0m 43s (- 0m 16s) (400 72%) 2.9474\n",
      "0m 54s (- 0m 5s) (500 90%) 3.0106\n",
      "--------------epoch 7--------------\n",
      "0m 11s (- 0m 51s) (100 18%) 2.8916\n",
      "0m 22s (- 0m 38s) (200 36%) 2.8009\n",
      "0m 32s (- 0m 27s) (300 54%) 2.9846\n",
      "0m 43s (- 0m 16s) (400 72%) 2.9480\n",
      "0m 54s (- 0m 5s) (500 90%) 2.8502\n",
      "--------------epoch 8--------------\n",
      "0m 10s (- 0m 49s) (100 18%) 2.7602\n",
      "0m 22s (- 0m 38s) (200 36%) 2.8590\n",
      "0m 33s (- 0m 27s) (300 54%) 2.8251\n",
      "0m 43s (- 0m 16s) (400 72%) 2.8506\n",
      "0m 54s (- 0m 5s) (500 90%) 2.9063\n",
      "--------------epoch 9--------------\n",
      "0m 10s (- 0m 49s) (100 18%) 2.6327\n",
      "0m 21s (- 0m 38s) (200 36%) 2.7592\n",
      "0m 32s (- 0m 27s) (300 54%) 2.7110\n",
      "0m 43s (- 0m 16s) (400 72%) 2.9017\n",
      "0m 54s (- 0m 5s) (500 90%) 2.8682\n",
      "--------------epoch 10--------------\n",
      "0m 10s (- 0m 49s) (100 18%) 2.7328\n",
      "0m 21s (- 0m 38s) (200 36%) 2.8204\n",
      "0m 32s (- 0m 27s) (300 54%) 2.7137\n",
      "0m 43s (- 0m 16s) (400 72%) 2.8351\n",
      "0m 54s (- 0m 5s) (500 90%) 2.8089\n",
      "--------------epoch 11--------------\n",
      "0m 10s (- 0m 49s) (100 18%) 2.6765\n",
      "0m 21s (- 0m 38s) (200 36%) 2.8035\n",
      "0m 32s (- 0m 27s) (300 54%) 2.7608\n",
      "0m 43s (- 0m 16s) (400 72%) 2.8501\n",
      "0m 54s (- 0m 5s) (500 90%) 2.7857\n",
      "--------------epoch 12--------------\n",
      "0m 11s (- 0m 50s) (100 18%) 2.8250\n",
      "0m 22s (- 0m 38s) (200 36%) 2.7742\n",
      "0m 33s (- 0m 27s) (300 54%) 2.7249\n",
      "0m 43s (- 0m 16s) (400 72%) 2.5616\n",
      "0m 54s (- 0m 5s) (500 90%) 2.6468\n",
      "--------------epoch 13--------------\n",
      "0m 11s (- 0m 49s) (100 18%) 2.7389\n",
      "0m 22s (- 0m 38s) (200 36%) 2.6617\n",
      "0m 33s (- 0m 27s) (300 54%) 2.6386\n",
      "0m 44s (- 0m 16s) (400 72%) 2.7438\n",
      "0m 54s (- 0m 5s) (500 90%) 2.5808\n",
      "--------------epoch 14--------------\n",
      "0m 10s (- 0m 48s) (100 18%) 2.7345\n",
      "0m 21s (- 0m 38s) (200 36%) 2.7086\n",
      "0m 32s (- 0m 27s) (300 54%) 2.7287\n",
      "0m 43s (- 0m 16s) (400 72%) 2.5439\n",
      "0m 54s (- 0m 5s) (500 90%) 2.7753\n",
      "--------------epoch 15--------------\n",
      "0m 10s (- 0m 49s) (100 18%) 2.5976\n",
      "0m 21s (- 0m 38s) (200 36%) 2.7122\n",
      "0m 32s (- 0m 27s) (300 54%) 2.6931\n",
      "0m 44s (- 0m 16s) (400 72%) 2.6951\n",
      "0m 55s (- 0m 5s) (500 90%) 2.6548\n"
     ]
    }
   ],
   "source": [
    "hidden_size = 256\n",
    "encoder1 = Encoder(cn_vocab_size, hidden_size).to(device)\n",
    "decoder1 = Decoder(hidden_size, en_vocab_size).to(device)\n",
    "\n",
    "train_losses = []\n",
    "for i in range(15):\n",
    "    print('--------------epoch %d--------------' % (i + 1))\n",
    "    losses = trainIters(encoder1, decoder1, train_loader, print_every=100)\n",
    "    train_losses = train_losses + losses"
   ]
  },
  {
   "cell_type": "code",
   "execution_count": 113,
   "metadata": {},
   "outputs": [
    {
     "data": {
      "text/plain": [
       "<Figure size 640x480 with 0 Axes>"
      ]
     },
     "metadata": {},
     "output_type": "display_data"
    },
    {
     "data": {
      "image/png": "[encoded data removed]",
      "text/plain": [
       "<Figure size 640x480 with 1 Axes>"
      ]
     },
     "metadata": {},
     "output_type": "display_data"
    }
   ],
   "source": [
    "def showPlot(points):\n",
    "    plt.figure()\n",
    "    fig, ax = plt.subplots()\n",
    "    # this locator puts ticks at regular intervals\n",
    "    loc = ticker.MultipleLocator(base=0.2)\n",
    "    ax.yaxis.set_major_locator(loc)\n",
    "    plt.plot(points)\n",
    "\n",
    "\n",
    "showPlot(train_losses)\n"
   ]
  },
  {
   "cell_type": "code",
   "execution_count": 114,
   "metadata": {},
   "outputs": [],
   "source": [
    "encoder_path = './models/seq2seq6-encoder.pt'\n",
    "decoder_path = './models/seq2seq6-decoder.pt'\n"
   ]
  },
  {
   "cell_type": "code",
   "execution_count": 115,
   "metadata": {},
   "outputs": [],
   "source": [
    "torch.save(encoder1.state_dict(), encoder_path)\n",
    "torch.save(decoder1.state_dict(), decoder_path)\n"
   ]
  },
  {
   "cell_type": "code",
   "execution_count": 116,
   "metadata": {},
   "outputs": [],
   "source": [
    "def evaluate(encoder, decoder, sentence, max_length=max_length):\n",
    "    with torch.no_grad():\n",
    "        input_tensor = train_dataset.tokenize_sentence(sentence, True).unsqueeze(0)\n",
    "        input_tensor = input_tensor.permute(1, 0)\n",
    "        input_length = input_tensor.size(0)\n",
    "        input_lengths = torch.tensor([len(input_tensor)])\n",
    "\n",
    "        mask = create_mask(input_tensor)\n",
    "\n",
    "        encoder_outputs, encoder_hidden = encoder(input_tensor, input_lengths)\n",
    "\n",
    "        decoder_input = torch.tensor([cn_vocab['<sos>']], device=device)  # SOS\n",
    "\n",
    "        decoder_hidden = encoder_hidden\n",
    "\n",
    "        decoded_words = []\n",
    "        decoder_attentions = torch.zeros(max_length, input_length)\n",
    "\n",
    "        for di in range(max_length):\n",
    "            decoder_output, decoder_hidden, decoder_attention = decoder(decoder_input, decoder_hidden, encoder_outputs, mask)\n",
    "            topv, topi = decoder_output.data.topk(1)\n",
    "            decoder_attentions[di] = decoder_attention.squeeze().data\n",
    "            if topi.item() == en_vocab['<eos>']:\n",
    "                decoded_words.append('<EOS>')\n",
    "                break\n",
    "            else:\n",
    "                decoded_words.append(en_vocab.lookup_token(topi.item()))\n",
    "\n",
    "            decoder_input = topi.squeeze(1).detach()\n",
    "\n",
    "        return decoded_words[1:], decoder_attentions[:di + 1]\n"
   ]
  },
  {
   "cell_type": "code",
   "execution_count": 117,
   "metadata": {},
   "outputs": [],
   "source": [
    "def evaluateRandomly(encoder, decoder, n=10):\n",
    "    for i in range(n):\n",
    "        pair = random.choice(train_dataset.pairs)\n",
    "        print('>', pair[0])\n",
    "        print('=', pair[1])\n",
    "        output_words, _ = evaluate(encoder, decoder, pair[0])\n",
    "        output_sentence = ' '.join(output_words)\n",
    "        print('<', output_sentence)\n",
    "        print('')\n"
   ]
  },
  {
   "cell_type": "code",
   "execution_count": 118,
   "metadata": {},
   "outputs": [
    {
     "data": {
      "text/plain": [
       "<All keys matched successfully>"
      ]
     },
     "execution_count": 118,
     "metadata": {},
     "output_type": "execute_result"
    }
   ],
   "source": [
    "encoder2 = Encoder(cn_vocab_size, hidden_size).to(device)\n",
    "decoder2 = Decoder(hidden_size, en_vocab_size).to(device)\n",
    "\n",
    "encoder2.load_state_dict(torch.load(encoder_path))\n",
    "decoder2.load_state_dict(torch.load(decoder_path))\n"
   ]
  },
  {
   "cell_type": "code",
   "execution_count": 119,
   "metadata": {},
   "outputs": [
    {
     "name": "stdout",
     "output_type": "stream",
     "text": [
      "> 我单身。\n",
      "= I'm unmarried.\n",
      "< I 'm a to . <EOS>\n",
      "\n",
      "> 你开车很好。\n",
      "= You're a good driver.\n",
      "< You 're a to . <EOS>\n",
      "\n",
      "> 我希望那会发生。\n",
      "= I'm hoping that that'll happen.\n",
      "< I 'm a to <EOS>\n",
      "\n",
      "> 我是个英雄。\n",
      "= I'm a hero.\n",
      "< I 'm a to <EOS>\n",
      "\n",
      "> 我完全地筋疲力尽了。\n",
      "= I'm completely exhausted.\n",
      "< I 'm not to <EOS>\n",
      "\n",
      "> 我等着你帮我。\n",
      "= I'm waiting for you to help me.\n",
      "< I 'm not to <EOS>\n",
      "\n",
      "> 我现在在打排球。\n",
      "= I am playing volleyball now.\n",
      "< I 'm not . <EOS>\n",
      "\n",
      "> 他决心去英国。\n",
      "= He is determined to go to England.\n",
      "< He 's a of . <EOS>\n",
      "\n",
      "> 你不够快。\n",
      "= You're not fast enough.\n",
      "< You 're a to <EOS>\n",
      "\n",
      "> 她是汤姆的妹妹。\n",
      "= She's Tom's younger sister.\n",
      "< She 's a to <EOS>\n",
      "\n"
     ]
    }
   ],
   "source": [
    "evaluateRandomly(encoder2, decoder2)\n"
   ]
  },
  {
   "cell_type": "code",
   "execution_count": 120,
   "metadata": {},
   "outputs": [
    {
     "name": "stdout",
     "output_type": "stream",
     "text": [
      "I 'm not to . <EOS>\n"
     ]
    },
    {
     "data": {
      "text/plain": [
       "<matplotlib.image.AxesImage at 0x16af807c0>"
      ]
     },
     "execution_count": 120,
     "metadata": {},
     "output_type": "execute_result"
    },
    {
     "data": {
      "image/png": "[encoded data removed]",
      "text/plain": [
       "<Figure size 480x480 with 1 Axes>"
      ]
     },
     "metadata": {},
     "output_type": "display_data"
    }
   ],
   "source": [
    "output_words, attentions = evaluate(encoder2, decoder2, \"我不确定。\")\n",
    "output_sentence = ' '.join(output_words)\n",
    "print(output_sentence)\n",
    "plt.matshow(attentions.numpy())\n"
   ]
  },
  {
   "cell_type": "code",
   "execution_count": 121,
   "metadata": {},
   "outputs": [],
   "source": [
    "# def showAttention(input_sentence, output_words, attentions):\n",
    "#     # Set up figure with colorbar\n",
    "#     fig = plt.figure()\n",
    "#     ax = fig.add_subplot(111)\n",
    "#     cax = ax.matshow(attentions.numpy(), cmap='bone')\n",
    "#     fig.colorbar(cax)\n",
    "\n",
    "#     # Set up axes\n",
    "#     ax.set_xticklabels([''] + list(input_sentence) +\n",
    "#                        ['<EOS>'], rotation=90)\n",
    "#     ax.set_yticklabels([''] + output_words)\n",
    "\n",
    "#     # Show label at every tick\n",
    "#     ax.xaxis.set_major_locator(ticker.MultipleLocator(1))\n",
    "#     ax.yaxis.set_major_locator(ticker.MultipleLocator(1))\n",
    "\n",
    "#     plt.show()\n",
    "\n",
    "\n",
    "# def evaluateAndShowAttention(input_sentence):\n",
    "#     output_words, attentions = evaluate(encoder2, decoder2, input_sentence)\n",
    "#     print('input =', input_sentence)\n",
    "#     print('output =', ' '.join(output_words))\n",
    "#     showAttention(input_sentence, output_words, attentions)\n",
    "\n",
    "\n",
    "# evaluateAndShowAttention(\"我不确定。\")\n"
   ]
  },
  {
   "cell_type": "code",
   "execution_count": 122,
   "metadata": {},
   "outputs": [
    {
     "data": {
      "text/plain": [
       "312"
      ]
     },
     "execution_count": 122,
     "metadata": {},
     "output_type": "execute_result"
    }
   ],
   "source": [
    "cn_vocab.get_stoi()['.']"
   ]
  }
 ],
 "metadata": {
  "kernelspec": {
   "display_name": "torch",
   "language": "python",
   "name": "python3"
  },
  "language_info": {
   "codemirror_mode": {
    "name": "ipython",
    "version": 3
   },
   "file_extension": ".py",
   "mimetype": "text/x-python",
   "name": "python",
   "nbconvert_exporter": "python",
   "pygments_lexer": "ipython3",
   "version": "3.9.13"
  },
  "orig_nbformat": 4,
  "vscode": {
   "interpreter": {
    "hash": "f525c695730c841e052b8d34cf6e8bcfdb8d8f78b4a6432d240c7bfc8c210784"
   }
  }
 },
 "nbformat": 4,
 "nbformat_minor": 2
}
