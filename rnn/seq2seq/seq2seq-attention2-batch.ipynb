{
 "cells": [
  {
   "cell_type": "code",
   "execution_count": 39,
   "metadata": {},
   "outputs": [],
   "source": [
    "from __future__ import unicode_literals, print_function, division\n",
    "import random\n",
    "import torch\n",
    "import torch.nn as nn\n",
    "from torch import optim\n",
    "import matplotlib.pyplot as plt\n",
    "import matplotlib.ticker as ticker\n",
    "import torch.nn.functional as F\n",
    "import time\n",
    "from utils import timeSince\n",
    "\n",
    "from cn_cn_data import get_cn_en_padded_loader, cn_vocab, en_vocab\n"
   ]
  },
  {
   "cell_type": "code",
   "execution_count": 40,
   "metadata": {},
   "outputs": [
    {
     "name": "stdout",
     "output_type": "stream",
     "text": [
      "length of train_loader 552\n"
     ]
    }
   ],
   "source": [
    "seq_len = 15\n",
    "max_length = seq_len + 2\n",
    "batch_size = 4\n",
    "\n",
    "cn_vocab_size = len(cn_vocab)\n",
    "en_vocab_size = len(en_vocab)\n",
    "\n",
    "device = torch.device(\"cpu\")\n",
    "train_loader, train_dataset = get_cn_en_padded_loader(seq_len, batch_size, device)\n",
    "print('length of train_loader', len(train_loader))"
   ]
  },
  {
   "cell_type": "code",
   "execution_count": 41,
   "metadata": {},
   "outputs": [
    {
     "name": "stdout",
     "output_type": "stream",
     "text": [
      "torch.Size([13, 4]) torch.Size([12, 4])\n",
      "[2, 177, 58, 168, 891, 388, 130, 1335, 177, 532, 533, 5, 3]\n",
      "[2, 131, 71, 167, 2080, 265, 1495, 239, 71, 496, 5, 3]\n",
      "tensor([13, 13, 11,  9])\n"
     ]
    }
   ],
   "source": [
    "for i, item in enumerate(train_loader):\n",
    "    print(item[0][0].shape, item[1].shape)\n",
    "    print([idx[0].item() for idx in item[0][0]])\n",
    "    print([idx[0].item() for idx in item[1]])\n",
    "\n",
    "    print(item[0][1])\n",
    "    break"
   ]
  },
  {
   "cell_type": "code",
   "execution_count": 42,
   "metadata": {},
   "outputs": [],
   "source": [
    "class Encoder(nn.Module):\n",
    "    def __init__(self, input_size, hidden_size, dropout=0.1):\n",
    "        super(Encoder, self).__init__()\n",
    "        self.hidden_size = hidden_size\n",
    "\n",
    "        self.embedding = nn.Embedding(input_size, hidden_size)\n",
    "        self.gru = nn.GRU(hidden_size, hidden_size, batch_first=False)\n",
    "        self.dropout = nn.Dropout(dropout)\n",
    "\n",
    "    def forward(self, input, input_lengths):\n",
    "        embedded = self.dropout(self.embedding(input))\n",
    "        #need to explicitly put lengths on cpu!\n",
    "        packed_embedded = nn.utils.rnn.pack_padded_sequence(embedded, input_lengths.to('cpu'))\n",
    "\n",
    "        #packed_outputs is a packed sequence containing all hidden states, hidden is now from the final non-padded element in the batch\n",
    "        packed_outputs, hidden = self.gru(packed_embedded)\n",
    "\n",
    "        #outputs is now a non-packed sequence, all hidden states obtained, when the input is a pad token are all zeros\n",
    "        outputs, _ = nn.utils.rnn.pad_packed_sequence(packed_outputs)\n",
    "\n",
    "        return outputs, hidden\n"
   ]
  },
  {
   "cell_type": "code",
   "execution_count": 43,
   "metadata": {},
   "outputs": [],
   "source": [
    "class Attention(nn.Module):\n",
    "    def __init__(self, hidden_size):\n",
    "        super().__init__()\n",
    "\n",
    "        self.attn = nn.Linear(hidden_size * 2, hidden_size)\n",
    "        self.v = nn.Linear(hidden_size, 1, bias=False)\n",
    "        self.softmax = nn.Softmax(dim=1)\n",
    "\n",
    "    def forward(self, hidden, encoder_outputs, mask):\n",
    "        seq_len = encoder_outputs.size(1)\n",
    "\n",
    "        hidden = hidden.permute(1, 0, 2)\n",
    "        # repeat decoder hidden state src_len times, hidden = [batch, seq_len, hidden size]\n",
    "        hidden = hidden.repeat(1, seq_len, 1)\n",
    "\n",
    "        # [batch, seq_len, hidden size * 2]\n",
    "        outputs_cat_hidden = torch.cat((hidden, encoder_outputs), dim=2)\n",
    "\n",
    "        # energy = [batch, seq_len, hidden size]\n",
    "        energy = torch.tanh(self.attn(outputs_cat_hidden))\n",
    "\n",
    "        # attention= [batch, seq_len]\n",
    "        attention = self.v(energy).squeeze(2)\n",
    "\n",
    "        attention = attention.masked_fill(mask == 0, -1e10)\n",
    "\n",
    "        return self.softmax(attention)\n"
   ]
  },
  {
   "cell_type": "code",
   "execution_count": 44,
   "metadata": {},
   "outputs": [],
   "source": [
    "class Decoder(nn.Module):\n",
    "    def __init__(self, hidden_size, output_size, dropout=0.1):\n",
    "        super().__init__()\n",
    "        self.attention = Attention(hidden_size)\n",
    "        self.hidden_size = hidden_size\n",
    "        self.output_size = output_size\n",
    "        self.embedding = nn.Embedding(output_size, hidden_size)\n",
    "        self.rnn = nn.GRU(hidden_size * 2, hidden_size)\n",
    "        self.out = nn.Linear(hidden_size * 3, output_size)\n",
    "        self.dropout = nn.Dropout(dropout)\n",
    "\n",
    "    def forward(self, input, hidden, encoder_outputs, mask):\n",
    "        # input = [batch, 1]\n",
    "        # hidden = [1, batch, hidden_size]\n",
    "        #mask = [batch size, src len]\n",
    "\n",
    "        encoder_outputs = encoder_outputs.permute(1, 0, 2) # [batch, seq_len, hidden size]\n",
    "        # embedded = [1, batch, hidden_size]\n",
    "        embedded = self.dropout(self.embedding(input)).unsqueeze(0)\n",
    "\n",
    "        # [batch, 1, seq_len]\n",
    "        attention = self.attention(hidden, encoder_outputs, mask).unsqueeze(1)\n",
    "\n",
    "        # weighted = [batch, 1, hidden_size]\n",
    "        weighted_encoder_outputs = torch.bmm(attention, encoder_outputs).permute(1, 0, 2) # (1, batch, hidden_size)\n",
    "\n",
    "        # output = [seq_len, batch, hidden_size], hidden = [n_layers(1), batch, hidden_size]\n",
    "        output, hidden = self.rnn(torch.cat((embedded, weighted_encoder_outputs), dim=2), hidden)\n",
    "\n",
    "        embedded = embedded.squeeze(0) # [batch, hidden_size]\n",
    "        output = output.squeeze(0) # [batch, hidden_size]\n",
    "        weighted_encoder_outputs = weighted_encoder_outputs.squeeze(0) # [batch, hidden_size]\n",
    "\n",
    "        prediction = self.out(torch.cat((output, weighted_encoder_outputs, embedded), dim=1)) # [batch, output _ize]\n",
    "        return prediction, hidden, attention.squeeze(1)\n"
   ]
  },
  {
   "cell_type": "code",
   "execution_count": 45,
   "metadata": {},
   "outputs": [],
   "source": [
    "teacher_forcing_ratio = 0.5\n",
    "\n",
    "def create_mask(input):\n",
    "    mask = (input != cn_vocab['<pad>']).permute(1, 0)\n",
    "    return mask\n",
    "\n",
    "def train(input, target_tensor, encoder, decoder, encoder_optimizer, decoder_optimizer, criterion):\n",
    "    encoder_optimizer.zero_grad()\n",
    "    decoder_optimizer.zero_grad()\n",
    "\n",
    "    target_length = target_tensor.size(0)\n",
    "    loss = 0\n",
    "\n",
    "    (input_tensor, input_lengths) = input\n",
    "    encoder_outputs, encoder_hidden = encoder(input_tensor, input_lengths)\n",
    "\n",
    "    decoder_input = input_tensor[0]\n",
    "    decoder_hidden = encoder_hidden\n",
    "\n",
    "    mask = create_mask(input_tensor)\n",
    "\n",
    "    use_teacher_forcing = True if random.random() < teacher_forcing_ratio else False\n",
    "\n",
    "    if use_teacher_forcing:\n",
    "        # Teacher forcing: Feed the target as the next input\n",
    "        for di in range(target_length):\n",
    "            decoder_output, decoder_hidden, decoder_attention = decoder(decoder_input, decoder_hidden, encoder_outputs, mask)\n",
    "\n",
    "            target = target_tensor[di]\n",
    "            loss += criterion(decoder_output, target)\n",
    "            decoder_input = target  # Teacher forcing\n",
    "\n",
    "    else:\n",
    "        # Without teacher forcing: use its own predictions as the next input\n",
    "        for di in range(target_length):\n",
    "            decoder_output, decoder_hidden, decoder_attention = decoder(decoder_input, decoder_hidden, encoder_outputs, mask)\n",
    "            topv, topi = decoder_output.topk(1)\n",
    "            decoder_input = topi.squeeze(1).detach()  # detach from history as input\n",
    "\n",
    "            target = target_tensor[di]\n",
    "            loss += criterion(decoder_output, target)\n",
    "\n",
    "    loss.backward()\n",
    "\n",
    "    encoder_optimizer.step()\n",
    "    decoder_optimizer.step()\n",
    "\n",
    "    return loss.item() / target_length\n"
   ]
  },
  {
   "cell_type": "code",
   "execution_count": 46,
   "metadata": {},
   "outputs": [],
   "source": [
    "def trainIters(encoder, decoder, train_loader, print_every=100, plot_every=10, learning_rate=0.005):\n",
    "    start = time.time()\n",
    "    plot_losses = []\n",
    "    print_loss_total = 0\n",
    "    plot_loss_total = 0\n",
    "\n",
    "    encoder_optimizer = optim.SGD(encoder.parameters(), lr=learning_rate)\n",
    "    decoder_optimizer = optim.SGD(decoder.parameters(), lr=learning_rate)\n",
    "    # criterion = nn.NLLLoss()\n",
    "    criterion = nn.CrossEntropyLoss(ignore_index=en_vocab['<pad>'])\n",
    "    n_iters = len(train_loader)\n",
    "\n",
    "    for iter, data in enumerate(train_loader, 1):\n",
    "        input, target_tensor = data\n",
    "\n",
    "        loss = train(input, target_tensor, encoder, decoder, encoder_optimizer, decoder_optimizer, criterion)\n",
    "        print_loss_total += loss\n",
    "        plot_loss_total += loss\n",
    "\n",
    "        if iter % print_every == 0:\n",
    "            print_loss_avg = print_loss_total / print_every\n",
    "            print_loss_total = 0\n",
    "            print('%s (%d %d%%) %.4f' % (timeSince(start, iter / n_iters),\n",
    "                                         iter, iter / n_iters * 100, print_loss_avg))\n",
    "\n",
    "        if iter % plot_every == 0:\n",
    "            plot_loss_avg = plot_loss_total / plot_every\n",
    "            plot_losses.append(plot_loss_avg)\n",
    "            plot_loss_total = 0\n",
    "\n",
    "    return plot_losses\n"
   ]
  },
  {
   "cell_type": "code",
   "execution_count": 47,
   "metadata": {},
   "outputs": [
    {
     "name": "stdout",
     "output_type": "stream",
     "text": [
      "--------------epoch 1--------------\n",
      "0m 10s (- 0m 49s) (100 18%) 5.4156\n",
      "0m 22s (- 0m 39s) (200 36%) 4.1440\n",
      "0m 33s (- 0m 28s) (300 54%) 3.7710\n",
      "0m 44s (- 0m 16s) (400 72%) 3.4679\n",
      "0m 55s (- 0m 5s) (500 90%) 3.4892\n",
      "--------------epoch 2--------------\n",
      "0m 11s (- 0m 50s) (100 18%) 3.1979\n",
      "0m 22s (- 0m 38s) (200 36%) 3.1567\n",
      "0m 33s (- 0m 28s) (300 54%) 3.2268\n",
      "0m 44s (- 0m 16s) (400 72%) 3.0308\n",
      "0m 54s (- 0m 5s) (500 90%) 3.0773\n",
      "--------------epoch 3--------------\n",
      "0m 11s (- 0m 49s) (100 18%) 2.9176\n",
      "0m 22s (- 0m 39s) (200 36%) 2.9061\n",
      "0m 33s (- 0m 27s) (300 54%) 2.9718\n",
      "0m 44s (- 0m 16s) (400 72%) 2.8853\n",
      "0m 55s (- 0m 5s) (500 90%) 2.7916\n",
      "--------------epoch 4--------------\n",
      "0m 11s (- 0m 49s) (100 18%) 2.7093\n",
      "0m 22s (- 0m 39s) (200 36%) 2.7885\n",
      "0m 33s (- 0m 28s) (300 54%) 2.6587\n",
      "0m 44s (- 0m 16s) (400 72%) 2.7172\n",
      "0m 55s (- 0m 5s) (500 90%) 2.6166\n",
      "--------------epoch 5--------------\n",
      "0m 11s (- 0m 49s) (100 18%) 2.6949\n",
      "0m 21s (- 0m 38s) (200 36%) 2.5659\n",
      "0m 32s (- 0m 27s) (300 54%) 2.4935\n",
      "0m 43s (- 0m 16s) (400 72%) 2.5844\n",
      "0m 55s (- 0m 5s) (500 90%) 2.5504\n",
      "--------------epoch 6--------------\n",
      "0m 11s (- 0m 50s) (100 18%) 2.4377\n",
      "0m 22s (- 0m 38s) (200 36%) 2.4318\n",
      "0m 32s (- 0m 27s) (300 54%) 2.4849\n",
      "0m 44s (- 0m 16s) (400 72%) 2.5722\n",
      "0m 55s (- 0m 5s) (500 90%) 2.4049\n",
      "--------------epoch 7--------------\n",
      "0m 11s (- 0m 50s) (100 18%) 2.4105\n",
      "0m 22s (- 0m 38s) (200 36%) 2.3797\n",
      "0m 33s (- 0m 27s) (300 54%) 2.3307\n",
      "0m 44s (- 0m 16s) (400 72%) 2.3630\n",
      "0m 55s (- 0m 5s) (500 90%) 2.4759\n",
      "--------------epoch 8--------------\n",
      "0m 11s (- 0m 50s) (100 18%) 2.2440\n",
      "0m 22s (- 0m 39s) (200 36%) 2.2791\n",
      "0m 33s (- 0m 28s) (300 54%) 2.2569\n",
      "0m 44s (- 0m 16s) (400 72%) 2.2140\n",
      "0m 55s (- 0m 5s) (500 90%) 2.2797\n",
      "--------------epoch 9--------------\n",
      "0m 10s (- 0m 49s) (100 18%) 2.1072\n",
      "0m 21s (- 0m 38s) (200 36%) 2.0997\n",
      "0m 32s (- 0m 27s) (300 54%) 2.1704\n",
      "0m 43s (- 0m 16s) (400 72%) 2.2374\n",
      "0m 55s (- 0m 5s) (500 90%) 2.1778\n",
      "--------------epoch 10--------------\n",
      "0m 11s (- 0m 50s) (100 18%) 2.1266\n",
      "0m 22s (- 0m 39s) (200 36%) 2.0513\n",
      "0m 33s (- 0m 27s) (300 54%) 1.9233\n",
      "0m 44s (- 0m 16s) (400 72%) 2.0812\n",
      "0m 55s (- 0m 5s) (500 90%) 2.1966\n",
      "--------------epoch 11--------------\n",
      "4m 46s (- 21m 36s) (100 18%) 1.9429\n",
      "4m 58s (- 8m 44s) (200 36%) 2.0284\n",
      "5m 8s (- 4m 19s) (300 54%) 1.9818\n",
      "5m 20s (- 2m 1s) (400 72%) 2.0885\n",
      "5m 30s (- 0m 34s) (500 90%) 2.0049\n",
      "--------------epoch 12--------------\n",
      "0m 10s (- 0m 49s) (100 18%) 1.9549\n",
      "0m 21s (- 0m 38s) (200 36%) 1.9050\n",
      "0m 33s (- 0m 27s) (300 54%) 1.8417\n",
      "0m 44s (- 0m 16s) (400 72%) 1.9088\n",
      "0m 55s (- 0m 5s) (500 90%) 1.8708\n",
      "--------------epoch 13--------------\n",
      "0m 11s (- 0m 50s) (100 18%) 1.8849\n",
      "0m 22s (- 0m 39s) (200 36%) 1.7626\n",
      "0m 32s (- 0m 27s) (300 54%) 1.8006\n",
      "0m 44s (- 0m 16s) (400 72%) 1.7987\n",
      "0m 55s (- 0m 5s) (500 90%) 1.9328\n",
      "--------------epoch 14--------------\n",
      "0m 11s (- 0m 49s) (100 18%) 1.8395\n",
      "0m 22s (- 0m 38s) (200 36%) 1.7837\n",
      "0m 33s (- 0m 27s) (300 54%) 1.8251\n",
      "0m 44s (- 0m 16s) (400 72%) 1.8093\n",
      "0m 55s (- 0m 5s) (500 90%) 1.8634\n",
      "--------------epoch 15--------------\n",
      "0m 11s (- 0m 49s) (100 18%) 1.7128\n",
      "0m 22s (- 0m 38s) (200 36%) 1.7174\n",
      "0m 33s (- 0m 27s) (300 54%) 1.6095\n",
      "0m 44s (- 0m 16s) (400 72%) 1.7844\n",
      "0m 54s (- 0m 5s) (500 90%) 1.7651\n",
      "--------------epoch 16--------------\n",
      "0m 11s (- 0m 49s) (100 18%) 1.5598\n",
      "0m 22s (- 0m 38s) (200 36%) 1.6079\n",
      "0m 32s (- 0m 27s) (300 54%) 1.5000\n",
      "0m 43s (- 0m 16s) (400 72%) 1.6177\n",
      "0m 54s (- 0m 5s) (500 90%) 1.5603\n",
      "--------------epoch 17--------------\n",
      "0m 10s (- 0m 49s) (100 18%) 1.4968\n",
      "0m 21s (- 0m 38s) (200 36%) 1.5442\n",
      "0m 32s (- 0m 27s) (300 54%) 1.5854\n",
      "0m 44s (- 0m 16s) (400 72%) 1.6648\n",
      "0m 55s (- 0m 5s) (500 90%) 1.5991\n",
      "--------------epoch 18--------------\n",
      "0m 11s (- 0m 50s) (100 18%) 1.3972\n",
      "0m 22s (- 0m 38s) (200 36%) 1.4531\n",
      "0m 32s (- 0m 27s) (300 54%) 1.4342\n",
      "0m 43s (- 0m 16s) (400 72%) 1.4764\n",
      "0m 55s (- 0m 5s) (500 90%) 1.5789\n",
      "--------------epoch 19--------------\n",
      "0m 11s (- 0m 50s) (100 18%) 1.4387\n",
      "0m 22s (- 0m 39s) (200 36%) 1.3845\n",
      "0m 33s (- 0m 28s) (300 54%) 1.3831\n",
      "0m 44s (- 0m 16s) (400 72%) 1.3538\n",
      "0m 55s (- 0m 5s) (500 90%) 1.4306\n",
      "--------------epoch 20--------------\n",
      "0m 10s (- 0m 49s) (100 18%) 1.2793\n",
      "0m 21s (- 0m 38s) (200 36%) 1.3508\n",
      "0m 32s (- 0m 27s) (300 54%) 1.2222\n",
      "0m 43s (- 0m 16s) (400 72%) 1.3802\n",
      "0m 54s (- 0m 5s) (500 90%) 1.3795\n",
      "--------------epoch 21--------------\n",
      "0m 11s (- 0m 49s) (100 18%) 1.1845\n",
      "0m 22s (- 0m 38s) (200 36%) 1.2546\n",
      "0m 33s (- 0m 27s) (300 54%) 1.2838\n",
      "0m 44s (- 0m 16s) (400 72%) 1.3372\n",
      "0m 55s (- 0m 5s) (500 90%) 1.2432\n",
      "--------------epoch 22--------------\n",
      "0m 10s (- 0m 49s) (100 18%) 1.1866\n",
      "0m 22s (- 0m 38s) (200 36%) 1.1718\n",
      "0m 32s (- 0m 27s) (300 54%) 1.1800\n",
      "0m 43s (- 0m 16s) (400 72%) 1.2276\n",
      "0m 55s (- 0m 5s) (500 90%) 1.1989\n",
      "--------------epoch 23--------------\n",
      "0m 11s (- 0m 49s) (100 18%) 1.1022\n",
      "0m 22s (- 0m 39s) (200 36%) 1.1957\n",
      "0m 33s (- 0m 27s) (300 54%) 1.1606\n",
      "0m 43s (- 0m 16s) (400 72%) 1.1337\n",
      "0m 55s (- 0m 5s) (500 90%) 1.2224\n",
      "--------------epoch 24--------------\n",
      "0m 11s (- 0m 49s) (100 18%) 1.0580\n",
      "0m 22s (- 0m 38s) (200 36%) 1.1782\n",
      "0m 33s (- 0m 27s) (300 54%) 1.1531\n",
      "0m 43s (- 0m 16s) (400 72%) 1.1138\n",
      "0m 54s (- 0m 5s) (500 90%) 1.1661\n",
      "--------------epoch 25--------------\n",
      "0m 11s (- 0m 50s) (100 18%) 1.0313\n",
      "0m 22s (- 0m 38s) (200 36%) 1.0100\n",
      "0m 32s (- 0m 27s) (300 54%) 0.9720\n",
      "0m 43s (- 0m 16s) (400 72%) 1.0986\n",
      "0m 54s (- 0m 5s) (500 90%) 1.0926\n",
      "--------------epoch 26--------------\n",
      "0m 11s (- 0m 50s) (100 18%) 0.9913\n",
      "0m 22s (- 0m 39s) (200 36%) 0.9495\n",
      "0m 33s (- 0m 27s) (300 54%) 0.9766\n",
      "0m 44s (- 0m 16s) (400 72%) 1.0533\n",
      "0m 55s (- 0m 5s) (500 90%) 1.0503\n",
      "--------------epoch 27--------------\n",
      "0m 10s (- 0m 48s) (100 18%) 0.9117\n",
      "0m 21s (- 0m 38s) (200 36%) 0.8758\n",
      "0m 32s (- 0m 27s) (300 54%) 0.8953\n",
      "0m 43s (- 0m 16s) (400 72%) 0.9573\n",
      "0m 55s (- 0m 5s) (500 90%) 1.0607\n",
      "--------------epoch 28--------------\n",
      "0m 11s (- 0m 50s) (100 18%) 0.8315\n",
      "0m 22s (- 0m 38s) (200 36%) 0.8381\n",
      "0m 32s (- 0m 27s) (300 54%) 0.8963\n",
      "0m 43s (- 0m 16s) (400 72%) 0.8911\n",
      "0m 54s (- 0m 5s) (500 90%) 0.9503\n",
      "--------------epoch 29--------------\n",
      "0m 10s (- 0m 49s) (100 18%) 0.8428\n",
      "3m 27s (- 6m 5s) (200 36%) 0.8402\n",
      "3m 39s (- 3m 4s) (300 54%) 0.8157\n",
      "3m 50s (- 1m 27s) (400 72%) 0.8885\n",
      "4m 1s (- 0m 25s) (500 90%) 0.9670\n",
      "--------------epoch 30--------------\n",
      "0m 10s (- 0m 49s) (100 18%) 0.7138\n",
      "0m 22s (- 0m 38s) (200 36%) 0.7750\n",
      "0m 33s (- 0m 27s) (300 54%) 0.7957\n",
      "0m 44s (- 0m 16s) (400 72%) 0.8882\n",
      "0m 54s (- 0m 5s) (500 90%) 0.7742\n"
     ]
    }
   ],
   "source": [
    "hidden_size = 256\n",
    "encoder1 = Encoder(cn_vocab_size, hidden_size).to(device)\n",
    "decoder1 = Decoder(hidden_size, en_vocab_size).to(device)\n",
    "\n",
    "train_losses = []\n",
    "for i in range(30):\n",
    "    print('--------------epoch %d--------------' % (i + 1))\n",
    "    losses = trainIters(encoder1, decoder1, train_loader, print_every=100)\n",
    "    train_losses = train_losses + losses"
   ]
  },
  {
   "cell_type": "code",
   "execution_count": 48,
   "metadata": {},
   "outputs": [
    {
     "data": {
      "text/plain": [
       "<Figure size 640x480 with 0 Axes>"
      ]
     },
     "metadata": {},
     "output_type": "display_data"
    },
    {
     "data": {
      "image/png": "[encoded data removed]",
      "text/plain": [
       "<Figure size 640x480 with 1 Axes>"
      ]
     },
     "metadata": {},
     "output_type": "display_data"
    }
   ],
   "source": [
    "def showPlot(points):\n",
    "    plt.figure()\n",
    "    fig, ax = plt.subplots()\n",
    "    # this locator puts ticks at regular intervals\n",
    "    loc = ticker.MultipleLocator(base=0.2)\n",
    "    ax.yaxis.set_major_locator(loc)\n",
    "    plt.plot(points)\n",
    "\n",
    "\n",
    "showPlot(train_losses)\n"
   ]
  },
  {
   "cell_type": "code",
   "execution_count": 49,
   "metadata": {},
   "outputs": [],
   "source": [
    "encoder_path = './models/seq2seq6-encoder.pt'\n",
    "decoder_path = './models/seq2seq6-decoder.pt'\n"
   ]
  },
  {
   "cell_type": "code",
   "execution_count": 50,
   "metadata": {},
   "outputs": [],
   "source": [
    "torch.save(encoder1.state_dict(), encoder_path)\n",
    "torch.save(decoder1.state_dict(), decoder_path)\n"
   ]
  },
  {
   "cell_type": "code",
   "execution_count": 51,
   "metadata": {},
   "outputs": [],
   "source": [
    "def evaluate(encoder, decoder, sentence, max_length=max_length):\n",
    "    with torch.no_grad():\n",
    "        input_tensor = train_dataset.tokenize_sentence(sentence, True).unsqueeze(0)\n",
    "        input_tensor = input_tensor.permute(1, 0)\n",
    "        input_length = input_tensor.size(0)\n",
    "        input_lengths = torch.tensor([len(input_tensor)])\n",
    "\n",
    "        mask = create_mask(input_tensor)\n",
    "\n",
    "        encoder_outputs, encoder_hidden = encoder(input_tensor, input_lengths)\n",
    "\n",
    "        decoder_input = torch.tensor([cn_vocab['<sos>']], device=device)  # SOS\n",
    "\n",
    "        decoder_hidden = encoder_hidden\n",
    "\n",
    "        decoded_words = []\n",
    "        decoder_attentions = torch.zeros(max_length, input_length)\n",
    "\n",
    "        for di in range(max_length):\n",
    "            decoder_output, decoder_hidden, decoder_attention = decoder(decoder_input, decoder_hidden, encoder_outputs, mask)\n",
    "            topv, topi = decoder_output.data.topk(1)\n",
    "            decoder_attentions[di] = decoder_attention.squeeze().data\n",
    "            if topi.item() == en_vocab['<eos>']:\n",
    "                decoded_words.append('<EOS>')\n",
    "                break\n",
    "            else:\n",
    "                decoded_words.append(en_vocab.lookup_token(topi.item()))\n",
    "\n",
    "            decoder_input = topi.squeeze(1).detach()\n",
    "\n",
    "        return decoded_words[1:], decoder_attentions[:di + 1]\n"
   ]
  },
  {
   "cell_type": "code",
   "execution_count": 52,
   "metadata": {},
   "outputs": [],
   "source": [
    "def evaluateRandomly(encoder, decoder, n=10):\n",
    "    for i in range(n):\n",
    "        pair = random.choice(train_dataset.pairs)\n",
    "        print('>', pair[0])\n",
    "        print('=', pair[1])\n",
    "        output_words, _ = evaluate(encoder, decoder, pair[0])\n",
    "        output_sentence = ' '.join(output_words)\n",
    "        print('<', output_sentence)\n",
    "        print('')\n"
   ]
  },
  {
   "cell_type": "code",
   "execution_count": 53,
   "metadata": {},
   "outputs": [
    {
     "data": {
      "text/plain": [
       "<All keys matched successfully>"
      ]
     },
     "execution_count": 53,
     "metadata": {},
     "output_type": "execute_result"
    }
   ],
   "source": [
    "encoder2 = Encoder(cn_vocab_size, hidden_size).to(device)\n",
    "decoder2 = Decoder(hidden_size, en_vocab_size).to(device)\n",
    "\n",
    "encoder2.load_state_dict(torch.load(encoder_path))\n",
    "decoder2.load_state_dict(torch.load(decoder_path))\n"
   ]
  },
  {
   "cell_type": "code",
   "execution_count": 54,
   "metadata": {},
   "outputs": [
    {
     "name": "stdout",
     "output_type": "stream",
     "text": [
      "> 你很害羞。\n",
      "= You're very shy.\n",
      "< You 're very . . <EOS>\n",
      "\n",
      "> 他们是孩子。\n",
      "= They're children.\n",
      "< They 're children . <EOS>\n",
      "\n",
      "> 她问这怎么可能。\n",
      "= She's asking how that's possible.\n",
      "< She 's asking for the same . . <EOS>\n",
      "\n",
      "> 她是我女儿。\n",
      "= She's my daughter.\n",
      "< She is my daughter . <EOS>\n",
      "\n",
      "> 她在节食。\n",
      "= She is on a diet.\n",
      "< She is on a diet . <EOS>\n",
      "\n",
      "> 我确信我们会找到解决办法的。\n",
      "= I'm sure we'll find a solution.\n",
      "< I 'm sure we 'll find a solution . <EOS>\n",
      "\n",
      "> 他不像他的兄长那样聪明。\n",
      "= He is not as smart as his older brother.\n",
      "< He is not as intelligent as his older brother . <EOS>\n",
      "\n",
      "> 你缺乏耐心。\n",
      "= You're impatient.\n",
      "< You 're in trouble . <EOS>\n",
      "\n",
      "> 我要去打网球。\n",
      "= I am going to play tennis.\n",
      "< I 'm going to play tennis . <EOS>\n",
      "\n",
      "> 他因公出差到名古屋。\n",
      "= He's gone to Nagoya on business.\n",
      "< He 's gone to Nagoya on business . <EOS>\n",
      "\n"
     ]
    }
   ],
   "source": [
    "evaluateRandomly(encoder2, decoder2)\n"
   ]
  },
  {
   "cell_type": "code",
   "execution_count": 55,
   "metadata": {},
   "outputs": [
    {
     "name": "stdout",
     "output_type": "stream",
     "text": [
      "I 'm not sure . <EOS>\n"
     ]
    },
    {
     "data": {
      "text/plain": [
       "<matplotlib.image.AxesImage at 0x16e4acd30>"
      ]
     },
     "execution_count": 55,
     "metadata": {},
     "output_type": "execute_result"
    },
    {
     "data": {
      "image/png": "[encoded data removed]",
      "text/plain": [
       "<Figure size 480x480 with 1 Axes>"
      ]
     },
     "metadata": {},
     "output_type": "display_data"
    }
   ],
   "source": [
    "output_words, attentions = evaluate(encoder2, decoder2, \"我不确定。\")\n",
    "output_sentence = ' '.join(output_words)\n",
    "print(output_sentence)\n",
    "plt.matshow(attentions.numpy())\n"
   ]
  },
  {
   "cell_type": "code",
   "execution_count": 64,
   "metadata": {},
   "outputs": [
    {
     "name": "stdout",
     "output_type": "stream",
     "text": [
      "input = 我不确定。\n",
      "output = I 'm not sure . <EOS>\n"
     ]
    },
    {
     "name": "stderr",
     "output_type": "stream",
     "text": [
      "/var/folders/3k/289x66ks5l76g3clryd7kl5c0000gn/T/ipykernel_2255/2244734348.py:9: UserWarning: FixedFormatter should only be used together with FixedLocator\n",
      "  ax.set_xticklabels([''] + list(input_sentence) +['<EOS>'], rotation=90)\n",
      "/var/folders/3k/289x66ks5l76g3clryd7kl5c0000gn/T/ipykernel_2255/2244734348.py:10: UserWarning: FixedFormatter should only be used together with FixedLocator\n",
      "  ax.set_yticklabels([''] + output_words)\n"
     ]
    },
    {
     "data": {
      "image/png": "[encoded data removed]",
      "text/plain": [
       "<Figure size 640x480 with 2 Axes>"
      ]
     },
     "metadata": {},
     "output_type": "display_data"
    }
   ],
   "source": [
    "def showAttention(input_sentence, output_words, attentions):\n",
    "    # Set up figure with colorbar\n",
    "    fig = plt.figure()\n",
    "    ax = fig.add_subplot(111)\n",
    "    cax = ax.matshow(attentions.numpy(), cmap='bone')\n",
    "    fig.colorbar(cax)\n",
    "\n",
    "    # Set up axes\n",
    "    ax.set_xticklabels([''] + list(input_sentence) +['<EOS>'], rotation=90)\n",
    "    ax.set_yticklabels([''] + output_words)\n",
    "\n",
    "    # Show label at every tick\n",
    "    ax.xaxis.set_major_locator(ticker.MultipleLocator(1))\n",
    "    ax.yaxis.set_major_locator(ticker.MultipleLocator(1))\n",
    "\n",
    "    plt.show()\n",
    "\n",
    "\n",
    "def evaluateAndShowAttention(input_sentence):\n",
    "    output_words, attentions = evaluate(encoder2, decoder2, input_sentence)\n",
    "    print('input =', input_sentence)\n",
    "    print('output =', ' '.join(output_words))\n",
    "    showAttention(input_sentence, output_words, attentions)\n",
    "\n",
    "\n",
    "evaluateAndShowAttention(\"我不确定。\")\n"
   ]
  },
  {
   "cell_type": "code",
   "execution_count": null,
   "metadata": {},
   "outputs": [],
   "source": []
  }
 ],
 "metadata": {
  "kernelspec": {
   "display_name": "torch",
   "language": "python",
   "name": "python3"
  },
  "language_info": {
   "codemirror_mode": {
    "name": "ipython",
    "version": 3
   },
   "file_extension": ".py",
   "mimetype": "text/x-python",
   "name": "python",
   "nbconvert_exporter": "python",
   "pygments_lexer": "ipython3",
   "version": "3.9.13"
  },
  "orig_nbformat": 4,
  "vscode": {
   "interpreter": {
    "hash": "f525c695730c841e052b8d34cf6e8bcfdb8d8f78b4a6432d240c7bfc8c210784"
   }
  }
 },
 "nbformat": 4,
 "nbformat_minor": 2
}
