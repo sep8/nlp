{
 "cells": [
  {
   "cell_type": "code",
   "execution_count": 2,
   "metadata": {},
   "outputs": [],
   "source": [
    "import torch"
   ]
  },
  {
   "cell_type": "code",
   "execution_count": 3,
   "metadata": {},
   "outputs": [],
   "source": [
    "word2idx = {\n",
    "    \"e\" : 0,\n",
    "    \"h\": 1,\n",
    "    \"l\": 2,\n",
    "    \"o\": 3\n",
    "}\n",
    "\n",
    "idx2word = {}\n",
    "for w in word2idx:\n",
    "    idx2word[word2idx[w]] = w\n",
    "\n",
    "def encode(seq):\n",
    "    return [word2idx[w] for w in seq]\n",
    "\n",
    "def decode(token):\n",
    "    return [idx2word[i] for i in token]\n",
    "\n",
    "def one_hot(idx, len = 4):\n",
    "    hots = []\n",
    "    for i in range(len):\n",
    "        if(i == idx):\n",
    "            hots.append(1)\n",
    "        else:\n",
    "            hots.append(0)\n",
    "    return hots\n",
    "\n",
    "def batch_one_hot(seq):\n",
    "    token = encode(seq)\n",
    "    return [one_hot(i) for i in token]\n"
   ]
  },
  {
   "cell_type": "code",
   "execution_count": 4,
   "metadata": {},
   "outputs": [],
   "source": [
    "input_size = 4\n",
    "hidden_size = 4\n",
    "batch_size = 1"
   ]
  },
  {
   "cell_type": "code",
   "execution_count": 5,
   "metadata": {},
   "outputs": [],
   "source": [
    "input_seq = \"hello\"\n",
    "output_seq =\"ohlol\"\n",
    "x_data = batch_one_hot(input_seq)\n",
    "y_data = batch_one_hot(output_seq)"
   ]
  },
  {
   "cell_type": "code",
   "execution_count": 6,
   "metadata": {},
   "outputs": [
    {
     "name": "stdout",
     "output_type": "stream",
     "text": [
      "torch.Size([5, 1, 4])\n",
      "torch.Size([5, 1, 4])\n"
     ]
    }
   ],
   "source": [
    "inputs = torch.tensor(x_data).view(-1, batch_size, input_size).float()\n",
    "labels = torch.tensor(y_data).view(-1, batch_size, input_size).float()\n",
    "print(inputs.shape)\n",
    "print(labels.shape)"
   ]
  },
  {
   "cell_type": "code",
   "execution_count": 7,
   "metadata": {},
   "outputs": [],
   "source": [
    "class Model(torch.nn.Module):\n",
    "    def __init__(self, input_size, hidden_size, batch_size):\n",
    "         super(Model, self).__init__()\n",
    "         self.input_size = input_size\n",
    "         self.hidden_size = hidden_size\n",
    "         self.batch_size = batch_size\n",
    "         self.rnncell = torch.nn.RNNCell(input_size=self.input_size, hidden_size=self.hidden_size)\n",
    "\n",
    "    def forward(self, input, hidden):\n",
    "        hidden = self.rnncell(input, hidden)\n",
    "        return hidden\n",
    "    \n",
    "    def init_hidden(self):\n",
    "        return torch.zeros(self.batch_size, self.hidden_size)\n",
    "\n",
    "net = Model(input_size, hidden_size, batch_size)"
   ]
  },
  {
   "cell_type": "code",
   "execution_count": 8,
   "metadata": {},
   "outputs": [],
   "source": [
    "criterion = torch.nn.CrossEntropyLoss()\n",
    "optimizer = torch.optim.Adam(net.parameters(), lr=0.1)"
   ]
  },
  {
   "cell_type": "code",
   "execution_count": 9,
   "metadata": {},
   "outputs": [
    {
     "name": "stdout",
     "output_type": "stream",
     "text": [
      "Predicted string: ooooh, Epoch [1/15] loss=6.3014\n",
      "Predicted string: ohool, Epoch [2/15] loss=5.3462\n",
      "Predicted string: oholl, Epoch [3/15] loss=4.8429\n",
      "Predicted string: ohlll, Epoch [4/15] loss=4.5127\n",
      "Predicted string: ohlll, Epoch [5/15] loss=4.2176\n",
      "Predicted string: ohlll, Epoch [6/15] loss=3.9339\n",
      "Predicted string: ohlll, Epoch [7/15] loss=3.6590\n",
      "Predicted string: ohool, Epoch [8/15] loss=3.4299\n",
      "Predicted string: ohool, Epoch [9/15] loss=3.2712\n",
      "Predicted string: ohool, Epoch [10/15] loss=3.1406\n",
      "Predicted string: ohool, Epoch [11/15] loss=2.9982\n",
      "Predicted string: ohool, Epoch [12/15] loss=2.8628\n",
      "Predicted string: ohool, Epoch [13/15] loss=2.7637\n",
      "Predicted string: ohlol, Epoch [14/15] loss=2.6736\n",
      "Predicted string: ohlol, Epoch [15/15] loss=2.5535\n",
      "Predicted string: ohlol, Epoch [16/15] loss=2.4242\n",
      "Predicted string: ohlol, Epoch [17/15] loss=2.4584\n",
      "Predicted string: ohlol, Epoch [18/15] loss=2.2555\n",
      "Predicted string: ohlol, Epoch [19/15] loss=2.2744\n",
      "Predicted string: ohlol, Epoch [20/15] loss=2.2360\n"
     ]
    }
   ],
   "source": [
    "for epoch in range(20):\n",
    "    loss = 0\n",
    "    optimizer.zero_grad()\n",
    "    hidden = net.init_hidden()\n",
    "    print(\"Predicted string: \", end=\"\")\n",
    "    for input, label in zip(inputs, labels):\n",
    "        hidden = net(input, hidden)\n",
    "        loss += criterion(hidden, label)\n",
    "        _, idx = hidden.max(dim=1)\n",
    "        print(idx2word[idx.item()], end=\"\")\n",
    "    loss.backward()\n",
    "    optimizer.step()\n",
    "    print(\", Epoch [%d/15] loss=%.4f\" % (epoch + 1, loss.item()))"
   ]
  }
 ],
 "metadata": {
  "kernelspec": {
   "display_name": "Python 3.9.13 ('torch')",
   "language": "python",
   "name": "python3"
  },
  "language_info": {
   "codemirror_mode": {
    "name": "ipython",
    "version": 3
   },
   "file_extension": ".py",
   "mimetype": "text/x-python",
   "name": "python",
   "nbconvert_exporter": "python",
   "pygments_lexer": "ipython3",
   "version": "3.9.13"
  },
  "orig_nbformat": 4,
  "vscode": {
   "interpreter": {
    "hash": "f525c695730c841e052b8d34cf6e8bcfdb8d8f78b4a6432d240c7bfc8c210784"
   }
  }
 },
 "nbformat": 4,
 "nbformat_minor": 2
}
