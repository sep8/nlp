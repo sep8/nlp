{
 "cells": [
  {
   "cell_type": "code",
   "execution_count": 2,
   "metadata": {},
   "outputs": [],
   "source": [
    "import torch\n",
    "from transformer import Transformer\n",
    "# from dataset_multi30k import vocab_transform, data_ites, collate_fn, SRC_LANGUAGE, TGT_LANGUAGE, PAD_IDX, BOS_IDX, EOS_IDX\n",
    "from dataset_local import data_ites, vocab_transform, text_transform, SRC_LANGUAGE, TGT_LANGUAGE, PAD_IDX, BOS_IDX, EOS_IDX\n",
    "from envaluate import envaluate"
   ]
  },
  {
   "cell_type": "code",
   "execution_count": 3,
   "metadata": {},
   "outputs": [],
   "source": [
    "SRC_VOCAB_SIZE = len(vocab_transform[SRC_LANGUAGE])\n",
    "TGT_VOCAB_SIZE = len(vocab_transform[TGT_LANGUAGE])\n",
    "seed = 0\n",
    "batch_size=32\n",
    "d_model = 256  # Embedding Size\n",
    "d_ff = 512 # FeedForward dimension\n",
    "d_k = d_v = 64  # dimension of K(=Q), V\n",
    "n_layers = 3  # number of Encoder of Decoder Layer\n",
    "n_heads = 4  # number of heads in Multi-Head Attention\n",
    "warmup_steps = 10000\n",
    "device = torch.device('mps')"
   ]
  },
  {
   "cell_type": "code",
   "execution_count": 4,
   "metadata": {},
   "outputs": [
    {
     "data": {
      "text/plain": [
       "<All keys matched successfully>"
      ]
     },
     "execution_count": 4,
     "metadata": {},
     "output_type": "execute_result"
    }
   ],
   "source": [
    "model = Transformer(d_model, n_layers, SRC_VOCAB_SIZE, TGT_VOCAB_SIZE, d_k, d_v, n_heads, d_ff, device).to(device)\n",
    "model.load_state_dict(torch.load('models/transformer-best.pt'))"
   ]
  },
  {
   "cell_type": "code",
   "execution_count": 6,
   "metadata": {},
   "outputs": [
    {
     "data": {
      "text/plain": [
       "'i like apples more than apples .'"
      ]
     },
     "execution_count": 6,
     "metadata": {},
     "output_type": "execute_result"
    }
   ],
   "source": [
    "envaluate(model, '相对于橙子，我更喜欢苹果')"
   ]
  },
  {
   "cell_type": "code",
   "execution_count": null,
   "metadata": {},
   "outputs": [],
   "source": []
  }
 ],
 "metadata": {
  "kernelspec": {
   "display_name": "torch",
   "language": "python",
   "name": "python3"
  },
  "language_info": {
   "codemirror_mode": {
    "name": "ipython",
    "version": 3
   },
   "file_extension": ".py",
   "mimetype": "text/x-python",
   "name": "python",
   "nbconvert_exporter": "python",
   "pygments_lexer": "ipython3",
   "version": "3.9.13"
  },
  "orig_nbformat": 4
 },
 "nbformat": 4,
 "nbformat_minor": 2
}
