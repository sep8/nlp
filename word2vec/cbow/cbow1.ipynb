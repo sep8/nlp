{
 "cells": [
  {
   "cell_type": "code",
   "execution_count": 62,
   "metadata": {},
   "outputs": [],
   "source": [
    "import io\n",
    "import tensorflow as tf\n",
    "from tensorflow import keras\n",
    "from keras.preprocessing import text\n",
    "from keras.utils import pad_sequences\n",
    "from matplotlib import pyplot as plt"
   ]
  },
  {
   "cell_type": "code",
   "execution_count": 33,
   "metadata": {},
   "outputs": [],
   "source": [
    "tokenizer = text.Tokenizer()"
   ]
  },
  {
   "cell_type": "code",
   "execution_count": 34,
   "metadata": {},
   "outputs": [],
   "source": [
    "corpus = [\n",
    "    # numbers\n",
    "    \"5 2 4 8 6 2 3 6 4\",\n",
    "    \"4 8 5 6 9 5 5 6\",\n",
    "    \"1 1 5 2 3 3 8\",\n",
    "    \"3 6 9 6 8 7 4 6 3\",\n",
    "    \"8 9 9 6 1 4 3 4\",\n",
    "    \"1 0 2 0 2 1 3 3 3 3 3\",\n",
    "    \"9 3 3 0 1 4 7 8\",\n",
    "    \"9 9 8 5 6 7 1 2 3 0 1 0\",\n",
    "\n",
    "    # alphabets, expecting that 9 is close to letters\n",
    "    \"a t g q e h 9 u f\",\n",
    "    \"e q y u o i p s\",\n",
    "    \"q o 9 p l k j o k o k p\",\n",
    "    \"h g y i u t a t e q\",\n",
    "    \"i k d q r e 9 e a d\",\n",
    "    \"o p d g 9 s a f g a\",\n",
    "    \"i u y g h k l a s w\",\n",
    "    \"o l u y a o g f s\",\n",
    "    \"o p i u y g d a s j d l\",\n",
    "    \"u k i l o 9 l j s\",\n",
    "    \"y g i s h k j l f r f\",\n",
    "    \"i o h n 9 9 d 9 f a 9\",\n",
    "]"
   ]
  },
  {
   "cell_type": "code",
   "execution_count": 35,
   "metadata": {},
   "outputs": [],
   "source": [
    "tokenizer.fit_on_texts(corpus)\n",
    "word2id = tokenizer.word_index\n",
    "word2id['PAD'] = 0\n",
    "id2word = {v:k for k, v in word2id.items()}"
   ]
  },
  {
   "cell_type": "code",
   "execution_count": 36,
   "metadata": {},
   "outputs": [],
   "source": [
    "corpus = [line.split(' ') for line in corpus]"
   ]
  },
  {
   "cell_type": "code",
   "execution_count": 37,
   "metadata": {},
   "outputs": [],
   "source": [
    "wids = [[word2id[w] for w in sentence] for sentence in corpus]\n",
    "vocab_size = len(word2id)"
   ]
  },
  {
   "cell_type": "code",
   "execution_count": 92,
   "metadata": {},
   "outputs": [],
   "source": [
    "embed_size = 128\n",
    "window_size = 2\n",
    "context_length = window_size*2"
   ]
  },
  {
   "cell_type": "code",
   "execution_count": 39,
   "metadata": {},
   "outputs": [
    {
     "name": "stdout",
     "output_type": "stream",
     "text": [
      "Vocabulary Size: 31\n",
      "Vocabulary Sample: [('9', 1), ('3', 2), ('o', 3), ('6', 4), ('a', 5), ('1', 6), ('g', 7), ('i', 8), ('4', 9), ('8', 10)]\n"
     ]
    }
   ],
   "source": [
    "print('Vocabulary Size:', vocab_size)\n",
    "print('Vocabulary Sample:', list(word2id.items())[:10])"
   ]
  },
  {
   "cell_type": "code",
   "execution_count": 40,
   "metadata": {},
   "outputs": [],
   "source": [
    "def generate_context_word_pairs(corpus, window_size):\n",
    "    pairs = []\n",
    "    for words in corpus:\n",
    "        sentence_length = len(words)\n",
    "        for index, word in enumerate(words):\n",
    "            context_words = []\n",
    "            label_word   = []            \n",
    "            start = index - window_size\n",
    "            end = index + window_size + 1\n",
    "            \n",
    "            context_words.append([words[i] \n",
    "                                 for i in range(start, end) \n",
    "                                 if 0 <= i < sentence_length \n",
    "                                 and i != index])\n",
    "            label_word.append(word)\n",
    "\n",
    "            x = context_words\n",
    "            y = label_word\n",
    "            pairs.append((x, y))\n",
    "    return pairs\n",
    "\n",
    "pairs = generate_context_word_pairs(wids, 2)"
   ]
  },
  {
   "cell_type": "code",
   "execution_count": 41,
   "metadata": {},
   "outputs": [
    {
     "name": "stdout",
     "output_type": "stream",
     "text": [
      "[[16, 9]] [15]\n",
      "[[15, 9, 10]] [16]\n",
      "[[15, 16, 10, 4]] [9]\n",
      "[[16, 9, 4, 16]] [10]\n",
      "[[9, 10, 16, 2]] [4]\n"
     ]
    }
   ],
   "source": [
    "for pair in pairs[:5]:\n",
    "  print(pair[0], pair[1])"
   ]
  },
  {
   "cell_type": "code",
   "execution_count": null,
   "metadata": {},
   "outputs": [],
   "source": [
    "dataset = [(tf.constant(pad_sequences(pair[0], maxlen=context_length)), tf.one_hot(pair[1], vocab_size))for pair in pairs]\n",
    "\n",
    "for x, y in dataset[:3]:\n",
    "  print(x, y)"
   ]
  },
  {
   "cell_type": "code",
   "execution_count": 68,
   "metadata": {},
   "outputs": [
    {
     "name": "stdout",
     "output_type": "stream",
     "text": [
      "Model: \"sequential_6\"\n",
      "_________________________________________________________________\n",
      " Layer (type)                Output Shape              Param #   \n",
      "=================================================================\n",
      " embedding_6 (Embedding)     (None, 4, 80)             2480      \n",
      "                                                                 \n",
      " lambda_6 (Lambda)           (None, 80)                0         \n",
      "                                                                 \n",
      " dense_6 (Dense)             (None, 31)                2511      \n",
      "                                                                 \n",
      "=================================================================\n",
      "Total params: 4,991\n",
      "Trainable params: 4,991\n",
      "Non-trainable params: 0\n",
      "_________________________________________________________________\n"
     ]
    }
   ],
   "source": [
    "cbow = keras.Sequential([\n",
    "  keras.layers.Embedding(input_dim=vocab_size, output_dim=embed_size, input_length=window_size*2),\n",
    "  keras.layers.Lambda(lambda x: keras.backend.mean(x, axis=1), output_shape=(embed_size,)),\n",
    "  keras.layers.Dense(vocab_size, activation='softmax')\n",
    "])\n",
    "\n",
    "cbow.compile(loss='categorical_crossentropy', optimizer=keras.optimizers.Adam(0.003))\n",
    "cbow.summary()"
   ]
  },
  {
   "cell_type": "code",
   "execution_count": 69,
   "metadata": {},
   "outputs": [
    {
     "name": "stdout",
     "output_type": "stream",
     "text": [
      "Epoch: 10 \tLoss: 310.91029274463654\n",
      "\n",
      "Epoch: 20 \tLoss: 230.26588536798954\n",
      "\n",
      "Epoch: 30 \tLoss: 197.12474937736988\n",
      "\n",
      "Epoch: 40 \tLoss: 178.4592739250511\n",
      "\n",
      "Epoch: 50 \tLoss: 165.7616679170169\n",
      "\n",
      "Epoch: 60 \tLoss: 156.34531836304814\n",
      "\n",
      "Epoch: 70 \tLoss: 149.0464919502847\n",
      "\n",
      "Epoch: 80 \tLoss: 143.20443159760907\n",
      "\n",
      "Epoch: 90 \tLoss: 138.41707822633907\n",
      "\n",
      "Epoch: 100 \tLoss: 134.42472404410364\n",
      "\n",
      "Epoch: 110 \tLoss: 131.04886041558348\n",
      "\n",
      "Epoch: 120 \tLoss: 128.16006222263968\n",
      "\n",
      "Epoch: 130 \tLoss: 125.66056113896775\n",
      "\n",
      "Epoch: 140 \tLoss: 123.47479100868259\n",
      "\n",
      "Epoch: 150 \tLoss: 121.5434887904903\n",
      "\n",
      "Epoch: 160 \tLoss: 119.8173643982891\n",
      "\n",
      "Epoch: 170 \tLoss: 118.25730234170396\n",
      "\n",
      "Epoch: 180 \tLoss: 116.8321265204928\n",
      "\n",
      "Epoch: 190 \tLoss: 115.51717988177609\n",
      "\n",
      "Epoch: 200 \tLoss: 114.2943139038747\n",
      "\n",
      "Epoch: 210 \tLoss: 113.15199878574774\n",
      "\n",
      "Epoch: 220 \tLoss: 112.0850526696438\n",
      "\n",
      "Epoch: 230 \tLoss: 111.11381408335592\n",
      "\n",
      "Epoch: 240 \tLoss: 110.19186795887822\n",
      "\n",
      "Epoch: 250 \tLoss: 109.3221234859999\n",
      "\n",
      "Epoch: 260 \tLoss: 108.52196011759122\n",
      "\n",
      "Epoch: 270 \tLoss: 107.77012768981933\n",
      "\n",
      "Epoch: 280 \tLoss: 107.05843002706627\n",
      "\n",
      "Epoch: 290 \tLoss: 106.39500288909437\n",
      "\n",
      "Epoch: 300 \tLoss: 105.80363665573452\n",
      "\n",
      "Epoch: 310 \tLoss: 105.09550560836743\n",
      "\n",
      "Epoch: 320 \tLoss: 104.93008358999188\n",
      "\n",
      "Epoch: 330 \tLoss: 104.48577508072307\n",
      "\n",
      "Epoch: 340 \tLoss: 103.46063390851108\n",
      "\n",
      "Epoch: 350 \tLoss: 103.1352816475864\n",
      "\n",
      "Epoch: 360 \tLoss: 104.25684958072844\n",
      "\n",
      "Epoch: 370 \tLoss: 102.13385581812281\n",
      "\n",
      "Epoch: 380 \tLoss: 101.95797352261897\n",
      "\n",
      "Epoch: 390 \tLoss: 102.01467905016386\n",
      "\n",
      "Epoch: 400 \tLoss: 101.35826568775349\n",
      "\n",
      "Epoch: 410 \tLoss: 100.99206985418536\n",
      "\n",
      "Epoch: 420 \tLoss: 100.22896755852304\n",
      "\n",
      "Epoch: 430 \tLoss: 99.93372063986737\n",
      "\n",
      "Epoch: 440 \tLoss: 101.54795536493484\n",
      "\n",
      "Epoch: 450 \tLoss: 100.2815507301184\n",
      "\n",
      "Epoch: 460 \tLoss: 98.94010609135415\n",
      "\n",
      "Epoch: 470 \tLoss: 99.25487271575668\n",
      "\n",
      "Epoch: 480 \tLoss: 107.57274574548157\n",
      "\n",
      "Epoch: 490 \tLoss: 98.55737799392463\n",
      "\n"
     ]
    }
   ],
   "source": [
    "for epoch in range(1, 500):\n",
    "    loss = 0.\n",
    "    i = 0\n",
    "    for x, y in dataset:\n",
    "        i += 1\n",
    "        loss += cbow.train_on_batch(x, y)\n",
    "    if epoch % 10 == 0:\n",
    "        print('Epoch:', epoch, '\\tLoss:', loss)\n",
    "        print()"
   ]
  },
  {
   "cell_type": "code",
   "execution_count": 66,
   "metadata": {},
   "outputs": [],
   "source": [
    "weights = cbow.get_weights()[0]\n",
    "out_v = io.open('vectors.tsv', 'w', encoding='utf-8')\n",
    "out_m = io.open('metadata.tsv', 'w', encoding='utf-8')\n",
    "\n",
    "for index in tokenizer.index_word:\n",
    "  if index == 0:\n",
    "    continue  # skip 0, it's padding.\n",
    "  word = tokenizer.index_word[index]\n",
    "  vec = weights[index]\n",
    "  out_v.write('\\t'.join([str(x) for x in vec]) + \"\\n\")\n",
    "  out_m.write(word + \"\\n\")\n",
    "out_v.close()\n",
    "out_m.close()"
   ]
  },
  {
   "cell_type": "code",
   "execution_count": 108,
   "metadata": {},
   "outputs": [
    {
     "data": {
      "image/png": "[encoded data removed]",
      "text/plain": [
       "<Figure size 432x288 with 1 Axes>"
      ]
     },
     "metadata": {},
     "output_type": "display_data"
    }
   ],
   "source": [
    "def show_w2v_word_embedding(model, path):\n",
    "    word_emb = model.get_layer('w2v_embedding').get_weights()[0]\n",
    "    # word_emb = model.get_weights()[0]\n",
    "    word_emb = word_emb[1:]\n",
    "    for i in range(vocab_size -1):\n",
    "        c = \"blue\"\n",
    "        try:\n",
    "            int(id2word[i])\n",
    "        except ValueError:\n",
    "            c = \"red\"\n",
    "        plt.text(word_emb[i, 0], word_emb[i, 1], s=id2word[i], color=c, weight=\"bold\")\n",
    "    plt.xlim(word_emb[:, 0].min() - .5, word_emb[:, 0].max() + .5)\n",
    "    plt.ylim(word_emb[:, 1].min() - .5, word_emb[:, 1].max() + .5)\n",
    "    plt.xticks(())\n",
    "    plt.yticks(())\n",
    "    plt.xlabel(\"embedding dim1\")\n",
    "    plt.ylabel(\"embedding dim2\")\n",
    "    plt.savefig(path, dpi=300, format=\"png\")\n",
    "    plt.show()\n",
    "\n",
    "show_w2v_word_embedding(word2vec, './cbow.png')"
   ]
  },
  {
   "cell_type": "code",
   "execution_count": null,
   "metadata": {},
   "outputs": [],
   "source": []
  }
 ],
 "metadata": {
  "kernelspec": {
   "display_name": "Python 3.8.13 ('c3-nlp')",
   "language": "python",
   "name": "python3"
  },
  "language_info": {
   "codemirror_mode": {
    "name": "ipython",
    "version": 3
   },
   "file_extension": ".py",
   "mimetype": "text/x-python",
   "name": "python",
   "nbconvert_exporter": "python",
   "pygments_lexer": "ipython3",
   "version": "3.8.13"
  },
  "orig_nbformat": 4,
  "vscode": {
   "interpreter": {
    "hash": "5ad98a190b4b5f35ccc183fea6461b9c6eca3817fd9b9f811f8bcf53cbfc1ea4"
   }
  }
 },
 "nbformat": 4,
 "nbformat_minor": 2
}
