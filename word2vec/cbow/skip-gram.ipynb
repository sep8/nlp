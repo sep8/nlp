{
 "cells": [
  {
   "cell_type": "code",
   "execution_count": 1,
   "metadata": {},
   "outputs": [],
   "source": [
    "import tensorflow as tf\n",
    "from tensorflow import keras\n",
    "from keras.preprocessing import text\n",
    "from keras.utils import pad_sequences\n",
    "import numpy as np\n",
    "import pandas as pd\n",
    "from matplotlib import pyplot as plt"
   ]
  },
  {
   "cell_type": "code",
   "execution_count": 2,
   "metadata": {},
   "outputs": [],
   "source": [
    "tokenizer = text.Tokenizer()"
   ]
  },
  {
   "cell_type": "code",
   "execution_count": 3,
   "metadata": {},
   "outputs": [],
   "source": [
    "corpus = [\n",
    "    # numbers\n",
    "    \"5 2 4 8 6 2 3 6 4\",\n",
    "    \"4 8 5 6 9 5 5 6\",\n",
    "    \"1 1 5 2 3 3 8\",\n",
    "    \"3 6 9 6 8 7 4 6 3\",\n",
    "    \"8 9 9 6 1 4 3 4\",\n",
    "    \"1 0 2 0 2 1 3 3 3 3 3\",\n",
    "    \"9 3 3 0 1 4 7 8\",\n",
    "    \"9 9 8 5 6 7 1 2 3 0 1 0\",\n",
    "\n",
    "    # alphabets, expecting that 9 is close to letters\n",
    "    \"a t g q e h 9 u f\",\n",
    "    \"e q y u o i p s\",\n",
    "    \"q o 9 p l k j o k o k p\",\n",
    "    \"h g y i u t a t e q\",\n",
    "    \"i k d q r e 9 e a d\",\n",
    "    \"o p d g 9 s a f g a\",\n",
    "    \"i u y g h k l a s w\",\n",
    "    \"o l u y a o g f s\",\n",
    "    \"o p i u y g d a s j d l\",\n",
    "    \"u k i l o 9 l j s\",\n",
    "    \"y g i s h k j l f r f\",\n",
    "    \"i o h n 9 9 d 9 f a 9\",\n",
    "]"
   ]
  },
  {
   "cell_type": "code",
   "execution_count": 4,
   "metadata": {},
   "outputs": [],
   "source": [
    "tokenizer.fit_on_texts(corpus)\n",
    "word2id = tokenizer.word_index\n",
    "word2id['PAD'] = 0\n",
    "id2word = {v:k for k, v in word2id.items()}"
   ]
  },
  {
   "cell_type": "code",
   "execution_count": 5,
   "metadata": {},
   "outputs": [],
   "source": [
    "corpus = [line.split(' ') for line in corpus]"
   ]
  },
  {
   "cell_type": "code",
   "execution_count": 6,
   "metadata": {},
   "outputs": [],
   "source": [
    "wids = [[word2id[w] for w in sentence] for sentence in corpus]\n",
    "vocab_size = len(word2id)"
   ]
  },
  {
   "cell_type": "code",
   "execution_count": 7,
   "metadata": {},
   "outputs": [],
   "source": [
    "embed_size = 120\n",
    "window_size = 2"
   ]
  },
  {
   "cell_type": "code",
   "execution_count": 8,
   "metadata": {},
   "outputs": [
    {
     "name": "stdout",
     "output_type": "stream",
     "text": [
      "Vocabulary Size: 31\n",
      "Vocabulary Sample: [('9', 1), ('3', 2), ('o', 3), ('6', 4), ('a', 5), ('1', 6), ('g', 7), ('i', 8), ('4', 9), ('8', 10)]\n"
     ]
    }
   ],
   "source": [
    "print('Vocabulary Size:', vocab_size)\n",
    "print('Vocabulary Sample:', list(word2id.items())[:10])"
   ]
  },
  {
   "cell_type": "code",
   "execution_count": null,
   "metadata": {},
   "outputs": [],
   "source": [
    "from keras.preprocessing.sequence import skipgrams\n",
    "\n",
    "# generate skip-grams\n",
    "skip_grams = [skipgrams(wid, vocabulary_size=vocab_size, window_size=10) for wid in wids]"
   ]
  },
  {
   "cell_type": "code",
   "execution_count": 12,
   "metadata": {},
   "outputs": [
    {
     "name": "stdout",
     "output_type": "stream",
     "text": [
      "(3 (2), 2 (16)) -> 1\n",
      "(8 (10), t (27)) -> 0\n",
      "(2 (16), r (28)) -> 0\n",
      "(6 (4), r (28)) -> 0\n",
      "(4 (9), 6 (4)) -> 1\n",
      "(6 (4), 8 (10)) -> 1\n",
      "(2 (16), 3 (2)) -> 1\n",
      "(3 (2), 0 (20)) -> 0\n",
      "(2 (16), 5 (15)) -> 1\n",
      "(5 (15), 8 (10)) -> 0\n"
     ]
    }
   ],
   "source": [
    "pairs, labels = skip_grams[0]\n",
    "for i in range(10):\n",
    "    print(\"({:s} ({:d}), {:s} ({:d})) -> {:d}\".format(\n",
    "          id2word[pairs[i][0]], pairs[i][0], \n",
    "          id2word[pairs[i][1]], pairs[i][1], \n",
    "          labels[i]))"
   ]
  },
  {
   "cell_type": "code",
   "execution_count": 15,
   "metadata": {},
   "outputs": [
    {
     "ename": "ValueError",
     "evalue": "This model has not yet been built. Build the model first by calling `build()` or by calling the model on a batch of data.",
     "output_type": "error",
     "traceback": [
      "\u001b[0;31m---------------------------------------------------------------------------\u001b[0m",
      "\u001b[0;31mValueError\u001b[0m                                Traceback (most recent call last)",
      "\u001b[1;32m/Users/ming8525/repos/irepos/nlp/word2vec/cbow/skip-gram.ipynb Cell 11'\u001b[0m in \u001b[0;36m<cell line: 23>\u001b[0;34m()\u001b[0m\n\u001b[1;32m     <a href='vscode-notebook-cell:/Users/ming8525/repos/irepos/nlp/word2vec/cbow/skip-gram.ipynb#ch0000018?line=19'>20</a>\u001b[0m model\u001b[39m.\u001b[39madd(Dense(\u001b[39m1\u001b[39m, kernel_initializer\u001b[39m=\u001b[39m\u001b[39m\"\u001b[39m\u001b[39mglorot_uniform\u001b[39m\u001b[39m\"\u001b[39m, activation\u001b[39m=\u001b[39m\u001b[39m\"\u001b[39m\u001b[39msigmoid\u001b[39m\u001b[39m\"\u001b[39m))\n\u001b[1;32m     <a href='vscode-notebook-cell:/Users/ming8525/repos/irepos/nlp/word2vec/cbow/skip-gram.ipynb#ch0000018?line=20'>21</a>\u001b[0m model\u001b[39m.\u001b[39mcompile(loss\u001b[39m=\u001b[39m\u001b[39m\"\u001b[39m\u001b[39mmean_squared_error\u001b[39m\u001b[39m\"\u001b[39m, optimizer\u001b[39m=\u001b[39m\u001b[39m\"\u001b[39m\u001b[39mrmsprop\u001b[39m\u001b[39m\"\u001b[39m)\n\u001b[0;32m---> <a href='vscode-notebook-cell:/Users/ming8525/repos/irepos/nlp/word2vec/cbow/skip-gram.ipynb#ch0000018?line=22'>23</a>\u001b[0m model\u001b[39m.\u001b[39;49msummary()\n",
      "File \u001b[0;32m~/miniforge3/envs/c3-nlp/lib/python3.8/site-packages/keras/engine/training.py:2869\u001b[0m, in \u001b[0;36mModel.summary\u001b[0;34m(self, line_length, positions, print_fn, expand_nested, show_trainable)\u001b[0m\n\u001b[1;32m   2847\u001b[0m \u001b[39m\"\"\"Prints a string summary of the network.\u001b[39;00m\n\u001b[1;32m   2848\u001b[0m \n\u001b[1;32m   2849\u001b[0m \u001b[39mArgs:\u001b[39;00m\n\u001b[0;32m   (...)\u001b[0m\n\u001b[1;32m   2866\u001b[0m \u001b[39m    ValueError: if `summary()` is called before the model is built.\u001b[39;00m\n\u001b[1;32m   2867\u001b[0m \u001b[39m\"\"\"\u001b[39;00m\n\u001b[1;32m   2868\u001b[0m \u001b[39mif\u001b[39;00m \u001b[39mnot\u001b[39;00m \u001b[39mself\u001b[39m\u001b[39m.\u001b[39mbuilt:\n\u001b[0;32m-> 2869\u001b[0m   \u001b[39mraise\u001b[39;00m \u001b[39mValueError\u001b[39;00m(\n\u001b[1;32m   2870\u001b[0m       \u001b[39m'\u001b[39m\u001b[39mThis model has not yet been built. \u001b[39m\u001b[39m'\u001b[39m\n\u001b[1;32m   2871\u001b[0m       \u001b[39m'\u001b[39m\u001b[39mBuild the model first by calling `build()` or by calling \u001b[39m\u001b[39m'\u001b[39m\n\u001b[1;32m   2872\u001b[0m       \u001b[39m'\u001b[39m\u001b[39mthe model on a batch of data.\u001b[39m\u001b[39m'\u001b[39m)\n\u001b[1;32m   2873\u001b[0m layer_utils\u001b[39m.\u001b[39mprint_summary(\n\u001b[1;32m   2874\u001b[0m     \u001b[39mself\u001b[39m,\n\u001b[1;32m   2875\u001b[0m     line_length\u001b[39m=\u001b[39mline_length,\n\u001b[0;32m   (...)\u001b[0m\n\u001b[1;32m   2878\u001b[0m     expand_nested\u001b[39m=\u001b[39mexpand_nested,\n\u001b[1;32m   2879\u001b[0m     show_trainable\u001b[39m=\u001b[39mshow_trainable)\n",
      "\u001b[0;31mValueError\u001b[0m: This model has not yet been built. Build the model first by calling `build()` or by calling the model on a batch of data."
     ]
    }
   ],
   "source": [
    "from keras.layers import Concatenate\n",
    "from keras.layers.core import Dense, Reshape\n",
    "from keras.models import Sequential\n",
    "\n",
    "word_embeding = keras.layers.Embedding(vocab_size, embed_size,\n",
    "                         embeddings_initializer=\"glorot_uniform\",\n",
    "                         input_length=1)\n",
    "\n",
    "# build skip-gram architecture\n",
    "word_model = Sequential()\n",
    "word_model.add()\n",
    "word_model.add(Reshape((embed_size, )))\n",
    "\n",
    "context_model = Sequential()\n",
    "context_model.add(keras.layers.Embedding(vocab_size, embed_size,\n",
    "                  embeddings_initializer=\"glorot_uniform\",\n",
    "                  input_length=1))\n",
    "context_model.add(Reshape((embed_size,)))\n",
    "\n",
    "model = Sequential()\n",
    "model.add(Concatenate([word_model, context_model]))\n",
    "model.add(Dense(1, kernel_initializer=\"glorot_uniform\", activation=\"sigmoid\"))\n",
    "model.compile(loss=\"mean_squared_error\", optimizer=\"rmsprop\")\n",
    "\n",
    "model.summary()"
   ]
  },
  {
   "cell_type": "code",
   "execution_count": 11,
   "metadata": {},
   "outputs": [
    {
     "name": "stderr",
     "output_type": "stream",
     "text": [
      "2022-06-24 15:45:58.519581: I tensorflow/core/platform/cpu_feature_guard.cc:193] This TensorFlow binary is optimized with oneAPI Deep Neural Network Library (oneDNN) to use the following CPU instructions in performance-critical operations:  AVX2 FMA\n",
      "To enable them in other operations, rebuild TensorFlow with the appropriate compiler flags.\n"
     ]
    }
   ],
   "source": [
    "context_length = window_size*2\n",
    "# xs = []\n",
    "# ys = []\n",
    "# for pair in pairs:\n",
    "#   xs.append(sequence.pad_sequences(pair[0], maxlen=context_length))\n",
    "#   ys.append(tf.one_hot(pair[1], vocab_size))\n",
    "\n",
    "dataset = [(tf.constant(pad_sequences(pair[0], maxlen=context_length)), tf.one_hot(pair[1], vocab_size))for pair in pairs]"
   ]
  },
  {
   "cell_type": "code",
   "execution_count": 12,
   "metadata": {},
   "outputs": [
    {
     "name": "stdout",
     "output_type": "stream",
     "text": [
      "tf.Tensor([[ 0  0 16  9]], shape=(1, 4), dtype=int32) tf.Tensor(\n",
      "[[0. 0. 0. 0. 0. 0. 0. 0. 0. 0. 0. 0. 0. 0. 0. 1. 0. 0. 0. 0. 0. 0. 0. 0.\n",
      "  0. 0. 0. 0. 0. 0. 0.]], shape=(1, 31), dtype=float32)\n",
      "tf.Tensor([[ 0 15  9 10]], shape=(1, 4), dtype=int32) tf.Tensor(\n",
      "[[0. 0. 0. 0. 0. 0. 0. 0. 0. 0. 0. 0. 0. 0. 0. 0. 1. 0. 0. 0. 0. 0. 0. 0.\n",
      "  0. 0. 0. 0. 0. 0. 0.]], shape=(1, 31), dtype=float32)\n",
      "tf.Tensor([[15 16 10  4]], shape=(1, 4), dtype=int32) tf.Tensor(\n",
      "[[0. 0. 0. 0. 0. 0. 0. 0. 0. 1. 0. 0. 0. 0. 0. 0. 0. 0. 0. 0. 0. 0. 0. 0.\n",
      "  0. 0. 0. 0. 0. 0. 0.]], shape=(1, 31), dtype=float32)\n"
     ]
    }
   ],
   "source": [
    "for x, y in dataset[:3]:\n",
    "  print(x, y)"
   ]
  },
  {
   "cell_type": "code",
   "execution_count": 13,
   "metadata": {},
   "outputs": [
    {
     "name": "stdout",
     "output_type": "stream",
     "text": [
      "Model: \"sequential\"\n",
      "_________________________________________________________________\n",
      " Layer (type)                Output Shape              Param #   \n",
      "=================================================================\n",
      " embedding (Embedding)       (None, 4, 120)            3720      \n",
      "                                                                 \n",
      " lambda (Lambda)             (None, 120)               0         \n",
      "                                                                 \n",
      " dense (Dense)               (None, 31)                3751      \n",
      "                                                                 \n",
      "=================================================================\n",
      "Total params: 7,471\n",
      "Trainable params: 7,471\n",
      "Non-trainable params: 0\n",
      "_________________________________________________________________\n"
     ]
    }
   ],
   "source": [
    "cbow = keras.Sequential([\n",
    "  keras.layers.Embedding(input_dim=vocab_size, output_dim=embed_size, input_length=window_size*2, embeddings_initializer=keras.initializers.RandomNormal(0., 0.1)),\n",
    "  keras.layers.Lambda(lambda x: keras.backend.mean(x, axis=1), output_shape=(embed_size,)),\n",
    "  keras.layers.Dense(vocab_size, activation='softmax')\n",
    "])\n",
    "\n",
    "cbow.compile(loss='categorical_crossentropy', optimizer=keras.optimizers.Adam(0.001))\n",
    "cbow.summary()"
   ]
  },
  {
   "cell_type": "code",
   "execution_count": 14,
   "metadata": {},
   "outputs": [
    {
     "name": "stdout",
     "output_type": "stream",
     "text": [
      "Epoch: 20 \tLoss: 302.48532205820084\n",
      "\n",
      "Epoch: 40 \tLoss: 221.86582326889038\n",
      "\n",
      "Epoch: 60 \tLoss: 186.37002000585198\n",
      "\n",
      "Epoch: 80 \tLoss: 166.39675444550812\n",
      "\n",
      "Epoch: 100 \tLoss: 153.21885147457942\n",
      "\n",
      "Epoch: 120 \tLoss: 143.58528498746455\n",
      "\n",
      "Epoch: 140 \tLoss: 136.12379736010917\n",
      "\n",
      "Epoch: 160 \tLoss: 130.15398201311473\n",
      "\n",
      "Epoch: 180 \tLoss: 125.27803441690048\n",
      "\n",
      "Epoch: 200 \tLoss: 121.22931917419191\n",
      "\n",
      "Epoch: 220 \tLoss: 117.82082676806021\n",
      "\n",
      "Epoch: 240 \tLoss: 114.9175876158115\n",
      "\n",
      "Epoch: 260 \tLoss: 112.41911237441673\n",
      "\n",
      "Epoch: 280 \tLoss: 110.24916667399884\n",
      "\n",
      "Epoch: 300 \tLoss: 108.34775884212104\n",
      "\n",
      "Epoch: 320 \tLoss: 106.66670225238522\n",
      "\n",
      "Epoch: 340 \tLoss: 105.16767906464338\n",
      "\n",
      "Epoch: 360 \tLoss: 103.82030128935867\n",
      "\n",
      "Epoch: 380 \tLoss: 102.60049261109543\n",
      "\n",
      "Epoch: 400 \tLoss: 101.48875834985324\n",
      "\n",
      "Epoch: 420 \tLoss: 100.46960073601917\n",
      "\n",
      "Epoch: 440 \tLoss: 99.53075327413649\n",
      "\n",
      "Epoch: 460 \tLoss: 98.66252077861952\n",
      "\n",
      "Epoch: 480 \tLoss: 97.85727083477849\n",
      "\n",
      "Epoch: 500 \tLoss: 97.10883633588716\n",
      "\n",
      "Epoch: 520 \tLoss: 96.41235200876574\n",
      "\n",
      "Epoch: 540 \tLoss: 95.76373450478454\n",
      "\n",
      "Epoch: 560 \tLoss: 95.15968438984567\n",
      "\n",
      "Epoch: 580 \tLoss: 94.59671297889247\n",
      "\n",
      "Epoch: 600 \tLoss: 94.07212935010699\n",
      "\n",
      "Epoch: 620 \tLoss: 93.5839136892256\n",
      "\n",
      "Epoch: 640 \tLoss: 93.12943018622695\n",
      "\n",
      "Epoch: 660 \tLoss: 92.70616942076313\n",
      "\n",
      "Epoch: 680 \tLoss: 92.31179828161606\n",
      "\n",
      "Epoch: 700 \tLoss: 91.94434954248706\n",
      "\n",
      "Epoch: 720 \tLoss: 91.6018906974746\n",
      "\n",
      "Epoch: 740 \tLoss: 91.28257988607592\n",
      "\n",
      "Epoch: 760 \tLoss: 90.98465920321607\n",
      "\n",
      "Epoch: 780 \tLoss: 90.70711010836828\n",
      "\n",
      "Epoch: 800 \tLoss: 90.44871526405132\n",
      "\n",
      "Epoch: 820 \tLoss: 90.20787655272864\n",
      "\n",
      "Epoch: 840 \tLoss: 89.9833984178012\n",
      "\n",
      "Epoch: 860 \tLoss: 89.77376839650489\n",
      "\n",
      "Epoch: 880 \tLoss: 89.57843847568779\n",
      "\n",
      "Epoch: 900 \tLoss: 89.39647765571073\n",
      "\n",
      "Epoch: 920 \tLoss: 89.22625256917974\n",
      "\n",
      "Epoch: 940 \tLoss: 89.06690781751405\n",
      "\n",
      "Epoch: 960 \tLoss: 88.91756263269076\n",
      "\n",
      "Epoch: 980 \tLoss: 88.77718907092392\n",
      "\n"
     ]
    }
   ],
   "source": [
    "for epoch in range(1, 1000):\n",
    "    loss = 0.\n",
    "    i = 0\n",
    "    for x, y in dataset:\n",
    "        i += 1\n",
    "        loss += cbow.train_on_batch(x, y)\n",
    "    if epoch % 20 == 0:\n",
    "        print('Epoch:', epoch, '\\tLoss:', loss)\n",
    "        print()"
   ]
  },
  {
   "cell_type": "code",
   "execution_count": 17,
   "metadata": {},
   "outputs": [
    {
     "name": "stdout",
     "output_type": "stream",
     "text": [
      "Epoch: 1010 \tLoss: 88.18087707098829\n",
      "\n",
      "Epoch: 1020 \tLoss: 88.14931708884347\n",
      "\n",
      "Epoch: 1030 \tLoss: 88.10234598151371\n",
      "\n",
      "Epoch: 1040 \tLoss: 88.05384246818932\n",
      "\n",
      "Epoch: 1050 \tLoss: 88.00588873442851\n",
      "\n",
      "Epoch: 1060 \tLoss: 87.9589421756796\n",
      "\n",
      "Epoch: 1070 \tLoss: 87.91310452071664\n",
      "\n",
      "Epoch: 1080 \tLoss: 87.86841381417602\n",
      "\n",
      "Epoch: 1090 \tLoss: 87.82466180643931\n",
      "\n",
      "Epoch: 1100 \tLoss: 87.78189395372922\n",
      "\n",
      "Epoch: 1110 \tLoss: 87.74002603468949\n",
      "\n",
      "Epoch: 1120 \tLoss: 87.69897871648575\n",
      "\n",
      "Epoch: 1130 \tLoss: 87.65876124312521\n",
      "\n",
      "Epoch: 1140 \tLoss: 87.61925145750328\n",
      "\n",
      "Epoch: 1150 \tLoss: 87.58049981526645\n",
      "\n",
      "Epoch: 1160 \tLoss: 87.54250308676345\n",
      "\n",
      "Epoch: 1170 \tLoss: 87.505211701445\n",
      "\n",
      "Epoch: 1180 \tLoss: 87.46861802343236\n",
      "\n",
      "Epoch: 1190 \tLoss: 87.43270952840513\n",
      "\n",
      "Epoch: 1200 \tLoss: 87.3973341859386\n",
      "\n",
      "Epoch: 1210 \tLoss: 87.36266270655406\n",
      "\n",
      "Epoch: 1220 \tLoss: 87.32856173004836\n",
      "\n",
      "Epoch: 1230 \tLoss: 87.29502002812788\n",
      "\n",
      "Epoch: 1240 \tLoss: 87.26192253412898\n",
      "\n",
      "Epoch: 1250 \tLoss: 87.22924642470699\n",
      "\n",
      "Epoch: 1260 \tLoss: 87.19699990798892\n",
      "\n",
      "Epoch: 1270 \tLoss: 87.16517792920729\n",
      "\n",
      "Epoch: 1280 \tLoss: 87.13381258741393\n",
      "\n",
      "Epoch: 1290 \tLoss: 87.10287282714137\n",
      "\n",
      "Epoch: 1300 \tLoss: 87.07219642455709\n",
      "\n",
      "Epoch: 1310 \tLoss: 87.0414067312471\n",
      "\n",
      "Epoch: 1320 \tLoss: 87.01047821473219\n",
      "\n",
      "Epoch: 1330 \tLoss: 86.98195158392522\n",
      "\n",
      "Epoch: 1340 \tLoss: 86.96020949751309\n",
      "\n",
      "Epoch: 1350 \tLoss: 86.93650040933403\n",
      "\n",
      "Epoch: 1360 \tLoss: 86.9079896505493\n",
      "\n",
      "Epoch: 1370 \tLoss: 86.87652227755964\n",
      "\n",
      "Epoch: 1380 \tLoss: 86.83875593020466\n",
      "\n",
      "Epoch: 1390 \tLoss: 86.8052361587425\n",
      "\n",
      "Epoch: 1400 \tLoss: 86.77690493469021\n",
      "\n",
      "Epoch: 1410 \tLoss: 86.75624661920784\n",
      "\n",
      "Epoch: 1420 \tLoss: 86.73997507202267\n",
      "\n",
      "Epoch: 1430 \tLoss: 86.71572505745834\n",
      "\n",
      "Epoch: 1440 \tLoss: 86.68888802950696\n",
      "\n",
      "Epoch: 1450 \tLoss: 86.66561831969747\n",
      "\n",
      "Epoch: 1460 \tLoss: 86.6424507311682\n",
      "\n",
      "Epoch: 1470 \tLoss: 86.61389064721621\n",
      "\n",
      "Epoch: 1480 \tLoss: 86.57867614743944\n",
      "\n",
      "Epoch: 1490 \tLoss: 86.54825805489432\n",
      "\n",
      "Epoch: 1500 \tLoss: 86.52148862182506\n",
      "\n",
      "Epoch: 1510 \tLoss: 86.49812942299883\n",
      "\n",
      "Epoch: 1520 \tLoss: 86.47883905049596\n",
      "\n",
      "Epoch: 1530 \tLoss: 86.46585419111366\n",
      "\n",
      "Epoch: 1540 \tLoss: 86.448703159626\n",
      "\n",
      "Epoch: 1550 \tLoss: 86.42649451929415\n",
      "\n",
      "Epoch: 1560 \tLoss: 86.40263502512838\n",
      "\n",
      "Epoch: 1570 \tLoss: 86.38183968637225\n",
      "\n",
      "Epoch: 1580 \tLoss: 86.36381126018969\n",
      "\n",
      "Epoch: 1590 \tLoss: 86.34486639026312\n",
      "\n",
      "Epoch: 1600 \tLoss: 86.32053042144392\n",
      "\n",
      "Epoch: 1610 \tLoss: 86.29142821853932\n",
      "\n",
      "Epoch: 1620 \tLoss: 86.26103387513268\n",
      "\n",
      "Epoch: 1630 \tLoss: 86.23661665366654\n",
      "\n",
      "Epoch: 1640 \tLoss: 86.21446108093807\n",
      "\n",
      "Epoch: 1650 \tLoss: 86.19337268650708\n",
      "\n",
      "Epoch: 1660 \tLoss: 86.17455970169709\n",
      "\n",
      "Epoch: 1670 \tLoss: 86.15901266407081\n",
      "\n",
      "Epoch: 1680 \tLoss: 86.14653530947135\n",
      "\n",
      "Epoch: 1690 \tLoss: 86.13178439263669\n",
      "\n",
      "Epoch: 1700 \tLoss: 86.11358833177957\n",
      "\n",
      "Epoch: 1710 \tLoss: 86.09207118965904\n",
      "\n",
      "Epoch: 1720 \tLoss: 86.07166773930558\n",
      "\n",
      "Epoch: 1730 \tLoss: 86.053489162311\n",
      "\n",
      "Epoch: 1740 \tLoss: 86.03850510935621\n",
      "\n",
      "Epoch: 1750 \tLoss: 86.02181257175624\n",
      "\n",
      "Epoch: 1760 \tLoss: 86.00313041967522\n",
      "\n",
      "Epoch: 1770 \tLoss: 85.97857451870661\n",
      "\n",
      "Epoch: 1780 \tLoss: 85.94998422237657\n",
      "\n",
      "Epoch: 1790 \tLoss: 85.92367401848125\n",
      "\n",
      "Epoch: 1800 \tLoss: 85.90139020188573\n",
      "\n",
      "Epoch: 1810 \tLoss: 85.88316887720941\n",
      "\n",
      "Epoch: 1820 \tLoss: 85.8617446257665\n",
      "\n",
      "Epoch: 1830 \tLoss: 85.84737494729978\n",
      "\n",
      "Epoch: 1840 \tLoss: 85.827500591219\n",
      "\n",
      "Epoch: 1850 \tLoss: 85.82671237761929\n",
      "\n",
      "Epoch: 1860 \tLoss: 85.79680867252705\n",
      "\n",
      "Epoch: 1870 \tLoss: 85.81498268273612\n",
      "\n",
      "Epoch: 1880 \tLoss: 85.76028482563356\n",
      "\n",
      "Epoch: 1890 \tLoss: 85.77692260767031\n",
      "\n",
      "Epoch: 1900 \tLoss: 85.71643947831657\n",
      "\n",
      "Epoch: 1910 \tLoss: 85.70895745852275\n",
      "\n",
      "Epoch: 1920 \tLoss: 85.73391226250703\n",
      "\n",
      "Epoch: 1930 \tLoss: 85.67102042415436\n",
      "\n",
      "Epoch: 1940 \tLoss: 85.66608299980567\n",
      "\n",
      "Epoch: 1950 \tLoss: 85.64201564461689\n",
      "\n",
      "Epoch: 1960 \tLoss: 85.62248344578694\n",
      "\n",
      "Epoch: 1970 \tLoss: 85.61409593640286\n",
      "\n",
      "Epoch: 1980 \tLoss: 85.62107757120828\n",
      "\n",
      "Epoch: 1990 \tLoss: 85.5733788582474\n",
      "\n"
     ]
    }
   ],
   "source": [
    "for epoch in range(1001, 2000):\n",
    "    loss = 0\n",
    "    i = 0\n",
    "    for x, y in dataset:\n",
    "        i += 1\n",
    "        loss += cbow.train_on_batch(x, y)\n",
    "    if epoch % 10 == 0:\n",
    "        print('Epoch:', epoch, '\\tLoss:', loss)\n",
    "        print()"
   ]
  },
  {
   "cell_type": "code",
   "execution_count": 15,
   "metadata": {},
   "outputs": [
    {
     "data": {
      "image/png": "[encoded data removed]",
      "text/plain": [
       "<Figure size 432x288 with 1 Axes>"
      ]
     },
     "metadata": {},
     "output_type": "display_data"
    }
   ],
   "source": [
    "def show_w2v_word_embedding(model, path):\n",
    "    word_emb = model.get_weights()[0]\n",
    "    word_emb = word_emb[1:]\n",
    "    for i in range(vocab_size -1):\n",
    "        c = \"blue\"\n",
    "        try:\n",
    "            int(id2word[i])\n",
    "        except ValueError:\n",
    "            c = \"red\"\n",
    "        plt.text(word_emb[i, 0], word_emb[i, 1], s=id2word[i], color=c, weight=\"bold\")\n",
    "    plt.xlim(word_emb[:, 0].min() - .5, word_emb[:, 0].max() + .5)\n",
    "    plt.ylim(word_emb[:, 1].min() - .5, word_emb[:, 1].max() + .5)\n",
    "    plt.xticks(())\n",
    "    plt.yticks(())\n",
    "    plt.xlabel(\"embedding dim1\")\n",
    "    plt.ylabel(\"embedding dim2\")\n",
    "    plt.savefig(path, dpi=300, format=\"png\")\n",
    "    plt.show()\n",
    "\n",
    "show_w2v_word_embedding(cbow, './cbow.png')"
   ]
  },
  {
   "cell_type": "code",
   "execution_count": 18,
   "metadata": {},
   "outputs": [
    {
     "data": {
      "image/png": "[encoded data removed]",
      "text/plain": [
       "<Figure size 432x288 with 1 Axes>"
      ]
     },
     "metadata": {},
     "output_type": "display_data"
    }
   ],
   "source": [
    "show_w2v_word_embedding(cbow, './cbow2.png')"
   ]
  },
  {
   "cell_type": "code",
   "execution_count": null,
   "metadata": {},
   "outputs": [],
   "source": []
  }
 ],
 "metadata": {
  "kernelspec": {
   "display_name": "Python 3.8.13 ('c3-nlp')",
   "language": "python",
   "name": "python3"
  },
  "language_info": {
   "codemirror_mode": {
    "name": "ipython",
    "version": 3
   },
   "file_extension": ".py",
   "mimetype": "text/x-python",
   "name": "python",
   "nbconvert_exporter": "python",
   "pygments_lexer": "ipython3",
   "version": "3.8.13"
  },
  "orig_nbformat": 4,
  "vscode": {
   "interpreter": {
    "hash": "5ad98a190b4b5f35ccc183fea6461b9c6eca3817fd9b9f811f8bcf53cbfc1ea4"
   }
  }
 },
 "nbformat": 4,
 "nbformat_minor": 2
}
