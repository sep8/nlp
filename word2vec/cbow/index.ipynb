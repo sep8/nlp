{
 "cells": [
  {
   "cell_type": "code",
   "execution_count": 17,
   "metadata": {},
   "outputs": [],
   "source": [
    "import tensorflow as tf\n",
    "from tensorflow import keras\n",
    "from keras.preprocessing import text\n",
    "from keras.preprocessing import sequence\n",
    "import numpy as np\n",
    "import pandas as pd\n",
    "from matplotlib import pyplot as plt"
   ]
  },
  {
   "cell_type": "code",
   "execution_count": 2,
   "metadata": {},
   "outputs": [],
   "source": [
    "tokenizer = text.Tokenizer()"
   ]
  },
  {
   "cell_type": "code",
   "execution_count": 3,
   "metadata": {},
   "outputs": [],
   "source": [
    "corpus = [\n",
    "    # numbers\n",
    "    \"5 2 4 8 6 2 3 6 4\",\n",
    "    \"4 8 5 6 9 5 5 6\",\n",
    "    \"1 1 5 2 3 3 8\",\n",
    "    \"3 6 9 6 8 7 4 6 3\",\n",
    "    \"8 9 9 6 1 4 3 4\",\n",
    "    \"1 0 2 0 2 1 3 3 3 3 3\",\n",
    "    \"9 3 3 0 1 4 7 8\",\n",
    "    \"9 9 8 5 6 7 1 2 3 0 1 0\",\n",
    "\n",
    "    # alphabets, expecting that 9 is close to letters\n",
    "    \"a t g q e h 9 u f\",\n",
    "    \"e q y u o i p s\",\n",
    "    \"q o 9 p l k j o k o k p\",\n",
    "    \"h g y i u t a t e q\",\n",
    "    \"i k d q r e 9 e a d\",\n",
    "    \"o p d g 9 s a f g a\",\n",
    "    \"i u y g h k l a s w\",\n",
    "    \"o l u y a o g f s\",\n",
    "    \"o p i u y g d a s j d l\",\n",
    "    \"u k i l o 9 l j s\",\n",
    "    \"y g i s h k j l f r f\",\n",
    "    \"i o h n 9 9 d 9 f a 9\",\n",
    "]"
   ]
  },
  {
   "cell_type": "code",
   "execution_count": 4,
   "metadata": {},
   "outputs": [],
   "source": [
    "tokenizer.fit_on_texts(corpus)\n",
    "word2id = tokenizer.word_index\n",
    "word2id['PAD'] = 0\n",
    "id2word = {v:k for k, v in word2id.items()}"
   ]
  },
  {
   "cell_type": "code",
   "execution_count": 5,
   "metadata": {},
   "outputs": [],
   "source": [
    "corpus = [line.split(' ') for line in corpus]"
   ]
  },
  {
   "cell_type": "code",
   "execution_count": 6,
   "metadata": {},
   "outputs": [],
   "source": [
    "wids = [[word2id[w] for w in sentence] for sentence in corpus]\n",
    "vocab_size = len(word2id)"
   ]
  },
  {
   "cell_type": "code",
   "execution_count": 7,
   "metadata": {},
   "outputs": [],
   "source": [
    "embed_size = 30\n",
    "window_size = 2"
   ]
  },
  {
   "cell_type": "code",
   "execution_count": 8,
   "metadata": {},
   "outputs": [
    {
     "name": "stdout",
     "output_type": "stream",
     "text": [
      "Vocabulary Size: 31\n",
      "Vocabulary Sample: [('9', 1), ('3', 2), ('o', 3), ('6', 4), ('a', 5), ('1', 6), ('g', 7), ('i', 8), ('4', 9), ('8', 10)]\n"
     ]
    }
   ],
   "source": [
    "print('Vocabulary Size:', vocab_size)\n",
    "print('Vocabulary Sample:', list(word2id.items())[:10])"
   ]
  },
  {
   "cell_type": "code",
   "execution_count": 9,
   "metadata": {},
   "outputs": [],
   "source": [
    "def generate_context_word_pairs(corpus, window_size, vocab_size):\n",
    "    pairs = []\n",
    "    for words in corpus:\n",
    "        sentence_length = len(words)\n",
    "        for index, word in enumerate(words):\n",
    "            context_words = []\n",
    "            label_word   = []            \n",
    "            start = index - window_size\n",
    "            end = index + window_size + 1\n",
    "            \n",
    "            context_words.append([words[i] \n",
    "                                 for i in range(start, end) \n",
    "                                 if 0 <= i < sentence_length \n",
    "                                 and i != index])\n",
    "            label_word.append(word)\n",
    "\n",
    "            x = context_words\n",
    "            y = label_word\n",
    "            pairs.append((x, y))\n",
    "    return pairs\n",
    "\n",
    "pairs = generate_context_word_pairs(wids, 2, vocab_size)"
   ]
  },
  {
   "cell_type": "code",
   "execution_count": 10,
   "metadata": {},
   "outputs": [
    {
     "name": "stdout",
     "output_type": "stream",
     "text": [
      "[[16, 9]] [15]\n",
      "[[15, 9, 10]] [16]\n",
      "[[15, 16, 10, 4]] [9]\n",
      "[[16, 9, 4, 16]] [10]\n",
      "[[9, 10, 16, 2]] [4]\n"
     ]
    }
   ],
   "source": [
    "for pair in pairs[:5]:\n",
    "  print(pair[0], pair[1])"
   ]
  },
  {
   "cell_type": "code",
   "execution_count": 11,
   "metadata": {},
   "outputs": [],
   "source": [
    "context_length = window_size*2\n",
    "# xs = []\n",
    "# ys = []\n",
    "# for pair in pairs:\n",
    "#   xs.append(sequence.pad_sequences(pair[0], maxlen=context_length))\n",
    "#   ys.append(tf.one_hot(pair[1], vocab_size))\n",
    "\n",
    "dataset = [(tf.constant(sequence.pad_sequences(pair[0], maxlen=context_length)), tf.one_hot(pair[1], vocab_size))for pair in pairs]"
   ]
  },
  {
   "cell_type": "code",
   "execution_count": 12,
   "metadata": {},
   "outputs": [
    {
     "name": "stdout",
     "output_type": "stream",
     "text": [
      "tf.Tensor([[ 0  0 16  9]], shape=(1, 4), dtype=int32) tf.Tensor(\n",
      "[[0. 0. 0. 0. 0. 0. 0. 0. 0. 0. 0. 0. 0. 0. 0. 1. 0. 0. 0. 0. 0. 0. 0. 0.\n",
      "  0. 0. 0. 0. 0. 0. 0.]], shape=(1, 31), dtype=float32)\n",
      "tf.Tensor([[ 0 15  9 10]], shape=(1, 4), dtype=int32) tf.Tensor(\n",
      "[[0. 0. 0. 0. 0. 0. 0. 0. 0. 0. 0. 0. 0. 0. 0. 0. 1. 0. 0. 0. 0. 0. 0. 0.\n",
      "  0. 0. 0. 0. 0. 0. 0.]], shape=(1, 31), dtype=float32)\n",
      "tf.Tensor([[15 16 10  4]], shape=(1, 4), dtype=int32) tf.Tensor(\n",
      "[[0. 0. 0. 0. 0. 0. 0. 0. 0. 1. 0. 0. 0. 0. 0. 0. 0. 0. 0. 0. 0. 0. 0. 0.\n",
      "  0. 0. 0. 0. 0. 0. 0.]], shape=(1, 31), dtype=float32)\n"
     ]
    }
   ],
   "source": [
    "for x, y in dataset[:3]:\n",
    "  print(x, y)"
   ]
  },
  {
   "cell_type": "code",
   "execution_count": 13,
   "metadata": {},
   "outputs": [
    {
     "name": "stdout",
     "output_type": "stream",
     "text": [
      "Model: \"sequential\"\n",
      "_________________________________________________________________\n",
      " Layer (type)                Output Shape              Param #   \n",
      "=================================================================\n",
      " embedding (Embedding)       (None, 4, 30)             930       \n",
      "                                                                 \n",
      " lambda (Lambda)             (None, 30)                0         \n",
      "                                                                 \n",
      " dense (Dense)               (None, 31)                961       \n",
      "                                                                 \n",
      "=================================================================\n",
      "Total params: 1,891\n",
      "Trainable params: 1,891\n",
      "Non-trainable params: 0\n",
      "_________________________________________________________________\n"
     ]
    }
   ],
   "source": [
    "cbow = keras.Sequential([\n",
    "  keras.layers.Embedding(input_dim=vocab_size, output_dim=embed_size, input_length=window_size*2),\n",
    "  keras.layers.Lambda(lambda x: keras.backend.mean(x, axis=1), output_shape=(embed_size,)),\n",
    "  keras.layers.Dense(vocab_size, activation='softmax')\n",
    "])\n",
    "\n",
    "cbow.compile(loss='categorical_crossentropy', optimizer='rmsprop')\n",
    "cbow.summary()"
   ]
  },
  {
   "cell_type": "code",
   "execution_count": 14,
   "metadata": {},
   "outputs": [
    {
     "name": "stderr",
     "output_type": "stream",
     "text": [
      "2022-06-23 23:42:31.671184: W tensorflow/core/platform/profile_utils/cpu_utils.cc:128] Failed to get CPU frequency: 0 Hz\n"
     ]
    },
    {
     "name": "stdout",
     "output_type": "stream",
     "text": [
      "Epoch: 20 \tLoss: 487.85433328151703\n",
      "\n",
      "Epoch: 40 \tLoss: 425.58716481924057\n",
      "\n",
      "Epoch: 60 \tLoss: 384.0754727423191\n",
      "\n",
      "Epoch: 80 \tLoss: 357.73860777914524\n",
      "\n",
      "Epoch: 100 \tLoss: 338.825665384531\n",
      "\n",
      "Epoch: 120 \tLoss: 323.95460940152407\n",
      "\n",
      "Epoch: 140 \tLoss: 312.497919537127\n",
      "\n",
      "Epoch: 160 \tLoss: 302.7059075757861\n",
      "\n",
      "Epoch: 180 \tLoss: 293.58345184102654\n",
      "\n",
      "Epoch: 200 \tLoss: 285.1606238037348\n",
      "\n",
      "Epoch: 220 \tLoss: 278.33923675864935\n",
      "\n",
      "Epoch: 240 \tLoss: 272.7084418013692\n",
      "\n",
      "Epoch: 260 \tLoss: 267.32937370054424\n",
      "\n",
      "Epoch: 280 \tLoss: 262.0073923859745\n",
      "\n",
      "Epoch: 300 \tLoss: 256.7175136990845\n",
      "\n",
      "Epoch: 320 \tLoss: 251.75659237336367\n",
      "\n",
      "Epoch: 340 \tLoss: 246.2596780732274\n",
      "\n",
      "Epoch: 360 \tLoss: 241.76484165433794\n",
      "\n",
      "Epoch: 380 \tLoss: 237.89445140678436\n",
      "\n",
      "Epoch: 400 \tLoss: 234.74931484274566\n",
      "\n",
      "Epoch: 420 \tLoss: 231.86430064309388\n",
      "\n",
      "Epoch: 440 \tLoss: 228.96115501318127\n",
      "\n",
      "Epoch: 460 \tLoss: 226.13522486621514\n",
      "\n",
      "Epoch: 480 \tLoss: 223.83459512563422\n",
      "\n",
      "Epoch: 500 \tLoss: 221.85163058713078\n",
      "\n",
      "Epoch: 520 \tLoss: 220.34777769166976\n",
      "\n",
      "Epoch: 540 \tLoss: 218.92167267831974\n",
      "\n",
      "Epoch: 560 \tLoss: 217.71244201390073\n",
      "\n",
      "Epoch: 580 \tLoss: 216.73376248334534\n",
      "\n",
      "Epoch: 600 \tLoss: 215.86586226162035\n",
      "\n",
      "Epoch: 620 \tLoss: 215.0139678498963\n",
      "\n",
      "Epoch: 640 \tLoss: 214.90986357803922\n",
      "\n",
      "Epoch: 660 \tLoss: 215.0223324688268\n",
      "\n",
      "Epoch: 680 \tLoss: 215.09625655954005\n",
      "\n",
      "Epoch: 700 \tLoss: 215.59382656065281\n",
      "\n",
      "Epoch: 720 \tLoss: 216.39894698315766\n",
      "\n",
      "Epoch: 740 \tLoss: 217.79905515219434\n",
      "\n",
      "Epoch: 760 \tLoss: 219.822164582205\n",
      "\n",
      "Epoch: 780 \tLoss: 221.81236444981187\n",
      "\n",
      "Epoch: 800 \tLoss: 223.2230292711174\n",
      "\n"
     ]
    },
    {
     "name": "stderr",
     "output_type": "stream",
     "text": [
      "2022-06-23 23:46:20.844934: W tensorflow/core/data/root_dataset.cc:200] Optimization loop failed: CANCELLED: Operation was cancelled\n"
     ]
    },
    {
     "name": "stdout",
     "output_type": "stream",
     "text": [
      "Epoch: 820 \tLoss: 224.39985621871892\n",
      "\n",
      "Epoch: 840 \tLoss: 225.01493674630183\n",
      "\n",
      "Epoch: 860 \tLoss: 225.2890361143509\n",
      "\n",
      "Epoch: 880 \tLoss: 225.55642366850225\n",
      "\n",
      "Epoch: 900 \tLoss: 225.78642601630418\n",
      "\n",
      "Epoch: 920 \tLoss: 226.5045679444156\n",
      "\n",
      "Epoch: 940 \tLoss: 226.81495086519863\n",
      "\n",
      "Epoch: 960 \tLoss: 226.76395477216283\n",
      "\n",
      "Epoch: 980 \tLoss: 226.452402759096\n",
      "\n"
     ]
    }
   ],
   "source": [
    "for epoch in range(1, 2500):\n",
    "    loss = 0.\n",
    "    i = 0\n",
    "    for x, y in dataset:\n",
    "        i += 1\n",
    "        loss += cbow.train_on_batch(x, y)\n",
    "    if epoch % 20 == 0:\n",
    "        print('Epoch:', epoch, '\\tLoss:', loss)\n",
    "        print()"
   ]
  },
  {
   "cell_type": "code",
   "execution_count": 39,
   "metadata": {},
   "outputs": [
    {
     "data": {
      "image/png": "[encoded data removed]",
      "text/plain": [
       "<Figure size 432x288 with 1 Axes>"
      ]
     },
     "metadata": {},
     "output_type": "display_data"
    }
   ],
   "source": [
    "def show_w2v_word_embedding(model, path):\n",
    "    word_emb = model.get_weights()[0]\n",
    "    word_emb = word_emb[1:]\n",
    "    for i in range(vocab_size -1):\n",
    "        c = \"blue\"\n",
    "        try:\n",
    "            int(id2word[i])\n",
    "        except ValueError:\n",
    "            c = \"red\"\n",
    "        plt.text(word_emb[i, 0], word_emb[i, 1], s=id2word[i], color=c, weight=\"bold\")\n",
    "    plt.xlim(word_emb[:, 0].min() - .5, word_emb[:, 0].max() + .5)\n",
    "    plt.ylim(word_emb[:, 1].min() - .5, word_emb[:, 1].max() + .5)\n",
    "    plt.xticks(())\n",
    "    plt.yticks(())\n",
    "    plt.xlabel(\"embedding dim1\")\n",
    "    plt.ylabel(\"embedding dim2\")\n",
    "    plt.savefig(path, dpi=300, format=\"png\")\n",
    "    plt.show()\n",
    "\n",
    "show_w2v_word_embedding(cbow, './cbow.png')"
   ]
  },
  {
   "cell_type": "code",
   "execution_count": null,
   "metadata": {},
   "outputs": [],
   "source": []
  }
 ],
 "metadata": {
  "kernelspec": {
   "display_name": "Python 3.8.13 ('c3-nlp')",
   "language": "python",
   "name": "python3"
  },
  "language_info": {
   "codemirror_mode": {
    "name": "ipython",
    "version": 3
   },
   "file_extension": ".py",
   "mimetype": "text/x-python",
   "name": "python",
   "nbconvert_exporter": "python",
   "pygments_lexer": "ipython3",
   "version": "3.8.13"
  },
  "orig_nbformat": 4,
  "vscode": {
   "interpreter": {
    "hash": "022b350d9d731ea6beeec17b0760db9de374177ccae69f8fd03b1c527dbc4257"
   }
  }
 },
 "nbformat": 4,
 "nbformat_minor": 2
}
